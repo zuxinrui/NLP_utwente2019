{
  "nbformat": 4,
  "nbformat_minor": 0,
  "metadata": {
    "kernelspec": {
      "name": "python3",
      "display_name": "Python 3"
    },
    "language_info": {
      "codemirror_mode": {
        "name": "ipython",
        "version": 3
      },
      "file_extension": ".py",
      "mimetype": "text/x-python",
      "name": "python",
      "nbconvert_exporter": "python",
      "pygments_lexer": "ipython3",
      "version": "3.6.4"
    },
    "colab": {
      "name": "project_final.ipynb",
      "provenance": [],
      "collapsed_sections": [],
      "include_colab_link": true
    },
    "accelerator": "GPU"
  },
  "cells": [
    {
      "cell_type": "markdown",
      "metadata": {
        "id": "view-in-github",
        "colab_type": "text"
      },
      "source": [
        "<a href=\"https://colab.research.google.com/github/zuxinrui/NLP_utwente2019/blob/master/project_final.ipynb\" target=\"_parent\"><img src=\"https://colab.research.google.com/assets/colab-badge.svg\" alt=\"Open In Colab\"/></a>"
      ]
    },
    {
      "cell_type": "code",
      "metadata": {
        "id": "S4qmnIqL_F2P",
        "colab_type": "code",
        "colab": {}
      },
      "source": [
        "import warnings\n",
        "warnings.filterwarnings (\"ignore\")\n",
        "import pandas as pd\n",
        "from tqdm import tqdm\n",
        "import time\n",
        "import sqlite3\n",
        "import csv\n",
        "import matplotlib.pyplot as plt\n",
        "import seaborn as sns\n",
        "import seaborn\n",
        "import numpy as np\n",
        "import pickle\n",
        "#from wordcloud import Wordcloud\n",
        "import torch.nn as nn\n",
        "import re\n",
        "import os \n",
        "from sqlalchemy import create_engine # database connection \n",
        "import datetime as dt\n",
        "from nltk.corpus import stopwords \n",
        "from nltk.tokenize import word_tokenize\n",
        "from nltk.tokenize import RegexpTokenizer\n",
        "from nltk.stem.snowball import SnowballStemmer \n",
        "from sklearn.feature_extraction.text import CountVectorizer \n",
        "from sklearn.feature_extraction.text import TfidfVectorizer \n",
        "from sklearn.multiclass import OneVsRestClassifier \n",
        "from sklearn.linear_model import SGDClassifier \n",
        "from sklearn import metrics\n",
        "from sklearn.metrics import f1_score, precision_score, recall_score \n",
        "from sklearn import svm\n",
        "from sklearn.linear_model import LogisticRegression \n",
        "from skmultilearn.adapt import mlknn \n",
        "from skmultilearn.problem_transform import ClassifierChain \n",
        "from skmultilearn.problem_transform import BinaryRelevance \n",
        "from skmultilearn.problem_transform import LabelPowerset \n",
        "from sklearn.naive_bayes import GaussianNB \n",
        "from datetime import datetime\n",
        "from ast import literal_eval\n",
        "import glob\n",
        "from collections import Counter\n",
        "from sklearn.pipeline import make_pipeline, FeatureUnion, Pipeline"
      ],
      "execution_count": 0,
      "outputs": []
    },
    {
      "cell_type": "code",
      "metadata": {
        "id": "hG16Zgyz_oXt",
        "colab_type": "code",
        "outputId": "8df7ca52-f963-48f1-ba38-bec398992d9e",
        "colab": {
          "base_uri": "https://localhost:8080/",
          "height": 122
        }
      },
      "source": [
        "!pip install scikit-multilearn\n",
        "# 首先执行这句，安装模块"
      ],
      "execution_count": 1,
      "outputs": [
        {
          "output_type": "stream",
          "text": [
            "Collecting scikit-multilearn\n",
            "\u001b[?25l  Downloading https://files.pythonhosted.org/packages/bb/1f/e6ff649c72a1cdf2c7a1d31eb21705110ce1c5d3e7e26b2cc300e1637272/scikit_multilearn-0.2.0-py3-none-any.whl (89kB)\n",
            "\r\u001b[K     |███▊                            | 10kB 18.3MB/s eta 0:00:01\r\u001b[K     |███████▍                        | 20kB 6.4MB/s eta 0:00:01\r\u001b[K     |███████████                     | 30kB 9.0MB/s eta 0:00:01\r\u001b[K     |██████████████▊                 | 40kB 5.5MB/s eta 0:00:01\r\u001b[K     |██████████████████▍             | 51kB 6.6MB/s eta 0:00:01\r\u001b[K     |██████████████████████          | 61kB 7.8MB/s eta 0:00:01\r\u001b[K     |█████████████████████████▊      | 71kB 8.9MB/s eta 0:00:01\r\u001b[K     |█████████████████████████████▍  | 81kB 9.9MB/s eta 0:00:01\r\u001b[K     |████████████████████████████████| 92kB 4.7MB/s \n",
            "\u001b[?25hInstalling collected packages: scikit-multilearn\n",
            "Successfully installed scikit-multilearn-0.2.0\n"
          ],
          "name": "stdout"
        }
      ]
    },
    {
      "cell_type": "code",
      "metadata": {
        "id": "5wgJDB27_K3g",
        "colab_type": "code",
        "outputId": "b1200a91-2fa3-4b51-f028-c530b9dffd15",
        "colab": {
          "base_uri": "https://localhost:8080/",
          "height": 34
        }
      },
      "source": [
        "from google.colab import drive\n",
        "drive.mount('/content/drive')"
      ],
      "execution_count": 28,
      "outputs": [
        {
          "output_type": "stream",
          "text": [
            "Mounted at /content/drive\n"
          ],
          "name": "stdout"
        }
      ]
    },
    {
      "cell_type": "code",
      "metadata": {
        "id": "N6ag0QT9_F2Y",
        "colab_type": "code",
        "outputId": "a8e2d92b-2803-4950-c66b-9205fe1add77",
        "colab": {
          "base_uri": "https://localhost:8080/",
          "height": 68
        }
      },
      "source": [
        "DATA_PATH = '/content/drive/My Drive/'\n",
        "data = pd.read_csv(DATA_PATH + 'mpst_full_data.csv')\n",
        "data.columns"
      ],
      "execution_count": 5,
      "outputs": [
        {
          "output_type": "execute_result",
          "data": {
            "text/plain": [
              "Index(['imdb_id', 'title', 'plot_synopsis', 'tags', 'split',\n",
              "       'synopsis_source'],\n",
              "      dtype='object')"
            ]
          },
          "metadata": {
            "tags": []
          },
          "execution_count": 5
        }
      ]
    },
    {
      "cell_type": "code",
      "metadata": {
        "id": "icl7OrEZVzrw",
        "colab_type": "code",
        "colab": {}
      },
      "source": [
        "def trans_to_array(y):\n",
        "    y_new=[]\n",
        "    for label in y:\n",
        "    #     print(i)\n",
        "        this = []\n",
        "        word =''\n",
        "        for m in label:\n",
        "            if m != ',':\n",
        "                if m !=' ':\n",
        "                    word += m\n",
        "            else:\n",
        "                this.append(word)\n",
        "                word = ''\n",
        "        this.append(word)\n",
        "        y_new.append(this)\n",
        "    return y_new\n",
        "\n",
        "tags_new = trans_to_array(data['tags'])\n",
        "print(len(tags_new))\n",
        "data['tags'] = tags_new"
      ],
      "execution_count": 0,
      "outputs": []
    },
    {
      "cell_type": "code",
      "metadata": {
        "id": "s9gmVy50V8z6",
        "colab_type": "code",
        "colab": {}
      },
      "source": [
        "CorpusData = data[['tags', 'title', 'plot_synopsis']]\n",
        "print(CorpusData)"
      ],
      "execution_count": 0,
      "outputs": []
    },
    {
      "cell_type": "code",
      "metadata": {
        "id": "8gFelbmC_F2k",
        "colab_type": "code",
        "outputId": "1b3e0df5-4832-41e4-89a8-605bdd6d25fe",
        "colab": {
          "base_uri": "https://localhost:8080/",
          "height": 935
        }
      },
      "source": [
        "vectorizer = CountVectorizer(tokenizer = lambda x: x.split(','))\n",
        "print(CorpusData['tags'][5])\n",
        "tag_dtm = vectorizer.fit_transform(m for x in CorpusData['tags'] for m in x)\n",
        "print(\"Number of data points :\",tag_dtm.shape[0])\n",
        "print(\"Number of unique tags :\",tag_dtm.shape[1])\n",
        "print(tag_dtm)"
      ],
      "execution_count": 0,
      "outputs": [
        {
          "output_type": "stream",
          "text": [
            "['romantic', 'queer', 'flashback']\n",
            "Number of data points : 44206\n",
            "Number of unique tags : 71\n",
            "  (0, 20)\t1\n",
            "  (1, 36)\t1\n",
            "  (2, 30)\t1\n",
            "  (3, 43)\t1\n",
            "  (4, 7)\t1\n",
            "  (5, 68)\t1\n",
            "  (6, 57)\t1\n",
            "  (7, 39)\t1\n",
            "  (8, 57)\t1\n",
            "  (9, 63)\t1\n",
            "  (10, 27)\t1\n",
            "  (11, 19)\t1\n",
            "  (12, 43)\t1\n",
            "  (13, 24)\t1\n",
            "  (14, 20)\t1\n",
            "  (15, 68)\t1\n",
            "  (16, 7)\t1\n",
            "  (17, 1)\t1\n",
            "  (18, 57)\t1\n",
            "  (19, 56)\t1\n",
            "  (20, 58)\t1\n",
            "  (21, 57)\t1\n",
            "  (22, 54)\t1\n",
            "  (23, 28)\t1\n",
            "  (24, 30)\t1\n",
            "  :\t:\n",
            "  (44181, 68)\t1\n",
            "  (44182, 57)\t1\n",
            "  (44183, 34)\t1\n",
            "  (44184, 1)\t1\n",
            "  (44185, 65)\t1\n",
            "  (44186, 45)\t1\n",
            "  (44187, 68)\t1\n",
            "  (44188, 67)\t1\n",
            "  (44189, 56)\t1\n",
            "  (44190, 61)\t1\n",
            "  (44191, 10)\t1\n",
            "  (44192, 57)\t1\n",
            "  (44193, 45)\t1\n",
            "  (44194, 55)\t1\n",
            "  (44195, 43)\t1\n",
            "  (44196, 68)\t1\n",
            "  (44197, 7)\t1\n",
            "  (44198, 65)\t1\n",
            "  (44199, 17)\t1\n",
            "  (44200, 43)\t1\n",
            "  (44201, 29)\t1\n",
            "  (44202, 68)\t1\n",
            "  (44203, 6)\t1\n",
            "  (44204, 43)\t1\n",
            "  (44205, 14)\t1\n"
          ],
          "name": "stdout"
        }
      ]
    },
    {
      "cell_type": "code",
      "metadata": {
        "id": "Vslz-5-u_F2u",
        "colab_type": "code",
        "outputId": "73808f20-e078-412a-ea34-8d146cdd64a0",
        "colab": {
          "base_uri": "https://localhost:8080/",
          "height": 54
        }
      },
      "source": [
        "# 查看现有的tags\n",
        "tags = vectorizer.get_feature_names()\n",
        "print(\"Some of the tags we have :\", tags[:30])"
      ],
      "execution_count": 0,
      "outputs": [
        {
          "output_type": "stream",
          "text": [
            "Some of the tags we have : ['absurd', 'action', 'adultcomedy', 'allegory', 'alternatehistory', 'alternatereality', 'antiwar', 'atmospheric', 'autobiographical', 'avantgarde', 'blaxploitation', 'bleak', 'boring', 'brainwashing', 'christianfilm', 'claustrophobic', 'clever', 'comedy', 'comic', 'cruelty', 'cult', 'cute', 'dark', 'depressing', 'dramatic', 'entertaining', 'fantasy', 'feel-good', 'flashback', 'goodversusevil']\n"
          ],
          "name": "stdout"
        }
      ]
    },
    {
      "cell_type": "code",
      "metadata": {
        "id": "Jk15breo_F2w",
        "colab_type": "code",
        "outputId": "2f16e92b-7384-4a1e-89d6-982f7204f085",
        "colab": {
          "base_uri": "https://localhost:8080/",
          "height": 54
        }
      },
      "source": [
        "#store the document term matrix in a dictionaty\n",
        "freqs = tag_dtm.sum(axis=0).A1\n",
        "result = dict(zip(tags,freqs))\n",
        "print(result)"
      ],
      "execution_count": 0,
      "outputs": [
        {
          "output_type": "stream",
          "text": [
            "{'absurd': 270, 'action': 664, 'adultcomedy': 128, 'allegory': 139, 'alternatehistory': 102, 'alternatereality': 205, 'antiwar': 118, 'atmospheric': 396, 'autobiographical': 44, 'avantgarde': 220, 'blaxploitation': 74, 'bleak': 211, 'boring': 525, 'brainwashing': 107, 'christianfilm': 42, 'claustrophobic': 84, 'clever': 87, 'comedy': 1859, 'comic': 114, 'cruelty': 442, 'cult': 2647, 'cute': 197, 'dark': 405, 'depressing': 205, 'dramatic': 412, 'entertaining': 749, 'fantasy': 564, 'feel-good': 76, 'flashback': 2937, 'goodversusevil': 875, 'gothic': 441, 'grindhousefilm': 66, 'haunting': 151, 'historical': 272, 'historicalfiction': 143, 'homemovie': 153, 'horror': 486, 'humor': 822, 'insanity': 636, 'inspiring': 118, 'intrigue': 168, 'magicalrealism': 54, 'melodrama': 457, 'murder': 5782, 'mystery': 519, 'neonoir': 745, 'nonfiction': 37, 'paranormal': 546, 'philosophical': 228, 'plottwist': 205, 'pornographic': 163, 'prank': 255, 'psychedelic': 1897, 'psychological': 289, 'queer': 98, 'realism': 204, 'revenge': 2468, 'romantic': 2906, 'sadist': 652, 'satire': 816, 'sci-fi': 309, 'sentimental': 233, 'storytelling': 364, 'stupid': 190, 'suicidal': 54, 'suspenseful': 1086, 'thought-provoking': 120, 'tragedy': 597, 'violence': 4426, 'western': 73, 'whimsical': 79}\n"
          ],
          "name": "stdout"
        }
      ]
    },
    {
      "cell_type": "code",
      "metadata": {
        "id": "ph4rCj2k_F26",
        "colab_type": "code",
        "outputId": "9571b0a1-1af1-4deb-bbe2-fa52c4efa6f9",
        "colab": {
          "base_uri": "https://localhost:8080/",
          "height": 204
        }
      },
      "source": [
        "#Saving this dictionary to csv files 注意不要重复保存\n",
        "if not os.path.isfile('tag_counts_dict_dtm.csv'):\n",
        "    with open('tag_counts_dict_dtm.csv','w') as csv_file:\n",
        "        writer = csv.writer(csv_file)\n",
        "        for key, value in result.items():\n",
        "            writer.writerow([key,value])\n",
        "tag_df = pd.read_csv(\"tag_counts_dict_dtm.csv\", names=['Tags','Counts'])\n",
        "tag_df.head()"
      ],
      "execution_count": 0,
      "outputs": [
        {
          "output_type": "execute_result",
          "data": {
            "text/html": [
              "<div>\n",
              "<style scoped>\n",
              "    .dataframe tbody tr th:only-of-type {\n",
              "        vertical-align: middle;\n",
              "    }\n",
              "\n",
              "    .dataframe tbody tr th {\n",
              "        vertical-align: top;\n",
              "    }\n",
              "\n",
              "    .dataframe thead th {\n",
              "        text-align: right;\n",
              "    }\n",
              "</style>\n",
              "<table border=\"1\" class=\"dataframe\">\n",
              "  <thead>\n",
              "    <tr style=\"text-align: right;\">\n",
              "      <th></th>\n",
              "      <th>Tags</th>\n",
              "      <th>Counts</th>\n",
              "    </tr>\n",
              "  </thead>\n",
              "  <tbody>\n",
              "    <tr>\n",
              "      <th>0</th>\n",
              "      <td>absurd</td>\n",
              "      <td>270</td>\n",
              "    </tr>\n",
              "    <tr>\n",
              "      <th>1</th>\n",
              "      <td>action</td>\n",
              "      <td>664</td>\n",
              "    </tr>\n",
              "    <tr>\n",
              "      <th>2</th>\n",
              "      <td>adultcomedy</td>\n",
              "      <td>128</td>\n",
              "    </tr>\n",
              "    <tr>\n",
              "      <th>3</th>\n",
              "      <td>allegory</td>\n",
              "      <td>139</td>\n",
              "    </tr>\n",
              "    <tr>\n",
              "      <th>4</th>\n",
              "      <td>alternatehistory</td>\n",
              "      <td>102</td>\n",
              "    </tr>\n",
              "  </tbody>\n",
              "</table>\n",
              "</div>"
            ],
            "text/plain": [
              "               Tags  Counts\n",
              "0            absurd     270\n",
              "1            action     664\n",
              "2       adultcomedy     128\n",
              "3          allegory     139\n",
              "4  alternatehistory     102"
            ]
          },
          "metadata": {
            "tags": []
          },
          "execution_count": 50
        }
      ]
    },
    {
      "cell_type": "code",
      "metadata": {
        "id": "KW1c7Ecd_F3A",
        "colab_type": "code",
        "outputId": "69a8a042-a4b1-4bc2-fa3e-337c01203abd",
        "colab": {
          "base_uri": "https://localhost:8080/",
          "height": 1000
        }
      },
      "source": [
        "# 将标签排序，显示结果\n",
        "tag_df_sorted = tag_df.sort_values(['Counts'],ascending=False)\n",
        "tag_counts = tag_df_sorted['Counts'].values\n",
        "print(tag_counts, tag_df_sorted)"
      ],
      "execution_count": 0,
      "outputs": [
        {
          "output_type": "stream",
          "text": [
            "[5782 4426 2937 2906 2647 2468 1897 1859 1086  875  822  816  749  745\n",
            "  664  652  636  597  564  546  525  519  486  457  442  441  412  405\n",
            "  396  364  309  289  272  270  255  233  228  220  211  205  205  205\n",
            "  204  197  190  168  163  153  151  143  139  128  120  118  118  114\n",
            "  107  102   98   87   84   79   76   74   73   66   54   54   44   42\n",
            "   37]                  Tags  Counts\n",
            "43             murder    5782\n",
            "68           violence    4426\n",
            "28          flashback    2937\n",
            "57           romantic    2906\n",
            "20               cult    2647\n",
            "56            revenge    2468\n",
            "52        psychedelic    1897\n",
            "17             comedy    1859\n",
            "65        suspenseful    1086\n",
            "29     goodversusevil     875\n",
            "37              humor     822\n",
            "59             satire     816\n",
            "25       entertaining     749\n",
            "45            neonoir     745\n",
            "1              action     664\n",
            "58             sadist     652\n",
            "38           insanity     636\n",
            "67            tragedy     597\n",
            "26            fantasy     564\n",
            "47         paranormal     546\n",
            "12             boring     525\n",
            "44            mystery     519\n",
            "36             horror     486\n",
            "42          melodrama     457\n",
            "19            cruelty     442\n",
            "30             gothic     441\n",
            "24           dramatic     412\n",
            "22               dark     405\n",
            "7         atmospheric     396\n",
            "62       storytelling     364\n",
            "..                ...     ...\n",
            "23         depressing     205\n",
            "55            realism     204\n",
            "21               cute     197\n",
            "63             stupid     190\n",
            "40           intrigue     168\n",
            "50       pornographic     163\n",
            "35          homemovie     153\n",
            "32           haunting     151\n",
            "34  historicalfiction     143\n",
            "3            allegory     139\n",
            "2         adultcomedy     128\n",
            "66  thought-provoking     120\n",
            "39          inspiring     118\n",
            "6             antiwar     118\n",
            "18              comic     114\n",
            "13       brainwashing     107\n",
            "4    alternatehistory     102\n",
            "54              queer      98\n",
            "16             clever      87\n",
            "15     claustrophobic      84\n",
            "70          whimsical      79\n",
            "27          feel-good      76\n",
            "10     blaxploitation      74\n",
            "69            western      73\n",
            "31     grindhousefilm      66\n",
            "41     magicalrealism      54\n",
            "64           suicidal      54\n",
            "8    autobiographical      44\n",
            "14      christianfilm      42\n",
            "46         nonfiction      37\n",
            "\n",
            "[71 rows x 2 columns]\n"
          ],
          "name": "stdout"
        }
      ]
    },
    {
      "cell_type": "code",
      "metadata": {
        "id": "ILVAwBTmJGW4",
        "colab_type": "code",
        "outputId": "50debda3-2424-4e84-865d-d97ab5784007",
        "colab": {
          "base_uri": "https://localhost:8080/",
          "height": 198
        }
      },
      "source": [
        "#tag_df_sorted = FinalData['tags'].sort_values(['Counts'],ascending=False)\n",
        "#tag_counts = tag_df_sorted['Counts'].values\n",
        "#print(tag_counts, tag_df_sorted)"
      ],
      "execution_count": 0,
      "outputs": [
        {
          "output_type": "error",
          "ename": "NameError",
          "evalue": "ignored",
          "traceback": [
            "\u001b[0;31m---------------------------------------------------------------------------\u001b[0m",
            "\u001b[0;31mNameError\u001b[0m                                 Traceback (most recent call last)",
            "\u001b[0;32m<ipython-input-52-2a3bf2d310ed>\u001b[0m in \u001b[0;36m<module>\u001b[0;34m()\u001b[0m\n\u001b[0;32m----> 1\u001b[0;31m \u001b[0mtag_df_sorted\u001b[0m \u001b[0;34m=\u001b[0m \u001b[0mFinalData\u001b[0m\u001b[0;34m[\u001b[0m\u001b[0;34m'tags'\u001b[0m\u001b[0;34m]\u001b[0m\u001b[0;34m.\u001b[0m\u001b[0msort_values\u001b[0m\u001b[0;34m(\u001b[0m\u001b[0;34m[\u001b[0m\u001b[0;34m'Counts'\u001b[0m\u001b[0;34m]\u001b[0m\u001b[0;34m,\u001b[0m\u001b[0mascending\u001b[0m\u001b[0;34m=\u001b[0m\u001b[0;32mFalse\u001b[0m\u001b[0;34m)\u001b[0m\u001b[0;34m\u001b[0m\u001b[0;34m\u001b[0m\u001b[0m\n\u001b[0m\u001b[1;32m      2\u001b[0m \u001b[0mtag_counts\u001b[0m \u001b[0;34m=\u001b[0m \u001b[0mtag_df_sorted\u001b[0m\u001b[0;34m[\u001b[0m\u001b[0;34m'Counts'\u001b[0m\u001b[0;34m]\u001b[0m\u001b[0;34m.\u001b[0m\u001b[0mvalues\u001b[0m\u001b[0;34m\u001b[0m\u001b[0;34m\u001b[0m\u001b[0m\n\u001b[1;32m      3\u001b[0m \u001b[0mprint\u001b[0m\u001b[0;34m(\u001b[0m\u001b[0mtag_counts\u001b[0m\u001b[0;34m,\u001b[0m \u001b[0mtag_df_sorted\u001b[0m\u001b[0;34m)\u001b[0m\u001b[0;34m\u001b[0m\u001b[0;34m\u001b[0m\u001b[0m\n",
            "\u001b[0;31mNameError\u001b[0m: name 'FinalData' is not defined"
          ]
        }
      ]
    },
    {
      "cell_type": "code",
      "metadata": {
        "id": "FiaEpgEpjJOr",
        "colab_type": "code",
        "outputId": "c741238b-18b2-4acd-9c2d-f4ae541f68a1",
        "colab": {
          "base_uri": "https://localhost:8080/",
          "height": 238
        }
      },
      "source": [
        "#CorpusData = data[['tags', 'title', 'plot_synopsis']]\n",
        "#print(type(CorpusData['tags'][0]))\n",
        "#i = 0\n",
        "#for tag in tqdm(CorpusData['tags']):\n",
        "#  CorpusData['tags'][i] = CorpusData['tags'][i].split(', ')\n",
        "#  i += 1\n",
        "#print(CorpusData['tags'][:10])"
      ],
      "execution_count": 0,
      "outputs": [
        {
          "output_type": "stream",
          "text": [
            "  0%|          | 1/14828 [00:00<25:22,  9.74it/s]"
          ],
          "name": "stderr"
        },
        {
          "output_type": "stream",
          "text": [
            "<class 'str'>\n"
          ],
          "name": "stdout"
        },
        {
          "output_type": "stream",
          "text": [
            "100%|██████████| 14828/14828 [26:14<00:00,  9.18it/s]"
          ],
          "name": "stderr"
        },
        {
          "output_type": "stream",
          "text": [
            "0          [cult, horror, gothic, murder, atmospheric]\n",
            "1                                           [violence]\n",
            "2                                           [romantic]\n",
            "3             [inspiring, romantic, stupid, feel-good]\n",
            "4    [cruelty, murder, dramatic, cult, violence, at...\n",
            "5                         [romantic, queer, flashback]\n",
            "6    [gothic, cruelty, violence, cult, revenge, sad...\n",
            "7    [mystery, suspenseful, action, murder, flashback]\n",
            "8                                           [violence]\n",
            "9     [revenge, neo noir, murder, violence, flashback]\n",
            "Name: tags, dtype: object\n"
          ],
          "name": "stdout"
        },
        {
          "output_type": "stream",
          "text": [
            "\n"
          ],
          "name": "stderr"
        }
      ]
    },
    {
      "cell_type": "code",
      "metadata": {
        "id": "crdiwf6gc0jP",
        "colab_type": "code",
        "outputId": "26d2c8e3-5fa6-4994-a560-9fa9422572a7",
        "colab": {
          "base_uri": "https://localhost:8080/",
          "height": 221
        }
      },
      "source": [
        "# 建立需要去除的标签列表\n",
        "genresToRemove = []\n",
        "for key, value in result.items():\n",
        "  if value < 500:\n",
        "    genresToRemove.append(key)\n",
        "print(len(genresToRemove)) # 需要去除的标签个数\n",
        "print(CorpusData['tags'][:10])\n",
        "# 在数据集中去除标签\n",
        "CorpusData['tags'] = CorpusData['tags'].apply(\n",
        "    lambda genreList: [genre for genre in genreList if genre not in genresToRemove]\n",
        ")"
      ],
      "execution_count": 0,
      "outputs": [
        {
          "output_type": "stream",
          "text": [
            "49\n",
            "0          [cult, horror, gothic, murder, atmospheric]\n",
            "1                                           [violence]\n",
            "2                                           [romantic]\n",
            "3             [inspiring, romantic, stupid, feel-good]\n",
            "4    [cruelty, murder, dramatic, cult, violence, at...\n",
            "5                         [romantic, queer, flashback]\n",
            "6    [gothic, cruelty, violence, cult, revenge, sad...\n",
            "7    [mystery, suspenseful, action, murder, flashback]\n",
            "8                                           [violence]\n",
            "9      [revenge, neonoir, murder, violence, flashback]\n",
            "Name: tags, dtype: object\n"
          ],
          "name": "stdout"
        }
      ]
    },
    {
      "cell_type": "code",
      "metadata": {
        "id": "gr5XTQyy2t5t",
        "colab_type": "code",
        "outputId": "e867f4db-e38f-4c56-bd00-c3e3bc988228",
        "colab": {
          "base_uri": "https://localhost:8080/",
          "height": 1000
        }
      },
      "source": [
        "CorpusData = CorpusData[CorpusData['tags'].map(lambda x: len(x)) > 0] # 将tag为零的数据删除\n",
        "# print(len(CorpusData))\n",
        "print(CorpusData)\n",
        "\n",
        "# 接下来是对数据集的画图部分，与本项目关系不大，可以略过"
      ],
      "execution_count": 0,
      "outputs": [
        {
          "output_type": "stream",
          "text": [
            "                                                    tags  ...                                      plot_synopsis\n",
            "0                                         [cult, murder]  ...  Note: this synopsis is for the orginal Italian...\n",
            "1                                             [violence]  ...  Two thousand years ago, Nhagruul the Foul, a s...\n",
            "2                                             [romantic]  ...  Matuschek's, a gift store in Budapest, is the ...\n",
            "3                                             [romantic]  ...  Glenn Holland, not a morning person by anyone'...\n",
            "4      [murder, cult, violence, action, romantic, rev...  ...  In May 1980, a Cuban man named Tony Montana (A...\n",
            "5                                  [romantic, flashback]  ...  George Falconer (Colin Firth) approaches a car...\n",
            "6                      [violence, cult, revenge, sadist]  ...  Baise-moi tells the story of Nadine and Manu w...\n",
            "7      [mystery, suspenseful, action, murder, flashback]  ...  Kyle Pratt (Jodie Foster) is a propulsion engi...\n",
            "8                                             [violence]  ...  Small-time Italian-American criminals Caesar E...\n",
            "9        [revenge, neonoir, murder, violence, flashback]  ...  The movie begins with a video being shot of me...\n",
            "10                                                [cult]  ...  The action takes place in the years 1958-1959 ...\n",
            "11                 [cult, psychedelic, murder, violence]  ...  At the Somafree Institute, Dr. Hal Raglan humi...\n",
            "12                                     [tragedy, murder]  ...  Brothers Terry (Colin Farrell) and Ian (Ewan M...\n",
            "13                                              [murder]  ...  Arrival.\\nA train pulls into a station in Nort...\n",
            "14                                           [flashback]  ...  The film tells the story of how the Pettigrew ...\n",
            "15                                      [goodversusevil]  ...  Hours after the end of the previous game and t...\n",
            "16                                         [suspenseful]  ...  We open with Mia (Katie Jarvis), a 15 year old...\n",
            "17            [boring, murder, cult, violence, romantic]  ...  Over a shot of trees reflected in water, a gir...\n",
            "18                                           [flashback]  ...  The film begins with a close-up of Jackie Kenn...\n",
            "19                                          [paranormal]  ...  This creepy and scary story centers around The...\n",
            "20     [suspenseful, neonoir, murder, violence, actio...  ...  On New Years Eve, Detroit's oldest police stat...\n",
            "21                                            [romantic]  ...  After World War II, Fred Derry (Dana Andrews),...\n",
            "22                                            [romantic]  ...  The film is told through the perspective of Gr...\n",
            "23          [comedy, murder, sadist, flashback, revenge]  ...  Nigel Dobson (Hugh Grant) and his wife Fiona (...\n",
            "24                                              [murder]  ...  The film opens in an Anchorage motel room in 1...\n",
            "25       [fantasy, murder, violence, flashback, revenge]  ...  South Boston teenager Jason Tripitikas is a fa...\n",
            "27           [boring, flashback, romantic, entertaining]  ...  15 years agoWe see two young kids, named Emma ...\n",
            "28                          [cult, comedy, entertaining]  ...  Mr. Bean (Rowan Atkinson) is a well-meaning, b...\n",
            "29                         [comedy, humor, entertaining]  ...  Four teenage misfits - Will, Simon, Jay and Ne...\n",
            "30                                              [murder]  ...  ** CONTAINS SPOILERSIn England, OFFICIALS drag...\n",
            "...                                                  ...  ...                                                ...\n",
            "14794                                           [murder]  ...  Retired gunslinger and former Confederate sold...\n",
            "14795                                          [revenge]  ...  Set in London in 1938, the film focuses on hig...\n",
            "14796                                [murder, flashback]  ...  Two police detectives in Lyon, both single and...\n",
            "14797                         [goodversusevil, violence]  ...  Dragon Ball Z picks up five years after the en...\n",
            "14798                        [violence, neonoir, murder]  ...  In Utah, Nancy Breyers (Kelly Lynch) is a defe...\n",
            "14799                                [revenge, violence]  ...  Fresh out of prison, Isaiah Bone moves to Los ...\n",
            "14801                                 [violence, murder]  ...  Tum is a secretary working for a bank when the...\n",
            "14802                                [satire, flashback]  ...  The film is divided up to four short stories:\\...\n",
            "14803                         [romantic, comedy, satire]  ...  During the Great Depression, Godfrey \"Smith\" P...\n",
            "14804                                           [murder]  ...  The film opens with the U.S. Army failing to c...\n",
            "14805                                          [revenge]  ...  In 1921, an archaeological expedition led by S...\n",
            "14806                             [psychedelic, fantasy]  ...  An old artisan in a Middle Eastern town finds ...\n",
            "14807                                  [revenge, murder]  ...  Sheriff Bull Harper (George Mathews) is taking...\n",
            "14808                              [suspenseful, murder]  ...  Television writer and director Elliott Nash (G...\n",
            "14809                                           [comedy]  ...  In 1940, C.W. Briggs (Woody Allen) is an insur...\n",
            "14810                        [boring, romantic, fantasy]  ...  Nine years have passed since Before Sunset. Je...\n",
            "14811                                 [romantic, murder]  ...  Captain \"Gibby\" Gibson (Richard Dix) and his c...\n",
            "14812                              [violence, flashback]  ...  Blood-C is set in an isolated rural town on th...\n",
            "14813                               [paranormal, murder]  ...  Petey Wheatstraw (Rudy Ray Moore) is born duri...\n",
            "14814             [murder, paranormal, violence, sadist]  ...  An unidentified corpse of a woman is found hal...\n",
            "14815                                          [revenge]  ...  === Summary ===\\nOn the day of his wedding to ...\n",
            "14816                   [suspenseful, murder, flashback]  ...  During the early 1970s, FBI agent Ray Levoi is...\n",
            "14817                               [violence, romantic]  ...  The film opens in the hills of California. Bob...\n",
            "14818                                           [action]  ...  On his deathbed, the king of Ruritania announc...\n",
            "14819  [suspenseful, neonoir, violence, tragedy, reve...  ...  Jane, an operative for the private intelligenc...\n",
            "14821                                         [romantic]  ...  Opera singer Mary Barrett (Grace Moore) leaves...\n",
            "14822           [neonoir, murder, violence, suspenseful]  ...  Three criminals, Ray, Pluto and Fantasia (Ray'...\n",
            "14823                                   [comedy, murder]  ...  In 1988 Russ Richards (John Travolta), the wea...\n",
            "14824                         [goodversusevil, violence]  ...  In Russia, the media covers Tony Stark's discl...\n",
            "14826                                           [murder]  ...  Steven Kenet catches his unfaithful wife in th...\n",
            "\n",
            "[13715 rows x 3 columns]\n"
          ],
          "name": "stdout"
        }
      ]
    },
    {
      "cell_type": "code",
      "metadata": {
        "id": "M2-9Sj6l_F3C",
        "colab_type": "code",
        "outputId": "c6ef6f03-a8e7-4391-8d62-29709b5b9fcd",
        "colab": {
          "base_uri": "https://localhost:8080/",
          "height": 295
        }
      },
      "source": [
        "plt.plot(tag_counts,c='y')\n",
        "plt.scatter(x = list(range(0,100,5)), y = tag_counts[0:100:5], c = 'r',label=\"quantiles with 0.05 intervals\")\n",
        "plt.scatter(x = list(range(0,100,25)), y = tag_counts[0:100:25], c = 'm',label=\"quantiles with 0.25 intervals\")\n",
        "# 对标签的分布进行整理，每隔5/25个显示一个点\n",
        "\n",
        "for x,y in zip(list(range(0,100,25)),tag_counts[0:100:25]):\n",
        "    plt.annotate(s=\"({},{})\".format(x,y),xy=(x,y),xytext=(x+0.5,y+100))\n",
        "# 画黄线\n",
        "\n",
        "plt.title(\"first 100 tags: Distribution of number of times tag appeared questions\")\n",
        "plt.grid()\n",
        "plt.xlabel(\"Tag number\")\n",
        "plt.ylabel(\"Number of times tag appeared\")\n",
        "plt.legend()\n",
        "plt.show()"
      ],
      "execution_count": 0,
      "outputs": [
        {
          "output_type": "display_data",
          "data": {
            "image/png": "[encoded data removed]",
            "text/plain": [
              "<Figure size 432x288 with 1 Axes>"
            ]
          },
          "metadata": {
            "tags": []
          }
        }
      ]
    },
    {
      "cell_type": "code",
      "metadata": {
        "id": "dKdY8h7Q_F3F",
        "colab_type": "code",
        "outputId": "d6bf6c34-277c-4571-e6b0-3a123f3330f4",
        "colab": {
          "base_uri": "https://localhost:8080/",
          "height": 51
        }
      },
      "source": [
        "tag_quest_count = tag_dtm.sum(axis=1).tolist() # 每条数据的标签数\n",
        "# print(tag_quest_count)\n",
        "tag_quest_count = [int(j) for i in tag_quest_count for j in i]\n",
        "print('We have total {} datapoints.'.format(len(tag_quest_count)))\n",
        "print(tag_quest_count[:5])"
      ],
      "execution_count": 0,
      "outputs": [
        {
          "output_type": "stream",
          "text": [
            "We have total 14828 datapoints.\n",
            "[5, 1, 1, 4, 10]\n"
          ],
          "name": "stdout"
        }
      ]
    },
    {
      "cell_type": "code",
      "metadata": {
        "id": "4W2Yn735_F3J",
        "colab_type": "code",
        "outputId": "a0dee2da-02fb-487f-ac46-5a8923dbfba8",
        "colab": {
          "base_uri": "https://localhost:8080/",
          "height": 68
        }
      },
      "source": [
        "print(\"Maximum number of tags per question: %d\"%max(tag_quest_count))\n",
        "print(\"Minimum number of tags per question: %d\"%min(tag_quest_count))\n",
        "print(\"Average number of tags per question: %f\"% ((sum(tag_quest_count)*1.0)/len(tag_quest_count)))"
      ],
      "execution_count": 0,
      "outputs": [
        {
          "output_type": "stream",
          "text": [
            "Maximum number of tags per question: 25\n",
            "Minimum number of tags per question: 1\n",
            "Average number of tags per question: 2.981252\n"
          ],
          "name": "stdout"
        }
      ]
    },
    {
      "cell_type": "code",
      "metadata": {
        "id": "RjYmBDCY_F3L",
        "colab_type": "code",
        "outputId": "67afe673-c9f5-47cd-d709-57abfecfe57b",
        "colab": {
          "base_uri": "https://localhost:8080/",
          "height": 641
        }
      },
      "source": [
        "fig = plt.figure(figsize=(20,10))\n",
        "sns.countplot(tag_quest_count,palette='gist_rainbow')\n",
        "plt.title(\"Number of tags in questions\")\n",
        "plt.xlabel(\"Number of tags\")\n",
        "plt.ylabel(\"Number of quesitons\")\n",
        "plt.show()\n",
        "# 数据标签数的分布"
      ],
      "execution_count": 0,
      "outputs": [
        {
          "output_type": "display_data",
          "data": {
            "image/png": "[encoded data removed]",
            "text/plain": [
              "<Figure size 1440x720 with 1 Axes>"
            ]
          },
          "metadata": {
            "tags": []
          }
        }
      ]
    },
    {
      "cell_type": "code",
      "metadata": {
        "id": "UjRTb14H_F3M",
        "colab_type": "code",
        "outputId": "929cd022-f845-4a28-d142-1fa18639a85d",
        "colab": {
          "base_uri": "https://localhost:8080/",
          "height": 387
        }
      },
      "source": [
        "i= np.arange(30)\n",
        "fig = plt.figure(figsize=(20,10))\n",
        "tag_df_sorted.head(30).plot(kind='bar')\n",
        "plt.title('Frequency of top 20 tags')\n",
        "plt.xlabel('Tags')\n",
        "plt.ylabel('Counts')\n",
        "plt.xticks(i,tag_df_sorted['Tags'])\n",
        "plt.show()\n",
        "# 前20个最普遍的标签"
      ],
      "execution_count": 0,
      "outputs": [
        {
          "output_type": "display_data",
          "data": {
            "text/plain": [
              "<Figure size 1440x720 with 0 Axes>"
            ]
          },
          "metadata": {
            "tags": []
          }
        },
        {
          "output_type": "display_data",
          "data": {
            "image/png": "[encoded data removed]",
            "text/plain": [
              "<Figure size 432x288 with 1 Axes>"
            ]
          },
          "metadata": {
            "tags": []
          }
        }
      ]
    },
    {
      "cell_type": "code",
      "metadata": {
        "id": "CjrhpN70_F3O",
        "colab_type": "code",
        "outputId": "b7235cbe-5377-4eee-e0f8-16bccbc3d12c",
        "colab": {
          "base_uri": "https://localhost:8080/",
          "height": 513
        }
      },
      "source": [
        "plt.figure(figsize=(10,8))\n",
        "plt.subplot()\n",
        "sns.distplot(tag_quest_count)\n",
        "plt.title(\"Number of tags in the questions\")\n",
        "plt.xlabel(\"Number of tags\")\n",
        "plt.ylabel(\"Number of questions\")\n",
        "plt.show()"
      ],
      "execution_count": 0,
      "outputs": [
        {
          "output_type": "display_data",
          "data": {
            "image/png": "[encoded data removed]",
            "text/plain": [
              "<Figure size 720x576 with 1 Axes>"
            ]
          },
          "metadata": {
            "tags": []
          }
        }
      ]
    },
    {
      "cell_type": "code",
      "metadata": {
        "id": "2kbGuw9m_F3P",
        "colab_type": "code",
        "outputId": "1ac2f2ff-6315-47f7-8594-192ee87f5eaf",
        "colab": {
          "base_uri": "https://localhost:8080/",
          "height": 1000
        }
      },
      "source": [
        "if os.path.isfile('train_no_dup.db'):\n",
        "    start = datetime.now()\n",
        "    con = sqlite3.connect('train_no_dub.db')\n",
        "    clean_data = pd.read_sql_query(\"\"\"SELECT * FROM no_dub_train\"\"\",con)\n",
        "    con.close()\n",
        "    #drop unwanted column.\n",
        "    clean_data.drop(clean_data.index[0], inplace=True)\n",
        "    clean_data.head()\n",
        "    print(\"Time taken to run this cell :\",datetime.now()-start)\n",
        "else:\n",
        "    print(\"Run the above cells to generate train_no_dup.db file\")\n",
        "data.drop(['imdb_id'],axis=1)"
      ],
      "execution_count": 0,
      "outputs": [
        {
          "output_type": "stream",
          "text": [
            "Run the above cells to generate train_no_dup.db file\n"
          ],
          "name": "stdout"
        },
        {
          "output_type": "execute_result",
          "data": {
            "text/html": [
              "<div>\n",
              "<style scoped>\n",
              "    .dataframe tbody tr th:only-of-type {\n",
              "        vertical-align: middle;\n",
              "    }\n",
              "\n",
              "    .dataframe tbody tr th {\n",
              "        vertical-align: top;\n",
              "    }\n",
              "\n",
              "    .dataframe thead th {\n",
              "        text-align: right;\n",
              "    }\n",
              "</style>\n",
              "<table border=\"1\" class=\"dataframe\">\n",
              "  <thead>\n",
              "    <tr style=\"text-align: right;\">\n",
              "      <th></th>\n",
              "      <th>title</th>\n",
              "      <th>plot_synopsis</th>\n",
              "      <th>tags</th>\n",
              "      <th>split</th>\n",
              "      <th>synopsis_source</th>\n",
              "    </tr>\n",
              "  </thead>\n",
              "  <tbody>\n",
              "    <tr>\n",
              "      <th>0</th>\n",
              "      <td>I tre volti della paura</td>\n",
              "      <td>Note: this synopsis is for the orginal Italian...</td>\n",
              "      <td>cult, horror, gothic, murder, atmospheric</td>\n",
              "      <td>train</td>\n",
              "      <td>imdb</td>\n",
              "    </tr>\n",
              "    <tr>\n",
              "      <th>1</th>\n",
              "      <td>Dungeons &amp; Dragons: The Book of Vile Darkness</td>\n",
              "      <td>Two thousand years ago, Nhagruul the Foul, a s...</td>\n",
              "      <td>violence</td>\n",
              "      <td>train</td>\n",
              "      <td>imdb</td>\n",
              "    </tr>\n",
              "    <tr>\n",
              "      <th>2</th>\n",
              "      <td>The Shop Around the Corner</td>\n",
              "      <td>Matuschek's, a gift store in Budapest, is the ...</td>\n",
              "      <td>romantic</td>\n",
              "      <td>test</td>\n",
              "      <td>imdb</td>\n",
              "    </tr>\n",
              "    <tr>\n",
              "      <th>3</th>\n",
              "      <td>Mr. Holland's Opus</td>\n",
              "      <td>Glenn Holland, not a morning person by anyone'...</td>\n",
              "      <td>inspiring, romantic, stupid, feel-good</td>\n",
              "      <td>train</td>\n",
              "      <td>imdb</td>\n",
              "    </tr>\n",
              "    <tr>\n",
              "      <th>4</th>\n",
              "      <td>Scarface</td>\n",
              "      <td>In May 1980, a Cuban man named Tony Montana (A...</td>\n",
              "      <td>cruelty, murder, dramatic, cult, violence, atm...</td>\n",
              "      <td>val</td>\n",
              "      <td>imdb</td>\n",
              "    </tr>\n",
              "    <tr>\n",
              "      <th>5</th>\n",
              "      <td>A Single Man</td>\n",
              "      <td>George Falconer (Colin Firth) approaches a car...</td>\n",
              "      <td>romantic, queer, flashback</td>\n",
              "      <td>val</td>\n",
              "      <td>imdb</td>\n",
              "    </tr>\n",
              "    <tr>\n",
              "      <th>6</th>\n",
              "      <td>Baise-moi</td>\n",
              "      <td>Baise-moi tells the story of Nadine and Manu w...</td>\n",
              "      <td>gothic, cruelty, violence, cult, revenge, sadist</td>\n",
              "      <td>train</td>\n",
              "      <td>wikipedia</td>\n",
              "    </tr>\n",
              "    <tr>\n",
              "      <th>7</th>\n",
              "      <td>Flightplan</td>\n",
              "      <td>Kyle Pratt (Jodie Foster) is a propulsion engi...</td>\n",
              "      <td>mystery, suspenseful, action, murder, flashback</td>\n",
              "      <td>train</td>\n",
              "      <td>imdb</td>\n",
              "    </tr>\n",
              "    <tr>\n",
              "      <th>8</th>\n",
              "      <td>Little Caesar</td>\n",
              "      <td>Small-time Italian-American criminals Caesar E...</td>\n",
              "      <td>violence</td>\n",
              "      <td>train</td>\n",
              "      <td>imdb</td>\n",
              "    </tr>\n",
              "    <tr>\n",
              "      <th>9</th>\n",
              "      <td>Savages</td>\n",
              "      <td>The movie begins with a video being shot of me...</td>\n",
              "      <td>revenge, neo noir, murder, violence, flashback</td>\n",
              "      <td>train</td>\n",
              "      <td>imdb</td>\n",
              "    </tr>\n",
              "    <tr>\n",
              "      <th>10</th>\n",
              "      <td>Mitt liv som hund</td>\n",
              "      <td>The action takes place in the years 1958-1959 ...</td>\n",
              "      <td>cult, prank</td>\n",
              "      <td>train</td>\n",
              "      <td>wikipedia</td>\n",
              "    </tr>\n",
              "    <tr>\n",
              "      <th>11</th>\n",
              "      <td>The Brood</td>\n",
              "      <td>At the Somafree Institute, Dr. Hal Raglan humi...</td>\n",
              "      <td>cult, psychedelic, murder, violence</td>\n",
              "      <td>train</td>\n",
              "      <td>imdb</td>\n",
              "    </tr>\n",
              "    <tr>\n",
              "      <th>12</th>\n",
              "      <td>Cassandra's Dream</td>\n",
              "      <td>Brothers Terry (Colin Farrell) and Ian (Ewan M...</td>\n",
              "      <td>tragedy, dramatic, murder</td>\n",
              "      <td>train</td>\n",
              "      <td>wikipedia</td>\n",
              "    </tr>\n",
              "    <tr>\n",
              "      <th>13</th>\n",
              "      <td>The Last Emperor</td>\n",
              "      <td>Arrival.\\nA train pulls into a station in Nort...</td>\n",
              "      <td>murder</td>\n",
              "      <td>train</td>\n",
              "      <td>imdb</td>\n",
              "    </tr>\n",
              "    <tr>\n",
              "      <th>14</th>\n",
              "      <td>My Life So Far</td>\n",
              "      <td>The film tells the story of how the Pettigrew ...</td>\n",
              "      <td>flashback, autobiographical, home movie</td>\n",
              "      <td>train</td>\n",
              "      <td>wikipedia</td>\n",
              "    </tr>\n",
              "    <tr>\n",
              "      <th>15</th>\n",
              "      <td>Call of Duty: Modern Warfare 3</td>\n",
              "      <td>Hours after the end of the previous game and t...</td>\n",
              "      <td>good versus evil</td>\n",
              "      <td>test</td>\n",
              "      <td>imdb</td>\n",
              "    </tr>\n",
              "    <tr>\n",
              "      <th>16</th>\n",
              "      <td>Fish Tank</td>\n",
              "      <td>We open with Mia (Katie Jarvis), a 15 year old...</td>\n",
              "      <td>suspenseful, depressing, realism</td>\n",
              "      <td>train</td>\n",
              "      <td>imdb</td>\n",
              "    </tr>\n",
              "    <tr>\n",
              "      <th>17</th>\n",
              "      <td>The New World</td>\n",
              "      <td>Over a shot of trees reflected in water, a gir...</td>\n",
              "      <td>boring, murder, cult, violence, atmospheric, h...</td>\n",
              "      <td>train</td>\n",
              "      <td>imdb</td>\n",
              "    </tr>\n",
              "    <tr>\n",
              "      <th>18</th>\n",
              "      <td>Jackie</td>\n",
              "      <td>The film begins with a close-up of Jackie Kenn...</td>\n",
              "      <td>flashback</td>\n",
              "      <td>val</td>\n",
              "      <td>imdb</td>\n",
              "    </tr>\n",
              "    <tr>\n",
              "      <th>19</th>\n",
              "      <td>The Haunted</td>\n",
              "      <td>This creepy and scary story centers around The...</td>\n",
              "      <td>paranormal, horror, haunting</td>\n",
              "      <td>test</td>\n",
              "      <td>imdb</td>\n",
              "    </tr>\n",
              "    <tr>\n",
              "      <th>20</th>\n",
              "      <td>Assault on Precinct 13</td>\n",
              "      <td>On New Years Eve, Detroit's oldest police stat...</td>\n",
              "      <td>suspenseful, neo noir, murder, violence, actio...</td>\n",
              "      <td>val</td>\n",
              "      <td>imdb</td>\n",
              "    </tr>\n",
              "    <tr>\n",
              "      <th>21</th>\n",
              "      <td>The Best Years of Our Lives</td>\n",
              "      <td>After World War II, Fred Derry (Dana Andrews),...</td>\n",
              "      <td>romantic, historical, storytelling</td>\n",
              "      <td>train</td>\n",
              "      <td>wikipedia</td>\n",
              "    </tr>\n",
              "    <tr>\n",
              "      <th>22</th>\n",
              "      <td>House Arrest</td>\n",
              "      <td>The film is told through the perspective of Gr...</td>\n",
              "      <td>romantic, home movie</td>\n",
              "      <td>train</td>\n",
              "      <td>wikipedia</td>\n",
              "    </tr>\n",
              "    <tr>\n",
              "      <th>23</th>\n",
              "      <td>Bitter Moon</td>\n",
              "      <td>Nigel Dobson (Hugh Grant) and his wife Fiona (...</td>\n",
              "      <td>comedy, cruelty, murder, sadist, flashback, re...</td>\n",
              "      <td>train</td>\n",
              "      <td>imdb</td>\n",
              "    </tr>\n",
              "    <tr>\n",
              "      <th>24</th>\n",
              "      <td>The Frozen Ground</td>\n",
              "      <td>The film opens in an Anchorage motel room in 1...</td>\n",
              "      <td>dramatic, murder</td>\n",
              "      <td>test</td>\n",
              "      <td>wikipedia</td>\n",
              "    </tr>\n",
              "    <tr>\n",
              "      <th>25</th>\n",
              "      <td>The Forbidden Kingdom</td>\n",
              "      <td>South Boston teenager Jason Tripitikas is a fa...</td>\n",
              "      <td>fantasy, murder, violence, flashback, philosop...</td>\n",
              "      <td>train</td>\n",
              "      <td>wikipedia</td>\n",
              "    </tr>\n",
              "    <tr>\n",
              "      <th>26</th>\n",
              "      <td>The Help</td>\n",
              "      <td>In civil-rights era Jackson, Mississippi, 23-y...</td>\n",
              "      <td>historical, feel-good</td>\n",
              "      <td>val</td>\n",
              "      <td>imdb</td>\n",
              "    </tr>\n",
              "    <tr>\n",
              "      <th>27</th>\n",
              "      <td>No Strings Attached</td>\n",
              "      <td>15 years agoWe see two young kids, named Emma ...</td>\n",
              "      <td>boring, adult comedy, cute, flashback, romanti...</td>\n",
              "      <td>test</td>\n",
              "      <td>imdb</td>\n",
              "    </tr>\n",
              "    <tr>\n",
              "      <th>28</th>\n",
              "      <td>Bean</td>\n",
              "      <td>Mr. Bean (Rowan Atkinson) is a well-meaning, b...</td>\n",
              "      <td>cult, comedy, entertaining</td>\n",
              "      <td>train</td>\n",
              "      <td>imdb</td>\n",
              "    </tr>\n",
              "    <tr>\n",
              "      <th>29</th>\n",
              "      <td>The Inbetweeners Movie</td>\n",
              "      <td>Four teenage misfits - Will, Simon, Jay and Ne...</td>\n",
              "      <td>bleak, comedy, humor, entertaining</td>\n",
              "      <td>train</td>\n",
              "      <td>imdb</td>\n",
              "    </tr>\n",
              "    <tr>\n",
              "      <th>...</th>\n",
              "      <td>...</td>\n",
              "      <td>...</td>\n",
              "      <td>...</td>\n",
              "      <td>...</td>\n",
              "      <td>...</td>\n",
              "    </tr>\n",
              "    <tr>\n",
              "      <th>14798</th>\n",
              "      <td>Desperate Hours</td>\n",
              "      <td>In Utah, Nancy Breyers (Kelly Lynch) is a defe...</td>\n",
              "      <td>violence, neo noir, murder</td>\n",
              "      <td>train</td>\n",
              "      <td>wikipedia</td>\n",
              "    </tr>\n",
              "    <tr>\n",
              "      <th>14799</th>\n",
              "      <td>Blood and Bone</td>\n",
              "      <td>Fresh out of prison, Isaiah Bone moves to Los ...</td>\n",
              "      <td>revenge, violence</td>\n",
              "      <td>train</td>\n",
              "      <td>wikipedia</td>\n",
              "    </tr>\n",
              "    <tr>\n",
              "      <th>14800</th>\n",
              "      <td>The Legend of Bhagat Singh</td>\n",
              "      <td>Bhagat Singh was born in British India in 1907...</td>\n",
              "      <td>avant garde</td>\n",
              "      <td>train</td>\n",
              "      <td>wikipedia</td>\n",
              "    </tr>\n",
              "    <tr>\n",
              "      <th>14801</th>\n",
              "      <td>Ruang talok 69</td>\n",
              "      <td>Tum is a secretary working for a bank when the...</td>\n",
              "      <td>violence, murder</td>\n",
              "      <td>test</td>\n",
              "      <td>wikipedia</td>\n",
              "    </tr>\n",
              "    <tr>\n",
              "      <th>14802</th>\n",
              "      <td>Robot Stories</td>\n",
              "      <td>The film is divided up to four short stories:\\...</td>\n",
              "      <td>satire, flashback</td>\n",
              "      <td>train</td>\n",
              "      <td>wikipedia</td>\n",
              "    </tr>\n",
              "    <tr>\n",
              "      <th>14803</th>\n",
              "      <td>My Man Godfrey</td>\n",
              "      <td>During the Great Depression, Godfrey \"Smith\" P...</td>\n",
              "      <td>romantic, comedy, satire, depressing</td>\n",
              "      <td>train</td>\n",
              "      <td>wikipedia</td>\n",
              "    </tr>\n",
              "    <tr>\n",
              "      <th>14804</th>\n",
              "      <td>The Bridge at Remagen</td>\n",
              "      <td>The film opens with the U.S. Army failing to c...</td>\n",
              "      <td>murder</td>\n",
              "      <td>train</td>\n",
              "      <td>wikipedia</td>\n",
              "    </tr>\n",
              "    <tr>\n",
              "      <th>14805</th>\n",
              "      <td>The Mummy</td>\n",
              "      <td>In 1921, an archaeological expedition led by S...</td>\n",
              "      <td>revenge</td>\n",
              "      <td>train</td>\n",
              "      <td>wikipedia</td>\n",
              "    </tr>\n",
              "    <tr>\n",
              "      <th>14806</th>\n",
              "      <td>Die Geschichte vom kleinen Muck</td>\n",
              "      <td>An old artisan in a Middle Eastern town finds ...</td>\n",
              "      <td>psychedelic, fantasy</td>\n",
              "      <td>test</td>\n",
              "      <td>wikipedia</td>\n",
              "    </tr>\n",
              "    <tr>\n",
              "      <th>14807</th>\n",
              "      <td>The Last Wagon</td>\n",
              "      <td>Sheriff Bull Harper (George Mathews) is taking...</td>\n",
              "      <td>revenge, murder</td>\n",
              "      <td>train</td>\n",
              "      <td>wikipedia</td>\n",
              "    </tr>\n",
              "    <tr>\n",
              "      <th>14808</th>\n",
              "      <td>The Gazebo</td>\n",
              "      <td>Television writer and director Elliott Nash (G...</td>\n",
              "      <td>suspenseful, murder</td>\n",
              "      <td>test</td>\n",
              "      <td>wikipedia</td>\n",
              "    </tr>\n",
              "    <tr>\n",
              "      <th>14809</th>\n",
              "      <td>The Curse of the Jade Scorpion</td>\n",
              "      <td>In 1940, C.W. Briggs (Woody Allen) is an insur...</td>\n",
              "      <td>comedy</td>\n",
              "      <td>train</td>\n",
              "      <td>wikipedia</td>\n",
              "    </tr>\n",
              "    <tr>\n",
              "      <th>14810</th>\n",
              "      <td>Before Midnight</td>\n",
              "      <td>Nine years have passed since Before Sunset. Je...</td>\n",
              "      <td>boring, romantic, fantasy, philosophical, stor...</td>\n",
              "      <td>train</td>\n",
              "      <td>wikipedia</td>\n",
              "    </tr>\n",
              "    <tr>\n",
              "      <th>14811</th>\n",
              "      <td>The Lost Squadron</td>\n",
              "      <td>Captain \"Gibby\" Gibson (Richard Dix) and his c...</td>\n",
              "      <td>romantic, murder</td>\n",
              "      <td>train</td>\n",
              "      <td>wikipedia</td>\n",
              "    </tr>\n",
              "    <tr>\n",
              "      <th>14812</th>\n",
              "      <td>Blood-C</td>\n",
              "      <td>Blood-C is set in an isolated rural town on th...</td>\n",
              "      <td>violence, alternate reality, flashback</td>\n",
              "      <td>val</td>\n",
              "      <td>wikipedia</td>\n",
              "    </tr>\n",
              "    <tr>\n",
              "      <th>14813</th>\n",
              "      <td>Petey Wheatstraw</td>\n",
              "      <td>Petey Wheatstraw (Rudy Ray Moore) is born duri...</td>\n",
              "      <td>paranormal, murder, blaxploitation</td>\n",
              "      <td>train</td>\n",
              "      <td>wikipedia</td>\n",
              "    </tr>\n",
              "    <tr>\n",
              "      <th>14814</th>\n",
              "      <td>The Autopsy of Jane Doe</td>\n",
              "      <td>An unidentified corpse of a woman is found hal...</td>\n",
              "      <td>dark, cruelty, murder, paranormal, violence, s...</td>\n",
              "      <td>test</td>\n",
              "      <td>wikipedia</td>\n",
              "    </tr>\n",
              "    <tr>\n",
              "      <th>14815</th>\n",
              "      <td>El conde de Montecristo</td>\n",
              "      <td>=== Summary ===\\nOn the day of his wedding to ...</td>\n",
              "      <td>revenge</td>\n",
              "      <td>train</td>\n",
              "      <td>wikipedia</td>\n",
              "    </tr>\n",
              "    <tr>\n",
              "      <th>14816</th>\n",
              "      <td>Thunderheart</td>\n",
              "      <td>During the early 1970s, FBI agent Ray Levoi is...</td>\n",
              "      <td>suspenseful, murder, flashback</td>\n",
              "      <td>test</td>\n",
              "      <td>wikipedia</td>\n",
              "    </tr>\n",
              "    <tr>\n",
              "      <th>14817</th>\n",
              "      <td>Yellow Dust</td>\n",
              "      <td>The film opens in the hills of California. Bob...</td>\n",
              "      <td>violence, romantic, historical fiction</td>\n",
              "      <td>train</td>\n",
              "      <td>wikipedia</td>\n",
              "    </tr>\n",
              "    <tr>\n",
              "      <th>14818</th>\n",
              "      <td>The Prisoner of Zenda</td>\n",
              "      <td>On his deathbed, the king of Ruritania announc...</td>\n",
              "      <td>action</td>\n",
              "      <td>train</td>\n",
              "      <td>wikipedia</td>\n",
              "    </tr>\n",
              "    <tr>\n",
              "      <th>14819</th>\n",
              "      <td>The East</td>\n",
              "      <td>Jane, an operative for the private intelligenc...</td>\n",
              "      <td>suspenseful, neo noir, violence, tragedy, reve...</td>\n",
              "      <td>test</td>\n",
              "      <td>wikipedia</td>\n",
              "    </tr>\n",
              "    <tr>\n",
              "      <th>14820</th>\n",
              "      <td>Hot Potato</td>\n",
              "      <td>Hot Potato begins in Chang Lan, a fictional co...</td>\n",
              "      <td>blaxploitation</td>\n",
              "      <td>train</td>\n",
              "      <td>wikipedia</td>\n",
              "    </tr>\n",
              "    <tr>\n",
              "      <th>14821</th>\n",
              "      <td>One Night of Love</td>\n",
              "      <td>Opera singer Mary Barrett (Grace Moore) leaves...</td>\n",
              "      <td>romantic</td>\n",
              "      <td>val</td>\n",
              "      <td>wikipedia</td>\n",
              "    </tr>\n",
              "    <tr>\n",
              "      <th>14822</th>\n",
              "      <td>One False Move</td>\n",
              "      <td>Three criminals, Ray, Pluto and Fantasia (Ray'...</td>\n",
              "      <td>neo noir, realism, murder, violence, atmospher...</td>\n",
              "      <td>train</td>\n",
              "      <td>wikipedia</td>\n",
              "    </tr>\n",
              "    <tr>\n",
              "      <th>14823</th>\n",
              "      <td>Lucky Numbers</td>\n",
              "      <td>In 1988 Russ Richards (John Travolta), the wea...</td>\n",
              "      <td>comedy, murder</td>\n",
              "      <td>test</td>\n",
              "      <td>wikipedia</td>\n",
              "    </tr>\n",
              "    <tr>\n",
              "      <th>14824</th>\n",
              "      <td>Iron Man 2</td>\n",
              "      <td>In Russia, the media covers Tony Stark's discl...</td>\n",
              "      <td>good versus evil, violence</td>\n",
              "      <td>train</td>\n",
              "      <td>wikipedia</td>\n",
              "    </tr>\n",
              "    <tr>\n",
              "      <th>14825</th>\n",
              "      <td>Play Dirty</td>\n",
              "      <td>During the North African Campaign in World War...</td>\n",
              "      <td>anti war</td>\n",
              "      <td>train</td>\n",
              "      <td>wikipedia</td>\n",
              "    </tr>\n",
              "    <tr>\n",
              "      <th>14826</th>\n",
              "      <td>High Wall</td>\n",
              "      <td>Steven Kenet catches his unfaithful wife in th...</td>\n",
              "      <td>murder</td>\n",
              "      <td>test</td>\n",
              "      <td>wikipedia</td>\n",
              "    </tr>\n",
              "    <tr>\n",
              "      <th>14827</th>\n",
              "      <td>Against All Hope</td>\n",
              "      <td>Sometime in the 1950s in Chicago a man, Cecil ...</td>\n",
              "      <td>christian film</td>\n",
              "      <td>test</td>\n",
              "      <td>wikipedia</td>\n",
              "    </tr>\n",
              "  </tbody>\n",
              "</table>\n",
              "<p>14828 rows × 5 columns</p>\n",
              "</div>"
            ],
            "text/plain": [
              "                                               title  ... synopsis_source\n",
              "0                            I tre volti della paura  ...            imdb\n",
              "1      Dungeons & Dragons: The Book of Vile Darkness  ...            imdb\n",
              "2                         The Shop Around the Corner  ...            imdb\n",
              "3                                 Mr. Holland's Opus  ...            imdb\n",
              "4                                           Scarface  ...            imdb\n",
              "5                                       A Single Man  ...            imdb\n",
              "6                                          Baise-moi  ...       wikipedia\n",
              "7                                         Flightplan  ...            imdb\n",
              "8                                      Little Caesar  ...            imdb\n",
              "9                                            Savages  ...            imdb\n",
              "10                                 Mitt liv som hund  ...       wikipedia\n",
              "11                                         The Brood  ...            imdb\n",
              "12                                 Cassandra's Dream  ...       wikipedia\n",
              "13                                  The Last Emperor  ...            imdb\n",
              "14                                    My Life So Far  ...       wikipedia\n",
              "15                    Call of Duty: Modern Warfare 3  ...            imdb\n",
              "16                                         Fish Tank  ...            imdb\n",
              "17                                     The New World  ...            imdb\n",
              "18                                            Jackie  ...            imdb\n",
              "19                                       The Haunted  ...            imdb\n",
              "20                            Assault on Precinct 13  ...            imdb\n",
              "21                       The Best Years of Our Lives  ...       wikipedia\n",
              "22                                      House Arrest  ...       wikipedia\n",
              "23                                       Bitter Moon  ...            imdb\n",
              "24                                 The Frozen Ground  ...       wikipedia\n",
              "25                             The Forbidden Kingdom  ...       wikipedia\n",
              "26                                          The Help  ...            imdb\n",
              "27                               No Strings Attached  ...            imdb\n",
              "28                                              Bean  ...            imdb\n",
              "29                            The Inbetweeners Movie  ...            imdb\n",
              "...                                              ...  ...             ...\n",
              "14798                                Desperate Hours  ...       wikipedia\n",
              "14799                                 Blood and Bone  ...       wikipedia\n",
              "14800                     The Legend of Bhagat Singh  ...       wikipedia\n",
              "14801                                 Ruang talok 69  ...       wikipedia\n",
              "14802                                  Robot Stories  ...       wikipedia\n",
              "14803                                 My Man Godfrey  ...       wikipedia\n",
              "14804                          The Bridge at Remagen  ...       wikipedia\n",
              "14805                                      The Mummy  ...       wikipedia\n",
              "14806                Die Geschichte vom kleinen Muck  ...       wikipedia\n",
              "14807                                 The Last Wagon  ...       wikipedia\n",
              "14808                                     The Gazebo  ...       wikipedia\n",
              "14809                 The Curse of the Jade Scorpion  ...       wikipedia\n",
              "14810                                Before Midnight  ...       wikipedia\n",
              "14811                              The Lost Squadron  ...       wikipedia\n",
              "14812                                        Blood-C  ...       wikipedia\n",
              "14813                               Petey Wheatstraw  ...       wikipedia\n",
              "14814                        The Autopsy of Jane Doe  ...       wikipedia\n",
              "14815                        El conde de Montecristo  ...       wikipedia\n",
              "14816                                   Thunderheart  ...       wikipedia\n",
              "14817                                    Yellow Dust  ...       wikipedia\n",
              "14818                          The Prisoner of Zenda  ...       wikipedia\n",
              "14819                                       The East  ...       wikipedia\n",
              "14820                                     Hot Potato  ...       wikipedia\n",
              "14821                              One Night of Love  ...       wikipedia\n",
              "14822                                 One False Move  ...       wikipedia\n",
              "14823                                  Lucky Numbers  ...       wikipedia\n",
              "14824                                     Iron Man 2  ...       wikipedia\n",
              "14825                                     Play Dirty  ...       wikipedia\n",
              "14826                                      High Wall  ...       wikipedia\n",
              "14827                               Against All Hope  ...       wikipedia\n",
              "\n",
              "[14828 rows x 5 columns]"
            ]
          },
          "metadata": {
            "tags": []
          },
          "execution_count": 17
        }
      ]
    },
    {
      "cell_type": "code",
      "metadata": {
        "id": "JD51Eddo_F3Q",
        "colab_type": "code",
        "outputId": "cfd60dd2-d2a5-40d8-8f5a-a84478215fa3",
        "colab": {
          "base_uri": "https://localhost:8080/",
          "height": 34
        }
      },
      "source": [
        "# 除去前面画图部分，本项目的数据从这里开始处理\n",
        "\n",
        "import re\n",
        "# 文本tokenize\n",
        "def decontracted(phrase):\n",
        "    # specific\n",
        "    phrase = re.sub(r\"won\\'t\", \"will not\", phrase)\n",
        "    phrase = re.sub(r\"can\\'t\", \"can not\", phrase)\n",
        "\n",
        "    # general\n",
        "    phrase = re.sub(r\"n\\'t\", \" not\", phrase)\n",
        "    phrase = re.sub(r\"\\'re\", \" are\", phrase)\n",
        "    phrase = re.sub(r\"\\'s\", \" is\", phrase)\n",
        "    phrase = re.sub(r\"\\'d\", \" would\", phrase)\n",
        "    phrase = re.sub(r\"\\'ll\", \" will\", phrase)\n",
        "    phrase = re.sub(r\"\\'t\", \" not\", phrase)\n",
        "    phrase = re.sub(r\"\\'ve\", \" have\", phrase)\n",
        "    phrase = re.sub(r\"\\'m\", \" am\", phrase)\n",
        "    return phrase\n",
        "\n",
        "stopwords= set([\"i\", \"me\", \"my\", \"myself\", \"we\", \"our\", \"ours\", \"ourselves\", \"you\", \"your\", \"yours\", \"yourself\", \"yourselves\", \"he\", \"him\", \"his\", \"himself\", \"she\", \"her\", \"hers\", \"herself\", \"it\", \"its\", \"itself\", \"they\", \"them\", \"their\", \"theirs\", \"themselves\", \"what\", \"which\", \"who\", \"whom\", \"this\", \"that\", \"these\", \"those\", \"am\", \"is\", \"are\", \"was\", \"were\", \"be\", \"been\", \"being\", \"have\", \"has\", \"had\", \"having\", \"do\", \"does\", \"did\", \"doing\", \"a\", \"an\", \"the\", \"and\", \"but\", \"if\", \"or\", \"because\", \"as\", \"until\", \"while\", \"of\", \"at\", \"by\", \"for\", \"with\", \"about\", \"against\", \"between\", \"into\", \"through\", \"during\", \"before\", \"after\", \"above\", \"below\", \"to\", \"from\", \"up\", \"down\", \"in\", \"out\", \"on\", \"off\", \"over\", \"under\", \"again\", \"further\", \"then\", \"once\", \"here\", \"there\", \"when\", \"where\", \"why\", \"how\", \"all\", \"any\", \"both\", \"each\", \"few\", \"more\", \"most\", \"other\", \"some\", \"such\", \"no\", \"nor\", \"not\", \"only\", \"own\", \"same\", \"so\", \"than\", \"too\", \"very\", \"s\", \"t\", \"can\", \"will\", \"just\", \"don\", \"should\", \"now\"])\n",
        "from bs4 import BeautifulSoup\n",
        "from tqdm import tqdm #printing the status bar\n",
        "preprocessed_reviews = []\n",
        "for sentance in tqdm(CorpusData['plot_synopsis'].values):\n",
        "    sentance = re.sub(r\"http\\S+\",\"\",sentance) # 删去http网址\n",
        "    sentance = BeautifulSoup(sentance,'lxml').get_text() # 转换格式\n",
        "    sentance = decontracted(sentance)\n",
        "    sentance = re.sub(\"\\S*\\d\\S*\",\"\",sentance).strip()\n",
        "    sentance = re.sub('[^A-Za-z]+',' ',sentance) # 正则表达式！删去非字母符号\n",
        "    sentance = ' '.join(e.lower() for e in sentance.split() if e.lower() not in stopwords)\n",
        "    preprocessed_reviews.append(sentance.strip())\n",
        "\n",
        "CorpusData['preprocess_data'] = preprocessed_reviews"
      ],
      "execution_count": 0,
      "outputs": [
        {
          "output_type": "stream",
          "text": [
            "100%|██████████| 13715/13715 [00:20<00:00, 673.54it/s]\n"
          ],
          "name": "stderr"
        }
      ]
    },
    {
      "cell_type": "code",
      "metadata": {
        "id": "zZi0eAAh_F3S",
        "colab_type": "code",
        "outputId": "f8951add-00c2-45c0-ffb8-60129cee5270",
        "colab": {
          "base_uri": "https://localhost:8080/",
          "height": 1000
        }
      },
      "source": [
        "print(type(CorpusData))\n",
        "FinalData = CorpusData.reset_index()\n",
        "FinalData = FinalData.drop('index', 1)\n",
        "print(CorpusData)\n",
        "print(FinalData)\n",
        "# 修改数据的索引，变成连续自然数"
      ],
      "execution_count": 0,
      "outputs": [
        {
          "output_type": "stream",
          "text": [
            "<class 'pandas.core.frame.DataFrame'>\n",
            "                                                    tags  ...                                    preprocess_data\n",
            "0                                         [cult, murder]  ...  note synopsis orginal italian release segments...\n",
            "1                                             [violence]  ...  two thousand years ago nhagruul foul sorcerer ...\n",
            "2                                             [romantic]  ...  matuschek gift store budapest workplace alfred...\n",
            "3                                             [romantic]  ...  glenn holland morning person anyone standards ...\n",
            "4      [murder, cult, violence, action, romantic, rev...  ...  may cuban man named tony montana al pacino cla...\n",
            "5                                  [romantic, flashback]  ...  george falconer colin firth approaches car acc...\n",
            "6                      [violence, cult, revenge, sadist]  ...  baise moi tells story nadine manu go violent s...\n",
            "7      [mystery, suspenseful, action, murder, flashback]  ...  kyle pratt jodie foster propulsion engineer ba...\n",
            "8                                             [violence]  ...  small time italian american criminals caesar e...\n",
            "9        [revenge, neonoir, murder, violence, flashback]  ...  movie begins video shot men hands tied behind ...\n",
            "10                                                [cult]  ...  action takes place years sweden troubled year ...\n",
            "11                 [cult, psychedelic, murder, violence]  ...  somafree institute dr hal raglan humiliates pa...\n",
            "12                                     [tragedy, murder]  ...  brothers terry colin farrell ian ewan mcgregor...\n",
            "13                                              [murder]  ...  arrival train pulls station north china soldie...\n",
            "14                                           [flashback]  ...  film tells story pettigrew family living famil...\n",
            "15                                      [goodversusevil]  ...  hours end previous game death traitorous gener...\n",
            "16                                         [suspenseful]  ...  open mia katie jarvis year old youngster hunch...\n",
            "17            [boring, murder, cult, violence, romantic]  ...  shot trees reflected water girl pocahontas inv...\n",
            "18                                           [flashback]  ...  film begins close jackie kennedy natalie portm...\n",
            "19                                          [paranormal]  ...  creepy scary story centers around smurl family...\n",
            "20     [suspenseful, neonoir, murder, violence, actio...  ...  new years eve detroit oldest police station pr...\n",
            "21                                            [romantic]  ...  world war ii fred derry dana andrews homer par...\n",
            "22                                            [romantic]  ...  film told perspective grover tj literary devic...\n",
            "23          [comedy, murder, sadist, flashback, revenge]  ...  nigel dobson hugh grant wife fiona kristn scot...\n",
            "24                                              [murder]  ...  film opens anchorage motel room cindy paulson ...\n",
            "25       [fantasy, murder, violence, flashback, revenge]  ...  south boston teenager jason tripitikas fan mar...\n",
            "27           [boring, flashback, romantic, entertaining]  ...  years agowe see two young kids named emma adam...\n",
            "28                          [cult, comedy, entertaining]  ...  mr bean rowan atkinson well meaning hopelessly...\n",
            "29                         [comedy, humor, entertaining]  ...  four teenage misfits simon jay neil finished l...\n",
            "30                                              [murder]  ...  contains spoilersin england officials drag lak...\n",
            "...                                                  ...  ...                                                ...\n",
            "14794                                           [murder]  ...  retired gunslinger former confederate soldier ...\n",
            "14795                                          [revenge]  ...  set london film focuses highly successful extr...\n",
            "14796                                [murder, flashback]  ...  two police detectives lyon single childless in...\n",
            "14797                         [goodversusevil, violence]  ...  dragon ball z picks five years end dragon ball...\n",
            "14798                        [violence, neonoir, murder]  ...  utah nancy breyers kelly lynch defense lawyer ...\n",
            "14799                                [revenge, violence]  ...  fresh prison isaiah bone moves los angeles und...\n",
            "14801                                 [violence, murder]  ...  tum secretary working bank company forced shed...\n",
            "14802                                [satire, flashback]  ...  film divided four short stories robot baby you...\n",
            "14803                         [romantic, comedy, satire]  ...  great depression godfrey smith parke william p...\n",
            "14804                                           [murder]  ...  film opens u army failing capture still intact...\n",
            "14805                                          [revenge]  ...  archaeological expedition led sir joseph whemp...\n",
            "14806                             [psychedelic, fantasy]  ...  old artisan middle eastern town finds brunt ab...\n",
            "14807                                  [revenge, murder]  ...  sheriff bull harper george mathews taking coma...\n",
            "14808                              [suspenseful, murder]  ...  television writer director elliott nash glenn ...\n",
            "14809                                           [comedy]  ...  c w briggs woody allen insurance investigator ...\n",
            "14810                        [boring, romantic, fantasy]  ...  nine years passed since sunset jesse c line be...\n",
            "14811                                 [romantic, murder]  ...  captain gibby gibson richard dix close friend ...\n",
            "14812                              [violence, flashback]  ...  blood c set isolated rural town shore lake suw...\n",
            "14813                               [paranormal, murder]  ...  petey wheatstraw rudy ray moore born great mia...\n",
            "14814             [murder, paranormal, violence, sadist]  ...  unidentified corpse woman found half buried ba...\n",
            "14815                                          [revenge]  ...  summary day wedding merc d edmond dant first m...\n",
            "14816                   [suspenseful, murder, flashback]  ...  early fbi agent ray levoi assigned aid investi...\n",
            "14817                               [violence, romantic]  ...  film opens hills california bob culpepper coll...\n",
            "14818                                           [action]  ...  deathbed king ruritania announces two twin son...\n",
            "14819  [suspenseful, neonoir, violence, tragedy, reve...  ...  jane operative private intelligence firm hille...\n",
            "14821                                         [romantic]  ...  opera singer mary barrett grace moore leaves s...\n",
            "14822           [neonoir, murder, violence, suspenseful]  ...  three criminals ray pluto fantasia ray girlfri...\n",
            "14823                                   [comedy, murder]  ...  russ richards john travolta weatherman harrisb...\n",
            "14824                         [goodversusevil, violence]  ...  russia media covers tony stark disclosure iden...\n",
            "14826                                           [murder]  ...  steven kenet catches unfaithful wife apartment...\n",
            "\n",
            "[13715 rows x 4 columns]\n",
            "                                                    tags  ...                                    preprocess_data\n",
            "0                                         [cult, murder]  ...  note synopsis orginal italian release segments...\n",
            "1                                             [violence]  ...  two thousand years ago nhagruul foul sorcerer ...\n",
            "2                                             [romantic]  ...  matuschek gift store budapest workplace alfred...\n",
            "3                                             [romantic]  ...  glenn holland morning person anyone standards ...\n",
            "4      [murder, cult, violence, action, romantic, rev...  ...  may cuban man named tony montana al pacino cla...\n",
            "5                                  [romantic, flashback]  ...  george falconer colin firth approaches car acc...\n",
            "6                      [violence, cult, revenge, sadist]  ...  baise moi tells story nadine manu go violent s...\n",
            "7      [mystery, suspenseful, action, murder, flashback]  ...  kyle pratt jodie foster propulsion engineer ba...\n",
            "8                                             [violence]  ...  small time italian american criminals caesar e...\n",
            "9        [revenge, neonoir, murder, violence, flashback]  ...  movie begins video shot men hands tied behind ...\n",
            "10                                                [cult]  ...  action takes place years sweden troubled year ...\n",
            "11                 [cult, psychedelic, murder, violence]  ...  somafree institute dr hal raglan humiliates pa...\n",
            "12                                     [tragedy, murder]  ...  brothers terry colin farrell ian ewan mcgregor...\n",
            "13                                              [murder]  ...  arrival train pulls station north china soldie...\n",
            "14                                           [flashback]  ...  film tells story pettigrew family living famil...\n",
            "15                                      [goodversusevil]  ...  hours end previous game death traitorous gener...\n",
            "16                                         [suspenseful]  ...  open mia katie jarvis year old youngster hunch...\n",
            "17            [boring, murder, cult, violence, romantic]  ...  shot trees reflected water girl pocahontas inv...\n",
            "18                                           [flashback]  ...  film begins close jackie kennedy natalie portm...\n",
            "19                                          [paranormal]  ...  creepy scary story centers around smurl family...\n",
            "20     [suspenseful, neonoir, murder, violence, actio...  ...  new years eve detroit oldest police station pr...\n",
            "21                                            [romantic]  ...  world war ii fred derry dana andrews homer par...\n",
            "22                                            [romantic]  ...  film told perspective grover tj literary devic...\n",
            "23          [comedy, murder, sadist, flashback, revenge]  ...  nigel dobson hugh grant wife fiona kristn scot...\n",
            "24                                              [murder]  ...  film opens anchorage motel room cindy paulson ...\n",
            "25       [fantasy, murder, violence, flashback, revenge]  ...  south boston teenager jason tripitikas fan mar...\n",
            "26           [boring, flashback, romantic, entertaining]  ...  years agowe see two young kids named emma adam...\n",
            "27                          [cult, comedy, entertaining]  ...  mr bean rowan atkinson well meaning hopelessly...\n",
            "28                         [comedy, humor, entertaining]  ...  four teenage misfits simon jay neil finished l...\n",
            "29                                              [murder]  ...  contains spoilersin england officials drag lak...\n",
            "...                                                  ...  ...                                                ...\n",
            "13685                                           [murder]  ...  retired gunslinger former confederate soldier ...\n",
            "13686                                          [revenge]  ...  set london film focuses highly successful extr...\n",
            "13687                                [murder, flashback]  ...  two police detectives lyon single childless in...\n",
            "13688                         [goodversusevil, violence]  ...  dragon ball z picks five years end dragon ball...\n",
            "13689                        [violence, neonoir, murder]  ...  utah nancy breyers kelly lynch defense lawyer ...\n",
            "13690                                [revenge, violence]  ...  fresh prison isaiah bone moves los angeles und...\n",
            "13691                                 [violence, murder]  ...  tum secretary working bank company forced shed...\n",
            "13692                                [satire, flashback]  ...  film divided four short stories robot baby you...\n",
            "13693                         [romantic, comedy, satire]  ...  great depression godfrey smith parke william p...\n",
            "13694                                           [murder]  ...  film opens u army failing capture still intact...\n",
            "13695                                          [revenge]  ...  archaeological expedition led sir joseph whemp...\n",
            "13696                             [psychedelic, fantasy]  ...  old artisan middle eastern town finds brunt ab...\n",
            "13697                                  [revenge, murder]  ...  sheriff bull harper george mathews taking coma...\n",
            "13698                              [suspenseful, murder]  ...  television writer director elliott nash glenn ...\n",
            "13699                                           [comedy]  ...  c w briggs woody allen insurance investigator ...\n",
            "13700                        [boring, romantic, fantasy]  ...  nine years passed since sunset jesse c line be...\n",
            "13701                                 [romantic, murder]  ...  captain gibby gibson richard dix close friend ...\n",
            "13702                              [violence, flashback]  ...  blood c set isolated rural town shore lake suw...\n",
            "13703                               [paranormal, murder]  ...  petey wheatstraw rudy ray moore born great mia...\n",
            "13704             [murder, paranormal, violence, sadist]  ...  unidentified corpse woman found half buried ba...\n",
            "13705                                          [revenge]  ...  summary day wedding merc d edmond dant first m...\n",
            "13706                   [suspenseful, murder, flashback]  ...  early fbi agent ray levoi assigned aid investi...\n",
            "13707                               [violence, romantic]  ...  film opens hills california bob culpepper coll...\n",
            "13708                                           [action]  ...  deathbed king ruritania announces two twin son...\n",
            "13709  [suspenseful, neonoir, violence, tragedy, reve...  ...  jane operative private intelligence firm hille...\n",
            "13710                                         [romantic]  ...  opera singer mary barrett grace moore leaves s...\n",
            "13711           [neonoir, murder, violence, suspenseful]  ...  three criminals ray pluto fantasia ray girlfri...\n",
            "13712                                   [comedy, murder]  ...  russ richards john travolta weatherman harrisb...\n",
            "13713                         [goodversusevil, violence]  ...  russia media covers tony stark disclosure iden...\n",
            "13714                                           [murder]  ...  steven kenet catches unfaithful wife apartment...\n",
            "\n",
            "[13715 rows x 4 columns]\n"
          ],
          "name": "stdout"
        }
      ]
    },
    {
      "cell_type": "code",
      "metadata": {
        "id": "RMYzjwrr_F3T",
        "colab_type": "code",
        "outputId": "382722cc-3065-4c4c-d2a2-d4e94f4ebfeb",
        "colab": {
          "base_uri": "https://localhost:8080/",
          "height": 34
        }
      },
      "source": [
        "# 最终的数据格式(X, y)\n",
        "X = FinalData['preprocess_data']\n",
        "y = FinalData['tags']\n",
        "print(X.shape,y.shape)"
      ],
      "execution_count": 0,
      "outputs": [
        {
          "output_type": "stream",
          "text": [
            "(13715,) (13715,)\n"
          ],
          "name": "stdout"
        }
      ]
    },
    {
      "cell_type": "code",
      "metadata": {
        "id": "ysCDk6Uq_F3Z",
        "colab_type": "code",
        "outputId": "5560e4ba-47bc-4955-c275-6b13b602031f",
        "colab": {
          "base_uri": "https://localhost:8080/",
          "height": 187
        }
      },
      "source": [
        "# 加载GloVe向量集，定义词到向量的转换函数\n",
        "gloveEmbed = pd.read_csv(DATA_PATH + \"glove.6B.50d.txt\", sep=\" \", index_col=0, header=None, quoting=csv.QUOTE_NONE)\n",
        "# Define a functions to return word embedding as an array from token input.\n",
        "\n",
        "def GloveVec(w):\n",
        "  return gloveEmbed.loc[w].as_matrix()\n",
        "\n",
        "# Check if it works\n",
        "GloveVec('amazing')"
      ],
      "execution_count": 0,
      "outputs": [
        {
          "output_type": "execute_result",
          "data": {
            "text/plain": [
              "array([-0.013117 ,  0.42197  , -0.26317  ,  0.34218  ,  0.99922  ,\n",
              "       -0.21694  , -0.08976  , -0.19715  ,  0.32896  ,  0.95953  ,\n",
              "       -0.4646   ,  0.10258  , -0.53764  , -0.0594   ,  0.6885   ,\n",
              "       -0.72556  ,  0.57731  ,  0.39767  , -0.98963  , -0.48204  ,\n",
              "       -0.40209  ,  0.90999  ,  0.14151  , -0.64745  ,  1.5189   ,\n",
              "       -0.06979  , -1.6931   , -0.07218  ,  0.8199   , -0.59112  ,\n",
              "        1.8197   ,  0.62039  ,  0.4555   , -0.19383  , -0.12375  ,\n",
              "        0.44672  ,  0.0091402,  0.58273  , -0.27283  , -0.65483  ,\n",
              "       -0.19586  , -0.28047  , -0.52825  , -0.22604  , -0.066117 ,\n",
              "        0.2579   ,  0.50016  , -0.12294  , -0.2093   ,  0.66911  ])"
            ]
          },
          "metadata": {
            "tags": []
          },
          "execution_count": 58
        }
      ]
    },
    {
      "cell_type": "code",
      "metadata": {
        "id": "JRmFdckz_F3a",
        "colab_type": "code",
        "outputId": "6b975be5-09aa-408f-f5ac-b811afc1df9e",
        "colab": {
          "base_uri": "https://localhost:8080/",
          "height": 34
        }
      },
      "source": [
        "# 将文本向量化处理，需要较长时间，句长55，词向量50维的情况下需要转换1小时300分钟左右\n",
        "sentence_len = 55\n",
        "CorpusData_num = 13715\n",
        "# 如果用100维或者300维向量的话，50改成相应的维度\n",
        "xVar = np.zeros((CorpusData_num, sentence_len, 50))\n",
        "dataAdded = 0\n",
        "\n",
        "# Loop through data\n",
        "for i in tqdm(range(CorpusData_num)):\n",
        "    words = X[i].split()\n",
        "    sentenceID = 0\n",
        "    for tok in words:  \n",
        "        # The mean length of the sentence prior to removing some\n",
        "        # genres was just above 20. I will set it to 20 here because\n",
        "        # I do not want to pad too many sentences.\n",
        "        if sentenceID >= sentence_len:\n",
        "            break\n",
        "        # Remove stop words and tokens with 2 characters or less (pretty much also a stop word)\n",
        "        # if len(tok) < 2 or tok in stopList:\n",
        "            # continue\n",
        "        # 这句话由于之前已经tokenize所以省略掉！！ \n",
        "        else: \n",
        "            if tok in gloveEmbed.index:         \n",
        "                xVar[dataAdded,sentenceID,:] = GloveVec(tok)\n",
        "                sentenceID += 1\n",
        "    dataAdded += 1\n",
        "    #if dataAdded % 100 == 0:\n",
        "        #print(\"Parsed {} datapoints, \\t Time: {}\".format(dataAdded, datetime.now()))"
      ],
      "execution_count": 0,
      "outputs": [
        {
          "output_type": "stream",
          "text": [
            "100%|██████████| 13715/13715 [1:29:29<00:00,  2.51it/s]\n"
          ],
          "name": "stderr"
        }
      ]
    },
    {
      "cell_type": "code",
      "metadata": {
        "id": "scYQhbO8F68x",
        "colab_type": "code",
        "colab": {}
      },
      "source": [
        "# 由于转换过程较长，向量集保存在云盘中随用随取\n",
        "# 注意保存文件的名称，按照转换的维度命名\n",
        "with open(DATA_PATH+\"xPointsEmbedded_55words_22tags.pickle\", 'wb') as handle:\n",
        "    pickle.dump(xVar, handle, protocol=pickle.HIGHEST_PROTOCOL)\n",
        "with open(DATA_PATH+\"yPointsEmbedded_22tags.pickle\", 'wb') as handle:\n",
        "    pickle.dump(y, handle, protocol=pickle.HIGHEST_PROTOCOL)"
      ],
      "execution_count": 0,
      "outputs": []
    },
    {
      "cell_type": "code",
      "metadata": {
        "id": "FqgRQXTtG3fy",
        "colab_type": "code",
        "outputId": "7beaa02b-ef42-45b7-c92c-d9999a472298",
        "colab": {
          "base_uri": "https://localhost:8080/",
          "height": 51
        }
      },
      "source": [
        "# 之后的数据加载可从这里开始，在前面先链接谷歌云盘，然后直接跳到这一步\n",
        "DATA_PATH = '/content/drive/My Drive/'\n",
        "with open(DATA_PATH+\"xPointsEmbedded_55words_22tags.pickle\", 'rb') as handle:\n",
        "    xVar = pickle.load(handle)\n",
        "    \n",
        "with open(DATA_PATH+\"yPointsEmbedded_22tags.pickle\", 'rb') as handle:\n",
        "    y = pickle.load(handle)\n",
        "# 加载已经向量化的文本数据及其标签\n",
        "# 查看X, y的形状\n",
        "print(xVar.shape)\n",
        "print(y.shape)"
      ],
      "execution_count": 29,
      "outputs": [
        {
          "output_type": "stream",
          "text": [
            "(13715, 55, 50)\n",
            "(13715,)\n"
          ],
          "name": "stdout"
        }
      ]
    },
    {
      "cell_type": "code",
      "metadata": {
        "id": "04iX4lkW_F3b",
        "colab_type": "code",
        "outputId": "b05c4846-4364-46b6-829b-868e5091c181",
        "colab": {
          "base_uri": "https://localhost:8080/",
          "height": 34
        }
      },
      "source": [
        "# 加载pytorch，将y从标签格式转换为向量格式，并分割数据为train和test\n",
        "import torch\n",
        "from sklearn.model_selection import train_test_split\n",
        "from sklearn.preprocessing import MultiLabelBinarizer\n",
        "import torch.nn.functional as F\n",
        "\n",
        "y_list = list(y)\n",
        "multilabel_binarizer = MultiLabelBinarizer()\n",
        "# vectorizer = CountVectorizer(tokenizer = lambda x: x.split(','), binary = 'true', max_features = 15)\n",
        "#y_train_vect = vectorizer.fit_transform(y_train)\n",
        "#y_test_vect = vectorizer.fit_transform(y_test)\n",
        "multilabel_binarizer.fit(y_list)\n",
        "y_vec = multilabel_binarizer.transform(y_list)\n",
        "X_train, X_test, y_train, y_test = train_test_split(xVar, y_vec, test_size=0.2, random_state = 42)\n",
        "#print(type(y_test_vect)) # 行优先的稀疏矩阵数据类型!!\n",
        "# 测试一下标签处理结果：\n",
        "print(y_test[19])"
      ],
      "execution_count": 30,
      "outputs": [
        {
          "output_type": "stream",
          "text": [
            "[0 0 0 0 0 0 0 0 0 0 0 0 0 0 0 0 0 1 0 0 0 1]\n"
          ],
          "name": "stdout"
        }
      ]
    },
    {
      "cell_type": "code",
      "metadata": {
        "id": "4dPF8fKn_F3e",
        "colab_type": "code",
        "colab": {}
      },
      "source": [
        "# 超参设定\n",
        "input_size = 50\n",
        "hidden_size = 128\n",
        "hidden_size_extreme = 512\n",
        "hidden_size_large = 256\n",
        "hidden_size_small = 64\n",
        "num_classes = 22\n",
        "num_epochs = 100\n",
        "batch_size = 32\n",
        "learning_rate = 2e-4\n",
        "sentence_len = 55"
      ],
      "execution_count": 0,
      "outputs": []
    },
    {
      "cell_type": "code",
      "metadata": {
        "id": "PcfW7tXEw3Ks",
        "colab_type": "code",
        "outputId": "3981790b-fd93-4d99-b782-686436dd26f4",
        "colab": {
          "base_uri": "https://localhost:8080/",
          "height": 136
        }
      },
      "source": [
        "#aa = torch.randn(3,4)\n",
        "#print(aa)\n",
        "#aa[1, :2] = 1\n",
        "#print(aa[1, :2])\n",
        "#print(aa)"
      ],
      "execution_count": 0,
      "outputs": [
        {
          "output_type": "stream",
          "text": [
            "tensor([[ 1.2977, -0.5789, -0.3813, -1.4258],\n",
            "        [ 1.6694,  0.3926,  1.6059, -1.4089],\n",
            "        [-0.3390, -0.9777,  0.9659, -0.1867]])\n",
            "tensor([1., 1.])\n",
            "tensor([[ 1.2977, -0.5789, -0.3813, -1.4258],\n",
            "        [ 1.0000,  1.0000,  1.6059, -1.4089],\n",
            "        [-0.3390, -0.9777,  0.9659, -0.1867]])\n"
          ],
          "name": "stdout"
        }
      ]
    },
    {
      "cell_type": "code",
      "metadata": {
        "id": "5YrmpdWSM-dM",
        "colab_type": "code",
        "colab": {
          "base_uri": "https://localhost:8080/",
          "height": 34
        },
        "outputId": "5287d3b4-61fc-4bad-a79a-8cd00603c9a0"
      },
      "source": [
        "# 加载数据(x,y)到特定的batch中，并且转换为pytorch类型的tensor，定义多种计算准确率的方法\n",
        "from torch.utils.data import DataLoader\n",
        "from torch.utils.data import Dataset\n",
        "from sklearn.metrics import f1_score\n",
        "\n",
        "\n",
        "device = torch.device('cuda' if torch.cuda.is_available() else 'cpu')\n",
        "print('Current Device is:', device)\n",
        "class CustomDataset(Dataset):\n",
        "    def __init__(self, x_tensor, y_tensor):\n",
        "        self.x = x_tensor\n",
        "        self.y = y_tensor\n",
        "\n",
        "    def __getitem__(self, index):\n",
        "        return (self.x[index], self.y[index])\n",
        "\n",
        "    def __len__(self):\n",
        "        return len(self.x)\n",
        "\n",
        "def low_accuracy(model, datasetLoader, batch_size=32):\n",
        "  \n",
        "    total = 0\n",
        "    correct = 0\n",
        "    \n",
        "    for x_batch, y_batch in datasetLoader:\n",
        "        \n",
        "        x_batch = x_batch.to(device)\n",
        "        y_batch = y_batch.to(device)\n",
        "        \n",
        "        nBatch, _, _ = x_batch.shape\n",
        "        \n",
        "        # Update the total count\n",
        "        total += nBatch\n",
        "        \n",
        "        # Calculate how many were correct\n",
        "        outputs = model(x_batch) # 这是输出的预测结果\n",
        "        # print(outputs)\n",
        "        # print(outputs.shape)\n",
        "        #.  outputs_tensor = torch.zeros(batch_size, num_classes)\n",
        "        # print(outputs[22,:])\n",
        "        #outputs_list = outputs.tolist()\n",
        "        # 因为最后剩一个batch是22个元素，所以会报错！！\n",
        "        try:\n",
        "            \n",
        "            _, index = torch.sort(outputs, 1)\n",
        "            for i in range(batch_size):\n",
        "              if y_batch[i, index[i, -2]].item() == 1:\n",
        "                correct += 0.5\n",
        "              if y_batch[i, index[i, -1]].item() == 1:\n",
        "                correct += 0.5\n",
        "\n",
        "                #for j in range(num_classes):\n",
        "                    #if outputs[i, j] >= -2:\n",
        "                        #outputs_tensor[i, j] = 1\n",
        "        #outputs_list = torch.from_numpy(np.array(outputs_list))\n",
        "        \n",
        "                    \n",
        "        # _, predictions = torch.max(outputs, 1) torch.max函数，第二个输入是维度，这里是一维，然后输出最大值和其索引\n",
        "        # print(predictions)\n",
        "        # print(y_batch)\n",
        "        # correct += (outputs_tensor == y_batch).sum() # 这个计算正确的函数有大问题，维度没匹配\n",
        "                        #if y_batch[i, j] == 1:\n",
        "                            #correct += 1 # 这里是导致准确率大于1的原因！\n",
        "        except:\n",
        "            continue\n",
        "        \n",
        "    return float(correct) / total\n",
        "\n",
        "\n",
        "def exact_accuracy(model, datasetLoader, batch_size=32):\n",
        "    total = 0\n",
        "    correct = 0\n",
        "    for x_batch, y_batch in datasetLoader:    \n",
        "        x_batch = x_batch.to(device)\n",
        "        y_batch = y_batch.to(device)\n",
        "        nBatch, _, _ = x_batch.shape\n",
        "        # Update the total count\n",
        "        total += nBatch\n",
        "        # Calculate how many were correct\n",
        "        outputs = model(x_batch) # 这是输出的预测结果\n",
        "        try:\n",
        "            _, index = torch.sort(outputs, 1)\n",
        "            for i in range(batch_size):\n",
        "              if y_batch[i, index[i, -1]].item() == 1 & y_batch[i, index[i, -2]].item() == 1:\n",
        "                correct += 1\n",
        "        except:\n",
        "            continue\n",
        "        \n",
        "    return float(correct) / total\n",
        "\n",
        "\n",
        "def probability_accuracy(model, datasetLoader, batch_size=32):\n",
        "    total = 0\n",
        "    correct = 0\n",
        "    sum = 0\n",
        "    batch_num = 0\n",
        "    prediction_all = torch.zeros((len(datasetLoader)-1)*batch_size, num_classes).to(device)\n",
        "    y_all = torch.zeros((len(datasetLoader)-1)*batch_size, num_classes).to(device)\n",
        "    #f1_score_micro = []\n",
        "    #f1_score_macro = []\n",
        "    #f1_score_weighted = []\n",
        "    for x_batch, y_batch in datasetLoader:    \n",
        "        x_batch = x_batch.to(device)\n",
        "        y_batch = y_batch.to(device)\n",
        "        nBatch, _, _ = x_batch.shape\n",
        "        if nBatch != batch_size:\n",
        "          break\n",
        "\n",
        "        y_all[batch_num*32:(batch_num+1)*32] = y_batch\n",
        "        batch_num += 1\n",
        "        # Update the total count\n",
        "\n",
        "        # Calculate how many were correct\n",
        "        outputs = model(x_batch) # 这是输出的预测结果\n",
        "        #prediction = torch.zeros(batch_size, num_classes).to(device)\n",
        "        \n",
        "        _, index = torch.sort(outputs, 1, descending=True)\n",
        "        for i in range(nBatch):\n",
        "              #y_all.append(y_batch[i])\n",
        "              for j in range(num_classes):\n",
        "                sum += outputs[i, index[i, j]].item()\n",
        "                if sum >= 0.3:\n",
        "                  prediction_all[total + i, index[i, :j+1]] = 1\n",
        "                  sum = 0\n",
        "              for k in range(num_classes):\n",
        "                if prediction_all[total + i, k].item() == 1 & y_batch[i, k].item() == 1:\n",
        "                  correct += 0.5\n",
        "\n",
        "        #prediction = prediction.cpu()\n",
        "        #y_batch = y_batch.cpu()\n",
        "        total += nBatch\n",
        "\n",
        "\n",
        "    #f1_score_micro.append(f1_score(y_batch, prediction, average='micro'))\n",
        "    #f1_score_macro.append(f1_score(y_batch, prediction, average='macro'))\n",
        "    #f1_score_weighted.append(f1_score(y_batch, prediction, average='weighted'))\n",
        "    prediction_all = prediction_all.cpu()\n",
        "    y_all = y_all.cpu()\n",
        "\n",
        "    #return [float(correct) / total, float(np.sum(f1_score_micro)) / len(f1_score_micro), float(np.sum(f1_score_macro)) / len(f1_score_macro), float(np.sum(f1_score_weighted)) / len(f1_score_weighted)]\n",
        "    return [float(correct) / total, f1_score(y_all, prediction_all, average='micro'), f1_score(y_all, prediction_all, average='macro'), f1_score(y_all, prediction_all, average='weighted')]\n",
        "\n",
        "\n",
        "def single_accuracy(model, datasetLoader, batch_size=32):\n",
        "    total = 0\n",
        "    correct = 0\n",
        "    for x_batch, y_batch in datasetLoader:    \n",
        "        x_batch = x_batch.to(device)\n",
        "        y_batch = y_batch.to(device)\n",
        "        nBatch, _, _ = x_batch.shape\n",
        "        # Update the total count\n",
        "        total += nBatch\n",
        "        # Calculate how many were correct\n",
        "        outputs = model(x_batch) # 这是输出的预测结果\n",
        "        # 单分类直接输出每行的最大值\n",
        "        try:\n",
        "            count = 0\n",
        "            for i in outputs:\n",
        "              _, index = i.max(dim=0)\n",
        "              if y_batch[count][index] == 1:\n",
        "                correct += 1\n",
        "              count += 1\n",
        "        except:\n",
        "            continue\n",
        "        \n",
        "    return float(correct) / total\n",
        "\n",
        "def f1_accuracy(model, datasetLoader, batch_size=32):\n",
        "    total = 0\n",
        "    correct = 0\n",
        "    batch_num = 0\n",
        "    f1_score_micro = []\n",
        "    f1_score_macro = []\n",
        "    f1_score_weighted = []\n",
        "    for x_batch, y_batch in datasetLoader:    \n",
        "        x_batch = x_batch.to(device)\n",
        "        y_batch = y_batch.to(device)\n",
        "        nBatch, _, _ = x_batch.shape\n",
        "        # Update the total count\n",
        "        total += nBatch\n",
        "        # Calculate how many were correct\n",
        "        outputs = model(x_batch) # 这是输出的预测结果\n",
        "        # 建立预测的01向量\n",
        "        prediction = torch.zeros(batch_size, num_classes)\n",
        "        try:\n",
        "          _, index = torch.sort(outputs, 1)\n",
        "          for i in range(batch_size):\n",
        "            prediction[i, index[i, -1]] = 1\n",
        "            prediction[i, index[i, -2]] = 1\n",
        "          f1_score_micro.append(f1_score(y_batch, prediction, average='micro'))\n",
        "          f1_score_macro.append(f1_score(y_batch, prediction, average='macro'))\n",
        "          f1_score_weighted.append(f1_score(y_batch, prediction, average='weighted'))\n",
        "\n",
        "        except:\n",
        "          continue\n",
        "    return [float(np.sum(f1_score_micro)) / len(f1_score_micro), float(np.sum(f1_score_macro)) / len(f1_score_macro), float(np.sum(f1_score_weighted)) / len(f1_score_weighted)]\n",
        "    \n",
        "def f1_accuracy_single(model, datasetLoader, batch_size=32):\n",
        "    total = 0\n",
        "    correct = 0\n",
        "    batch_num = 0\n",
        "    f1_score_micro = []\n",
        "    f1_score_macro = []\n",
        "    f1_score_weighted = []\n",
        "    for x_batch, y_batch in datasetLoader:    \n",
        "        x_batch = x_batch.to(device)\n",
        "        y_batch = y_batch.to(device)\n",
        "        nBatch, _, _ = x_batch.shape\n",
        "        # Update the total count\n",
        "        total += nBatch\n",
        "        # Calculate how many were correct\n",
        "        outputs = model(x_batch) # 这是输出的预测结果\n",
        "        # 建立预测的01向量\n",
        "        prediction = torch.zeros(batch_size, num_classes)\n",
        "        try:\n",
        "          _, index = torch.sort(outputs, 1)\n",
        "          for i in range(nBatch):\n",
        "            prediction[i, index[i, -1]] = 1\n",
        "          f1_score_micro.append(f1_score(y_batch, prediction, average='micro'))\n",
        "          f1_score_macro.append(f1_score(y_batch, prediction, average='macro'))\n",
        "          f1_score_weighted.append(f1_score(y_batch, prediction, average='weighted'))\n",
        "          # 1、注意循环的问题！不要套在最里面！\n",
        "          # 2、注意index是二维的！在第一层循环上要标注[i]\n",
        "\n",
        "        except:\n",
        "          continue\n",
        "    return [float(np.sum(f1_score_micro)) / len(f1_score_micro), float(np.sum(f1_score_macro)) / len(f1_score_macro), float(np.sum(f1_score_weighted)) / len(f1_score_weighted)]\n",
        "\n",
        "  \n",
        "def loadData(X_train, y_train, X_test, y_test):\n",
        "  \n",
        "    x_train_tensor = torch.from_numpy(X_train).float()\n",
        "    y_train_tensor = torch.from_numpy(y_train).long()\n",
        "\n",
        "    x_test_tensor = torch.from_numpy(X_test).float()\n",
        "    y_test_tensor = torch.from_numpy(y_test).long()\n",
        "\n",
        "    train_dataset = CustomDataset(x_train_tensor, y_train_tensor)\n",
        "    test_dataset = CustomDataset(x_test_tensor, y_test_tensor)\n",
        "\n",
        "    train_loader = DataLoader(dataset=train_dataset, batch_size=batch_size)\n",
        "    test_loader = DataLoader(dataset=test_dataset, batch_size=batch_size)\n",
        "    \n",
        "    return train_loader, test_loader"
      ],
      "execution_count": 52,
      "outputs": [
        {
          "output_type": "stream",
          "text": [
            "Current Device is: cuda\n"
          ],
          "name": "stdout"
        }
      ]
    },
    {
      "cell_type": "code",
      "metadata": {
        "id": "f-EBxfDjNHe2",
        "colab_type": "code",
        "colab": {}
      },
      "source": [
        "# 几种不同的RNN模型，此处可进行多步优化，注意超参在前面修改\n",
        "# Fully connected neural network with one hidden layer\n",
        "class LSTM(nn.Module):\n",
        "    def __init__(self, input_size, hidden_size, num_classes):\n",
        "        super(LSTM, self).__init__()\n",
        "        \n",
        "        self.lstm = nn.LSTM(input_size, hidden_size)\n",
        "        self.fc1 = nn.Linear(hidden_size, num_classes)\n",
        "        self.relu = nn.ReLU()\n",
        "    \n",
        "    def forward(self, x):\n",
        "\n",
        "        batch_size = x.size(0)\n",
        "      \n",
        "        x = x.view(sentence_len, batch_size, -1) # [Timesteps, batch_size, features]重新组织了一下输入的形状\n",
        "\n",
        "        out, _ = self.lstm(x)        \n",
        "        out = out[-1].view(batch_size, -1) # Only take last input\n",
        "  \n",
        "        out = self.relu(out)\n",
        "        out = self.fc1(out)\n",
        "        out = F.softmax(out)\n",
        "        return out\n",
        "\n",
        "\n",
        "class LSTM_2(nn.Module):\n",
        "    def __init__(self, input_size, hidden_size, num_classes):\n",
        "        super(LSTM_2, self).__init__()\n",
        "        \n",
        "        self.lstm1 = nn.LSTM(input_size, hidden_size_large)\n",
        "        self.lstm2 = nn.LSTM(hidden_size_large, hidden_size)\n",
        "        self.fc1 = nn.Linear(hidden_size, num_classes)\n",
        "        self.relu = nn.ReLU()\n",
        "    \n",
        "    def forward(self, x):\n",
        "\n",
        "        batch_size = x.size(0)\n",
        "      \n",
        "        x = x.view(sentence_len, batch_size, -1) # [Timesteps, batch_size, features]重新组织了一下输入的形状\n",
        "\n",
        "        out, _ = self.lstm1(x)\n",
        "        out, _ = self.lstm2(out)        \n",
        "        out = out[-1].view(batch_size, -1) # Only take last input\n",
        "  \n",
        "        out = self.relu(out)\n",
        "        out = self.fc1(out)\n",
        "        out = F.softmax(out)\n",
        "        return out\n",
        "\n",
        "\n",
        "class LSTM_3(nn.Module):\n",
        "    def __init__(self, input_size, hidden_size, num_classes):\n",
        "        super(LSTM_3, self).__init__()\n",
        "        \n",
        "        self.lstm1 = nn.LSTM(input_size, hidden_size_large)\n",
        "        self.lstm2 = nn.LSTM(hidden_size_large, hidden_size)\n",
        "        self.lstm3 = nn.LSTM(hidden_size, hidden_size_small)\n",
        "        self.lstm4 = nn.LSTM(hidden_size_small, hidden_size_small)\n",
        "        self.fc1 = nn.Linear(hidden_size_small, num_classes)\n",
        "        self.relu = nn.ReLU()\n",
        "    \n",
        "    def forward(self, x):\n",
        "\n",
        "        batch_size = x.size(0)\n",
        "      \n",
        "        x = x.view(sentence_len, batch_size, -1) # [Timesteps, batch_size, features]重新组织了一下输入的形状\n",
        "\n",
        "        out, _ = self.lstm1(x)\n",
        "        out, _ = self.lstm2(out) \n",
        "        out, _ = self.lstm3(out)\n",
        "        out, _ = self.lstm4(out)       \n",
        "        out = out[-1].view(batch_size, -1) # Only take last input\n",
        "  \n",
        "        out = self.relu(out)\n",
        "        out = self.fc1(out)\n",
        "        out = F.softmax(out)\n",
        "        return out\n",
        "\n",
        "class GRU(nn.Module):\n",
        "    def __init__(self, input_size, hidden_size, num_classes):\n",
        "        super(GRU, self).__init__()\n",
        "        \n",
        "        self.gru = nn.GRU(input_size, hidden_size)\n",
        "        self.fc1 = nn.Linear(hidden_size, num_classes)\n",
        "        self.relu = nn.ReLU()\n",
        "    \n",
        "    def forward(self, x):\n",
        "\n",
        "        batch_size = x.size(0)\n",
        "      \n",
        "        x = x.view(sentence_len, batch_size, -1) # [Timesteps, batch_size, features]重新组织了一下输入的形状\n",
        "\n",
        "        out, _ = self.gru(x)        \n",
        "        out = out[-1].view(batch_size, -1) # Only take last input\n",
        "  \n",
        "        out = self.relu(out)\n",
        "        out = self.fc1(out)\n",
        "        out = F.softmax(out)\n",
        "        return out\n",
        "# 模型的结构需要谨慎对待，lstm的输出不止一个，看其他例子"
      ],
      "execution_count": 0,
      "outputs": []
    },
    {
      "cell_type": "code",
      "metadata": {
        "id": "H2aHMNlINsLF",
        "colab_type": "code",
        "outputId": "faf77b41-58ff-467e-a3e2-e370bebb460a",
        "colab": {
          "base_uri": "https://localhost:8080/",
          "height": 1000
        }
      },
      "source": [
        "# 迭代训练，迭代步数在超参处可以设置，每迭代一步同时计算在训练集和测试集上的准确率和其他评估标准\n",
        "# 可以简易更换所用的训练模型，也可以简易更换分类器和评估方法\n",
        "train_loader, test_loader = loadData(X_train, y_train, X_test, y_test)\n",
        "print('Number of Batches:', len(train_loader))\n",
        "# Training Loop:\n",
        "total_step = len(train_loader)\n",
        "\n",
        "train_acc = []\n",
        "test_acc = []\n",
        "loss_hist = []\n",
        "\n",
        "# Initialise the model\n",
        "# 在这里更换模型\n",
        "model = LSTM(input_size, hidden_size, num_classes).to(device)\n",
        "\n",
        "# Loss and optimizer\n",
        "# 在这里更换损失函数和优化方法\n",
        "criterion = nn.MultiLabelSoftMarginLoss() # 损失函数是针对于单类别的，需要修改，查看torch有无对应的集成方法\n",
        "optimizer = torch.optim.SGD(model.parameters(), lr=0.001, momentum=0.9)\n",
        "# 迭代过程,加进度条\n",
        "for epoch in tqdm(range(num_epochs)):\n",
        "    for i, (x_batch, y_batch) in enumerate(train_loader):\n",
        "        \n",
        "        x_batch = x_batch.to(device)\n",
        "        y_batch = y_batch.to(device)\n",
        "    \n",
        "        # Forward pass\n",
        "        outputs = model(x_batch)\n",
        "        loss = criterion(outputs, y_batch)\n",
        "        \n",
        "        # Backward and optimize 优化的步骤就是后向传递，优化的方法是随机梯度下降\n",
        "        optimizer.zero_grad()\n",
        "        loss.backward()\n",
        "        optimizer.step()\n",
        "    # 在这里更换分类器和评估方法\n",
        "    train_acc_list = probability_accuracy(model, train_loader, batch_size)\n",
        "    test_acc_list = probability_accuracy(model, test_loader, batch_size)\n",
        "    print ('Epoch [{}/{}], Loss: {:.3f}, Train Acc: {}, Test Acc: {}' \n",
        "       .format(epoch+1, num_epochs, loss.item(), \n",
        "               train_acc_list, test_acc_list))\n",
        "    train_acc.append(train_acc_list)\n",
        "    test_acc.append(test_acc_list)\n",
        "    loss_hist.append(loss.item())"
      ],
      "execution_count": 53,
      "outputs": [
        {
          "output_type": "stream",
          "text": [
            "\n",
            "\n",
            "\n",
            "\n",
            "\n",
            "\n",
            "\n",
            "\n",
            "\n",
            "\n",
            "  0%|          | 0/100 [00:00<?, ?it/s]\u001b[A\u001b[A\u001b[A\u001b[A\u001b[A\u001b[A\u001b[A\u001b[A\u001b[A\u001b[A"
          ],
          "name": "stderr"
        },
        {
          "output_type": "stream",
          "text": [
            "Number of Batches: 343\n"
          ],
          "name": "stdout"
        },
        {
          "output_type": "stream",
          "text": [
            "\n",
            "\n",
            "\n",
            "\n",
            "\n",
            "\n",
            "\n",
            "\n",
            "\n",
            "\n",
            "  1%|          | 1/100 [00:39<1:05:26, 39.66s/it]\u001b[A\u001b[A\u001b[A\u001b[A\u001b[A\u001b[A\u001b[A\u001b[A\u001b[A\u001b[A"
          ],
          "name": "stderr"
        },
        {
          "output_type": "stream",
          "text": [
            "Epoch [1/100], Loss: 0.711, Train Acc: [0.9029605263157895, 0.20543951103650074, 0.16688524960383433, 0.2703821291634219], Test Acc: [0.9106617647058823, 0.20572235372285202, 0.16825257359619486, 0.26607450630810164]\n"
          ],
          "name": "stdout"
        },
        {
          "output_type": "stream",
          "text": [
            "\n",
            "\n",
            "\n",
            "\n",
            "\n",
            "\n",
            "\n",
            "\n",
            "\n",
            "\n",
            "  2%|▏         | 2/100 [01:18<1:04:35, 39.55s/it]\u001b[A\u001b[A\u001b[A\u001b[A\u001b[A\u001b[A\u001b[A\u001b[A\u001b[A\u001b[A"
          ],
          "name": "stderr"
        },
        {
          "output_type": "stream",
          "text": [
            "Epoch [2/100], Loss: 0.711, Train Acc: [0.9138340643274854, 0.20796531485399694, 0.16791571435194566, 0.27585139704564027], Test Acc: [0.9185661764705882, 0.2078964886004327, 0.16962996337684377, 0.26982415944010096]\n"
          ],
          "name": "stdout"
        },
        {
          "output_type": "stream",
          "text": [
            "\n",
            "\n",
            "\n",
            "\n",
            "\n",
            "\n",
            "\n",
            "\n",
            "\n",
            "\n",
            "  3%|▎         | 3/100 [01:59<1:04:24, 39.84s/it]\u001b[A\u001b[A\u001b[A\u001b[A\u001b[A\u001b[A\u001b[A\u001b[A\u001b[A\u001b[A"
          ],
          "name": "stderr"
        },
        {
          "output_type": "stream",
          "text": [
            "Epoch [3/100], Loss: 0.711, Train Acc: [0.9251644736842105, 0.21040491256506968, 0.1689872039971948, 0.2807738414501255], Test Acc: [0.9295955882352941, 0.21059426144171908, 0.17080653060356046, 0.27508639173002314]\n"
          ],
          "name": "stdout"
        },
        {
          "output_type": "stream",
          "text": [
            "\n",
            "\n",
            "\n",
            "\n",
            "\n",
            "\n",
            "\n",
            "\n",
            "\n",
            "\n",
            "  4%|▍         | 4/100 [02:40<1:04:06, 40.07s/it]\u001b[A\u001b[A\u001b[A\u001b[A\u001b[A\u001b[A\u001b[A\u001b[A\u001b[A\u001b[A"
          ],
          "name": "stderr"
        },
        {
          "output_type": "stream",
          "text": [
            "Epoch [4/100], Loss: 0.711, Train Acc: [0.9359009502923976, 0.21284554281587847, 0.16953042721726982, 0.28498466011952117], Test Acc: [0.9409926470588236, 0.2134873634164651, 0.17172419159198984, 0.28032308712632353]\n"
          ],
          "name": "stdout"
        },
        {
          "output_type": "stream",
          "text": [
            "\n",
            "\n",
            "\n",
            "\n",
            "\n",
            "\n",
            "\n",
            "\n",
            "\n",
            "\n",
            "  5%|▌         | 5/100 [03:20<1:03:41, 40.23s/it]\u001b[A\u001b[A\u001b[A\u001b[A\u001b[A\u001b[A\u001b[A\u001b[A\u001b[A\u001b[A"
          ],
          "name": "stderr"
        },
        {
          "output_type": "stream",
          "text": [
            "Epoch [5/100], Loss: 0.711, Train Acc: [0.9492415935672515, 0.21574725474416553, 0.17085812122542066, 0.2899372603207367], Test Acc: [0.9522058823529411, 0.2162523222076106, 0.17169879330651713, 0.2844469548355816]\n"
          ],
          "name": "stdout"
        },
        {
          "output_type": "stream",
          "text": [
            "\n",
            "\n",
            "\n",
            "\n",
            "\n",
            "\n",
            "\n",
            "\n",
            "\n",
            "\n",
            "  6%|▌         | 6/100 [04:01<1:03:11, 40.34s/it]\u001b[A\u001b[A\u001b[A\u001b[A\u001b[A\u001b[A\u001b[A\u001b[A\u001b[A\u001b[A"
          ],
          "name": "stderr"
        },
        {
          "output_type": "stream",
          "text": [
            "Epoch [6/100], Loss: 0.711, Train Acc: [0.9599780701754386, 0.21814784053156147, 0.17177935133370595, 0.2932267886143761], Test Acc: [0.9615808823529411, 0.218637019080061, 0.1724805888127326, 0.28694517993808616]\n"
          ],
          "name": "stdout"
        },
        {
          "output_type": "stream",
          "text": [
            "\n",
            "\n",
            "\n",
            "\n",
            "\n",
            "\n",
            "\n",
            "\n",
            "\n",
            "\n",
            "  7%|▋         | 7/100 [04:41<1:02:31, 40.33s/it]\u001b[A\u001b[A\u001b[A\u001b[A\u001b[A\u001b[A\u001b[A\u001b[A\u001b[A\u001b[A"
          ],
          "name": "stderr"
        },
        {
          "output_type": "stream",
          "text": [
            "Epoch [7/100], Loss: 0.711, Train Acc: [0.9704861111111112, 0.2204681913242933, 0.1725349425409168, 0.29617204778922335], Test Acc: [0.9722426470588236, 0.22106121084198865, 0.1735428438467671, 0.29021112707575414]\n"
          ],
          "name": "stdout"
        },
        {
          "output_type": "stream",
          "text": [
            "\n",
            "\n",
            "\n",
            "\n",
            "\n",
            "\n",
            "\n",
            "\n",
            "\n",
            "\n",
            "  8%|▊         | 8/100 [05:22<1:01:54, 40.38s/it]\u001b[A\u001b[A\u001b[A\u001b[A\u001b[A\u001b[A\u001b[A\u001b[A\u001b[A\u001b[A"
          ],
          "name": "stderr"
        },
        {
          "output_type": "stream",
          "text": [
            "Epoch [8/100], Loss: 0.711, Train Acc: [0.9804002192982456, 0.22282100803688246, 0.17287751098328136, 0.29897253796878137], Test Acc: [0.9823529411764705, 0.22336001337485112, 0.1735341362663048, 0.292639012536928]\n"
          ],
          "name": "stdout"
        },
        {
          "output_type": "stream",
          "text": [
            "\n",
            "\n",
            "\n",
            "\n",
            "\n",
            "\n",
            "\n",
            "\n",
            "\n",
            "\n",
            "  9%|▉         | 9/100 [06:02<1:01:18, 40.42s/it]\u001b[A\u001b[A\u001b[A\u001b[A\u001b[A\u001b[A\u001b[A\u001b[A\u001b[A\u001b[A"
          ],
          "name": "stderr"
        },
        {
          "output_type": "stream",
          "text": [
            "Epoch [9/100], Loss: 0.711, Train Acc: [0.9880756578947368, 0.22455378928678965, 0.17311410431289337, 0.30030793859668237], Test Acc: [0.9924632352941176, 0.22557867468872733, 0.1739833421101964, 0.29519526420326553]\n"
          ],
          "name": "stdout"
        },
        {
          "output_type": "stream",
          "text": [
            "\n",
            "\n",
            "\n",
            "\n",
            "\n",
            "\n",
            "\n",
            "\n",
            "\n",
            "\n",
            " 10%|█         | 10/100 [06:43<1:00:40, 40.45s/it]\u001b[A\u001b[A\u001b[A\u001b[A\u001b[A\u001b[A\u001b[A\u001b[A\u001b[A\u001b[A"
          ],
          "name": "stderr"
        },
        {
          "output_type": "stream",
          "text": [
            "Epoch [10/100], Loss: 0.711, Train Acc: [0.9966648391812866, 0.22646112322225684, 0.17374840715732567, 0.30224638971152795], Test Acc: [1.0, 0.22712564975053756, 0.174185624279927, 0.2966494799585854]\n"
          ],
          "name": "stdout"
        },
        {
          "output_type": "stream",
          "text": [
            "\n",
            "\n",
            "\n",
            "\n",
            "\n",
            "\n",
            "\n",
            "\n",
            "\n",
            "\n",
            " 11%|█         | 11/100 [07:23<59:59, 40.44s/it]  \u001b[A\u001b[A\u001b[A\u001b[A\u001b[A\u001b[A\u001b[A\u001b[A\u001b[A\u001b[A"
          ],
          "name": "stderr"
        },
        {
          "output_type": "stream",
          "text": [
            "Epoch [11/100], Loss: 0.711, Train Acc: [1.0042945906432748, 0.22825161464498578, 0.17414921135999267, 0.30377583727206997], Test Acc: [1.0064338235294117, 0.22888795986622076, 0.17396995331159373, 0.29791117114066035]\n"
          ],
          "name": "stdout"
        },
        {
          "output_type": "stream",
          "text": [
            "\n",
            "\n",
            "\n",
            "\n",
            "\n",
            "\n",
            "\n",
            "\n",
            "\n",
            "\n",
            " 12%|█▏        | 12/100 [08:03<59:16, 40.41s/it]\u001b[A\u001b[A\u001b[A\u001b[A\u001b[A\u001b[A\u001b[A\u001b[A\u001b[A\u001b[A"
          ],
          "name": "stderr"
        },
        {
          "output_type": "stream",
          "text": [
            "Epoch [12/100], Loss: 0.711, Train Acc: [1.009594298245614, 0.22975670617592017, 0.17391355492412613, 0.30457200185927763], Test Acc: [1.0150735294117648, 0.23045301838365712, 0.17579111546204534, 0.3003916982869809]\n"
          ],
          "name": "stdout"
        },
        {
          "output_type": "stream",
          "text": [
            "\n",
            "\n",
            "\n",
            "\n",
            "\n",
            "\n",
            "\n",
            "\n",
            "\n",
            "\n",
            " 13%|█▎        | 13/100 [08:44<58:34, 40.40s/it]\u001b[A\u001b[A\u001b[A\u001b[A\u001b[A\u001b[A\u001b[A\u001b[A\u001b[A\u001b[A"
          ],
          "name": "stderr"
        },
        {
          "output_type": "stream",
          "text": [
            "Epoch [13/100], Loss: 0.711, Train Acc: [1.0163103070175439, 0.23105566836838035, 0.17478554309010672, 0.3059289839854763], Test Acc: [1.020404411764706, 0.23179872638062424, 0.1747049713593262, 0.3005352873486692]\n"
          ],
          "name": "stdout"
        },
        {
          "output_type": "stream",
          "text": [
            "\n",
            "\n",
            "\n",
            "\n",
            "\n",
            "\n",
            "\n",
            "\n",
            "\n",
            "\n",
            " 14%|█▍        | 14/100 [09:24<57:56, 40.42s/it]\u001b[A\u001b[A\u001b[A\u001b[A\u001b[A\u001b[A\u001b[A\u001b[A\u001b[A\u001b[A"
          ],
          "name": "stderr"
        },
        {
          "output_type": "stream",
          "text": [
            "Epoch [14/100], Loss: 0.711, Train Acc: [1.022203947368421, 0.23239557312088743, 0.17500615208919856, 0.30701171474460004], Test Acc: [1.0251838235294117, 0.23302066141600686, 0.17446986445503115, 0.30121711573076676]\n"
          ],
          "name": "stdout"
        },
        {
          "output_type": "stream",
          "text": [
            "\n",
            "\n",
            "\n",
            "\n",
            "\n",
            "\n",
            "\n",
            "\n",
            "\n",
            "\n",
            " 15%|█▌        | 15/100 [10:05<57:14, 40.41s/it]\u001b[A\u001b[A\u001b[A\u001b[A\u001b[A\u001b[A\u001b[A\u001b[A\u001b[A\u001b[A"
          ],
          "name": "stderr"
        },
        {
          "output_type": "stream",
          "text": [
            "Epoch [15/100], Loss: 0.711, Train Acc: [1.0266355994152048, 0.2334479570316964, 0.17525473740943898, 0.30781848970742043], Test Acc: [1.0294117647058822, 0.23415286837263755, 0.1747779518097981, 0.3017458041611146]\n"
          ],
          "name": "stdout"
        },
        {
          "output_type": "stream",
          "text": [
            "\n",
            "\n",
            "\n",
            "\n",
            "\n",
            "\n",
            "\n",
            "\n",
            "\n",
            "\n",
            " 16%|█▌        | 16/100 [10:45<56:38, 40.46s/it]\u001b[A\u001b[A\u001b[A\u001b[A\u001b[A\u001b[A\u001b[A\u001b[A\u001b[A\u001b[A"
          ],
          "name": "stderr"
        },
        {
          "output_type": "stream",
          "text": [
            "Epoch [16/100], Loss: 0.711, Train Acc: [1.0304733187134503, 0.23432062083796504, 0.17524180668006198, 0.3082496176770351], Test Acc: [1.0338235294117648, 0.23515638066566313, 0.17499768526095216, 0.3026813369651279]\n"
          ],
          "name": "stdout"
        },
        {
          "output_type": "error",
          "ename": "KeyboardInterrupt",
          "evalue": "ignored",
          "traceback": [
            "\u001b[0;31m---------------------------------------------------------------------------\u001b[0m",
            "\u001b[0;31mKeyboardInterrupt\u001b[0m                         Traceback (most recent call last)",
            "\u001b[0;32m<ipython-input-53-0ba823e13e23>\u001b[0m in \u001b[0;36m<module>\u001b[0;34m()\u001b[0m\n\u001b[1;32m     32\u001b[0m         \u001b[0moptimizer\u001b[0m\u001b[0;34m.\u001b[0m\u001b[0mstep\u001b[0m\u001b[0;34m(\u001b[0m\u001b[0;34m)\u001b[0m\u001b[0;34m\u001b[0m\u001b[0;34m\u001b[0m\u001b[0m\n\u001b[1;32m     33\u001b[0m     \u001b[0;31m# 在这里更换分类器和评估方法\u001b[0m\u001b[0;34m\u001b[0m\u001b[0;34m\u001b[0m\u001b[0;34m\u001b[0m\u001b[0m\n\u001b[0;32m---> 34\u001b[0;31m     \u001b[0mtrain_acc_list\u001b[0m \u001b[0;34m=\u001b[0m \u001b[0mprobability_accuracy\u001b[0m\u001b[0;34m(\u001b[0m\u001b[0mmodel\u001b[0m\u001b[0;34m,\u001b[0m \u001b[0mtrain_loader\u001b[0m\u001b[0;34m,\u001b[0m \u001b[0mbatch_size\u001b[0m\u001b[0;34m)\u001b[0m\u001b[0;34m\u001b[0m\u001b[0;34m\u001b[0m\u001b[0m\n\u001b[0m\u001b[1;32m     35\u001b[0m     \u001b[0mtest_acc_list\u001b[0m \u001b[0;34m=\u001b[0m \u001b[0mprobability_accuracy\u001b[0m\u001b[0;34m(\u001b[0m\u001b[0mmodel\u001b[0m\u001b[0;34m,\u001b[0m \u001b[0mtest_loader\u001b[0m\u001b[0;34m,\u001b[0m \u001b[0mbatch_size\u001b[0m\u001b[0;34m)\u001b[0m\u001b[0;34m\u001b[0m\u001b[0;34m\u001b[0m\u001b[0m\n\u001b[1;32m     36\u001b[0m     print ('Epoch [{}/{}], Loss: {:.3f}, Train Acc: {}, Test Acc: {}' \n",
            "\u001b[0;32m<ipython-input-52-aa68b9fbfa1d>\u001b[0m in \u001b[0;36mprobability_accuracy\u001b[0;34m(model, datasetLoader, batch_size)\u001b[0m\n\u001b[1;32m    118\u001b[0m               \u001b[0;31m#y_all.append(y_batch[i])\u001b[0m\u001b[0;34m\u001b[0m\u001b[0;34m\u001b[0m\u001b[0;34m\u001b[0m\u001b[0m\n\u001b[1;32m    119\u001b[0m               \u001b[0;32mfor\u001b[0m \u001b[0mj\u001b[0m \u001b[0;32min\u001b[0m \u001b[0mrange\u001b[0m\u001b[0;34m(\u001b[0m\u001b[0mnum_classes\u001b[0m\u001b[0;34m)\u001b[0m\u001b[0;34m:\u001b[0m\u001b[0;34m\u001b[0m\u001b[0;34m\u001b[0m\u001b[0m\n\u001b[0;32m--> 120\u001b[0;31m                 \u001b[0msum\u001b[0m \u001b[0;34m+=\u001b[0m \u001b[0moutputs\u001b[0m\u001b[0;34m[\u001b[0m\u001b[0mi\u001b[0m\u001b[0;34m,\u001b[0m \u001b[0mindex\u001b[0m\u001b[0;34m[\u001b[0m\u001b[0mi\u001b[0m\u001b[0;34m,\u001b[0m \u001b[0mj\u001b[0m\u001b[0;34m]\u001b[0m\u001b[0;34m]\u001b[0m\u001b[0;34m.\u001b[0m\u001b[0mitem\u001b[0m\u001b[0;34m(\u001b[0m\u001b[0;34m)\u001b[0m\u001b[0;34m\u001b[0m\u001b[0;34m\u001b[0m\u001b[0m\n\u001b[0m\u001b[1;32m    121\u001b[0m                 \u001b[0;32mif\u001b[0m \u001b[0msum\u001b[0m \u001b[0;34m>=\u001b[0m \u001b[0;36m0.3\u001b[0m\u001b[0;34m:\u001b[0m\u001b[0;34m\u001b[0m\u001b[0;34m\u001b[0m\u001b[0m\n\u001b[1;32m    122\u001b[0m                   \u001b[0mprediction_all\u001b[0m\u001b[0;34m[\u001b[0m\u001b[0mtotal\u001b[0m \u001b[0;34m+\u001b[0m \u001b[0mi\u001b[0m\u001b[0;34m,\u001b[0m \u001b[0mindex\u001b[0m\u001b[0;34m[\u001b[0m\u001b[0mi\u001b[0m\u001b[0;34m,\u001b[0m \u001b[0;34m:\u001b[0m\u001b[0mj\u001b[0m\u001b[0;34m+\u001b[0m\u001b[0;36m1\u001b[0m\u001b[0;34m]\u001b[0m\u001b[0;34m]\u001b[0m \u001b[0;34m=\u001b[0m \u001b[0;36m1\u001b[0m\u001b[0;34m\u001b[0m\u001b[0;34m\u001b[0m\u001b[0m\n",
            "\u001b[0;31mKeyboardInterrupt\u001b[0m: "
          ]
        }
      ]
    },
    {
      "cell_type": "code",
      "metadata": {
        "id": "BDKWzBvy1moT",
        "colab_type": "code",
        "colab": {
          "base_uri": "https://localhost:8080/",
          "height": 368
        },
        "outputId": "7966e4e2-8fb0-4749-e5b6-39f147d1c521"
      },
      "source": [
        "from vega_datasets import data\n",
        "stocks = data.stocks()\n",
        "\n",
        "import altair as alt\n",
        "alt.Chart(stocks).mark_line().encode(\n",
        "  x='date:T',\n",
        "  y='price',\n",
        "  color='symbol'\n",
        ").interactive(bind_y=False)"
      ],
      "execution_count": 54,
      "outputs": [
        {
          "output_type": "execute_result",
          "data": {
            "text/plain": [
              "alt.Chart(...)"
            ],
            "text/html": [
              "<!DOCTYPE html>\n",
              "<html>\n",
              "<head>\n",
              "  <style>\n",
              "    .vega-actions a {\n",
              "        margin-right: 12px;\n",
              "        color: #757575;\n",
              "        font-weight: normal;\n",
              "        font-size: 13px;\n",
              "    }\n",
              "    .error {\n",
              "        color: red;\n",
              "    }\n",
              "  </style>\n",
              "  <script type=\"text/javascript\" src=\"https://cdn.jsdelivr.net/npm//vega@5\"></script>\n",
              "  <script type=\"text/javascript\" src=\"https://cdn.jsdelivr.net/npm//vega-lite@3.4.0\"></script>\n",
              "  <script type=\"text/javascript\" src=\"https://cdn.jsdelivr.net/npm//vega-embed@4\"></script>\n",
              "</head>\n",
              "<body>\n",
              "  <div id=\"altair-viz\"></div>\n",
              "  <script>\n",
              "    (function(vegaEmbed) {\n",
              "      var spec = {\"config\": {\"view\": {\"width\": 400, \"height\": 300}, \"mark\": {\"tooltip\": null}}, \"data\": {\"name\": \"data-96e857a61c6b623bafe23440d582a500\"}, \"mark\": \"line\", \"encoding\": {\"color\": {\"type\": \"nominal\", \"field\": \"symbol\"}, \"x\": {\"type\": \"temporal\", \"field\": \"date\"}, \"y\": {\"type\": \"quantitative\", \"field\": \"price\"}}, \"selection\": {\"selector001\": {\"type\": \"interval\", \"bind\": \"scales\", \"encodings\": [\"x\"]}}, \"$schema\": \"https://vega.github.io/schema/vega-lite/v3.4.0.json\", \"datasets\": {\"data-96e857a61c6b623bafe23440d582a500\": [{\"symbol\": \"MSFT\", \"date\": \"2000-01-01T00:00:00\", \"price\": 39.81}, {\"symbol\": \"MSFT\", \"date\": \"2000-02-01T00:00:00\", \"price\": 36.35}, {\"symbol\": \"MSFT\", \"date\": \"2000-03-01T00:00:00\", \"price\": 43.22}, {\"symbol\": \"MSFT\", \"date\": \"2000-04-01T00:00:00\", \"price\": 28.37}, {\"symbol\": \"MSFT\", \"date\": \"2000-05-01T00:00:00\", \"price\": 25.45}, {\"symbol\": \"MSFT\", \"date\": \"2000-06-01T00:00:00\", \"price\": 32.54}, {\"symbol\": \"MSFT\", \"date\": \"2000-07-01T00:00:00\", \"price\": 28.4}, {\"symbol\": \"MSFT\", \"date\": \"2000-08-01T00:00:00\", \"price\": 28.4}, {\"symbol\": \"MSFT\", \"date\": \"2000-09-01T00:00:00\", \"price\": 24.53}, {\"symbol\": \"MSFT\", \"date\": \"2000-10-01T00:00:00\", \"price\": 28.02}, {\"symbol\": \"MSFT\", \"date\": \"2000-11-01T00:00:00\", \"price\": 23.34}, {\"symbol\": \"MSFT\", \"date\": \"2000-12-01T00:00:00\", \"price\": 17.65}, {\"symbol\": \"MSFT\", \"date\": \"2001-01-01T00:00:00\", \"price\": 24.84}, {\"symbol\": \"MSFT\", \"date\": \"2001-02-01T00:00:00\", \"price\": 24.0}, {\"symbol\": \"MSFT\", \"date\": \"2001-03-01T00:00:00\", \"price\": 22.25}, {\"symbol\": \"MSFT\", \"date\": \"2001-04-01T00:00:00\", \"price\": 27.56}, {\"symbol\": \"MSFT\", \"date\": \"2001-05-01T00:00:00\", \"price\": 28.14}, {\"symbol\": \"MSFT\", \"date\": \"2001-06-01T00:00:00\", \"price\": 29.7}, {\"symbol\": \"MSFT\", \"date\": \"2001-07-01T00:00:00\", \"price\": 26.93}, {\"symbol\": \"MSFT\", \"date\": \"2001-08-01T00:00:00\", \"price\": 23.21}, {\"symbol\": \"MSFT\", \"date\": \"2001-09-01T00:00:00\", \"price\": 20.82}, {\"symbol\": \"MSFT\", \"date\": \"2001-10-01T00:00:00\", \"price\": 23.65}, {\"symbol\": \"MSFT\", \"date\": \"2001-11-01T00:00:00\", \"price\": 26.12}, {\"symbol\": \"MSFT\", \"date\": \"2001-12-01T00:00:00\", \"price\": 26.95}, {\"symbol\": \"MSFT\", \"date\": \"2002-01-01T00:00:00\", \"price\": 25.92}, {\"symbol\": \"MSFT\", \"date\": \"2002-02-01T00:00:00\", \"price\": 23.73}, {\"symbol\": \"MSFT\", \"date\": \"2002-03-01T00:00:00\", \"price\": 24.53}, {\"symbol\": \"MSFT\", \"date\": \"2002-04-01T00:00:00\", \"price\": 21.26}, {\"symbol\": \"MSFT\", \"date\": \"2002-05-01T00:00:00\", \"price\": 20.71}, {\"symbol\": \"MSFT\", \"date\": \"2002-06-01T00:00:00\", \"price\": 22.25}, {\"symbol\": \"MSFT\", \"date\": \"2002-07-01T00:00:00\", \"price\": 19.52}, {\"symbol\": \"MSFT\", \"date\": \"2002-08-01T00:00:00\", \"price\": 19.97}, {\"symbol\": \"MSFT\", \"date\": \"2002-09-01T00:00:00\", \"price\": 17.79}, {\"symbol\": \"MSFT\", \"date\": \"2002-10-01T00:00:00\", \"price\": 21.75}, {\"symbol\": \"MSFT\", \"date\": \"2002-11-01T00:00:00\", \"price\": 23.46}, {\"symbol\": \"MSFT\", \"date\": \"2002-12-01T00:00:00\", \"price\": 21.03}, {\"symbol\": \"MSFT\", \"date\": \"2003-01-01T00:00:00\", \"price\": 19.31}, {\"symbol\": \"MSFT\", \"date\": \"2003-02-01T00:00:00\", \"price\": 19.34}, {\"symbol\": \"MSFT\", \"date\": \"2003-03-01T00:00:00\", \"price\": 19.76}, {\"symbol\": \"MSFT\", \"date\": \"2003-04-01T00:00:00\", \"price\": 20.87}, {\"symbol\": \"MSFT\", \"date\": \"2003-05-01T00:00:00\", \"price\": 20.09}, {\"symbol\": \"MSFT\", \"date\": \"2003-06-01T00:00:00\", \"price\": 20.93}, {\"symbol\": \"MSFT\", \"date\": \"2003-07-01T00:00:00\", \"price\": 21.56}, {\"symbol\": \"MSFT\", \"date\": \"2003-08-01T00:00:00\", \"price\": 21.65}, {\"symbol\": \"MSFT\", \"date\": \"2003-09-01T00:00:00\", \"price\": 22.69}, {\"symbol\": \"MSFT\", \"date\": \"2003-10-01T00:00:00\", \"price\": 21.45}, {\"symbol\": \"MSFT\", \"date\": \"2003-11-01T00:00:00\", \"price\": 21.1}, {\"symbol\": \"MSFT\", \"date\": \"2003-12-01T00:00:00\", \"price\": 22.46}, {\"symbol\": \"MSFT\", \"date\": \"2004-01-01T00:00:00\", \"price\": 22.69}, {\"symbol\": \"MSFT\", \"date\": \"2004-02-01T00:00:00\", \"price\": 21.77}, {\"symbol\": \"MSFT\", \"date\": \"2004-03-01T00:00:00\", \"price\": 20.46}, {\"symbol\": \"MSFT\", \"date\": \"2004-04-01T00:00:00\", \"price\": 21.45}, {\"symbol\": \"MSFT\", \"date\": \"2004-05-01T00:00:00\", \"price\": 21.53}, {\"symbol\": \"MSFT\", \"date\": \"2004-06-01T00:00:00\", \"price\": 23.44}, {\"symbol\": \"MSFT\", \"date\": \"2004-07-01T00:00:00\", \"price\": 23.38}, {\"symbol\": \"MSFT\", \"date\": \"2004-08-01T00:00:00\", \"price\": 22.47}, {\"symbol\": \"MSFT\", \"date\": \"2004-09-01T00:00:00\", \"price\": 22.76}, {\"symbol\": \"MSFT\", \"date\": \"2004-10-01T00:00:00\", \"price\": 23.02}, {\"symbol\": \"MSFT\", \"date\": \"2004-11-01T00:00:00\", \"price\": 24.6}, {\"symbol\": \"MSFT\", \"date\": \"2004-12-01T00:00:00\", \"price\": 24.52}, {\"symbol\": \"MSFT\", \"date\": \"2005-01-01T00:00:00\", \"price\": 24.11}, {\"symbol\": \"MSFT\", \"date\": \"2005-02-01T00:00:00\", \"price\": 23.15}, {\"symbol\": \"MSFT\", \"date\": \"2005-03-01T00:00:00\", \"price\": 22.24}, {\"symbol\": \"MSFT\", \"date\": \"2005-04-01T00:00:00\", \"price\": 23.28}, {\"symbol\": \"MSFT\", \"date\": \"2005-05-01T00:00:00\", \"price\": 23.82}, {\"symbol\": \"MSFT\", \"date\": \"2005-06-01T00:00:00\", \"price\": 22.93}, {\"symbol\": \"MSFT\", \"date\": \"2005-07-01T00:00:00\", \"price\": 23.64}, {\"symbol\": \"MSFT\", \"date\": \"2005-08-01T00:00:00\", \"price\": 25.35}, {\"symbol\": \"MSFT\", \"date\": \"2005-09-01T00:00:00\", \"price\": 23.83}, {\"symbol\": \"MSFT\", \"date\": \"2005-10-01T00:00:00\", \"price\": 23.8}, {\"symbol\": \"MSFT\", \"date\": \"2005-11-01T00:00:00\", \"price\": 25.71}, {\"symbol\": \"MSFT\", \"date\": \"2005-12-01T00:00:00\", \"price\": 24.29}, {\"symbol\": \"MSFT\", \"date\": \"2006-01-01T00:00:00\", \"price\": 26.14}, {\"symbol\": \"MSFT\", \"date\": \"2006-02-01T00:00:00\", \"price\": 25.04}, {\"symbol\": \"MSFT\", \"date\": \"2006-03-01T00:00:00\", \"price\": 25.36}, {\"symbol\": \"MSFT\", \"date\": \"2006-04-01T00:00:00\", \"price\": 22.5}, {\"symbol\": \"MSFT\", \"date\": \"2006-05-01T00:00:00\", \"price\": 21.19}, {\"symbol\": \"MSFT\", \"date\": \"2006-06-01T00:00:00\", \"price\": 21.8}, {\"symbol\": \"MSFT\", \"date\": \"2006-07-01T00:00:00\", \"price\": 22.51}, {\"symbol\": \"MSFT\", \"date\": \"2006-08-01T00:00:00\", \"price\": 24.13}, {\"symbol\": \"MSFT\", \"date\": \"2006-09-01T00:00:00\", \"price\": 25.68}, {\"symbol\": \"MSFT\", \"date\": \"2006-10-01T00:00:00\", \"price\": 26.96}, {\"symbol\": \"MSFT\", \"date\": \"2006-11-01T00:00:00\", \"price\": 27.66}, {\"symbol\": \"MSFT\", \"date\": \"2006-12-01T00:00:00\", \"price\": 28.13}, {\"symbol\": \"MSFT\", \"date\": \"2007-01-01T00:00:00\", \"price\": 29.07}, {\"symbol\": \"MSFT\", \"date\": \"2007-02-01T00:00:00\", \"price\": 26.63}, {\"symbol\": \"MSFT\", \"date\": \"2007-03-01T00:00:00\", \"price\": 26.35}, {\"symbol\": \"MSFT\", \"date\": \"2007-04-01T00:00:00\", \"price\": 28.3}, {\"symbol\": \"MSFT\", \"date\": \"2007-05-01T00:00:00\", \"price\": 29.11}, {\"symbol\": \"MSFT\", \"date\": \"2007-06-01T00:00:00\", \"price\": 27.95}, {\"symbol\": \"MSFT\", \"date\": \"2007-07-01T00:00:00\", \"price\": 27.5}, {\"symbol\": \"MSFT\", \"date\": \"2007-08-01T00:00:00\", \"price\": 27.34}, {\"symbol\": \"MSFT\", \"date\": \"2007-09-01T00:00:00\", \"price\": 28.04}, {\"symbol\": \"MSFT\", \"date\": \"2007-10-01T00:00:00\", \"price\": 35.03}, {\"symbol\": \"MSFT\", \"date\": \"2007-11-01T00:00:00\", \"price\": 32.09}, {\"symbol\": \"MSFT\", \"date\": \"2007-12-01T00:00:00\", \"price\": 34.0}, {\"symbol\": \"MSFT\", \"date\": \"2008-01-01T00:00:00\", \"price\": 31.13}, {\"symbol\": \"MSFT\", \"date\": \"2008-02-01T00:00:00\", \"price\": 26.07}, {\"symbol\": \"MSFT\", \"date\": \"2008-03-01T00:00:00\", \"price\": 27.21}, {\"symbol\": \"MSFT\", \"date\": \"2008-04-01T00:00:00\", \"price\": 27.34}, {\"symbol\": \"MSFT\", \"date\": \"2008-05-01T00:00:00\", \"price\": 27.25}, {\"symbol\": \"MSFT\", \"date\": \"2008-06-01T00:00:00\", \"price\": 26.47}, {\"symbol\": \"MSFT\", \"date\": \"2008-07-01T00:00:00\", \"price\": 24.75}, {\"symbol\": \"MSFT\", \"date\": \"2008-08-01T00:00:00\", \"price\": 26.36}, {\"symbol\": \"MSFT\", \"date\": \"2008-09-01T00:00:00\", \"price\": 25.78}, {\"symbol\": \"MSFT\", \"date\": \"2008-10-01T00:00:00\", \"price\": 21.57}, {\"symbol\": \"MSFT\", \"date\": \"2008-11-01T00:00:00\", \"price\": 19.66}, {\"symbol\": \"MSFT\", \"date\": \"2008-12-01T00:00:00\", \"price\": 18.91}, {\"symbol\": \"MSFT\", \"date\": \"2009-01-01T00:00:00\", \"price\": 16.63}, {\"symbol\": \"MSFT\", \"date\": \"2009-02-01T00:00:00\", \"price\": 15.81}, {\"symbol\": \"MSFT\", \"date\": \"2009-03-01T00:00:00\", \"price\": 17.99}, {\"symbol\": \"MSFT\", \"date\": \"2009-04-01T00:00:00\", \"price\": 19.84}, {\"symbol\": \"MSFT\", \"date\": \"2009-05-01T00:00:00\", \"price\": 20.59}, {\"symbol\": \"MSFT\", \"date\": \"2009-06-01T00:00:00\", \"price\": 23.42}, {\"symbol\": \"MSFT\", \"date\": \"2009-07-01T00:00:00\", \"price\": 23.18}, {\"symbol\": \"MSFT\", \"date\": \"2009-08-01T00:00:00\", \"price\": 24.43}, {\"symbol\": \"MSFT\", \"date\": \"2009-09-01T00:00:00\", \"price\": 25.49}, {\"symbol\": \"MSFT\", \"date\": \"2009-10-01T00:00:00\", \"price\": 27.48}, {\"symbol\": \"MSFT\", \"date\": \"2009-11-01T00:00:00\", \"price\": 29.27}, {\"symbol\": \"MSFT\", \"date\": \"2009-12-01T00:00:00\", \"price\": 30.34}, {\"symbol\": \"MSFT\", \"date\": \"2010-01-01T00:00:00\", \"price\": 28.05}, {\"symbol\": \"MSFT\", \"date\": \"2010-02-01T00:00:00\", \"price\": 28.67}, {\"symbol\": \"MSFT\", \"date\": \"2010-03-01T00:00:00\", \"price\": 28.8}, {\"symbol\": \"AMZN\", \"date\": \"2000-01-01T00:00:00\", \"price\": 64.56}, {\"symbol\": \"AMZN\", \"date\": \"2000-02-01T00:00:00\", \"price\": 68.87}, {\"symbol\": \"AMZN\", \"date\": \"2000-03-01T00:00:00\", \"price\": 67.0}, {\"symbol\": \"AMZN\", \"date\": \"2000-04-01T00:00:00\", \"price\": 55.19}, {\"symbol\": \"AMZN\", \"date\": \"2000-05-01T00:00:00\", \"price\": 48.31}, {\"symbol\": \"AMZN\", \"date\": \"2000-06-01T00:00:00\", \"price\": 36.31}, {\"symbol\": \"AMZN\", \"date\": \"2000-07-01T00:00:00\", \"price\": 30.12}, {\"symbol\": \"AMZN\", \"date\": \"2000-08-01T00:00:00\", \"price\": 41.5}, {\"symbol\": \"AMZN\", \"date\": \"2000-09-01T00:00:00\", \"price\": 38.44}, {\"symbol\": \"AMZN\", \"date\": \"2000-10-01T00:00:00\", \"price\": 36.62}, {\"symbol\": \"AMZN\", \"date\": \"2000-11-01T00:00:00\", \"price\": 24.69}, {\"symbol\": \"AMZN\", \"date\": \"2000-12-01T00:00:00\", \"price\": 15.56}, {\"symbol\": \"AMZN\", \"date\": \"2001-01-01T00:00:00\", \"price\": 17.31}, {\"symbol\": \"AMZN\", \"date\": \"2001-02-01T00:00:00\", \"price\": 10.19}, {\"symbol\": \"AMZN\", \"date\": \"2001-03-01T00:00:00\", \"price\": 10.23}, {\"symbol\": \"AMZN\", \"date\": \"2001-04-01T00:00:00\", \"price\": 15.78}, {\"symbol\": \"AMZN\", \"date\": \"2001-05-01T00:00:00\", \"price\": 16.69}, {\"symbol\": \"AMZN\", \"date\": \"2001-06-01T00:00:00\", \"price\": 14.15}, {\"symbol\": \"AMZN\", \"date\": \"2001-07-01T00:00:00\", \"price\": 12.49}, {\"symbol\": \"AMZN\", \"date\": \"2001-08-01T00:00:00\", \"price\": 8.94}, {\"symbol\": \"AMZN\", \"date\": \"2001-09-01T00:00:00\", \"price\": 5.97}, {\"symbol\": \"AMZN\", \"date\": \"2001-10-01T00:00:00\", \"price\": 6.98}, {\"symbol\": \"AMZN\", \"date\": \"2001-11-01T00:00:00\", \"price\": 11.32}, {\"symbol\": \"AMZN\", \"date\": \"2001-12-01T00:00:00\", \"price\": 10.82}, {\"symbol\": \"AMZN\", \"date\": \"2002-01-01T00:00:00\", \"price\": 14.19}, {\"symbol\": \"AMZN\", \"date\": \"2002-02-01T00:00:00\", \"price\": 14.1}, {\"symbol\": \"AMZN\", \"date\": \"2002-03-01T00:00:00\", \"price\": 14.3}, {\"symbol\": \"AMZN\", \"date\": \"2002-04-01T00:00:00\", \"price\": 16.69}, {\"symbol\": \"AMZN\", \"date\": \"2002-05-01T00:00:00\", \"price\": 18.23}, {\"symbol\": \"AMZN\", \"date\": \"2002-06-01T00:00:00\", \"price\": 16.25}, {\"symbol\": \"AMZN\", \"date\": \"2002-07-01T00:00:00\", \"price\": 14.45}, {\"symbol\": \"AMZN\", \"date\": \"2002-08-01T00:00:00\", \"price\": 14.94}, {\"symbol\": \"AMZN\", \"date\": \"2002-09-01T00:00:00\", \"price\": 15.93}, {\"symbol\": \"AMZN\", \"date\": \"2002-10-01T00:00:00\", \"price\": 19.36}, {\"symbol\": \"AMZN\", \"date\": \"2002-11-01T00:00:00\", \"price\": 23.35}, {\"symbol\": \"AMZN\", \"date\": \"2002-12-01T00:00:00\", \"price\": 18.89}, {\"symbol\": \"AMZN\", \"date\": \"2003-01-01T00:00:00\", \"price\": 21.85}, {\"symbol\": \"AMZN\", \"date\": \"2003-02-01T00:00:00\", \"price\": 22.01}, {\"symbol\": \"AMZN\", \"date\": \"2003-03-01T00:00:00\", \"price\": 26.03}, {\"symbol\": \"AMZN\", \"date\": \"2003-04-01T00:00:00\", \"price\": 28.69}, {\"symbol\": \"AMZN\", \"date\": \"2003-05-01T00:00:00\", \"price\": 35.89}, {\"symbol\": \"AMZN\", \"date\": \"2003-06-01T00:00:00\", \"price\": 36.32}, {\"symbol\": \"AMZN\", \"date\": \"2003-07-01T00:00:00\", \"price\": 41.64}, {\"symbol\": \"AMZN\", \"date\": \"2003-08-01T00:00:00\", \"price\": 46.32}, {\"symbol\": \"AMZN\", \"date\": \"2003-09-01T00:00:00\", \"price\": 48.43}, {\"symbol\": \"AMZN\", \"date\": \"2003-10-01T00:00:00\", \"price\": 54.43}, {\"symbol\": \"AMZN\", \"date\": \"2003-11-01T00:00:00\", \"price\": 53.97}, {\"symbol\": \"AMZN\", \"date\": \"2003-12-01T00:00:00\", \"price\": 52.62}, {\"symbol\": \"AMZN\", \"date\": \"2004-01-01T00:00:00\", \"price\": 50.4}, {\"symbol\": \"AMZN\", \"date\": \"2004-02-01T00:00:00\", \"price\": 43.01}, {\"symbol\": \"AMZN\", \"date\": \"2004-03-01T00:00:00\", \"price\": 43.28}, {\"symbol\": \"AMZN\", \"date\": \"2004-04-01T00:00:00\", \"price\": 43.6}, {\"symbol\": \"AMZN\", \"date\": \"2004-05-01T00:00:00\", \"price\": 48.5}, {\"symbol\": \"AMZN\", \"date\": \"2004-06-01T00:00:00\", \"price\": 54.4}, {\"symbol\": \"AMZN\", \"date\": \"2004-07-01T00:00:00\", \"price\": 38.92}, {\"symbol\": \"AMZN\", \"date\": \"2004-08-01T00:00:00\", \"price\": 38.14}, {\"symbol\": \"AMZN\", \"date\": \"2004-09-01T00:00:00\", \"price\": 40.86}, {\"symbol\": \"AMZN\", \"date\": \"2004-10-01T00:00:00\", \"price\": 34.13}, {\"symbol\": \"AMZN\", \"date\": \"2004-11-01T00:00:00\", \"price\": 39.68}, {\"symbol\": \"AMZN\", \"date\": \"2004-12-01T00:00:00\", \"price\": 44.29}, {\"symbol\": \"AMZN\", \"date\": \"2005-01-01T00:00:00\", \"price\": 43.22}, {\"symbol\": \"AMZN\", \"date\": \"2005-02-01T00:00:00\", \"price\": 35.18}, {\"symbol\": \"AMZN\", \"date\": \"2005-03-01T00:00:00\", \"price\": 34.27}, {\"symbol\": \"AMZN\", \"date\": \"2005-04-01T00:00:00\", \"price\": 32.36}, {\"symbol\": \"AMZN\", \"date\": \"2005-05-01T00:00:00\", \"price\": 35.51}, {\"symbol\": \"AMZN\", \"date\": \"2005-06-01T00:00:00\", \"price\": 33.09}, {\"symbol\": \"AMZN\", \"date\": \"2005-07-01T00:00:00\", \"price\": 45.15}, {\"symbol\": \"AMZN\", \"date\": \"2005-08-01T00:00:00\", \"price\": 42.7}, {\"symbol\": \"AMZN\", \"date\": \"2005-09-01T00:00:00\", \"price\": 45.3}, {\"symbol\": \"AMZN\", \"date\": \"2005-10-01T00:00:00\", \"price\": 39.86}, {\"symbol\": \"AMZN\", \"date\": \"2005-11-01T00:00:00\", \"price\": 48.46}, {\"symbol\": \"AMZN\", \"date\": \"2005-12-01T00:00:00\", \"price\": 47.15}, {\"symbol\": \"AMZN\", \"date\": \"2006-01-01T00:00:00\", \"price\": 44.82}, {\"symbol\": \"AMZN\", \"date\": \"2006-02-01T00:00:00\", \"price\": 37.44}, {\"symbol\": \"AMZN\", \"date\": \"2006-03-01T00:00:00\", \"price\": 36.53}, {\"symbol\": \"AMZN\", \"date\": \"2006-04-01T00:00:00\", \"price\": 35.21}, {\"symbol\": \"AMZN\", \"date\": \"2006-05-01T00:00:00\", \"price\": 34.61}, {\"symbol\": \"AMZN\", \"date\": \"2006-06-01T00:00:00\", \"price\": 38.68}, {\"symbol\": \"AMZN\", \"date\": \"2006-07-01T00:00:00\", \"price\": 26.89}, {\"symbol\": \"AMZN\", \"date\": \"2006-08-01T00:00:00\", \"price\": 30.83}, {\"symbol\": \"AMZN\", \"date\": \"2006-09-01T00:00:00\", \"price\": 32.12}, {\"symbol\": \"AMZN\", \"date\": \"2006-10-01T00:00:00\", \"price\": 38.09}, {\"symbol\": \"AMZN\", \"date\": \"2006-11-01T00:00:00\", \"price\": 40.34}, {\"symbol\": \"AMZN\", \"date\": \"2006-12-01T00:00:00\", \"price\": 39.46}, {\"symbol\": \"AMZN\", \"date\": \"2007-01-01T00:00:00\", \"price\": 37.67}, {\"symbol\": \"AMZN\", \"date\": \"2007-02-01T00:00:00\", \"price\": 39.14}, {\"symbol\": \"AMZN\", \"date\": \"2007-03-01T00:00:00\", \"price\": 39.79}, {\"symbol\": \"AMZN\", \"date\": \"2007-04-01T00:00:00\", \"price\": 61.33}, {\"symbol\": \"AMZN\", \"date\": \"2007-05-01T00:00:00\", \"price\": 69.14}, {\"symbol\": \"AMZN\", \"date\": \"2007-06-01T00:00:00\", \"price\": 68.41}, {\"symbol\": \"AMZN\", \"date\": \"2007-07-01T00:00:00\", \"price\": 78.54}, {\"symbol\": \"AMZN\", \"date\": \"2007-08-01T00:00:00\", \"price\": 79.91}, {\"symbol\": \"AMZN\", \"date\": \"2007-09-01T00:00:00\", \"price\": 93.15}, {\"symbol\": \"AMZN\", \"date\": \"2007-10-01T00:00:00\", \"price\": 89.15}, {\"symbol\": \"AMZN\", \"date\": \"2007-11-01T00:00:00\", \"price\": 90.56}, {\"symbol\": \"AMZN\", \"date\": \"2007-12-01T00:00:00\", \"price\": 92.64}, {\"symbol\": \"AMZN\", \"date\": \"2008-01-01T00:00:00\", \"price\": 77.7}, {\"symbol\": \"AMZN\", \"date\": \"2008-02-01T00:00:00\", \"price\": 64.47}, {\"symbol\": \"AMZN\", \"date\": \"2008-03-01T00:00:00\", \"price\": 71.3}, {\"symbol\": \"AMZN\", \"date\": \"2008-04-01T00:00:00\", \"price\": 78.63}, {\"symbol\": \"AMZN\", \"date\": \"2008-05-01T00:00:00\", \"price\": 81.62}, {\"symbol\": \"AMZN\", \"date\": \"2008-06-01T00:00:00\", \"price\": 73.33}, {\"symbol\": \"AMZN\", \"date\": \"2008-07-01T00:00:00\", \"price\": 76.34}, {\"symbol\": \"AMZN\", \"date\": \"2008-08-01T00:00:00\", \"price\": 80.81}, {\"symbol\": \"AMZN\", \"date\": \"2008-09-01T00:00:00\", \"price\": 72.76}, {\"symbol\": \"AMZN\", \"date\": \"2008-10-01T00:00:00\", \"price\": 57.24}, {\"symbol\": \"AMZN\", \"date\": \"2008-11-01T00:00:00\", \"price\": 42.7}, {\"symbol\": \"AMZN\", \"date\": \"2008-12-01T00:00:00\", \"price\": 51.28}, {\"symbol\": \"AMZN\", \"date\": \"2009-01-01T00:00:00\", \"price\": 58.82}, {\"symbol\": \"AMZN\", \"date\": \"2009-02-01T00:00:00\", \"price\": 64.79}, {\"symbol\": \"AMZN\", \"date\": \"2009-03-01T00:00:00\", \"price\": 73.44}, {\"symbol\": \"AMZN\", \"date\": \"2009-04-01T00:00:00\", \"price\": 80.52}, {\"symbol\": \"AMZN\", \"date\": \"2009-05-01T00:00:00\", \"price\": 77.99}, {\"symbol\": \"AMZN\", \"date\": \"2009-06-01T00:00:00\", \"price\": 83.66}, {\"symbol\": \"AMZN\", \"date\": \"2009-07-01T00:00:00\", \"price\": 85.76}, {\"symbol\": \"AMZN\", \"date\": \"2009-08-01T00:00:00\", \"price\": 81.19}, {\"symbol\": \"AMZN\", \"date\": \"2009-09-01T00:00:00\", \"price\": 93.36}, {\"symbol\": \"AMZN\", \"date\": \"2009-10-01T00:00:00\", \"price\": 118.81}, {\"symbol\": \"AMZN\", \"date\": \"2009-11-01T00:00:00\", \"price\": 135.91}, {\"symbol\": \"AMZN\", \"date\": \"2009-12-01T00:00:00\", \"price\": 134.52}, {\"symbol\": \"AMZN\", \"date\": \"2010-01-01T00:00:00\", \"price\": 125.41}, {\"symbol\": \"AMZN\", \"date\": \"2010-02-01T00:00:00\", \"price\": 118.4}, {\"symbol\": \"AMZN\", \"date\": \"2010-03-01T00:00:00\", \"price\": 128.82}, {\"symbol\": \"IBM\", \"date\": \"2000-01-01T00:00:00\", \"price\": 100.52}, {\"symbol\": \"IBM\", \"date\": \"2000-02-01T00:00:00\", \"price\": 92.11}, {\"symbol\": \"IBM\", \"date\": \"2000-03-01T00:00:00\", \"price\": 106.11}, {\"symbol\": \"IBM\", \"date\": \"2000-04-01T00:00:00\", \"price\": 99.95}, {\"symbol\": \"IBM\", \"date\": \"2000-05-01T00:00:00\", \"price\": 96.31}, {\"symbol\": \"IBM\", \"date\": \"2000-06-01T00:00:00\", \"price\": 98.33}, {\"symbol\": \"IBM\", \"date\": \"2000-07-01T00:00:00\", \"price\": 100.74}, {\"symbol\": \"IBM\", \"date\": \"2000-08-01T00:00:00\", \"price\": 118.62}, {\"symbol\": \"IBM\", \"date\": \"2000-09-01T00:00:00\", \"price\": 101.19}, {\"symbol\": \"IBM\", \"date\": \"2000-10-01T00:00:00\", \"price\": 88.5}, {\"symbol\": \"IBM\", \"date\": \"2000-11-01T00:00:00\", \"price\": 84.12}, {\"symbol\": \"IBM\", \"date\": \"2000-12-01T00:00:00\", \"price\": 76.47}, {\"symbol\": \"IBM\", \"date\": \"2001-01-01T00:00:00\", \"price\": 100.76}, {\"symbol\": \"IBM\", \"date\": \"2001-02-01T00:00:00\", \"price\": 89.98}, {\"symbol\": \"IBM\", \"date\": \"2001-03-01T00:00:00\", \"price\": 86.63}, {\"symbol\": \"IBM\", \"date\": \"2001-04-01T00:00:00\", \"price\": 103.7}, {\"symbol\": \"IBM\", \"date\": \"2001-05-01T00:00:00\", \"price\": 100.82}, {\"symbol\": \"IBM\", \"date\": \"2001-06-01T00:00:00\", \"price\": 102.35}, {\"symbol\": \"IBM\", \"date\": \"2001-07-01T00:00:00\", \"price\": 94.87}, {\"symbol\": \"IBM\", \"date\": \"2001-08-01T00:00:00\", \"price\": 90.25}, {\"symbol\": \"IBM\", \"date\": \"2001-09-01T00:00:00\", \"price\": 82.82}, {\"symbol\": \"IBM\", \"date\": \"2001-10-01T00:00:00\", \"price\": 97.58}, {\"symbol\": \"IBM\", \"date\": \"2001-11-01T00:00:00\", \"price\": 104.5}, {\"symbol\": \"IBM\", \"date\": \"2001-12-01T00:00:00\", \"price\": 109.36}, {\"symbol\": \"IBM\", \"date\": \"2002-01-01T00:00:00\", \"price\": 97.54}, {\"symbol\": \"IBM\", \"date\": \"2002-02-01T00:00:00\", \"price\": 88.82}, {\"symbol\": \"IBM\", \"date\": \"2002-03-01T00:00:00\", \"price\": 94.15}, {\"symbol\": \"IBM\", \"date\": \"2002-04-01T00:00:00\", \"price\": 75.82}, {\"symbol\": \"IBM\", \"date\": \"2002-05-01T00:00:00\", \"price\": 72.97}, {\"symbol\": \"IBM\", \"date\": \"2002-06-01T00:00:00\", \"price\": 65.31}, {\"symbol\": \"IBM\", \"date\": \"2002-07-01T00:00:00\", \"price\": 63.86}, {\"symbol\": \"IBM\", \"date\": \"2002-08-01T00:00:00\", \"price\": 68.52}, {\"symbol\": \"IBM\", \"date\": \"2002-09-01T00:00:00\", \"price\": 53.01}, {\"symbol\": \"IBM\", \"date\": \"2002-10-01T00:00:00\", \"price\": 71.76}, {\"symbol\": \"IBM\", \"date\": \"2002-11-01T00:00:00\", \"price\": 79.16}, {\"symbol\": \"IBM\", \"date\": \"2002-12-01T00:00:00\", \"price\": 70.58}, {\"symbol\": \"IBM\", \"date\": \"2003-01-01T00:00:00\", \"price\": 71.22}, {\"symbol\": \"IBM\", \"date\": \"2003-02-01T00:00:00\", \"price\": 71.13}, {\"symbol\": \"IBM\", \"date\": \"2003-03-01T00:00:00\", \"price\": 71.57}, {\"symbol\": \"IBM\", \"date\": \"2003-04-01T00:00:00\", \"price\": 77.47}, {\"symbol\": \"IBM\", \"date\": \"2003-05-01T00:00:00\", \"price\": 80.48}, {\"symbol\": \"IBM\", \"date\": \"2003-06-01T00:00:00\", \"price\": 75.42}, {\"symbol\": \"IBM\", \"date\": \"2003-07-01T00:00:00\", \"price\": 74.28}, {\"symbol\": \"IBM\", \"date\": \"2003-08-01T00:00:00\", \"price\": 75.12}, {\"symbol\": \"IBM\", \"date\": \"2003-09-01T00:00:00\", \"price\": 80.91}, {\"symbol\": \"IBM\", \"date\": \"2003-10-01T00:00:00\", \"price\": 81.96}, {\"symbol\": \"IBM\", \"date\": \"2003-11-01T00:00:00\", \"price\": 83.08}, {\"symbol\": \"IBM\", \"date\": \"2003-12-01T00:00:00\", \"price\": 85.05}, {\"symbol\": \"IBM\", \"date\": \"2004-01-01T00:00:00\", \"price\": 91.06}, {\"symbol\": \"IBM\", \"date\": \"2004-02-01T00:00:00\", \"price\": 88.7}, {\"symbol\": \"IBM\", \"date\": \"2004-03-01T00:00:00\", \"price\": 84.41}, {\"symbol\": \"IBM\", \"date\": \"2004-04-01T00:00:00\", \"price\": 81.04}, {\"symbol\": \"IBM\", \"date\": \"2004-05-01T00:00:00\", \"price\": 81.59}, {\"symbol\": \"IBM\", \"date\": \"2004-06-01T00:00:00\", \"price\": 81.19}, {\"symbol\": \"IBM\", \"date\": \"2004-07-01T00:00:00\", \"price\": 80.19}, {\"symbol\": \"IBM\", \"date\": \"2004-08-01T00:00:00\", \"price\": 78.17}, {\"symbol\": \"IBM\", \"date\": \"2004-09-01T00:00:00\", \"price\": 79.13}, {\"symbol\": \"IBM\", \"date\": \"2004-10-01T00:00:00\", \"price\": 82.84}, {\"symbol\": \"IBM\", \"date\": \"2004-11-01T00:00:00\", \"price\": 87.15}, {\"symbol\": \"IBM\", \"date\": \"2004-12-01T00:00:00\", \"price\": 91.16}, {\"symbol\": \"IBM\", \"date\": \"2005-01-01T00:00:00\", \"price\": 86.39}, {\"symbol\": \"IBM\", \"date\": \"2005-02-01T00:00:00\", \"price\": 85.78}, {\"symbol\": \"IBM\", \"date\": \"2005-03-01T00:00:00\", \"price\": 84.66}, {\"symbol\": \"IBM\", \"date\": \"2005-04-01T00:00:00\", \"price\": 70.77}, {\"symbol\": \"IBM\", \"date\": \"2005-05-01T00:00:00\", \"price\": 70.18}, {\"symbol\": \"IBM\", \"date\": \"2005-06-01T00:00:00\", \"price\": 68.93}, {\"symbol\": \"IBM\", \"date\": \"2005-07-01T00:00:00\", \"price\": 77.53}, {\"symbol\": \"IBM\", \"date\": \"2005-08-01T00:00:00\", \"price\": 75.07}, {\"symbol\": \"IBM\", \"date\": \"2005-09-01T00:00:00\", \"price\": 74.7}, {\"symbol\": \"IBM\", \"date\": \"2005-10-01T00:00:00\", \"price\": 76.25}, {\"symbol\": \"IBM\", \"date\": \"2005-11-01T00:00:00\", \"price\": 82.98}, {\"symbol\": \"IBM\", \"date\": \"2005-12-01T00:00:00\", \"price\": 76.73}, {\"symbol\": \"IBM\", \"date\": \"2006-01-01T00:00:00\", \"price\": 75.89}, {\"symbol\": \"IBM\", \"date\": \"2006-02-01T00:00:00\", \"price\": 75.09}, {\"symbol\": \"IBM\", \"date\": \"2006-03-01T00:00:00\", \"price\": 77.17}, {\"symbol\": \"IBM\", \"date\": \"2006-04-01T00:00:00\", \"price\": 77.05}, {\"symbol\": \"IBM\", \"date\": \"2006-05-01T00:00:00\", \"price\": 75.04}, {\"symbol\": \"IBM\", \"date\": \"2006-06-01T00:00:00\", \"price\": 72.15}, {\"symbol\": \"IBM\", \"date\": \"2006-07-01T00:00:00\", \"price\": 72.7}, {\"symbol\": \"IBM\", \"date\": \"2006-08-01T00:00:00\", \"price\": 76.35}, {\"symbol\": \"IBM\", \"date\": \"2006-09-01T00:00:00\", \"price\": 77.26}, {\"symbol\": \"IBM\", \"date\": \"2006-10-01T00:00:00\", \"price\": 87.06}, {\"symbol\": \"IBM\", \"date\": \"2006-11-01T00:00:00\", \"price\": 86.95}, {\"symbol\": \"IBM\", \"date\": \"2006-12-01T00:00:00\", \"price\": 91.9}, {\"symbol\": \"IBM\", \"date\": \"2007-01-01T00:00:00\", \"price\": 93.79}, {\"symbol\": \"IBM\", \"date\": \"2007-02-01T00:00:00\", \"price\": 88.18}, {\"symbol\": \"IBM\", \"date\": \"2007-03-01T00:00:00\", \"price\": 89.44}, {\"symbol\": \"IBM\", \"date\": \"2007-04-01T00:00:00\", \"price\": 96.98}, {\"symbol\": \"IBM\", \"date\": \"2007-05-01T00:00:00\", \"price\": 101.54}, {\"symbol\": \"IBM\", \"date\": \"2007-06-01T00:00:00\", \"price\": 100.25}, {\"symbol\": \"IBM\", \"date\": \"2007-07-01T00:00:00\", \"price\": 105.4}, {\"symbol\": \"IBM\", \"date\": \"2007-08-01T00:00:00\", \"price\": 111.54}, {\"symbol\": \"IBM\", \"date\": \"2007-09-01T00:00:00\", \"price\": 112.6}, {\"symbol\": \"IBM\", \"date\": \"2007-10-01T00:00:00\", \"price\": 111.0}, {\"symbol\": \"IBM\", \"date\": \"2007-11-01T00:00:00\", \"price\": 100.9}, {\"symbol\": \"IBM\", \"date\": \"2007-12-01T00:00:00\", \"price\": 103.7}, {\"symbol\": \"IBM\", \"date\": \"2008-01-01T00:00:00\", \"price\": 102.75}, {\"symbol\": \"IBM\", \"date\": \"2008-02-01T00:00:00\", \"price\": 109.64}, {\"symbol\": \"IBM\", \"date\": \"2008-03-01T00:00:00\", \"price\": 110.87}, {\"symbol\": \"IBM\", \"date\": \"2008-04-01T00:00:00\", \"price\": 116.23}, {\"symbol\": \"IBM\", \"date\": \"2008-05-01T00:00:00\", \"price\": 125.14}, {\"symbol\": \"IBM\", \"date\": \"2008-06-01T00:00:00\", \"price\": 114.6}, {\"symbol\": \"IBM\", \"date\": \"2008-07-01T00:00:00\", \"price\": 123.74}, {\"symbol\": \"IBM\", \"date\": \"2008-08-01T00:00:00\", \"price\": 118.16}, {\"symbol\": \"IBM\", \"date\": \"2008-09-01T00:00:00\", \"price\": 113.53}, {\"symbol\": \"IBM\", \"date\": \"2008-10-01T00:00:00\", \"price\": 90.24}, {\"symbol\": \"IBM\", \"date\": \"2008-11-01T00:00:00\", \"price\": 79.65}, {\"symbol\": \"IBM\", \"date\": \"2008-12-01T00:00:00\", \"price\": 82.15}, {\"symbol\": \"IBM\", \"date\": \"2009-01-01T00:00:00\", \"price\": 89.46}, {\"symbol\": \"IBM\", \"date\": \"2009-02-01T00:00:00\", \"price\": 90.32}, {\"symbol\": \"IBM\", \"date\": \"2009-03-01T00:00:00\", \"price\": 95.09}, {\"symbol\": \"IBM\", \"date\": \"2009-04-01T00:00:00\", \"price\": 101.29}, {\"symbol\": \"IBM\", \"date\": \"2009-05-01T00:00:00\", \"price\": 104.85}, {\"symbol\": \"IBM\", \"date\": \"2009-06-01T00:00:00\", \"price\": 103.01}, {\"symbol\": \"IBM\", \"date\": \"2009-07-01T00:00:00\", \"price\": 116.34}, {\"symbol\": \"IBM\", \"date\": \"2009-08-01T00:00:00\", \"price\": 117.0}, {\"symbol\": \"IBM\", \"date\": \"2009-09-01T00:00:00\", \"price\": 118.55}, {\"symbol\": \"IBM\", \"date\": \"2009-10-01T00:00:00\", \"price\": 119.54}, {\"symbol\": \"IBM\", \"date\": \"2009-11-01T00:00:00\", \"price\": 125.79}, {\"symbol\": \"IBM\", \"date\": \"2009-12-01T00:00:00\", \"price\": 130.32}, {\"symbol\": \"IBM\", \"date\": \"2010-01-01T00:00:00\", \"price\": 121.85}, {\"symbol\": \"IBM\", \"date\": \"2010-02-01T00:00:00\", \"price\": 127.16}, {\"symbol\": \"IBM\", \"date\": \"2010-03-01T00:00:00\", \"price\": 125.55}, {\"symbol\": \"GOOG\", \"date\": \"2004-08-01T00:00:00\", \"price\": 102.37}, {\"symbol\": \"GOOG\", \"date\": \"2004-09-01T00:00:00\", \"price\": 129.6}, {\"symbol\": \"GOOG\", \"date\": \"2004-10-01T00:00:00\", \"price\": 190.64}, {\"symbol\": \"GOOG\", \"date\": \"2004-11-01T00:00:00\", \"price\": 181.98}, {\"symbol\": \"GOOG\", \"date\": \"2004-12-01T00:00:00\", \"price\": 192.79}, {\"symbol\": \"GOOG\", \"date\": \"2005-01-01T00:00:00\", \"price\": 195.62}, {\"symbol\": \"GOOG\", \"date\": \"2005-02-01T00:00:00\", \"price\": 187.99}, {\"symbol\": \"GOOG\", \"date\": \"2005-03-01T00:00:00\", \"price\": 180.51}, {\"symbol\": \"GOOG\", \"date\": \"2005-04-01T00:00:00\", \"price\": 220.0}, {\"symbol\": \"GOOG\", \"date\": \"2005-05-01T00:00:00\", \"price\": 277.27}, {\"symbol\": \"GOOG\", \"date\": \"2005-06-01T00:00:00\", \"price\": 294.15}, {\"symbol\": \"GOOG\", \"date\": \"2005-07-01T00:00:00\", \"price\": 287.76}, {\"symbol\": \"GOOG\", \"date\": \"2005-08-01T00:00:00\", \"price\": 286.0}, {\"symbol\": \"GOOG\", \"date\": \"2005-09-01T00:00:00\", \"price\": 316.46}, {\"symbol\": \"GOOG\", \"date\": \"2005-10-01T00:00:00\", \"price\": 372.14}, {\"symbol\": \"GOOG\", \"date\": \"2005-11-01T00:00:00\", \"price\": 404.91}, {\"symbol\": \"GOOG\", \"date\": \"2005-12-01T00:00:00\", \"price\": 414.86}, {\"symbol\": \"GOOG\", \"date\": \"2006-01-01T00:00:00\", \"price\": 432.66}, {\"symbol\": \"GOOG\", \"date\": \"2006-02-01T00:00:00\", \"price\": 362.62}, {\"symbol\": \"GOOG\", \"date\": \"2006-03-01T00:00:00\", \"price\": 390.0}, {\"symbol\": \"GOOG\", \"date\": \"2006-04-01T00:00:00\", \"price\": 417.94}, {\"symbol\": \"GOOG\", \"date\": \"2006-05-01T00:00:00\", \"price\": 371.82}, {\"symbol\": \"GOOG\", \"date\": \"2006-06-01T00:00:00\", \"price\": 419.33}, {\"symbol\": \"GOOG\", \"date\": \"2006-07-01T00:00:00\", \"price\": 386.6}, {\"symbol\": \"GOOG\", \"date\": \"2006-08-01T00:00:00\", \"price\": 378.53}, {\"symbol\": \"GOOG\", \"date\": \"2006-09-01T00:00:00\", \"price\": 401.9}, {\"symbol\": \"GOOG\", \"date\": \"2006-10-01T00:00:00\", \"price\": 476.39}, {\"symbol\": \"GOOG\", \"date\": \"2006-11-01T00:00:00\", \"price\": 484.81}, {\"symbol\": \"GOOG\", \"date\": \"2006-12-01T00:00:00\", \"price\": 460.48}, {\"symbol\": \"GOOG\", \"date\": \"2007-01-01T00:00:00\", \"price\": 501.5}, {\"symbol\": \"GOOG\", \"date\": \"2007-02-01T00:00:00\", \"price\": 449.45}, {\"symbol\": \"GOOG\", \"date\": \"2007-03-01T00:00:00\", \"price\": 458.16}, {\"symbol\": \"GOOG\", \"date\": \"2007-04-01T00:00:00\", \"price\": 471.38}, {\"symbol\": \"GOOG\", \"date\": \"2007-05-01T00:00:00\", \"price\": 497.91}, {\"symbol\": \"GOOG\", \"date\": \"2007-06-01T00:00:00\", \"price\": 522.7}, {\"symbol\": \"GOOG\", \"date\": \"2007-07-01T00:00:00\", \"price\": 510.0}, {\"symbol\": \"GOOG\", \"date\": \"2007-08-01T00:00:00\", \"price\": 515.25}, {\"symbol\": \"GOOG\", \"date\": \"2007-09-01T00:00:00\", \"price\": 567.27}, {\"symbol\": \"GOOG\", \"date\": \"2007-10-01T00:00:00\", \"price\": 707.0}, {\"symbol\": \"GOOG\", \"date\": \"2007-11-01T00:00:00\", \"price\": 693.0}, {\"symbol\": \"GOOG\", \"date\": \"2007-12-01T00:00:00\", \"price\": 691.48}, {\"symbol\": \"GOOG\", \"date\": \"2008-01-01T00:00:00\", \"price\": 564.3}, {\"symbol\": \"GOOG\", \"date\": \"2008-02-01T00:00:00\", \"price\": 471.18}, {\"symbol\": \"GOOG\", \"date\": \"2008-03-01T00:00:00\", \"price\": 440.47}, {\"symbol\": \"GOOG\", \"date\": \"2008-04-01T00:00:00\", \"price\": 574.29}, {\"symbol\": \"GOOG\", \"date\": \"2008-05-01T00:00:00\", \"price\": 585.8}, {\"symbol\": \"GOOG\", \"date\": \"2008-06-01T00:00:00\", \"price\": 526.42}, {\"symbol\": \"GOOG\", \"date\": \"2008-07-01T00:00:00\", \"price\": 473.75}, {\"symbol\": \"GOOG\", \"date\": \"2008-08-01T00:00:00\", \"price\": 463.29}, {\"symbol\": \"GOOG\", \"date\": \"2008-09-01T00:00:00\", \"price\": 400.52}, {\"symbol\": \"GOOG\", \"date\": \"2008-10-01T00:00:00\", \"price\": 359.36}, {\"symbol\": \"GOOG\", \"date\": \"2008-11-01T00:00:00\", \"price\": 292.96}, {\"symbol\": \"GOOG\", \"date\": \"2008-12-01T00:00:00\", \"price\": 307.65}, {\"symbol\": \"GOOG\", \"date\": \"2009-01-01T00:00:00\", \"price\": 338.53}, {\"symbol\": \"GOOG\", \"date\": \"2009-02-01T00:00:00\", \"price\": 337.99}, {\"symbol\": \"GOOG\", \"date\": \"2009-03-01T00:00:00\", \"price\": 348.06}, {\"symbol\": \"GOOG\", \"date\": \"2009-04-01T00:00:00\", \"price\": 395.97}, {\"symbol\": \"GOOG\", \"date\": \"2009-05-01T00:00:00\", \"price\": 417.23}, {\"symbol\": \"GOOG\", \"date\": \"2009-06-01T00:00:00\", \"price\": 421.59}, {\"symbol\": \"GOOG\", \"date\": \"2009-07-01T00:00:00\", \"price\": 443.05}, {\"symbol\": \"GOOG\", \"date\": \"2009-08-01T00:00:00\", \"price\": 461.67}, {\"symbol\": \"GOOG\", \"date\": \"2009-09-01T00:00:00\", \"price\": 495.85}, {\"symbol\": \"GOOG\", \"date\": \"2009-10-01T00:00:00\", \"price\": 536.12}, {\"symbol\": \"GOOG\", \"date\": \"2009-11-01T00:00:00\", \"price\": 583.0}, {\"symbol\": \"GOOG\", \"date\": \"2009-12-01T00:00:00\", \"price\": 619.98}, {\"symbol\": \"GOOG\", \"date\": \"2010-01-01T00:00:00\", \"price\": 529.94}, {\"symbol\": \"GOOG\", \"date\": \"2010-02-01T00:00:00\", \"price\": 526.8}, {\"symbol\": \"GOOG\", \"date\": \"2010-03-01T00:00:00\", \"price\": 560.19}, {\"symbol\": \"AAPL\", \"date\": \"2000-01-01T00:00:00\", \"price\": 25.94}, {\"symbol\": \"AAPL\", \"date\": \"2000-02-01T00:00:00\", \"price\": 28.66}, {\"symbol\": \"AAPL\", \"date\": \"2000-03-01T00:00:00\", \"price\": 33.95}, {\"symbol\": \"AAPL\", \"date\": \"2000-04-01T00:00:00\", \"price\": 31.01}, {\"symbol\": \"AAPL\", \"date\": \"2000-05-01T00:00:00\", \"price\": 21.0}, {\"symbol\": \"AAPL\", \"date\": \"2000-06-01T00:00:00\", \"price\": 26.19}, {\"symbol\": \"AAPL\", \"date\": \"2000-07-01T00:00:00\", \"price\": 25.41}, {\"symbol\": \"AAPL\", \"date\": \"2000-08-01T00:00:00\", \"price\": 30.47}, {\"symbol\": \"AAPL\", \"date\": \"2000-09-01T00:00:00\", \"price\": 12.88}, {\"symbol\": \"AAPL\", \"date\": \"2000-10-01T00:00:00\", \"price\": 9.78}, {\"symbol\": \"AAPL\", \"date\": \"2000-11-01T00:00:00\", \"price\": 8.25}, {\"symbol\": \"AAPL\", \"date\": \"2000-12-01T00:00:00\", \"price\": 7.44}, {\"symbol\": \"AAPL\", \"date\": \"2001-01-01T00:00:00\", \"price\": 10.81}, {\"symbol\": \"AAPL\", \"date\": \"2001-02-01T00:00:00\", \"price\": 9.12}, {\"symbol\": \"AAPL\", \"date\": \"2001-03-01T00:00:00\", \"price\": 11.03}, {\"symbol\": \"AAPL\", \"date\": \"2001-04-01T00:00:00\", \"price\": 12.74}, {\"symbol\": \"AAPL\", \"date\": \"2001-05-01T00:00:00\", \"price\": 9.98}, {\"symbol\": \"AAPL\", \"date\": \"2001-06-01T00:00:00\", \"price\": 11.62}, {\"symbol\": \"AAPL\", \"date\": \"2001-07-01T00:00:00\", \"price\": 9.4}, {\"symbol\": \"AAPL\", \"date\": \"2001-08-01T00:00:00\", \"price\": 9.27}, {\"symbol\": \"AAPL\", \"date\": \"2001-09-01T00:00:00\", \"price\": 7.76}, {\"symbol\": \"AAPL\", \"date\": \"2001-10-01T00:00:00\", \"price\": 8.78}, {\"symbol\": \"AAPL\", \"date\": \"2001-11-01T00:00:00\", \"price\": 10.65}, {\"symbol\": \"AAPL\", \"date\": \"2001-12-01T00:00:00\", \"price\": 10.95}, {\"symbol\": \"AAPL\", \"date\": \"2002-01-01T00:00:00\", \"price\": 12.36}, {\"symbol\": \"AAPL\", \"date\": \"2002-02-01T00:00:00\", \"price\": 10.85}, {\"symbol\": \"AAPL\", \"date\": \"2002-03-01T00:00:00\", \"price\": 11.84}, {\"symbol\": \"AAPL\", \"date\": \"2002-04-01T00:00:00\", \"price\": 12.14}, {\"symbol\": \"AAPL\", \"date\": \"2002-05-01T00:00:00\", \"price\": 11.65}, {\"symbol\": \"AAPL\", \"date\": \"2002-06-01T00:00:00\", \"price\": 8.86}, {\"symbol\": \"AAPL\", \"date\": \"2002-07-01T00:00:00\", \"price\": 7.63}, {\"symbol\": \"AAPL\", \"date\": \"2002-08-01T00:00:00\", \"price\": 7.38}, {\"symbol\": \"AAPL\", \"date\": \"2002-09-01T00:00:00\", \"price\": 7.25}, {\"symbol\": \"AAPL\", \"date\": \"2002-10-01T00:00:00\", \"price\": 8.03}, {\"symbol\": \"AAPL\", \"date\": \"2002-11-01T00:00:00\", \"price\": 7.75}, {\"symbol\": \"AAPL\", \"date\": \"2002-12-01T00:00:00\", \"price\": 7.16}, {\"symbol\": \"AAPL\", \"date\": \"2003-01-01T00:00:00\", \"price\": 7.18}, {\"symbol\": \"AAPL\", \"date\": \"2003-02-01T00:00:00\", \"price\": 7.51}, {\"symbol\": \"AAPL\", \"date\": \"2003-03-01T00:00:00\", \"price\": 7.07}, {\"symbol\": \"AAPL\", \"date\": \"2003-04-01T00:00:00\", \"price\": 7.11}, {\"symbol\": \"AAPL\", \"date\": \"2003-05-01T00:00:00\", \"price\": 8.98}, {\"symbol\": \"AAPL\", \"date\": \"2003-06-01T00:00:00\", \"price\": 9.53}, {\"symbol\": \"AAPL\", \"date\": \"2003-07-01T00:00:00\", \"price\": 10.54}, {\"symbol\": \"AAPL\", \"date\": \"2003-08-01T00:00:00\", \"price\": 11.31}, {\"symbol\": \"AAPL\", \"date\": \"2003-09-01T00:00:00\", \"price\": 10.36}, {\"symbol\": \"AAPL\", \"date\": \"2003-10-01T00:00:00\", \"price\": 11.44}, {\"symbol\": \"AAPL\", \"date\": \"2003-11-01T00:00:00\", \"price\": 10.45}, {\"symbol\": \"AAPL\", \"date\": \"2003-12-01T00:00:00\", \"price\": 10.69}, {\"symbol\": \"AAPL\", \"date\": \"2004-01-01T00:00:00\", \"price\": 11.28}, {\"symbol\": \"AAPL\", \"date\": \"2004-02-01T00:00:00\", \"price\": 11.96}, {\"symbol\": \"AAPL\", \"date\": \"2004-03-01T00:00:00\", \"price\": 13.52}, {\"symbol\": \"AAPL\", \"date\": \"2004-04-01T00:00:00\", \"price\": 12.89}, {\"symbol\": \"AAPL\", \"date\": \"2004-05-01T00:00:00\", \"price\": 14.03}, {\"symbol\": \"AAPL\", \"date\": \"2004-06-01T00:00:00\", \"price\": 16.27}, {\"symbol\": \"AAPL\", \"date\": \"2004-07-01T00:00:00\", \"price\": 16.17}, {\"symbol\": \"AAPL\", \"date\": \"2004-08-01T00:00:00\", \"price\": 17.25}, {\"symbol\": \"AAPL\", \"date\": \"2004-09-01T00:00:00\", \"price\": 19.38}, {\"symbol\": \"AAPL\", \"date\": \"2004-10-01T00:00:00\", \"price\": 26.2}, {\"symbol\": \"AAPL\", \"date\": \"2004-11-01T00:00:00\", \"price\": 33.53}, {\"symbol\": \"AAPL\", \"date\": \"2004-12-01T00:00:00\", \"price\": 32.2}, {\"symbol\": \"AAPL\", \"date\": \"2005-01-01T00:00:00\", \"price\": 38.45}, {\"symbol\": \"AAPL\", \"date\": \"2005-02-01T00:00:00\", \"price\": 44.86}, {\"symbol\": \"AAPL\", \"date\": \"2005-03-01T00:00:00\", \"price\": 41.67}, {\"symbol\": \"AAPL\", \"date\": \"2005-04-01T00:00:00\", \"price\": 36.06}, {\"symbol\": \"AAPL\", \"date\": \"2005-05-01T00:00:00\", \"price\": 39.76}, {\"symbol\": \"AAPL\", \"date\": \"2005-06-01T00:00:00\", \"price\": 36.81}, {\"symbol\": \"AAPL\", \"date\": \"2005-07-01T00:00:00\", \"price\": 42.65}, {\"symbol\": \"AAPL\", \"date\": \"2005-08-01T00:00:00\", \"price\": 46.89}, {\"symbol\": \"AAPL\", \"date\": \"2005-09-01T00:00:00\", \"price\": 53.61}, {\"symbol\": \"AAPL\", \"date\": \"2005-10-01T00:00:00\", \"price\": 57.59}, {\"symbol\": \"AAPL\", \"date\": \"2005-11-01T00:00:00\", \"price\": 67.82}, {\"symbol\": \"AAPL\", \"date\": \"2005-12-01T00:00:00\", \"price\": 71.89}, {\"symbol\": \"AAPL\", \"date\": \"2006-01-01T00:00:00\", \"price\": 75.51}, {\"symbol\": \"AAPL\", \"date\": \"2006-02-01T00:00:00\", \"price\": 68.49}, {\"symbol\": \"AAPL\", \"date\": \"2006-03-01T00:00:00\", \"price\": 62.72}, {\"symbol\": \"AAPL\", \"date\": \"2006-04-01T00:00:00\", \"price\": 70.39}, {\"symbol\": \"AAPL\", \"date\": \"2006-05-01T00:00:00\", \"price\": 59.77}, {\"symbol\": \"AAPL\", \"date\": \"2006-06-01T00:00:00\", \"price\": 57.27}, {\"symbol\": \"AAPL\", \"date\": \"2006-07-01T00:00:00\", \"price\": 67.96}, {\"symbol\": \"AAPL\", \"date\": \"2006-08-01T00:00:00\", \"price\": 67.85}, {\"symbol\": \"AAPL\", \"date\": \"2006-09-01T00:00:00\", \"price\": 76.98}, {\"symbol\": \"AAPL\", \"date\": \"2006-10-01T00:00:00\", \"price\": 81.08}, {\"symbol\": \"AAPL\", \"date\": \"2006-11-01T00:00:00\", \"price\": 91.66}, {\"symbol\": \"AAPL\", \"date\": \"2006-12-01T00:00:00\", \"price\": 84.84}, {\"symbol\": \"AAPL\", \"date\": \"2007-01-01T00:00:00\", \"price\": 85.73}, {\"symbol\": \"AAPL\", \"date\": \"2007-02-01T00:00:00\", \"price\": 84.61}, {\"symbol\": \"AAPL\", \"date\": \"2007-03-01T00:00:00\", \"price\": 92.91}, {\"symbol\": \"AAPL\", \"date\": \"2007-04-01T00:00:00\", \"price\": 99.8}, {\"symbol\": \"AAPL\", \"date\": \"2007-05-01T00:00:00\", \"price\": 121.19}, {\"symbol\": \"AAPL\", \"date\": \"2007-06-01T00:00:00\", \"price\": 122.04}, {\"symbol\": \"AAPL\", \"date\": \"2007-07-01T00:00:00\", \"price\": 131.76}, {\"symbol\": \"AAPL\", \"date\": \"2007-08-01T00:00:00\", \"price\": 138.48}, {\"symbol\": \"AAPL\", \"date\": \"2007-09-01T00:00:00\", \"price\": 153.47}, {\"symbol\": \"AAPL\", \"date\": \"2007-10-01T00:00:00\", \"price\": 189.95}, {\"symbol\": \"AAPL\", \"date\": \"2007-11-01T00:00:00\", \"price\": 182.22}, {\"symbol\": \"AAPL\", \"date\": \"2007-12-01T00:00:00\", \"price\": 198.08}, {\"symbol\": \"AAPL\", \"date\": \"2008-01-01T00:00:00\", \"price\": 135.36}, {\"symbol\": \"AAPL\", \"date\": \"2008-02-01T00:00:00\", \"price\": 125.02}, {\"symbol\": \"AAPL\", \"date\": \"2008-03-01T00:00:00\", \"price\": 143.5}, {\"symbol\": \"AAPL\", \"date\": \"2008-04-01T00:00:00\", \"price\": 173.95}, {\"symbol\": \"AAPL\", \"date\": \"2008-05-01T00:00:00\", \"price\": 188.75}, {\"symbol\": \"AAPL\", \"date\": \"2008-06-01T00:00:00\", \"price\": 167.44}, {\"symbol\": \"AAPL\", \"date\": \"2008-07-01T00:00:00\", \"price\": 158.95}, {\"symbol\": \"AAPL\", \"date\": \"2008-08-01T00:00:00\", \"price\": 169.53}, {\"symbol\": \"AAPL\", \"date\": \"2008-09-01T00:00:00\", \"price\": 113.66}, {\"symbol\": \"AAPL\", \"date\": \"2008-10-01T00:00:00\", \"price\": 107.59}, {\"symbol\": \"AAPL\", \"date\": \"2008-11-01T00:00:00\", \"price\": 92.67}, {\"symbol\": \"AAPL\", \"date\": \"2008-12-01T00:00:00\", \"price\": 85.35}, {\"symbol\": \"AAPL\", \"date\": \"2009-01-01T00:00:00\", \"price\": 90.13}, {\"symbol\": \"AAPL\", \"date\": \"2009-02-01T00:00:00\", \"price\": 89.31}, {\"symbol\": \"AAPL\", \"date\": \"2009-03-01T00:00:00\", \"price\": 105.12}, {\"symbol\": \"AAPL\", \"date\": \"2009-04-01T00:00:00\", \"price\": 125.83}, {\"symbol\": \"AAPL\", \"date\": \"2009-05-01T00:00:00\", \"price\": 135.81}, {\"symbol\": \"AAPL\", \"date\": \"2009-06-01T00:00:00\", \"price\": 142.43}, {\"symbol\": \"AAPL\", \"date\": \"2009-07-01T00:00:00\", \"price\": 163.39}, {\"symbol\": \"AAPL\", \"date\": \"2009-08-01T00:00:00\", \"price\": 168.21}, {\"symbol\": \"AAPL\", \"date\": \"2009-09-01T00:00:00\", \"price\": 185.35}, {\"symbol\": \"AAPL\", \"date\": \"2009-10-01T00:00:00\", \"price\": 188.5}, {\"symbol\": \"AAPL\", \"date\": \"2009-11-01T00:00:00\", \"price\": 199.91}, {\"symbol\": \"AAPL\", \"date\": \"2009-12-01T00:00:00\", \"price\": 210.73}, {\"symbol\": \"AAPL\", \"date\": \"2010-01-01T00:00:00\", \"price\": 192.06}, {\"symbol\": \"AAPL\", \"date\": \"2010-02-01T00:00:00\", \"price\": 204.62}, {\"symbol\": \"AAPL\", \"date\": \"2010-03-01T00:00:00\", \"price\": 223.02}]}};\n",
              "      var embedOpt = {\"mode\": \"vega-lite\"};\n",
              "\n",
              "      function showError(el, error){\n",
              "          el.innerHTML = ('<div class=\"error\" style=\"color:red;\">'\n",
              "                          + '<p>JavaScript Error: ' + error.message + '</p>'\n",
              "                          + \"<p>This usually means there's a typo in your chart specification. \"\n",
              "                          + \"See the javascript console for the full traceback.</p>\"\n",
              "                          + '</div>');\n",
              "          throw error;\n",
              "      }\n",
              "      const el = document.getElementById('altair-viz');\n",
              "      vegaEmbed(\"#altair-viz\", spec, embedOpt)\n",
              "        .catch(error => showError(el, error));\n",
              "    })(vegaEmbed);\n",
              "\n",
              "  </script>\n",
              "</body>\n",
              "</html>"
            ]
          },
          "metadata": {
            "tags": []
          },
          "execution_count": 54
        }
      ]
    },
    {
      "cell_type": "code",
      "metadata": {
        "id": "If_KhnWB2lMR",
        "colab_type": "code",
        "colab": {
          "base_uri": "https://localhost:8080/",
          "height": 368
        },
        "outputId": "acbf4acc-fd54-4823-bf80-b3436829a658"
      },
      "source": [
        "# load an example dataset\n",
        "from vega_datasets import data\n",
        "cars = data.cars()\n",
        "\n",
        "import altair as alt\n",
        "\n",
        "interval = alt.selection_interval()\n",
        "\n",
        "alt.Chart(cars).mark_point().encode(\n",
        "  x='Horsepower',\n",
        "  y='Miles_per_Gallon',\n",
        "  color=alt.condition(interval, 'Origin', alt.value('lightgray'))\n",
        ").properties(\n",
        "  selection=interval\n",
        ")"
      ],
      "execution_count": 55,
      "outputs": [
        {
          "output_type": "execute_result",
          "data": {
            "text/plain": [
              "alt.Chart(...)"
            ],
            "text/html": [
              "<!DOCTYPE html>\n",
              "<html>\n",
              "<head>\n",
              "  <style>\n",
              "    .vega-actions a {\n",
              "        margin-right: 12px;\n",
              "        color: #757575;\n",
              "        font-weight: normal;\n",
              "        font-size: 13px;\n",
              "    }\n",
              "    .error {\n",
              "        color: red;\n",
              "    }\n",
              "  </style>\n",
              "  <script type=\"text/javascript\" src=\"https://cdn.jsdelivr.net/npm//vega@5\"></script>\n",
              "  <script type=\"text/javascript\" src=\"https://cdn.jsdelivr.net/npm//vega-lite@3.4.0\"></script>\n",
              "  <script type=\"text/javascript\" src=\"https://cdn.jsdelivr.net/npm//vega-embed@4\"></script>\n",
              "</head>\n",
              "<body>\n",
              "  <div id=\"altair-viz\"></div>\n",
              "  <script>\n",
              "    (function(vegaEmbed) {\n",
              "      var spec = {\"config\": {\"view\": {\"width\": 400, \"height\": 300}, \"mark\": {\"tooltip\": null}}, \"data\": {\"name\": \"data-f02450ab61490a1363517a0190416235\"}, \"mark\": \"point\", \"encoding\": {\"color\": {\"condition\": {\"type\": \"nominal\", \"field\": \"Origin\", \"selection\": \"selector002\"}, \"value\": \"lightgray\"}, \"x\": {\"type\": \"quantitative\", \"field\": \"Horsepower\"}, \"y\": {\"type\": \"quantitative\", \"field\": \"Miles_per_Gallon\"}}, \"selection\": {\"selector002\": {\"type\": \"interval\"}}, \"$schema\": \"https://vega.github.io/schema/vega-lite/v3.4.0.json\", \"datasets\": {\"data-f02450ab61490a1363517a0190416235\": [{\"Name\": \"chevrolet chevelle malibu\", \"Miles_per_Gallon\": 18.0, \"Cylinders\": 8, \"Displacement\": 307.0, \"Horsepower\": 130.0, \"Weight_in_lbs\": 3504, \"Acceleration\": 12.0, \"Year\": \"1970-01-01T00:00:00\", \"Origin\": \"USA\"}, {\"Name\": \"buick skylark 320\", \"Miles_per_Gallon\": 15.0, \"Cylinders\": 8, \"Displacement\": 350.0, \"Horsepower\": 165.0, \"Weight_in_lbs\": 3693, \"Acceleration\": 11.5, \"Year\": \"1970-01-01T00:00:00\", \"Origin\": \"USA\"}, {\"Name\": \"plymouth satellite\", \"Miles_per_Gallon\": 18.0, \"Cylinders\": 8, \"Displacement\": 318.0, \"Horsepower\": 150.0, \"Weight_in_lbs\": 3436, \"Acceleration\": 11.0, \"Year\": \"1970-01-01T00:00:00\", \"Origin\": \"USA\"}, {\"Name\": \"amc rebel sst\", \"Miles_per_Gallon\": 16.0, \"Cylinders\": 8, \"Displacement\": 304.0, \"Horsepower\": 150.0, \"Weight_in_lbs\": 3433, \"Acceleration\": 12.0, \"Year\": \"1970-01-01T00:00:00\", \"Origin\": \"USA\"}, {\"Name\": \"ford torino\", \"Miles_per_Gallon\": 17.0, \"Cylinders\": 8, \"Displacement\": 302.0, \"Horsepower\": 140.0, \"Weight_in_lbs\": 3449, \"Acceleration\": 10.5, \"Year\": \"1970-01-01T00:00:00\", \"Origin\": \"USA\"}, {\"Name\": \"ford galaxie 500\", \"Miles_per_Gallon\": 15.0, \"Cylinders\": 8, \"Displacement\": 429.0, \"Horsepower\": 198.0, \"Weight_in_lbs\": 4341, \"Acceleration\": 10.0, \"Year\": \"1970-01-01T00:00:00\", \"Origin\": \"USA\"}, {\"Name\": \"chevrolet impala\", \"Miles_per_Gallon\": 14.0, \"Cylinders\": 8, \"Displacement\": 454.0, \"Horsepower\": 220.0, \"Weight_in_lbs\": 4354, \"Acceleration\": 9.0, \"Year\": \"1970-01-01T00:00:00\", \"Origin\": \"USA\"}, {\"Name\": \"plymouth fury iii\", \"Miles_per_Gallon\": 14.0, \"Cylinders\": 8, \"Displacement\": 440.0, \"Horsepower\": 215.0, \"Weight_in_lbs\": 4312, \"Acceleration\": 8.5, \"Year\": \"1970-01-01T00:00:00\", \"Origin\": \"USA\"}, {\"Name\": \"pontiac catalina\", \"Miles_per_Gallon\": 14.0, \"Cylinders\": 8, \"Displacement\": 455.0, \"Horsepower\": 225.0, \"Weight_in_lbs\": 4425, \"Acceleration\": 10.0, \"Year\": \"1970-01-01T00:00:00\", \"Origin\": \"USA\"}, {\"Name\": \"amc ambassador dpl\", \"Miles_per_Gallon\": 15.0, \"Cylinders\": 8, \"Displacement\": 390.0, \"Horsepower\": 190.0, \"Weight_in_lbs\": 3850, \"Acceleration\": 8.5, \"Year\": \"1970-01-01T00:00:00\", \"Origin\": \"USA\"}, {\"Name\": \"citroen ds-21 pallas\", \"Miles_per_Gallon\": null, \"Cylinders\": 4, \"Displacement\": 133.0, \"Horsepower\": 115.0, \"Weight_in_lbs\": 3090, \"Acceleration\": 17.5, \"Year\": \"1970-01-01T00:00:00\", \"Origin\": \"Europe\"}, {\"Name\": \"chevrolet chevelle concours (sw)\", \"Miles_per_Gallon\": null, \"Cylinders\": 8, \"Displacement\": 350.0, \"Horsepower\": 165.0, \"Weight_in_lbs\": 4142, \"Acceleration\": 11.5, \"Year\": \"1970-01-01T00:00:00\", \"Origin\": \"USA\"}, {\"Name\": \"ford torino (sw)\", \"Miles_per_Gallon\": null, \"Cylinders\": 8, \"Displacement\": 351.0, \"Horsepower\": 153.0, \"Weight_in_lbs\": 4034, \"Acceleration\": 11.0, \"Year\": \"1970-01-01T00:00:00\", \"Origin\": \"USA\"}, {\"Name\": \"plymouth satellite (sw)\", \"Miles_per_Gallon\": null, \"Cylinders\": 8, \"Displacement\": 383.0, \"Horsepower\": 175.0, \"Weight_in_lbs\": 4166, \"Acceleration\": 10.5, \"Year\": \"1970-01-01T00:00:00\", \"Origin\": \"USA\"}, {\"Name\": \"amc rebel sst (sw)\", \"Miles_per_Gallon\": null, \"Cylinders\": 8, \"Displacement\": 360.0, \"Horsepower\": 175.0, \"Weight_in_lbs\": 3850, \"Acceleration\": 11.0, \"Year\": \"1970-01-01T00:00:00\", \"Origin\": \"USA\"}, {\"Name\": \"dodge challenger se\", \"Miles_per_Gallon\": 15.0, \"Cylinders\": 8, \"Displacement\": 383.0, \"Horsepower\": 170.0, \"Weight_in_lbs\": 3563, \"Acceleration\": 10.0, \"Year\": \"1970-01-01T00:00:00\", \"Origin\": \"USA\"}, {\"Name\": \"plymouth 'cuda 340\", \"Miles_per_Gallon\": 14.0, \"Cylinders\": 8, \"Displacement\": 340.0, \"Horsepower\": 160.0, \"Weight_in_lbs\": 3609, \"Acceleration\": 8.0, \"Year\": \"1970-01-01T00:00:00\", \"Origin\": \"USA\"}, {\"Name\": \"ford mustang boss 302\", \"Miles_per_Gallon\": null, \"Cylinders\": 8, \"Displacement\": 302.0, \"Horsepower\": 140.0, \"Weight_in_lbs\": 3353, \"Acceleration\": 8.0, \"Year\": \"1970-01-01T00:00:00\", \"Origin\": \"USA\"}, {\"Name\": \"chevrolet monte carlo\", \"Miles_per_Gallon\": 15.0, \"Cylinders\": 8, \"Displacement\": 400.0, \"Horsepower\": 150.0, \"Weight_in_lbs\": 3761, \"Acceleration\": 9.5, \"Year\": \"1970-01-01T00:00:00\", \"Origin\": \"USA\"}, {\"Name\": \"buick estate wagon (sw)\", \"Miles_per_Gallon\": 14.0, \"Cylinders\": 8, \"Displacement\": 455.0, \"Horsepower\": 225.0, \"Weight_in_lbs\": 3086, \"Acceleration\": 10.0, \"Year\": \"1970-01-01T00:00:00\", \"Origin\": \"USA\"}, {\"Name\": \"toyota corona mark ii\", \"Miles_per_Gallon\": 24.0, \"Cylinders\": 4, \"Displacement\": 113.0, \"Horsepower\": 95.0, \"Weight_in_lbs\": 2372, \"Acceleration\": 15.0, \"Year\": \"1970-01-01T00:00:00\", \"Origin\": \"Japan\"}, {\"Name\": \"plymouth duster\", \"Miles_per_Gallon\": 22.0, \"Cylinders\": 6, \"Displacement\": 198.0, \"Horsepower\": 95.0, \"Weight_in_lbs\": 2833, \"Acceleration\": 15.5, \"Year\": \"1970-01-01T00:00:00\", \"Origin\": \"USA\"}, {\"Name\": \"amc hornet\", \"Miles_per_Gallon\": 18.0, \"Cylinders\": 6, \"Displacement\": 199.0, \"Horsepower\": 97.0, \"Weight_in_lbs\": 2774, \"Acceleration\": 15.5, \"Year\": \"1970-01-01T00:00:00\", \"Origin\": \"USA\"}, {\"Name\": \"ford maverick\", \"Miles_per_Gallon\": 21.0, \"Cylinders\": 6, \"Displacement\": 200.0, \"Horsepower\": 85.0, \"Weight_in_lbs\": 2587, \"Acceleration\": 16.0, \"Year\": \"1970-01-01T00:00:00\", \"Origin\": \"USA\"}, {\"Name\": \"datsun pl510\", \"Miles_per_Gallon\": 27.0, \"Cylinders\": 4, \"Displacement\": 97.0, \"Horsepower\": 88.0, \"Weight_in_lbs\": 2130, \"Acceleration\": 14.5, \"Year\": \"1970-01-01T00:00:00\", \"Origin\": \"Japan\"}, {\"Name\": \"volkswagen 1131 deluxe sedan\", \"Miles_per_Gallon\": 26.0, \"Cylinders\": 4, \"Displacement\": 97.0, \"Horsepower\": 46.0, \"Weight_in_lbs\": 1835, \"Acceleration\": 20.5, \"Year\": \"1970-01-01T00:00:00\", \"Origin\": \"Europe\"}, {\"Name\": \"peugeot 504\", \"Miles_per_Gallon\": 25.0, \"Cylinders\": 4, \"Displacement\": 110.0, \"Horsepower\": 87.0, \"Weight_in_lbs\": 2672, \"Acceleration\": 17.5, \"Year\": \"1970-01-01T00:00:00\", \"Origin\": \"Europe\"}, {\"Name\": \"audi 100 ls\", \"Miles_per_Gallon\": 24.0, \"Cylinders\": 4, \"Displacement\": 107.0, \"Horsepower\": 90.0, \"Weight_in_lbs\": 2430, \"Acceleration\": 14.5, \"Year\": \"1970-01-01T00:00:00\", \"Origin\": \"Europe\"}, {\"Name\": \"saab 99e\", \"Miles_per_Gallon\": 25.0, \"Cylinders\": 4, \"Displacement\": 104.0, \"Horsepower\": 95.0, \"Weight_in_lbs\": 2375, \"Acceleration\": 17.5, \"Year\": \"1970-01-01T00:00:00\", \"Origin\": \"Europe\"}, {\"Name\": \"bmw 2002\", \"Miles_per_Gallon\": 26.0, \"Cylinders\": 4, \"Displacement\": 121.0, \"Horsepower\": 113.0, \"Weight_in_lbs\": 2234, \"Acceleration\": 12.5, \"Year\": \"1970-01-01T00:00:00\", \"Origin\": \"Europe\"}, {\"Name\": \"amc gremlin\", \"Miles_per_Gallon\": 21.0, \"Cylinders\": 6, \"Displacement\": 199.0, \"Horsepower\": 90.0, \"Weight_in_lbs\": 2648, \"Acceleration\": 15.0, \"Year\": \"1970-01-01T00:00:00\", \"Origin\": \"USA\"}, {\"Name\": \"ford f250\", \"Miles_per_Gallon\": 10.0, \"Cylinders\": 8, \"Displacement\": 360.0, \"Horsepower\": 215.0, \"Weight_in_lbs\": 4615, \"Acceleration\": 14.0, \"Year\": \"1970-01-01T00:00:00\", \"Origin\": \"USA\"}, {\"Name\": \"chevy c20\", \"Miles_per_Gallon\": 10.0, \"Cylinders\": 8, \"Displacement\": 307.0, \"Horsepower\": 200.0, \"Weight_in_lbs\": 4376, \"Acceleration\": 15.0, \"Year\": \"1970-01-01T00:00:00\", \"Origin\": \"USA\"}, {\"Name\": \"dodge d200\", \"Miles_per_Gallon\": 11.0, \"Cylinders\": 8, \"Displacement\": 318.0, \"Horsepower\": 210.0, \"Weight_in_lbs\": 4382, \"Acceleration\": 13.5, \"Year\": \"1970-01-01T00:00:00\", \"Origin\": \"USA\"}, {\"Name\": \"hi 1200d\", \"Miles_per_Gallon\": 9.0, \"Cylinders\": 8, \"Displacement\": 304.0, \"Horsepower\": 193.0, \"Weight_in_lbs\": 4732, \"Acceleration\": 18.5, \"Year\": \"1970-01-01T00:00:00\", \"Origin\": \"USA\"}, {\"Name\": \"datsun pl510\", \"Miles_per_Gallon\": 27.0, \"Cylinders\": 4, \"Displacement\": 97.0, \"Horsepower\": 88.0, \"Weight_in_lbs\": 2130, \"Acceleration\": 14.5, \"Year\": \"1971-01-01T00:00:00\", \"Origin\": \"Japan\"}, {\"Name\": \"chevrolet vega 2300\", \"Miles_per_Gallon\": 28.0, \"Cylinders\": 4, \"Displacement\": 140.0, \"Horsepower\": 90.0, \"Weight_in_lbs\": 2264, \"Acceleration\": 15.5, \"Year\": \"1971-01-01T00:00:00\", \"Origin\": \"USA\"}, {\"Name\": \"toyota corona\", \"Miles_per_Gallon\": 25.0, \"Cylinders\": 4, \"Displacement\": 113.0, \"Horsepower\": 95.0, \"Weight_in_lbs\": 2228, \"Acceleration\": 14.0, \"Year\": \"1971-01-01T00:00:00\", \"Origin\": \"Japan\"}, {\"Name\": \"ford pinto\", \"Miles_per_Gallon\": 25.0, \"Cylinders\": 4, \"Displacement\": 98.0, \"Horsepower\": null, \"Weight_in_lbs\": 2046, \"Acceleration\": 19.0, \"Year\": \"1971-01-01T00:00:00\", \"Origin\": \"USA\"}, {\"Name\": \"volkswagen super beetle 117\", \"Miles_per_Gallon\": null, \"Cylinders\": 4, \"Displacement\": 97.0, \"Horsepower\": 48.0, \"Weight_in_lbs\": 1978, \"Acceleration\": 20.0, \"Year\": \"1971-01-01T00:00:00\", \"Origin\": \"Europe\"}, {\"Name\": \"amc gremlin\", \"Miles_per_Gallon\": 19.0, \"Cylinders\": 6, \"Displacement\": 232.0, \"Horsepower\": 100.0, \"Weight_in_lbs\": 2634, \"Acceleration\": 13.0, \"Year\": \"1971-01-01T00:00:00\", \"Origin\": \"USA\"}, {\"Name\": \"plymouth satellite custom\", \"Miles_per_Gallon\": 16.0, \"Cylinders\": 6, \"Displacement\": 225.0, \"Horsepower\": 105.0, \"Weight_in_lbs\": 3439, \"Acceleration\": 15.5, \"Year\": \"1971-01-01T00:00:00\", \"Origin\": \"USA\"}, {\"Name\": \"chevrolet chevelle malibu\", \"Miles_per_Gallon\": 17.0, \"Cylinders\": 6, \"Displacement\": 250.0, \"Horsepower\": 100.0, \"Weight_in_lbs\": 3329, \"Acceleration\": 15.5, \"Year\": \"1971-01-01T00:00:00\", \"Origin\": \"USA\"}, {\"Name\": \"ford torino 500\", \"Miles_per_Gallon\": 19.0, \"Cylinders\": 6, \"Displacement\": 250.0, \"Horsepower\": 88.0, \"Weight_in_lbs\": 3302, \"Acceleration\": 15.5, \"Year\": \"1971-01-01T00:00:00\", \"Origin\": \"USA\"}, {\"Name\": \"amc matador\", \"Miles_per_Gallon\": 18.0, \"Cylinders\": 6, \"Displacement\": 232.0, \"Horsepower\": 100.0, \"Weight_in_lbs\": 3288, \"Acceleration\": 15.5, \"Year\": \"1971-01-01T00:00:00\", \"Origin\": \"USA\"}, {\"Name\": \"chevrolet impala\", \"Miles_per_Gallon\": 14.0, \"Cylinders\": 8, \"Displacement\": 350.0, \"Horsepower\": 165.0, \"Weight_in_lbs\": 4209, \"Acceleration\": 12.0, \"Year\": \"1971-01-01T00:00:00\", \"Origin\": \"USA\"}, {\"Name\": \"pontiac catalina brougham\", \"Miles_per_Gallon\": 14.0, \"Cylinders\": 8, \"Displacement\": 400.0, \"Horsepower\": 175.0, \"Weight_in_lbs\": 4464, \"Acceleration\": 11.5, \"Year\": \"1971-01-01T00:00:00\", \"Origin\": \"USA\"}, {\"Name\": \"ford galaxie 500\", \"Miles_per_Gallon\": 14.0, \"Cylinders\": 8, \"Displacement\": 351.0, \"Horsepower\": 153.0, \"Weight_in_lbs\": 4154, \"Acceleration\": 13.5, \"Year\": \"1971-01-01T00:00:00\", \"Origin\": \"USA\"}, {\"Name\": \"plymouth fury iii\", \"Miles_per_Gallon\": 14.0, \"Cylinders\": 8, \"Displacement\": 318.0, \"Horsepower\": 150.0, \"Weight_in_lbs\": 4096, \"Acceleration\": 13.0, \"Year\": \"1971-01-01T00:00:00\", \"Origin\": \"USA\"}, {\"Name\": \"dodge monaco (sw)\", \"Miles_per_Gallon\": 12.0, \"Cylinders\": 8, \"Displacement\": 383.0, \"Horsepower\": 180.0, \"Weight_in_lbs\": 4955, \"Acceleration\": 11.5, \"Year\": \"1971-01-01T00:00:00\", \"Origin\": \"USA\"}, {\"Name\": \"ford country squire (sw)\", \"Miles_per_Gallon\": 13.0, \"Cylinders\": 8, \"Displacement\": 400.0, \"Horsepower\": 170.0, \"Weight_in_lbs\": 4746, \"Acceleration\": 12.0, \"Year\": \"1971-01-01T00:00:00\", \"Origin\": \"USA\"}, {\"Name\": \"pontiac safari (sw)\", \"Miles_per_Gallon\": 13.0, \"Cylinders\": 8, \"Displacement\": 400.0, \"Horsepower\": 175.0, \"Weight_in_lbs\": 5140, \"Acceleration\": 12.0, \"Year\": \"1971-01-01T00:00:00\", \"Origin\": \"USA\"}, {\"Name\": \"amc hornet sportabout (sw)\", \"Miles_per_Gallon\": 18.0, \"Cylinders\": 6, \"Displacement\": 258.0, \"Horsepower\": 110.0, \"Weight_in_lbs\": 2962, \"Acceleration\": 13.5, \"Year\": \"1971-01-01T00:00:00\", \"Origin\": \"USA\"}, {\"Name\": \"chevrolet vega (sw)\", \"Miles_per_Gallon\": 22.0, \"Cylinders\": 4, \"Displacement\": 140.0, \"Horsepower\": 72.0, \"Weight_in_lbs\": 2408, \"Acceleration\": 19.0, \"Year\": \"1971-01-01T00:00:00\", \"Origin\": \"USA\"}, {\"Name\": \"pontiac firebird\", \"Miles_per_Gallon\": 19.0, \"Cylinders\": 6, \"Displacement\": 250.0, \"Horsepower\": 100.0, \"Weight_in_lbs\": 3282, \"Acceleration\": 15.0, \"Year\": \"1971-01-01T00:00:00\", \"Origin\": \"USA\"}, {\"Name\": \"ford mustang\", \"Miles_per_Gallon\": 18.0, \"Cylinders\": 6, \"Displacement\": 250.0, \"Horsepower\": 88.0, \"Weight_in_lbs\": 3139, \"Acceleration\": 14.5, \"Year\": \"1971-01-01T00:00:00\", \"Origin\": \"USA\"}, {\"Name\": \"mercury capri 2000\", \"Miles_per_Gallon\": 23.0, \"Cylinders\": 4, \"Displacement\": 122.0, \"Horsepower\": 86.0, \"Weight_in_lbs\": 2220, \"Acceleration\": 14.0, \"Year\": \"1971-01-01T00:00:00\", \"Origin\": \"USA\"}, {\"Name\": \"opel 1900\", \"Miles_per_Gallon\": 28.0, \"Cylinders\": 4, \"Displacement\": 116.0, \"Horsepower\": 90.0, \"Weight_in_lbs\": 2123, \"Acceleration\": 14.0, \"Year\": \"1971-01-01T00:00:00\", \"Origin\": \"Europe\"}, {\"Name\": \"peugeot 304\", \"Miles_per_Gallon\": 30.0, \"Cylinders\": 4, \"Displacement\": 79.0, \"Horsepower\": 70.0, \"Weight_in_lbs\": 2074, \"Acceleration\": 19.5, \"Year\": \"1971-01-01T00:00:00\", \"Origin\": \"Europe\"}, {\"Name\": \"fiat 124b\", \"Miles_per_Gallon\": 30.0, \"Cylinders\": 4, \"Displacement\": 88.0, \"Horsepower\": 76.0, \"Weight_in_lbs\": 2065, \"Acceleration\": 14.5, \"Year\": \"1971-01-01T00:00:00\", \"Origin\": \"Europe\"}, {\"Name\": \"toyota corolla 1200\", \"Miles_per_Gallon\": 31.0, \"Cylinders\": 4, \"Displacement\": 71.0, \"Horsepower\": 65.0, \"Weight_in_lbs\": 1773, \"Acceleration\": 19.0, \"Year\": \"1971-01-01T00:00:00\", \"Origin\": \"Japan\"}, {\"Name\": \"datsun 1200\", \"Miles_per_Gallon\": 35.0, \"Cylinders\": 4, \"Displacement\": 72.0, \"Horsepower\": 69.0, \"Weight_in_lbs\": 1613, \"Acceleration\": 18.0, \"Year\": \"1971-01-01T00:00:00\", \"Origin\": \"Japan\"}, {\"Name\": \"volkswagen model 111\", \"Miles_per_Gallon\": 27.0, \"Cylinders\": 4, \"Displacement\": 97.0, \"Horsepower\": 60.0, \"Weight_in_lbs\": 1834, \"Acceleration\": 19.0, \"Year\": \"1971-01-01T00:00:00\", \"Origin\": \"Europe\"}, {\"Name\": \"plymouth cricket\", \"Miles_per_Gallon\": 26.0, \"Cylinders\": 4, \"Displacement\": 91.0, \"Horsepower\": 70.0, \"Weight_in_lbs\": 1955, \"Acceleration\": 20.5, \"Year\": \"1971-01-01T00:00:00\", \"Origin\": \"USA\"}, {\"Name\": \"toyota corona hardtop\", \"Miles_per_Gallon\": 24.0, \"Cylinders\": 4, \"Displacement\": 113.0, \"Horsepower\": 95.0, \"Weight_in_lbs\": 2278, \"Acceleration\": 15.5, \"Year\": \"1972-01-01T00:00:00\", \"Origin\": \"Japan\"}, {\"Name\": \"dodge colt hardtop\", \"Miles_per_Gallon\": 25.0, \"Cylinders\": 4, \"Displacement\": 97.5, \"Horsepower\": 80.0, \"Weight_in_lbs\": 2126, \"Acceleration\": 17.0, \"Year\": \"1972-01-01T00:00:00\", \"Origin\": \"USA\"}, {\"Name\": \"volkswagen type 3\", \"Miles_per_Gallon\": 23.0, \"Cylinders\": 4, \"Displacement\": 97.0, \"Horsepower\": 54.0, \"Weight_in_lbs\": 2254, \"Acceleration\": 23.5, \"Year\": \"1972-01-01T00:00:00\", \"Origin\": \"Europe\"}, {\"Name\": \"chevrolet vega\", \"Miles_per_Gallon\": 20.0, \"Cylinders\": 4, \"Displacement\": 140.0, \"Horsepower\": 90.0, \"Weight_in_lbs\": 2408, \"Acceleration\": 19.5, \"Year\": \"1972-01-01T00:00:00\", \"Origin\": \"USA\"}, {\"Name\": \"ford pinto runabout\", \"Miles_per_Gallon\": 21.0, \"Cylinders\": 4, \"Displacement\": 122.0, \"Horsepower\": 86.0, \"Weight_in_lbs\": 2226, \"Acceleration\": 16.5, \"Year\": \"1972-01-01T00:00:00\", \"Origin\": \"USA\"}, {\"Name\": \"chevrolet impala\", \"Miles_per_Gallon\": 13.0, \"Cylinders\": 8, \"Displacement\": 350.0, \"Horsepower\": 165.0, \"Weight_in_lbs\": 4274, \"Acceleration\": 12.0, \"Year\": \"1972-01-01T00:00:00\", \"Origin\": \"USA\"}, {\"Name\": \"pontiac catalina\", \"Miles_per_Gallon\": 14.0, \"Cylinders\": 8, \"Displacement\": 400.0, \"Horsepower\": 175.0, \"Weight_in_lbs\": 4385, \"Acceleration\": 12.0, \"Year\": \"1972-01-01T00:00:00\", \"Origin\": \"USA\"}, {\"Name\": \"plymouth fury iii\", \"Miles_per_Gallon\": 15.0, \"Cylinders\": 8, \"Displacement\": 318.0, \"Horsepower\": 150.0, \"Weight_in_lbs\": 4135, \"Acceleration\": 13.5, \"Year\": \"1972-01-01T00:00:00\", \"Origin\": \"USA\"}, {\"Name\": \"ford galaxie 500\", \"Miles_per_Gallon\": 14.0, \"Cylinders\": 8, \"Displacement\": 351.0, \"Horsepower\": 153.0, \"Weight_in_lbs\": 4129, \"Acceleration\": 13.0, \"Year\": \"1972-01-01T00:00:00\", \"Origin\": \"USA\"}, {\"Name\": \"amc ambassador sst\", \"Miles_per_Gallon\": 17.0, \"Cylinders\": 8, \"Displacement\": 304.0, \"Horsepower\": 150.0, \"Weight_in_lbs\": 3672, \"Acceleration\": 11.5, \"Year\": \"1972-01-01T00:00:00\", \"Origin\": \"USA\"}, {\"Name\": \"mercury marquis\", \"Miles_per_Gallon\": 11.0, \"Cylinders\": 8, \"Displacement\": 429.0, \"Horsepower\": 208.0, \"Weight_in_lbs\": 4633, \"Acceleration\": 11.0, \"Year\": \"1972-01-01T00:00:00\", \"Origin\": \"USA\"}, {\"Name\": \"buick lesabre custom\", \"Miles_per_Gallon\": 13.0, \"Cylinders\": 8, \"Displacement\": 350.0, \"Horsepower\": 155.0, \"Weight_in_lbs\": 4502, \"Acceleration\": 13.5, \"Year\": \"1972-01-01T00:00:00\", \"Origin\": \"USA\"}, {\"Name\": \"oldsmobile delta 88 royale\", \"Miles_per_Gallon\": 12.0, \"Cylinders\": 8, \"Displacement\": 350.0, \"Horsepower\": 160.0, \"Weight_in_lbs\": 4456, \"Acceleration\": 13.5, \"Year\": \"1972-01-01T00:00:00\", \"Origin\": \"USA\"}, {\"Name\": \"chrysler newport royal\", \"Miles_per_Gallon\": 13.0, \"Cylinders\": 8, \"Displacement\": 400.0, \"Horsepower\": 190.0, \"Weight_in_lbs\": 4422, \"Acceleration\": 12.5, \"Year\": \"1972-01-01T00:00:00\", \"Origin\": \"USA\"}, {\"Name\": \"mazda rx2 coupe\", \"Miles_per_Gallon\": 19.0, \"Cylinders\": 3, \"Displacement\": 70.0, \"Horsepower\": 97.0, \"Weight_in_lbs\": 2330, \"Acceleration\": 13.5, \"Year\": \"1972-01-01T00:00:00\", \"Origin\": \"Japan\"}, {\"Name\": \"amc matador (sw)\", \"Miles_per_Gallon\": 15.0, \"Cylinders\": 8, \"Displacement\": 304.0, \"Horsepower\": 150.0, \"Weight_in_lbs\": 3892, \"Acceleration\": 12.5, \"Year\": \"1972-01-01T00:00:00\", \"Origin\": \"USA\"}, {\"Name\": \"chevrolet chevelle concours (sw)\", \"Miles_per_Gallon\": 13.0, \"Cylinders\": 8, \"Displacement\": 307.0, \"Horsepower\": 130.0, \"Weight_in_lbs\": 4098, \"Acceleration\": 14.0, \"Year\": \"1972-01-01T00:00:00\", \"Origin\": \"USA\"}, {\"Name\": \"ford gran torino (sw)\", \"Miles_per_Gallon\": 13.0, \"Cylinders\": 8, \"Displacement\": 302.0, \"Horsepower\": 140.0, \"Weight_in_lbs\": 4294, \"Acceleration\": 16.0, \"Year\": \"1972-01-01T00:00:00\", \"Origin\": \"USA\"}, {\"Name\": \"plymouth satellite custom (sw)\", \"Miles_per_Gallon\": 14.0, \"Cylinders\": 8, \"Displacement\": 318.0, \"Horsepower\": 150.0, \"Weight_in_lbs\": 4077, \"Acceleration\": 14.0, \"Year\": \"1972-01-01T00:00:00\", \"Origin\": \"USA\"}, {\"Name\": \"volvo 145e (sw)\", \"Miles_per_Gallon\": 18.0, \"Cylinders\": 4, \"Displacement\": 121.0, \"Horsepower\": 112.0, \"Weight_in_lbs\": 2933, \"Acceleration\": 14.5, \"Year\": \"1972-01-01T00:00:00\", \"Origin\": \"Europe\"}, {\"Name\": \"volkswagen 411 (sw)\", \"Miles_per_Gallon\": 22.0, \"Cylinders\": 4, \"Displacement\": 121.0, \"Horsepower\": 76.0, \"Weight_in_lbs\": 2511, \"Acceleration\": 18.0, \"Year\": \"1972-01-01T00:00:00\", \"Origin\": \"Europe\"}, {\"Name\": \"peugeot 504 (sw)\", \"Miles_per_Gallon\": 21.0, \"Cylinders\": 4, \"Displacement\": 120.0, \"Horsepower\": 87.0, \"Weight_in_lbs\": 2979, \"Acceleration\": 19.5, \"Year\": \"1972-01-01T00:00:00\", \"Origin\": \"Europe\"}, {\"Name\": \"renault 12 (sw)\", \"Miles_per_Gallon\": 26.0, \"Cylinders\": 4, \"Displacement\": 96.0, \"Horsepower\": 69.0, \"Weight_in_lbs\": 2189, \"Acceleration\": 18.0, \"Year\": \"1972-01-01T00:00:00\", \"Origin\": \"Europe\"}, {\"Name\": \"ford pinto (sw)\", \"Miles_per_Gallon\": 22.0, \"Cylinders\": 4, \"Displacement\": 122.0, \"Horsepower\": 86.0, \"Weight_in_lbs\": 2395, \"Acceleration\": 16.0, \"Year\": \"1972-01-01T00:00:00\", \"Origin\": \"USA\"}, {\"Name\": \"datsun 510 (sw)\", \"Miles_per_Gallon\": 28.0, \"Cylinders\": 4, \"Displacement\": 97.0, \"Horsepower\": 92.0, \"Weight_in_lbs\": 2288, \"Acceleration\": 17.0, \"Year\": \"1972-01-01T00:00:00\", \"Origin\": \"Japan\"}, {\"Name\": \"toyouta corona mark ii (sw)\", \"Miles_per_Gallon\": 23.0, \"Cylinders\": 4, \"Displacement\": 120.0, \"Horsepower\": 97.0, \"Weight_in_lbs\": 2506, \"Acceleration\": 14.5, \"Year\": \"1972-01-01T00:00:00\", \"Origin\": \"Japan\"}, {\"Name\": \"dodge colt (sw)\", \"Miles_per_Gallon\": 28.0, \"Cylinders\": 4, \"Displacement\": 98.0, \"Horsepower\": 80.0, \"Weight_in_lbs\": 2164, \"Acceleration\": 15.0, \"Year\": \"1972-01-01T00:00:00\", \"Origin\": \"USA\"}, {\"Name\": \"toyota corolla 1600 (sw)\", \"Miles_per_Gallon\": 27.0, \"Cylinders\": 4, \"Displacement\": 97.0, \"Horsepower\": 88.0, \"Weight_in_lbs\": 2100, \"Acceleration\": 16.5, \"Year\": \"1972-01-01T00:00:00\", \"Origin\": \"Japan\"}, {\"Name\": \"buick century 350\", \"Miles_per_Gallon\": 13.0, \"Cylinders\": 8, \"Displacement\": 350.0, \"Horsepower\": 175.0, \"Weight_in_lbs\": 4100, \"Acceleration\": 13.0, \"Year\": \"1973-01-01T00:00:00\", \"Origin\": \"USA\"}, {\"Name\": \"amc matador\", \"Miles_per_Gallon\": 14.0, \"Cylinders\": 8, \"Displacement\": 304.0, \"Horsepower\": 150.0, \"Weight_in_lbs\": 3672, \"Acceleration\": 11.5, \"Year\": \"1973-01-01T00:00:00\", \"Origin\": \"USA\"}, {\"Name\": \"chevrolet malibu\", \"Miles_per_Gallon\": 13.0, \"Cylinders\": 8, \"Displacement\": 350.0, \"Horsepower\": 145.0, \"Weight_in_lbs\": 3988, \"Acceleration\": 13.0, \"Year\": \"1973-01-01T00:00:00\", \"Origin\": \"USA\"}, {\"Name\": \"ford gran torino\", \"Miles_per_Gallon\": 14.0, \"Cylinders\": 8, \"Displacement\": 302.0, \"Horsepower\": 137.0, \"Weight_in_lbs\": 4042, \"Acceleration\": 14.5, \"Year\": \"1973-01-01T00:00:00\", \"Origin\": \"USA\"}, {\"Name\": \"dodge coronet custom\", \"Miles_per_Gallon\": 15.0, \"Cylinders\": 8, \"Displacement\": 318.0, \"Horsepower\": 150.0, \"Weight_in_lbs\": 3777, \"Acceleration\": 12.5, \"Year\": \"1973-01-01T00:00:00\", \"Origin\": \"USA\"}, {\"Name\": \"mercury marquis brougham\", \"Miles_per_Gallon\": 12.0, \"Cylinders\": 8, \"Displacement\": 429.0, \"Horsepower\": 198.0, \"Weight_in_lbs\": 4952, \"Acceleration\": 11.5, \"Year\": \"1973-01-01T00:00:00\", \"Origin\": \"USA\"}, {\"Name\": \"chevrolet caprice classic\", \"Miles_per_Gallon\": 13.0, \"Cylinders\": 8, \"Displacement\": 400.0, \"Horsepower\": 150.0, \"Weight_in_lbs\": 4464, \"Acceleration\": 12.0, \"Year\": \"1973-01-01T00:00:00\", \"Origin\": \"USA\"}, {\"Name\": \"ford ltd\", \"Miles_per_Gallon\": 13.0, \"Cylinders\": 8, \"Displacement\": 351.0, \"Horsepower\": 158.0, \"Weight_in_lbs\": 4363, \"Acceleration\": 13.0, \"Year\": \"1973-01-01T00:00:00\", \"Origin\": \"USA\"}, {\"Name\": \"plymouth fury gran sedan\", \"Miles_per_Gallon\": 14.0, \"Cylinders\": 8, \"Displacement\": 318.0, \"Horsepower\": 150.0, \"Weight_in_lbs\": 4237, \"Acceleration\": 14.5, \"Year\": \"1973-01-01T00:00:00\", \"Origin\": \"USA\"}, {\"Name\": \"chrysler new yorker brougham\", \"Miles_per_Gallon\": 13.0, \"Cylinders\": 8, \"Displacement\": 440.0, \"Horsepower\": 215.0, \"Weight_in_lbs\": 4735, \"Acceleration\": 11.0, \"Year\": \"1973-01-01T00:00:00\", \"Origin\": \"USA\"}, {\"Name\": \"buick electra 225 custom\", \"Miles_per_Gallon\": 12.0, \"Cylinders\": 8, \"Displacement\": 455.0, \"Horsepower\": 225.0, \"Weight_in_lbs\": 4951, \"Acceleration\": 11.0, \"Year\": \"1973-01-01T00:00:00\", \"Origin\": \"USA\"}, {\"Name\": \"amc ambassador brougham\", \"Miles_per_Gallon\": 13.0, \"Cylinders\": 8, \"Displacement\": 360.0, \"Horsepower\": 175.0, \"Weight_in_lbs\": 3821, \"Acceleration\": 11.0, \"Year\": \"1973-01-01T00:00:00\", \"Origin\": \"USA\"}, {\"Name\": \"plymouth valiant\", \"Miles_per_Gallon\": 18.0, \"Cylinders\": 6, \"Displacement\": 225.0, \"Horsepower\": 105.0, \"Weight_in_lbs\": 3121, \"Acceleration\": 16.5, \"Year\": \"1973-01-01T00:00:00\", \"Origin\": \"USA\"}, {\"Name\": \"chevrolet nova custom\", \"Miles_per_Gallon\": 16.0, \"Cylinders\": 6, \"Displacement\": 250.0, \"Horsepower\": 100.0, \"Weight_in_lbs\": 3278, \"Acceleration\": 18.0, \"Year\": \"1973-01-01T00:00:00\", \"Origin\": \"USA\"}, {\"Name\": \"amc hornet\", \"Miles_per_Gallon\": 18.0, \"Cylinders\": 6, \"Displacement\": 232.0, \"Horsepower\": 100.0, \"Weight_in_lbs\": 2945, \"Acceleration\": 16.0, \"Year\": \"1973-01-01T00:00:00\", \"Origin\": \"USA\"}, {\"Name\": \"ford maverick\", \"Miles_per_Gallon\": 18.0, \"Cylinders\": 6, \"Displacement\": 250.0, \"Horsepower\": 88.0, \"Weight_in_lbs\": 3021, \"Acceleration\": 16.5, \"Year\": \"1973-01-01T00:00:00\", \"Origin\": \"USA\"}, {\"Name\": \"plymouth duster\", \"Miles_per_Gallon\": 23.0, \"Cylinders\": 6, \"Displacement\": 198.0, \"Horsepower\": 95.0, \"Weight_in_lbs\": 2904, \"Acceleration\": 16.0, \"Year\": \"1973-01-01T00:00:00\", \"Origin\": \"USA\"}, {\"Name\": \"volkswagen super beetle\", \"Miles_per_Gallon\": 26.0, \"Cylinders\": 4, \"Displacement\": 97.0, \"Horsepower\": 46.0, \"Weight_in_lbs\": 1950, \"Acceleration\": 21.0, \"Year\": \"1973-01-01T00:00:00\", \"Origin\": \"Europe\"}, {\"Name\": \"chevrolet impala\", \"Miles_per_Gallon\": 11.0, \"Cylinders\": 8, \"Displacement\": 400.0, \"Horsepower\": 150.0, \"Weight_in_lbs\": 4997, \"Acceleration\": 14.0, \"Year\": \"1973-01-01T00:00:00\", \"Origin\": \"USA\"}, {\"Name\": \"ford country\", \"Miles_per_Gallon\": 12.0, \"Cylinders\": 8, \"Displacement\": 400.0, \"Horsepower\": 167.0, \"Weight_in_lbs\": 4906, \"Acceleration\": 12.5, \"Year\": \"1973-01-01T00:00:00\", \"Origin\": \"USA\"}, {\"Name\": \"plymouth custom suburb\", \"Miles_per_Gallon\": 13.0, \"Cylinders\": 8, \"Displacement\": 360.0, \"Horsepower\": 170.0, \"Weight_in_lbs\": 4654, \"Acceleration\": 13.0, \"Year\": \"1973-01-01T00:00:00\", \"Origin\": \"USA\"}, {\"Name\": \"oldsmobile vista cruiser\", \"Miles_per_Gallon\": 12.0, \"Cylinders\": 8, \"Displacement\": 350.0, \"Horsepower\": 180.0, \"Weight_in_lbs\": 4499, \"Acceleration\": 12.5, \"Year\": \"1973-01-01T00:00:00\", \"Origin\": \"USA\"}, {\"Name\": \"amc gremlin\", \"Miles_per_Gallon\": 18.0, \"Cylinders\": 6, \"Displacement\": 232.0, \"Horsepower\": 100.0, \"Weight_in_lbs\": 2789, \"Acceleration\": 15.0, \"Year\": \"1973-01-01T00:00:00\", \"Origin\": \"USA\"}, {\"Name\": \"toyota carina\", \"Miles_per_Gallon\": 20.0, \"Cylinders\": 4, \"Displacement\": 97.0, \"Horsepower\": 88.0, \"Weight_in_lbs\": 2279, \"Acceleration\": 19.0, \"Year\": \"1973-01-01T00:00:00\", \"Origin\": \"Japan\"}, {\"Name\": \"chevrolet vega\", \"Miles_per_Gallon\": 21.0, \"Cylinders\": 4, \"Displacement\": 140.0, \"Horsepower\": 72.0, \"Weight_in_lbs\": 2401, \"Acceleration\": 19.5, \"Year\": \"1973-01-01T00:00:00\", \"Origin\": \"USA\"}, {\"Name\": \"datsun 610\", \"Miles_per_Gallon\": 22.0, \"Cylinders\": 4, \"Displacement\": 108.0, \"Horsepower\": 94.0, \"Weight_in_lbs\": 2379, \"Acceleration\": 16.5, \"Year\": \"1973-01-01T00:00:00\", \"Origin\": \"Japan\"}, {\"Name\": \"maxda rx3\", \"Miles_per_Gallon\": 18.0, \"Cylinders\": 3, \"Displacement\": 70.0, \"Horsepower\": 90.0, \"Weight_in_lbs\": 2124, \"Acceleration\": 13.5, \"Year\": \"1973-01-01T00:00:00\", \"Origin\": \"Japan\"}, {\"Name\": \"ford pinto\", \"Miles_per_Gallon\": 19.0, \"Cylinders\": 4, \"Displacement\": 122.0, \"Horsepower\": 85.0, \"Weight_in_lbs\": 2310, \"Acceleration\": 18.5, \"Year\": \"1973-01-01T00:00:00\", \"Origin\": \"USA\"}, {\"Name\": \"mercury capri v6\", \"Miles_per_Gallon\": 21.0, \"Cylinders\": 6, \"Displacement\": 155.0, \"Horsepower\": 107.0, \"Weight_in_lbs\": 2472, \"Acceleration\": 14.0, \"Year\": \"1973-01-01T00:00:00\", \"Origin\": \"USA\"}, {\"Name\": \"fiat 124 sport coupe\", \"Miles_per_Gallon\": 26.0, \"Cylinders\": 4, \"Displacement\": 98.0, \"Horsepower\": 90.0, \"Weight_in_lbs\": 2265, \"Acceleration\": 15.5, \"Year\": \"1973-01-01T00:00:00\", \"Origin\": \"Europe\"}, {\"Name\": \"chevrolet monte carlo s\", \"Miles_per_Gallon\": 15.0, \"Cylinders\": 8, \"Displacement\": 350.0, \"Horsepower\": 145.0, \"Weight_in_lbs\": 4082, \"Acceleration\": 13.0, \"Year\": \"1973-01-01T00:00:00\", \"Origin\": \"USA\"}, {\"Name\": \"pontiac grand prix\", \"Miles_per_Gallon\": 16.0, \"Cylinders\": 8, \"Displacement\": 400.0, \"Horsepower\": 230.0, \"Weight_in_lbs\": 4278, \"Acceleration\": 9.5, \"Year\": \"1973-01-01T00:00:00\", \"Origin\": \"USA\"}, {\"Name\": \"fiat 128\", \"Miles_per_Gallon\": 29.0, \"Cylinders\": 4, \"Displacement\": 68.0, \"Horsepower\": 49.0, \"Weight_in_lbs\": 1867, \"Acceleration\": 19.5, \"Year\": \"1973-01-01T00:00:00\", \"Origin\": \"Europe\"}, {\"Name\": \"opel manta\", \"Miles_per_Gallon\": 24.0, \"Cylinders\": 4, \"Displacement\": 116.0, \"Horsepower\": 75.0, \"Weight_in_lbs\": 2158, \"Acceleration\": 15.5, \"Year\": \"1973-01-01T00:00:00\", \"Origin\": \"Europe\"}, {\"Name\": \"audi 100ls\", \"Miles_per_Gallon\": 20.0, \"Cylinders\": 4, \"Displacement\": 114.0, \"Horsepower\": 91.0, \"Weight_in_lbs\": 2582, \"Acceleration\": 14.0, \"Year\": \"1973-01-01T00:00:00\", \"Origin\": \"Europe\"}, {\"Name\": \"volvo 144ea\", \"Miles_per_Gallon\": 19.0, \"Cylinders\": 4, \"Displacement\": 121.0, \"Horsepower\": 112.0, \"Weight_in_lbs\": 2868, \"Acceleration\": 15.5, \"Year\": \"1973-01-01T00:00:00\", \"Origin\": \"Europe\"}, {\"Name\": \"dodge dart custom\", \"Miles_per_Gallon\": 15.0, \"Cylinders\": 8, \"Displacement\": 318.0, \"Horsepower\": 150.0, \"Weight_in_lbs\": 3399, \"Acceleration\": 11.0, \"Year\": \"1973-01-01T00:00:00\", \"Origin\": \"USA\"}, {\"Name\": \"saab 99le\", \"Miles_per_Gallon\": 24.0, \"Cylinders\": 4, \"Displacement\": 121.0, \"Horsepower\": 110.0, \"Weight_in_lbs\": 2660, \"Acceleration\": 14.0, \"Year\": \"1973-01-01T00:00:00\", \"Origin\": \"Europe\"}, {\"Name\": \"toyota mark ii\", \"Miles_per_Gallon\": 20.0, \"Cylinders\": 6, \"Displacement\": 156.0, \"Horsepower\": 122.0, \"Weight_in_lbs\": 2807, \"Acceleration\": 13.5, \"Year\": \"1973-01-01T00:00:00\", \"Origin\": \"Japan\"}, {\"Name\": \"oldsmobile omega\", \"Miles_per_Gallon\": 11.0, \"Cylinders\": 8, \"Displacement\": 350.0, \"Horsepower\": 180.0, \"Weight_in_lbs\": 3664, \"Acceleration\": 11.0, \"Year\": \"1973-01-01T00:00:00\", \"Origin\": \"USA\"}, {\"Name\": \"plymouth duster\", \"Miles_per_Gallon\": 20.0, \"Cylinders\": 6, \"Displacement\": 198.0, \"Horsepower\": 95.0, \"Weight_in_lbs\": 3102, \"Acceleration\": 16.5, \"Year\": \"1974-01-01T00:00:00\", \"Origin\": \"USA\"}, {\"Name\": \"ford maverick\", \"Miles_per_Gallon\": 21.0, \"Cylinders\": 6, \"Displacement\": 200.0, \"Horsepower\": null, \"Weight_in_lbs\": 2875, \"Acceleration\": 17.0, \"Year\": \"1974-01-01T00:00:00\", \"Origin\": \"USA\"}, {\"Name\": \"amc hornet\", \"Miles_per_Gallon\": 19.0, \"Cylinders\": 6, \"Displacement\": 232.0, \"Horsepower\": 100.0, \"Weight_in_lbs\": 2901, \"Acceleration\": 16.0, \"Year\": \"1974-01-01T00:00:00\", \"Origin\": \"USA\"}, {\"Name\": \"chevrolet nova\", \"Miles_per_Gallon\": 15.0, \"Cylinders\": 6, \"Displacement\": 250.0, \"Horsepower\": 100.0, \"Weight_in_lbs\": 3336, \"Acceleration\": 17.0, \"Year\": \"1974-01-01T00:00:00\", \"Origin\": \"USA\"}, {\"Name\": \"datsun b210\", \"Miles_per_Gallon\": 31.0, \"Cylinders\": 4, \"Displacement\": 79.0, \"Horsepower\": 67.0, \"Weight_in_lbs\": 1950, \"Acceleration\": 19.0, \"Year\": \"1974-01-01T00:00:00\", \"Origin\": \"Japan\"}, {\"Name\": \"ford pinto\", \"Miles_per_Gallon\": 26.0, \"Cylinders\": 4, \"Displacement\": 122.0, \"Horsepower\": 80.0, \"Weight_in_lbs\": 2451, \"Acceleration\": 16.5, \"Year\": \"1974-01-01T00:00:00\", \"Origin\": \"USA\"}, {\"Name\": \"toyota corolla 1200\", \"Miles_per_Gallon\": 32.0, \"Cylinders\": 4, \"Displacement\": 71.0, \"Horsepower\": 65.0, \"Weight_in_lbs\": 1836, \"Acceleration\": 21.0, \"Year\": \"1974-01-01T00:00:00\", \"Origin\": \"Japan\"}, {\"Name\": \"chevrolet vega\", \"Miles_per_Gallon\": 25.0, \"Cylinders\": 4, \"Displacement\": 140.0, \"Horsepower\": 75.0, \"Weight_in_lbs\": 2542, \"Acceleration\": 17.0, \"Year\": \"1974-01-01T00:00:00\", \"Origin\": \"USA\"}, {\"Name\": \"chevrolet chevelle malibu classic\", \"Miles_per_Gallon\": 16.0, \"Cylinders\": 6, \"Displacement\": 250.0, \"Horsepower\": 100.0, \"Weight_in_lbs\": 3781, \"Acceleration\": 17.0, \"Year\": \"1974-01-01T00:00:00\", \"Origin\": \"USA\"}, {\"Name\": \"amc matador\", \"Miles_per_Gallon\": 16.0, \"Cylinders\": 6, \"Displacement\": 258.0, \"Horsepower\": 110.0, \"Weight_in_lbs\": 3632, \"Acceleration\": 18.0, \"Year\": \"1974-01-01T00:00:00\", \"Origin\": \"USA\"}, {\"Name\": \"plymouth satellite sebring\", \"Miles_per_Gallon\": 18.0, \"Cylinders\": 6, \"Displacement\": 225.0, \"Horsepower\": 105.0, \"Weight_in_lbs\": 3613, \"Acceleration\": 16.5, \"Year\": \"1974-01-01T00:00:00\", \"Origin\": \"USA\"}, {\"Name\": \"ford gran torino\", \"Miles_per_Gallon\": 16.0, \"Cylinders\": 8, \"Displacement\": 302.0, \"Horsepower\": 140.0, \"Weight_in_lbs\": 4141, \"Acceleration\": 14.0, \"Year\": \"1974-01-01T00:00:00\", \"Origin\": \"USA\"}, {\"Name\": \"buick century luxus (sw)\", \"Miles_per_Gallon\": 13.0, \"Cylinders\": 8, \"Displacement\": 350.0, \"Horsepower\": 150.0, \"Weight_in_lbs\": 4699, \"Acceleration\": 14.5, \"Year\": \"1974-01-01T00:00:00\", \"Origin\": \"USA\"}, {\"Name\": \"dodge coronet custom (sw)\", \"Miles_per_Gallon\": 14.0, \"Cylinders\": 8, \"Displacement\": 318.0, \"Horsepower\": 150.0, \"Weight_in_lbs\": 4457, \"Acceleration\": 13.5, \"Year\": \"1974-01-01T00:00:00\", \"Origin\": \"USA\"}, {\"Name\": \"ford gran torino (sw)\", \"Miles_per_Gallon\": 14.0, \"Cylinders\": 8, \"Displacement\": 302.0, \"Horsepower\": 140.0, \"Weight_in_lbs\": 4638, \"Acceleration\": 16.0, \"Year\": \"1974-01-01T00:00:00\", \"Origin\": \"USA\"}, {\"Name\": \"amc matador (sw)\", \"Miles_per_Gallon\": 14.0, \"Cylinders\": 8, \"Displacement\": 304.0, \"Horsepower\": 150.0, \"Weight_in_lbs\": 4257, \"Acceleration\": 15.5, \"Year\": \"1974-01-01T00:00:00\", \"Origin\": \"USA\"}, {\"Name\": \"audi fox\", \"Miles_per_Gallon\": 29.0, \"Cylinders\": 4, \"Displacement\": 98.0, \"Horsepower\": 83.0, \"Weight_in_lbs\": 2219, \"Acceleration\": 16.5, \"Year\": \"1974-01-01T00:00:00\", \"Origin\": \"Europe\"}, {\"Name\": \"volkswagen dasher\", \"Miles_per_Gallon\": 26.0, \"Cylinders\": 4, \"Displacement\": 79.0, \"Horsepower\": 67.0, \"Weight_in_lbs\": 1963, \"Acceleration\": 15.5, \"Year\": \"1974-01-01T00:00:00\", \"Origin\": \"Europe\"}, {\"Name\": \"opel manta\", \"Miles_per_Gallon\": 26.0, \"Cylinders\": 4, \"Displacement\": 97.0, \"Horsepower\": 78.0, \"Weight_in_lbs\": 2300, \"Acceleration\": 14.5, \"Year\": \"1974-01-01T00:00:00\", \"Origin\": \"Europe\"}, {\"Name\": \"toyota corona\", \"Miles_per_Gallon\": 31.0, \"Cylinders\": 4, \"Displacement\": 76.0, \"Horsepower\": 52.0, \"Weight_in_lbs\": 1649, \"Acceleration\": 16.5, \"Year\": \"1974-01-01T00:00:00\", \"Origin\": \"Japan\"}, {\"Name\": \"datsun 710\", \"Miles_per_Gallon\": 32.0, \"Cylinders\": 4, \"Displacement\": 83.0, \"Horsepower\": 61.0, \"Weight_in_lbs\": 2003, \"Acceleration\": 19.0, \"Year\": \"1974-01-01T00:00:00\", \"Origin\": \"Japan\"}, {\"Name\": \"dodge colt\", \"Miles_per_Gallon\": 28.0, \"Cylinders\": 4, \"Displacement\": 90.0, \"Horsepower\": 75.0, \"Weight_in_lbs\": 2125, \"Acceleration\": 14.5, \"Year\": \"1974-01-01T00:00:00\", \"Origin\": \"USA\"}, {\"Name\": \"fiat 128\", \"Miles_per_Gallon\": 24.0, \"Cylinders\": 4, \"Displacement\": 90.0, \"Horsepower\": 75.0, \"Weight_in_lbs\": 2108, \"Acceleration\": 15.5, \"Year\": \"1974-01-01T00:00:00\", \"Origin\": \"Europe\"}, {\"Name\": \"fiat 124 tc\", \"Miles_per_Gallon\": 26.0, \"Cylinders\": 4, \"Displacement\": 116.0, \"Horsepower\": 75.0, \"Weight_in_lbs\": 2246, \"Acceleration\": 14.0, \"Year\": \"1974-01-01T00:00:00\", \"Origin\": \"Europe\"}, {\"Name\": \"honda civic\", \"Miles_per_Gallon\": 24.0, \"Cylinders\": 4, \"Displacement\": 120.0, \"Horsepower\": 97.0, \"Weight_in_lbs\": 2489, \"Acceleration\": 15.0, \"Year\": \"1974-01-01T00:00:00\", \"Origin\": \"Japan\"}, {\"Name\": \"subaru\", \"Miles_per_Gallon\": 26.0, \"Cylinders\": 4, \"Displacement\": 108.0, \"Horsepower\": 93.0, \"Weight_in_lbs\": 2391, \"Acceleration\": 15.5, \"Year\": \"1974-01-01T00:00:00\", \"Origin\": \"Japan\"}, {\"Name\": \"fiat x1.9\", \"Miles_per_Gallon\": 31.0, \"Cylinders\": 4, \"Displacement\": 79.0, \"Horsepower\": 67.0, \"Weight_in_lbs\": 2000, \"Acceleration\": 16.0, \"Year\": \"1974-01-01T00:00:00\", \"Origin\": \"Europe\"}, {\"Name\": \"plymouth valiant custom\", \"Miles_per_Gallon\": 19.0, \"Cylinders\": 6, \"Displacement\": 225.0, \"Horsepower\": 95.0, \"Weight_in_lbs\": 3264, \"Acceleration\": 16.0, \"Year\": \"1975-01-01T00:00:00\", \"Origin\": \"USA\"}, {\"Name\": \"chevrolet nova\", \"Miles_per_Gallon\": 18.0, \"Cylinders\": 6, \"Displacement\": 250.0, \"Horsepower\": 105.0, \"Weight_in_lbs\": 3459, \"Acceleration\": 16.0, \"Year\": \"1975-01-01T00:00:00\", \"Origin\": \"USA\"}, {\"Name\": \"mercury monarch\", \"Miles_per_Gallon\": 15.0, \"Cylinders\": 6, \"Displacement\": 250.0, \"Horsepower\": 72.0, \"Weight_in_lbs\": 3432, \"Acceleration\": 21.0, \"Year\": \"1975-01-01T00:00:00\", \"Origin\": \"USA\"}, {\"Name\": \"ford maverick\", \"Miles_per_Gallon\": 15.0, \"Cylinders\": 6, \"Displacement\": 250.0, \"Horsepower\": 72.0, \"Weight_in_lbs\": 3158, \"Acceleration\": 19.5, \"Year\": \"1975-01-01T00:00:00\", \"Origin\": \"USA\"}, {\"Name\": \"pontiac catalina\", \"Miles_per_Gallon\": 16.0, \"Cylinders\": 8, \"Displacement\": 400.0, \"Horsepower\": 170.0, \"Weight_in_lbs\": 4668, \"Acceleration\": 11.5, \"Year\": \"1975-01-01T00:00:00\", \"Origin\": \"USA\"}, {\"Name\": \"chevrolet bel air\", \"Miles_per_Gallon\": 15.0, \"Cylinders\": 8, \"Displacement\": 350.0, \"Horsepower\": 145.0, \"Weight_in_lbs\": 4440, \"Acceleration\": 14.0, \"Year\": \"1975-01-01T00:00:00\", \"Origin\": \"USA\"}, {\"Name\": \"plymouth grand fury\", \"Miles_per_Gallon\": 16.0, \"Cylinders\": 8, \"Displacement\": 318.0, \"Horsepower\": 150.0, \"Weight_in_lbs\": 4498, \"Acceleration\": 14.5, \"Year\": \"1975-01-01T00:00:00\", \"Origin\": \"USA\"}, {\"Name\": \"ford ltd\", \"Miles_per_Gallon\": 14.0, \"Cylinders\": 8, \"Displacement\": 351.0, \"Horsepower\": 148.0, \"Weight_in_lbs\": 4657, \"Acceleration\": 13.5, \"Year\": \"1975-01-01T00:00:00\", \"Origin\": \"USA\"}, {\"Name\": \"buick century\", \"Miles_per_Gallon\": 17.0, \"Cylinders\": 6, \"Displacement\": 231.0, \"Horsepower\": 110.0, \"Weight_in_lbs\": 3907, \"Acceleration\": 21.0, \"Year\": \"1975-01-01T00:00:00\", \"Origin\": \"USA\"}, {\"Name\": \"chevroelt chevelle malibu\", \"Miles_per_Gallon\": 16.0, \"Cylinders\": 6, \"Displacement\": 250.0, \"Horsepower\": 105.0, \"Weight_in_lbs\": 3897, \"Acceleration\": 18.5, \"Year\": \"1975-01-01T00:00:00\", \"Origin\": \"USA\"}, {\"Name\": \"amc matador\", \"Miles_per_Gallon\": 15.0, \"Cylinders\": 6, \"Displacement\": 258.0, \"Horsepower\": 110.0, \"Weight_in_lbs\": 3730, \"Acceleration\": 19.0, \"Year\": \"1975-01-01T00:00:00\", \"Origin\": \"USA\"}, {\"Name\": \"plymouth fury\", \"Miles_per_Gallon\": 18.0, \"Cylinders\": 6, \"Displacement\": 225.0, \"Horsepower\": 95.0, \"Weight_in_lbs\": 3785, \"Acceleration\": 19.0, \"Year\": \"1975-01-01T00:00:00\", \"Origin\": \"USA\"}, {\"Name\": \"buick skyhawk\", \"Miles_per_Gallon\": 21.0, \"Cylinders\": 6, \"Displacement\": 231.0, \"Horsepower\": 110.0, \"Weight_in_lbs\": 3039, \"Acceleration\": 15.0, \"Year\": \"1975-01-01T00:00:00\", \"Origin\": \"USA\"}, {\"Name\": \"chevrolet monza 2+2\", \"Miles_per_Gallon\": 20.0, \"Cylinders\": 8, \"Displacement\": 262.0, \"Horsepower\": 110.0, \"Weight_in_lbs\": 3221, \"Acceleration\": 13.5, \"Year\": \"1975-01-01T00:00:00\", \"Origin\": \"USA\"}, {\"Name\": \"ford mustang ii\", \"Miles_per_Gallon\": 13.0, \"Cylinders\": 8, \"Displacement\": 302.0, \"Horsepower\": 129.0, \"Weight_in_lbs\": 3169, \"Acceleration\": 12.0, \"Year\": \"1975-01-01T00:00:00\", \"Origin\": \"USA\"}, {\"Name\": \"toyota corolla\", \"Miles_per_Gallon\": 29.0, \"Cylinders\": 4, \"Displacement\": 97.0, \"Horsepower\": 75.0, \"Weight_in_lbs\": 2171, \"Acceleration\": 16.0, \"Year\": \"1975-01-01T00:00:00\", \"Origin\": \"Japan\"}, {\"Name\": \"ford pinto\", \"Miles_per_Gallon\": 23.0, \"Cylinders\": 4, \"Displacement\": 140.0, \"Horsepower\": 83.0, \"Weight_in_lbs\": 2639, \"Acceleration\": 17.0, \"Year\": \"1975-01-01T00:00:00\", \"Origin\": \"USA\"}, {\"Name\": \"amc gremlin\", \"Miles_per_Gallon\": 20.0, \"Cylinders\": 6, \"Displacement\": 232.0, \"Horsepower\": 100.0, \"Weight_in_lbs\": 2914, \"Acceleration\": 16.0, \"Year\": \"1975-01-01T00:00:00\", \"Origin\": \"USA\"}, {\"Name\": \"pontiac astro\", \"Miles_per_Gallon\": 23.0, \"Cylinders\": 4, \"Displacement\": 140.0, \"Horsepower\": 78.0, \"Weight_in_lbs\": 2592, \"Acceleration\": 18.5, \"Year\": \"1975-01-01T00:00:00\", \"Origin\": \"USA\"}, {\"Name\": \"toyota corona\", \"Miles_per_Gallon\": 24.0, \"Cylinders\": 4, \"Displacement\": 134.0, \"Horsepower\": 96.0, \"Weight_in_lbs\": 2702, \"Acceleration\": 13.5, \"Year\": \"1975-01-01T00:00:00\", \"Origin\": \"Japan\"}, {\"Name\": \"volkswagen dasher\", \"Miles_per_Gallon\": 25.0, \"Cylinders\": 4, \"Displacement\": 90.0, \"Horsepower\": 71.0, \"Weight_in_lbs\": 2223, \"Acceleration\": 16.5, \"Year\": \"1975-01-01T00:00:00\", \"Origin\": \"Europe\"}, {\"Name\": \"datsun 710\", \"Miles_per_Gallon\": 24.0, \"Cylinders\": 4, \"Displacement\": 119.0, \"Horsepower\": 97.0, \"Weight_in_lbs\": 2545, \"Acceleration\": 17.0, \"Year\": \"1975-01-01T00:00:00\", \"Origin\": \"Japan\"}, {\"Name\": \"ford pinto\", \"Miles_per_Gallon\": 18.0, \"Cylinders\": 6, \"Displacement\": 171.0, \"Horsepower\": 97.0, \"Weight_in_lbs\": 2984, \"Acceleration\": 14.5, \"Year\": \"1975-01-01T00:00:00\", \"Origin\": \"USA\"}, {\"Name\": \"volkswagen rabbit\", \"Miles_per_Gallon\": 29.0, \"Cylinders\": 4, \"Displacement\": 90.0, \"Horsepower\": 70.0, \"Weight_in_lbs\": 1937, \"Acceleration\": 14.0, \"Year\": \"1975-01-01T00:00:00\", \"Origin\": \"Europe\"}, {\"Name\": \"amc pacer\", \"Miles_per_Gallon\": 19.0, \"Cylinders\": 6, \"Displacement\": 232.0, \"Horsepower\": 90.0, \"Weight_in_lbs\": 3211, \"Acceleration\": 17.0, \"Year\": \"1975-01-01T00:00:00\", \"Origin\": \"USA\"}, {\"Name\": \"audi 100ls\", \"Miles_per_Gallon\": 23.0, \"Cylinders\": 4, \"Displacement\": 115.0, \"Horsepower\": 95.0, \"Weight_in_lbs\": 2694, \"Acceleration\": 15.0, \"Year\": \"1975-01-01T00:00:00\", \"Origin\": \"Europe\"}, {\"Name\": \"peugeot 504\", \"Miles_per_Gallon\": 23.0, \"Cylinders\": 4, \"Displacement\": 120.0, \"Horsepower\": 88.0, \"Weight_in_lbs\": 2957, \"Acceleration\": 17.0, \"Year\": \"1975-01-01T00:00:00\", \"Origin\": \"Europe\"}, {\"Name\": \"volvo 244dl\", \"Miles_per_Gallon\": 22.0, \"Cylinders\": 4, \"Displacement\": 121.0, \"Horsepower\": 98.0, \"Weight_in_lbs\": 2945, \"Acceleration\": 14.5, \"Year\": \"1975-01-01T00:00:00\", \"Origin\": \"Europe\"}, {\"Name\": \"saab 99le\", \"Miles_per_Gallon\": 25.0, \"Cylinders\": 4, \"Displacement\": 121.0, \"Horsepower\": 115.0, \"Weight_in_lbs\": 2671, \"Acceleration\": 13.5, \"Year\": \"1975-01-01T00:00:00\", \"Origin\": \"Europe\"}, {\"Name\": \"honda civic cvcc\", \"Miles_per_Gallon\": 33.0, \"Cylinders\": 4, \"Displacement\": 91.0, \"Horsepower\": 53.0, \"Weight_in_lbs\": 1795, \"Acceleration\": 17.5, \"Year\": \"1975-01-01T00:00:00\", \"Origin\": \"Japan\"}, {\"Name\": \"fiat 131\", \"Miles_per_Gallon\": 28.0, \"Cylinders\": 4, \"Displacement\": 107.0, \"Horsepower\": 86.0, \"Weight_in_lbs\": 2464, \"Acceleration\": 15.5, \"Year\": \"1976-01-01T00:00:00\", \"Origin\": \"Europe\"}, {\"Name\": \"opel 1900\", \"Miles_per_Gallon\": 25.0, \"Cylinders\": 4, \"Displacement\": 116.0, \"Horsepower\": 81.0, \"Weight_in_lbs\": 2220, \"Acceleration\": 16.9, \"Year\": \"1976-01-01T00:00:00\", \"Origin\": \"Europe\"}, {\"Name\": \"capri ii\", \"Miles_per_Gallon\": 25.0, \"Cylinders\": 4, \"Displacement\": 140.0, \"Horsepower\": 92.0, \"Weight_in_lbs\": 2572, \"Acceleration\": 14.9, \"Year\": \"1976-01-01T00:00:00\", \"Origin\": \"USA\"}, {\"Name\": \"dodge colt\", \"Miles_per_Gallon\": 26.0, \"Cylinders\": 4, \"Displacement\": 98.0, \"Horsepower\": 79.0, \"Weight_in_lbs\": 2255, \"Acceleration\": 17.7, \"Year\": \"1976-01-01T00:00:00\", \"Origin\": \"USA\"}, {\"Name\": \"renault 12tl\", \"Miles_per_Gallon\": 27.0, \"Cylinders\": 4, \"Displacement\": 101.0, \"Horsepower\": 83.0, \"Weight_in_lbs\": 2202, \"Acceleration\": 15.3, \"Year\": \"1976-01-01T00:00:00\", \"Origin\": \"Europe\"}, {\"Name\": \"chevrolet chevelle malibu classic\", \"Miles_per_Gallon\": 17.5, \"Cylinders\": 8, \"Displacement\": 305.0, \"Horsepower\": 140.0, \"Weight_in_lbs\": 4215, \"Acceleration\": 13.0, \"Year\": \"1976-01-01T00:00:00\", \"Origin\": \"USA\"}, {\"Name\": \"dodge coronet brougham\", \"Miles_per_Gallon\": 16.0, \"Cylinders\": 8, \"Displacement\": 318.0, \"Horsepower\": 150.0, \"Weight_in_lbs\": 4190, \"Acceleration\": 13.0, \"Year\": \"1976-01-01T00:00:00\", \"Origin\": \"USA\"}, {\"Name\": \"amc matador\", \"Miles_per_Gallon\": 15.5, \"Cylinders\": 8, \"Displacement\": 304.0, \"Horsepower\": 120.0, \"Weight_in_lbs\": 3962, \"Acceleration\": 13.9, \"Year\": \"1976-01-01T00:00:00\", \"Origin\": \"USA\"}, {\"Name\": \"ford gran torino\", \"Miles_per_Gallon\": 14.5, \"Cylinders\": 8, \"Displacement\": 351.0, \"Horsepower\": 152.0, \"Weight_in_lbs\": 4215, \"Acceleration\": 12.8, \"Year\": \"1976-01-01T00:00:00\", \"Origin\": \"USA\"}, {\"Name\": \"plymouth valiant\", \"Miles_per_Gallon\": 22.0, \"Cylinders\": 6, \"Displacement\": 225.0, \"Horsepower\": 100.0, \"Weight_in_lbs\": 3233, \"Acceleration\": 15.4, \"Year\": \"1976-01-01T00:00:00\", \"Origin\": \"USA\"}, {\"Name\": \"chevrolet nova\", \"Miles_per_Gallon\": 22.0, \"Cylinders\": 6, \"Displacement\": 250.0, \"Horsepower\": 105.0, \"Weight_in_lbs\": 3353, \"Acceleration\": 14.5, \"Year\": \"1976-01-01T00:00:00\", \"Origin\": \"USA\"}, {\"Name\": \"ford maverick\", \"Miles_per_Gallon\": 24.0, \"Cylinders\": 6, \"Displacement\": 200.0, \"Horsepower\": 81.0, \"Weight_in_lbs\": 3012, \"Acceleration\": 17.6, \"Year\": \"1976-01-01T00:00:00\", \"Origin\": \"USA\"}, {\"Name\": \"amc hornet\", \"Miles_per_Gallon\": 22.5, \"Cylinders\": 6, \"Displacement\": 232.0, \"Horsepower\": 90.0, \"Weight_in_lbs\": 3085, \"Acceleration\": 17.6, \"Year\": \"1976-01-01T00:00:00\", \"Origin\": \"USA\"}, {\"Name\": \"chevrolet chevette\", \"Miles_per_Gallon\": 29.0, \"Cylinders\": 4, \"Displacement\": 85.0, \"Horsepower\": 52.0, \"Weight_in_lbs\": 2035, \"Acceleration\": 22.2, \"Year\": \"1976-01-01T00:00:00\", \"Origin\": \"USA\"}, {\"Name\": \"chevrolet woody\", \"Miles_per_Gallon\": 24.5, \"Cylinders\": 4, \"Displacement\": 98.0, \"Horsepower\": 60.0, \"Weight_in_lbs\": 2164, \"Acceleration\": 22.1, \"Year\": \"1976-01-01T00:00:00\", \"Origin\": \"USA\"}, {\"Name\": \"vw rabbit\", \"Miles_per_Gallon\": 29.0, \"Cylinders\": 4, \"Displacement\": 90.0, \"Horsepower\": 70.0, \"Weight_in_lbs\": 1937, \"Acceleration\": 14.2, \"Year\": \"1976-01-01T00:00:00\", \"Origin\": \"Europe\"}, {\"Name\": \"honda civic\", \"Miles_per_Gallon\": 33.0, \"Cylinders\": 4, \"Displacement\": 91.0, \"Horsepower\": 53.0, \"Weight_in_lbs\": 1795, \"Acceleration\": 17.4, \"Year\": \"1976-01-01T00:00:00\", \"Origin\": \"Japan\"}, {\"Name\": \"dodge aspen se\", \"Miles_per_Gallon\": 20.0, \"Cylinders\": 6, \"Displacement\": 225.0, \"Horsepower\": 100.0, \"Weight_in_lbs\": 3651, \"Acceleration\": 17.7, \"Year\": \"1976-01-01T00:00:00\", \"Origin\": \"USA\"}, {\"Name\": \"ford granada ghia\", \"Miles_per_Gallon\": 18.0, \"Cylinders\": 6, \"Displacement\": 250.0, \"Horsepower\": 78.0, \"Weight_in_lbs\": 3574, \"Acceleration\": 21.0, \"Year\": \"1976-01-01T00:00:00\", \"Origin\": \"USA\"}, {\"Name\": \"pontiac ventura sj\", \"Miles_per_Gallon\": 18.5, \"Cylinders\": 6, \"Displacement\": 250.0, \"Horsepower\": 110.0, \"Weight_in_lbs\": 3645, \"Acceleration\": 16.2, \"Year\": \"1976-01-01T00:00:00\", \"Origin\": \"USA\"}, {\"Name\": \"amc pacer d/l\", \"Miles_per_Gallon\": 17.5, \"Cylinders\": 6, \"Displacement\": 258.0, \"Horsepower\": 95.0, \"Weight_in_lbs\": 3193, \"Acceleration\": 17.8, \"Year\": \"1976-01-01T00:00:00\", \"Origin\": \"USA\"}, {\"Name\": \"volkswagen rabbit\", \"Miles_per_Gallon\": 29.5, \"Cylinders\": 4, \"Displacement\": 97.0, \"Horsepower\": 71.0, \"Weight_in_lbs\": 1825, \"Acceleration\": 12.2, \"Year\": \"1976-01-01T00:00:00\", \"Origin\": \"Europe\"}, {\"Name\": \"datsun b-210\", \"Miles_per_Gallon\": 32.0, \"Cylinders\": 4, \"Displacement\": 85.0, \"Horsepower\": 70.0, \"Weight_in_lbs\": 1990, \"Acceleration\": 17.0, \"Year\": \"1976-01-01T00:00:00\", \"Origin\": \"Japan\"}, {\"Name\": \"toyota corolla\", \"Miles_per_Gallon\": 28.0, \"Cylinders\": 4, \"Displacement\": 97.0, \"Horsepower\": 75.0, \"Weight_in_lbs\": 2155, \"Acceleration\": 16.4, \"Year\": \"1976-01-01T00:00:00\", \"Origin\": \"Japan\"}, {\"Name\": \"ford pinto\", \"Miles_per_Gallon\": 26.5, \"Cylinders\": 4, \"Displacement\": 140.0, \"Horsepower\": 72.0, \"Weight_in_lbs\": 2565, \"Acceleration\": 13.6, \"Year\": \"1976-01-01T00:00:00\", \"Origin\": \"USA\"}, {\"Name\": \"volvo 245\", \"Miles_per_Gallon\": 20.0, \"Cylinders\": 4, \"Displacement\": 130.0, \"Horsepower\": 102.0, \"Weight_in_lbs\": 3150, \"Acceleration\": 15.7, \"Year\": \"1976-01-01T00:00:00\", \"Origin\": \"Europe\"}, {\"Name\": \"plymouth volare premier v8\", \"Miles_per_Gallon\": 13.0, \"Cylinders\": 8, \"Displacement\": 318.0, \"Horsepower\": 150.0, \"Weight_in_lbs\": 3940, \"Acceleration\": 13.2, \"Year\": \"1976-01-01T00:00:00\", \"Origin\": \"USA\"}, {\"Name\": \"peugeot 504\", \"Miles_per_Gallon\": 19.0, \"Cylinders\": 4, \"Displacement\": 120.0, \"Horsepower\": 88.0, \"Weight_in_lbs\": 3270, \"Acceleration\": 21.9, \"Year\": \"1976-01-01T00:00:00\", \"Origin\": \"Europe\"}, {\"Name\": \"toyota mark ii\", \"Miles_per_Gallon\": 19.0, \"Cylinders\": 6, \"Displacement\": 156.0, \"Horsepower\": 108.0, \"Weight_in_lbs\": 2930, \"Acceleration\": 15.5, \"Year\": \"1976-01-01T00:00:00\", \"Origin\": \"Japan\"}, {\"Name\": \"mercedes-benz 280s\", \"Miles_per_Gallon\": 16.5, \"Cylinders\": 6, \"Displacement\": 168.0, \"Horsepower\": 120.0, \"Weight_in_lbs\": 3820, \"Acceleration\": 16.7, \"Year\": \"1976-01-01T00:00:00\", \"Origin\": \"Europe\"}, {\"Name\": \"cadillac seville\", \"Miles_per_Gallon\": 16.5, \"Cylinders\": 8, \"Displacement\": 350.0, \"Horsepower\": 180.0, \"Weight_in_lbs\": 4380, \"Acceleration\": 12.1, \"Year\": \"1976-01-01T00:00:00\", \"Origin\": \"USA\"}, {\"Name\": \"chevy c10\", \"Miles_per_Gallon\": 13.0, \"Cylinders\": 8, \"Displacement\": 350.0, \"Horsepower\": 145.0, \"Weight_in_lbs\": 4055, \"Acceleration\": 12.0, \"Year\": \"1976-01-01T00:00:00\", \"Origin\": \"USA\"}, {\"Name\": \"ford f108\", \"Miles_per_Gallon\": 13.0, \"Cylinders\": 8, \"Displacement\": 302.0, \"Horsepower\": 130.0, \"Weight_in_lbs\": 3870, \"Acceleration\": 15.0, \"Year\": \"1976-01-01T00:00:00\", \"Origin\": \"USA\"}, {\"Name\": \"dodge d100\", \"Miles_per_Gallon\": 13.0, \"Cylinders\": 8, \"Displacement\": 318.0, \"Horsepower\": 150.0, \"Weight_in_lbs\": 3755, \"Acceleration\": 14.0, \"Year\": \"1976-01-01T00:00:00\", \"Origin\": \"USA\"}, {\"Name\": \"honda Accelerationord cvcc\", \"Miles_per_Gallon\": 31.5, \"Cylinders\": 4, \"Displacement\": 98.0, \"Horsepower\": 68.0, \"Weight_in_lbs\": 2045, \"Acceleration\": 18.5, \"Year\": \"1977-01-01T00:00:00\", \"Origin\": \"Japan\"}, {\"Name\": \"buick opel isuzu deluxe\", \"Miles_per_Gallon\": 30.0, \"Cylinders\": 4, \"Displacement\": 111.0, \"Horsepower\": 80.0, \"Weight_in_lbs\": 2155, \"Acceleration\": 14.8, \"Year\": \"1977-01-01T00:00:00\", \"Origin\": \"USA\"}, {\"Name\": \"renault 5 gtl\", \"Miles_per_Gallon\": 36.0, \"Cylinders\": 4, \"Displacement\": 79.0, \"Horsepower\": 58.0, \"Weight_in_lbs\": 1825, \"Acceleration\": 18.6, \"Year\": \"1977-01-01T00:00:00\", \"Origin\": \"Europe\"}, {\"Name\": \"plymouth arrow gs\", \"Miles_per_Gallon\": 25.5, \"Cylinders\": 4, \"Displacement\": 122.0, \"Horsepower\": 96.0, \"Weight_in_lbs\": 2300, \"Acceleration\": 15.5, \"Year\": \"1977-01-01T00:00:00\", \"Origin\": \"USA\"}, {\"Name\": \"datsun f-10 hatchback\", \"Miles_per_Gallon\": 33.5, \"Cylinders\": 4, \"Displacement\": 85.0, \"Horsepower\": 70.0, \"Weight_in_lbs\": 1945, \"Acceleration\": 16.8, \"Year\": \"1977-01-01T00:00:00\", \"Origin\": \"Japan\"}, {\"Name\": \"chevrolet caprice classic\", \"Miles_per_Gallon\": 17.5, \"Cylinders\": 8, \"Displacement\": 305.0, \"Horsepower\": 145.0, \"Weight_in_lbs\": 3880, \"Acceleration\": 12.5, \"Year\": \"1977-01-01T00:00:00\", \"Origin\": \"USA\"}, {\"Name\": \"oldsmobile cutlass supreme\", \"Miles_per_Gallon\": 17.0, \"Cylinders\": 8, \"Displacement\": 260.0, \"Horsepower\": 110.0, \"Weight_in_lbs\": 4060, \"Acceleration\": 19.0, \"Year\": \"1977-01-01T00:00:00\", \"Origin\": \"USA\"}, {\"Name\": \"dodge monaco brougham\", \"Miles_per_Gallon\": 15.5, \"Cylinders\": 8, \"Displacement\": 318.0, \"Horsepower\": 145.0, \"Weight_in_lbs\": 4140, \"Acceleration\": 13.7, \"Year\": \"1977-01-01T00:00:00\", \"Origin\": \"USA\"}, {\"Name\": \"mercury cougar brougham\", \"Miles_per_Gallon\": 15.0, \"Cylinders\": 8, \"Displacement\": 302.0, \"Horsepower\": 130.0, \"Weight_in_lbs\": 4295, \"Acceleration\": 14.9, \"Year\": \"1977-01-01T00:00:00\", \"Origin\": \"USA\"}, {\"Name\": \"chevrolet concours\", \"Miles_per_Gallon\": 17.5, \"Cylinders\": 6, \"Displacement\": 250.0, \"Horsepower\": 110.0, \"Weight_in_lbs\": 3520, \"Acceleration\": 16.4, \"Year\": \"1977-01-01T00:00:00\", \"Origin\": \"USA\"}, {\"Name\": \"buick skylark\", \"Miles_per_Gallon\": 20.5, \"Cylinders\": 6, \"Displacement\": 231.0, \"Horsepower\": 105.0, \"Weight_in_lbs\": 3425, \"Acceleration\": 16.9, \"Year\": \"1977-01-01T00:00:00\", \"Origin\": \"USA\"}, {\"Name\": \"plymouth volare custom\", \"Miles_per_Gallon\": 19.0, \"Cylinders\": 6, \"Displacement\": 225.0, \"Horsepower\": 100.0, \"Weight_in_lbs\": 3630, \"Acceleration\": 17.7, \"Year\": \"1977-01-01T00:00:00\", \"Origin\": \"USA\"}, {\"Name\": \"ford granada\", \"Miles_per_Gallon\": 18.5, \"Cylinders\": 6, \"Displacement\": 250.0, \"Horsepower\": 98.0, \"Weight_in_lbs\": 3525, \"Acceleration\": 19.0, \"Year\": \"1977-01-01T00:00:00\", \"Origin\": \"USA\"}, {\"Name\": \"pontiac grand prix lj\", \"Miles_per_Gallon\": 16.0, \"Cylinders\": 8, \"Displacement\": 400.0, \"Horsepower\": 180.0, \"Weight_in_lbs\": 4220, \"Acceleration\": 11.1, \"Year\": \"1977-01-01T00:00:00\", \"Origin\": \"USA\"}, {\"Name\": \"chevrolet monte carlo landau\", \"Miles_per_Gallon\": 15.5, \"Cylinders\": 8, \"Displacement\": 350.0, \"Horsepower\": 170.0, \"Weight_in_lbs\": 4165, \"Acceleration\": 11.4, \"Year\": \"1977-01-01T00:00:00\", \"Origin\": \"USA\"}, {\"Name\": \"chrysler cordoba\", \"Miles_per_Gallon\": 15.5, \"Cylinders\": 8, \"Displacement\": 400.0, \"Horsepower\": 190.0, \"Weight_in_lbs\": 4325, \"Acceleration\": 12.2, \"Year\": \"1977-01-01T00:00:00\", \"Origin\": \"USA\"}, {\"Name\": \"ford thunderbird\", \"Miles_per_Gallon\": 16.0, \"Cylinders\": 8, \"Displacement\": 351.0, \"Horsepower\": 149.0, \"Weight_in_lbs\": 4335, \"Acceleration\": 14.5, \"Year\": \"1977-01-01T00:00:00\", \"Origin\": \"USA\"}, {\"Name\": \"volkswagen rabbit custom\", \"Miles_per_Gallon\": 29.0, \"Cylinders\": 4, \"Displacement\": 97.0, \"Horsepower\": 78.0, \"Weight_in_lbs\": 1940, \"Acceleration\": 14.5, \"Year\": \"1977-01-01T00:00:00\", \"Origin\": \"Europe\"}, {\"Name\": \"pontiac sunbird coupe\", \"Miles_per_Gallon\": 24.5, \"Cylinders\": 4, \"Displacement\": 151.0, \"Horsepower\": 88.0, \"Weight_in_lbs\": 2740, \"Acceleration\": 16.0, \"Year\": \"1977-01-01T00:00:00\", \"Origin\": \"USA\"}, {\"Name\": \"toyota corolla liftback\", \"Miles_per_Gallon\": 26.0, \"Cylinders\": 4, \"Displacement\": 97.0, \"Horsepower\": 75.0, \"Weight_in_lbs\": 2265, \"Acceleration\": 18.2, \"Year\": \"1977-01-01T00:00:00\", \"Origin\": \"Japan\"}, {\"Name\": \"ford mustang ii 2+2\", \"Miles_per_Gallon\": 25.5, \"Cylinders\": 4, \"Displacement\": 140.0, \"Horsepower\": 89.0, \"Weight_in_lbs\": 2755, \"Acceleration\": 15.8, \"Year\": \"1977-01-01T00:00:00\", \"Origin\": \"USA\"}, {\"Name\": \"chevrolet chevette\", \"Miles_per_Gallon\": 30.5, \"Cylinders\": 4, \"Displacement\": 98.0, \"Horsepower\": 63.0, \"Weight_in_lbs\": 2051, \"Acceleration\": 17.0, \"Year\": \"1977-01-01T00:00:00\", \"Origin\": \"USA\"}, {\"Name\": \"dodge colt m/m\", \"Miles_per_Gallon\": 33.5, \"Cylinders\": 4, \"Displacement\": 98.0, \"Horsepower\": 83.0, \"Weight_in_lbs\": 2075, \"Acceleration\": 15.9, \"Year\": \"1977-01-01T00:00:00\", \"Origin\": \"USA\"}, {\"Name\": \"subaru dl\", \"Miles_per_Gallon\": 30.0, \"Cylinders\": 4, \"Displacement\": 97.0, \"Horsepower\": 67.0, \"Weight_in_lbs\": 1985, \"Acceleration\": 16.4, \"Year\": \"1977-01-01T00:00:00\", \"Origin\": \"Japan\"}, {\"Name\": \"volkswagen dasher\", \"Miles_per_Gallon\": 30.5, \"Cylinders\": 4, \"Displacement\": 97.0, \"Horsepower\": 78.0, \"Weight_in_lbs\": 2190, \"Acceleration\": 14.1, \"Year\": \"1977-01-01T00:00:00\", \"Origin\": \"Europe\"}, {\"Name\": \"datsun 810\", \"Miles_per_Gallon\": 22.0, \"Cylinders\": 6, \"Displacement\": 146.0, \"Horsepower\": 97.0, \"Weight_in_lbs\": 2815, \"Acceleration\": 14.5, \"Year\": \"1977-01-01T00:00:00\", \"Origin\": \"Japan\"}, {\"Name\": \"bmw 320i\", \"Miles_per_Gallon\": 21.5, \"Cylinders\": 4, \"Displacement\": 121.0, \"Horsepower\": 110.0, \"Weight_in_lbs\": 2600, \"Acceleration\": 12.8, \"Year\": \"1977-01-01T00:00:00\", \"Origin\": \"Europe\"}, {\"Name\": \"mazda rx-4\", \"Miles_per_Gallon\": 21.5, \"Cylinders\": 3, \"Displacement\": 80.0, \"Horsepower\": 110.0, \"Weight_in_lbs\": 2720, \"Acceleration\": 13.5, \"Year\": \"1977-01-01T00:00:00\", \"Origin\": \"Japan\"}, {\"Name\": \"volkswagen rabbit custom diesel\", \"Miles_per_Gallon\": 43.1, \"Cylinders\": 4, \"Displacement\": 90.0, \"Horsepower\": 48.0, \"Weight_in_lbs\": 1985, \"Acceleration\": 21.5, \"Year\": \"1978-01-01T00:00:00\", \"Origin\": \"Europe\"}, {\"Name\": \"ford fiesta\", \"Miles_per_Gallon\": 36.1, \"Cylinders\": 4, \"Displacement\": 98.0, \"Horsepower\": 66.0, \"Weight_in_lbs\": 1800, \"Acceleration\": 14.4, \"Year\": \"1978-01-01T00:00:00\", \"Origin\": \"USA\"}, {\"Name\": \"mazda glc deluxe\", \"Miles_per_Gallon\": 32.8, \"Cylinders\": 4, \"Displacement\": 78.0, \"Horsepower\": 52.0, \"Weight_in_lbs\": 1985, \"Acceleration\": 19.4, \"Year\": \"1978-01-01T00:00:00\", \"Origin\": \"Japan\"}, {\"Name\": \"datsun b210 gx\", \"Miles_per_Gallon\": 39.4, \"Cylinders\": 4, \"Displacement\": 85.0, \"Horsepower\": 70.0, \"Weight_in_lbs\": 2070, \"Acceleration\": 18.6, \"Year\": \"1978-01-01T00:00:00\", \"Origin\": \"Japan\"}, {\"Name\": \"honda civic cvcc\", \"Miles_per_Gallon\": 36.1, \"Cylinders\": 4, \"Displacement\": 91.0, \"Horsepower\": 60.0, \"Weight_in_lbs\": 1800, \"Acceleration\": 16.4, \"Year\": \"1978-01-01T00:00:00\", \"Origin\": \"Japan\"}, {\"Name\": \"oldsmobile cutlass salon brougham\", \"Miles_per_Gallon\": 19.9, \"Cylinders\": 8, \"Displacement\": 260.0, \"Horsepower\": 110.0, \"Weight_in_lbs\": 3365, \"Acceleration\": 15.5, \"Year\": \"1978-01-01T00:00:00\", \"Origin\": \"USA\"}, {\"Name\": \"dodge diplomat\", \"Miles_per_Gallon\": 19.4, \"Cylinders\": 8, \"Displacement\": 318.0, \"Horsepower\": 140.0, \"Weight_in_lbs\": 3735, \"Acceleration\": 13.2, \"Year\": \"1978-01-01T00:00:00\", \"Origin\": \"USA\"}, {\"Name\": \"mercury monarch ghia\", \"Miles_per_Gallon\": 20.2, \"Cylinders\": 8, \"Displacement\": 302.0, \"Horsepower\": 139.0, \"Weight_in_lbs\": 3570, \"Acceleration\": 12.8, \"Year\": \"1978-01-01T00:00:00\", \"Origin\": \"USA\"}, {\"Name\": \"pontiac phoenix lj\", \"Miles_per_Gallon\": 19.2, \"Cylinders\": 6, \"Displacement\": 231.0, \"Horsepower\": 105.0, \"Weight_in_lbs\": 3535, \"Acceleration\": 19.2, \"Year\": \"1978-01-01T00:00:00\", \"Origin\": \"USA\"}, {\"Name\": \"chevrolet malibu\", \"Miles_per_Gallon\": 20.5, \"Cylinders\": 6, \"Displacement\": 200.0, \"Horsepower\": 95.0, \"Weight_in_lbs\": 3155, \"Acceleration\": 18.2, \"Year\": \"1978-01-01T00:00:00\", \"Origin\": \"USA\"}, {\"Name\": \"ford fairmont (auto)\", \"Miles_per_Gallon\": 20.2, \"Cylinders\": 6, \"Displacement\": 200.0, \"Horsepower\": 85.0, \"Weight_in_lbs\": 2965, \"Acceleration\": 15.8, \"Year\": \"1978-01-01T00:00:00\", \"Origin\": \"USA\"}, {\"Name\": \"ford fairmont (man)\", \"Miles_per_Gallon\": 25.1, \"Cylinders\": 4, \"Displacement\": 140.0, \"Horsepower\": 88.0, \"Weight_in_lbs\": 2720, \"Acceleration\": 15.4, \"Year\": \"1978-01-01T00:00:00\", \"Origin\": \"USA\"}, {\"Name\": \"plymouth volare\", \"Miles_per_Gallon\": 20.5, \"Cylinders\": 6, \"Displacement\": 225.0, \"Horsepower\": 100.0, \"Weight_in_lbs\": 3430, \"Acceleration\": 17.2, \"Year\": \"1978-01-01T00:00:00\", \"Origin\": \"USA\"}, {\"Name\": \"amc concord\", \"Miles_per_Gallon\": 19.4, \"Cylinders\": 6, \"Displacement\": 232.0, \"Horsepower\": 90.0, \"Weight_in_lbs\": 3210, \"Acceleration\": 17.2, \"Year\": \"1978-01-01T00:00:00\", \"Origin\": \"USA\"}, {\"Name\": \"buick century special\", \"Miles_per_Gallon\": 20.6, \"Cylinders\": 6, \"Displacement\": 231.0, \"Horsepower\": 105.0, \"Weight_in_lbs\": 3380, \"Acceleration\": 15.8, \"Year\": \"1978-01-01T00:00:00\", \"Origin\": \"USA\"}, {\"Name\": \"mercury zephyr\", \"Miles_per_Gallon\": 20.8, \"Cylinders\": 6, \"Displacement\": 200.0, \"Horsepower\": 85.0, \"Weight_in_lbs\": 3070, \"Acceleration\": 16.7, \"Year\": \"1978-01-01T00:00:00\", \"Origin\": \"USA\"}, {\"Name\": \"dodge aspen\", \"Miles_per_Gallon\": 18.6, \"Cylinders\": 6, \"Displacement\": 225.0, \"Horsepower\": 110.0, \"Weight_in_lbs\": 3620, \"Acceleration\": 18.7, \"Year\": \"1978-01-01T00:00:00\", \"Origin\": \"USA\"}, {\"Name\": \"amc concord d/l\", \"Miles_per_Gallon\": 18.1, \"Cylinders\": 6, \"Displacement\": 258.0, \"Horsepower\": 120.0, \"Weight_in_lbs\": 3410, \"Acceleration\": 15.1, \"Year\": \"1978-01-01T00:00:00\", \"Origin\": \"USA\"}, {\"Name\": \"chevrolet monte carlo landau\", \"Miles_per_Gallon\": 19.2, \"Cylinders\": 8, \"Displacement\": 305.0, \"Horsepower\": 145.0, \"Weight_in_lbs\": 3425, \"Acceleration\": 13.2, \"Year\": \"1978-01-01T00:00:00\", \"Origin\": \"USA\"}, {\"Name\": \"buick regal sport coupe (turbo)\", \"Miles_per_Gallon\": 17.7, \"Cylinders\": 6, \"Displacement\": 231.0, \"Horsepower\": 165.0, \"Weight_in_lbs\": 3445, \"Acceleration\": 13.4, \"Year\": \"1978-01-01T00:00:00\", \"Origin\": \"USA\"}, {\"Name\": \"ford futura\", \"Miles_per_Gallon\": 18.1, \"Cylinders\": 8, \"Displacement\": 302.0, \"Horsepower\": 139.0, \"Weight_in_lbs\": 3205, \"Acceleration\": 11.2, \"Year\": \"1978-01-01T00:00:00\", \"Origin\": \"USA\"}, {\"Name\": \"dodge magnum xe\", \"Miles_per_Gallon\": 17.5, \"Cylinders\": 8, \"Displacement\": 318.0, \"Horsepower\": 140.0, \"Weight_in_lbs\": 4080, \"Acceleration\": 13.7, \"Year\": \"1978-01-01T00:00:00\", \"Origin\": \"USA\"}, {\"Name\": \"chevrolet chevette\", \"Miles_per_Gallon\": 30.0, \"Cylinders\": 4, \"Displacement\": 98.0, \"Horsepower\": 68.0, \"Weight_in_lbs\": 2155, \"Acceleration\": 16.5, \"Year\": \"1978-01-01T00:00:00\", \"Origin\": \"USA\"}, {\"Name\": \"toyota corona\", \"Miles_per_Gallon\": 27.5, \"Cylinders\": 4, \"Displacement\": 134.0, \"Horsepower\": 95.0, \"Weight_in_lbs\": 2560, \"Acceleration\": 14.2, \"Year\": \"1978-01-01T00:00:00\", \"Origin\": \"Japan\"}, {\"Name\": \"datsun 510\", \"Miles_per_Gallon\": 27.2, \"Cylinders\": 4, \"Displacement\": 119.0, \"Horsepower\": 97.0, \"Weight_in_lbs\": 2300, \"Acceleration\": 14.7, \"Year\": \"1978-01-01T00:00:00\", \"Origin\": \"Japan\"}, {\"Name\": \"dodge omni\", \"Miles_per_Gallon\": 30.9, \"Cylinders\": 4, \"Displacement\": 105.0, \"Horsepower\": 75.0, \"Weight_in_lbs\": 2230, \"Acceleration\": 14.5, \"Year\": \"1978-01-01T00:00:00\", \"Origin\": \"USA\"}, {\"Name\": \"toyota celica gt liftback\", \"Miles_per_Gallon\": 21.1, \"Cylinders\": 4, \"Displacement\": 134.0, \"Horsepower\": 95.0, \"Weight_in_lbs\": 2515, \"Acceleration\": 14.8, \"Year\": \"1978-01-01T00:00:00\", \"Origin\": \"Japan\"}, {\"Name\": \"plymouth sapporo\", \"Miles_per_Gallon\": 23.2, \"Cylinders\": 4, \"Displacement\": 156.0, \"Horsepower\": 105.0, \"Weight_in_lbs\": 2745, \"Acceleration\": 16.7, \"Year\": \"1978-01-01T00:00:00\", \"Origin\": \"USA\"}, {\"Name\": \"oldsmobile starfire sx\", \"Miles_per_Gallon\": 23.8, \"Cylinders\": 4, \"Displacement\": 151.0, \"Horsepower\": 85.0, \"Weight_in_lbs\": 2855, \"Acceleration\": 17.6, \"Year\": \"1978-01-01T00:00:00\", \"Origin\": \"USA\"}, {\"Name\": \"datsun 200-sx\", \"Miles_per_Gallon\": 23.9, \"Cylinders\": 4, \"Displacement\": 119.0, \"Horsepower\": 97.0, \"Weight_in_lbs\": 2405, \"Acceleration\": 14.9, \"Year\": \"1978-01-01T00:00:00\", \"Origin\": \"Japan\"}, {\"Name\": \"audi 5000\", \"Miles_per_Gallon\": 20.3, \"Cylinders\": 5, \"Displacement\": 131.0, \"Horsepower\": 103.0, \"Weight_in_lbs\": 2830, \"Acceleration\": 15.9, \"Year\": \"1978-01-01T00:00:00\", \"Origin\": \"Europe\"}, {\"Name\": \"volvo 264gl\", \"Miles_per_Gallon\": 17.0, \"Cylinders\": 6, \"Displacement\": 163.0, \"Horsepower\": 125.0, \"Weight_in_lbs\": 3140, \"Acceleration\": 13.6, \"Year\": \"1978-01-01T00:00:00\", \"Origin\": \"Europe\"}, {\"Name\": \"saab 99gle\", \"Miles_per_Gallon\": 21.6, \"Cylinders\": 4, \"Displacement\": 121.0, \"Horsepower\": 115.0, \"Weight_in_lbs\": 2795, \"Acceleration\": 15.7, \"Year\": \"1978-01-01T00:00:00\", \"Origin\": \"Europe\"}, {\"Name\": \"peugeot 604sl\", \"Miles_per_Gallon\": 16.2, \"Cylinders\": 6, \"Displacement\": 163.0, \"Horsepower\": 133.0, \"Weight_in_lbs\": 3410, \"Acceleration\": 15.8, \"Year\": \"1978-01-01T00:00:00\", \"Origin\": \"Europe\"}, {\"Name\": \"volkswagen scirocco\", \"Miles_per_Gallon\": 31.5, \"Cylinders\": 4, \"Displacement\": 89.0, \"Horsepower\": 71.0, \"Weight_in_lbs\": 1990, \"Acceleration\": 14.9, \"Year\": \"1978-01-01T00:00:00\", \"Origin\": \"Europe\"}, {\"Name\": \"honda Accelerationord lx\", \"Miles_per_Gallon\": 29.5, \"Cylinders\": 4, \"Displacement\": 98.0, \"Horsepower\": 68.0, \"Weight_in_lbs\": 2135, \"Acceleration\": 16.6, \"Year\": \"1978-01-01T00:00:00\", \"Origin\": \"Japan\"}, {\"Name\": \"pontiac lemans v6\", \"Miles_per_Gallon\": 21.5, \"Cylinders\": 6, \"Displacement\": 231.0, \"Horsepower\": 115.0, \"Weight_in_lbs\": 3245, \"Acceleration\": 15.4, \"Year\": \"1979-01-01T00:00:00\", \"Origin\": \"USA\"}, {\"Name\": \"mercury zephyr 6\", \"Miles_per_Gallon\": 19.8, \"Cylinders\": 6, \"Displacement\": 200.0, \"Horsepower\": 85.0, \"Weight_in_lbs\": 2990, \"Acceleration\": 18.2, \"Year\": \"1979-01-01T00:00:00\", \"Origin\": \"USA\"}, {\"Name\": \"ford fairmont 4\", \"Miles_per_Gallon\": 22.3, \"Cylinders\": 4, \"Displacement\": 140.0, \"Horsepower\": 88.0, \"Weight_in_lbs\": 2890, \"Acceleration\": 17.3, \"Year\": \"1979-01-01T00:00:00\", \"Origin\": \"USA\"}, {\"Name\": \"amc concord dl 6\", \"Miles_per_Gallon\": 20.2, \"Cylinders\": 6, \"Displacement\": 232.0, \"Horsepower\": 90.0, \"Weight_in_lbs\": 3265, \"Acceleration\": 18.2, \"Year\": \"1979-01-01T00:00:00\", \"Origin\": \"USA\"}, {\"Name\": \"dodge aspen 6\", \"Miles_per_Gallon\": 20.6, \"Cylinders\": 6, \"Displacement\": 225.0, \"Horsepower\": 110.0, \"Weight_in_lbs\": 3360, \"Acceleration\": 16.6, \"Year\": \"1979-01-01T00:00:00\", \"Origin\": \"USA\"}, {\"Name\": \"chevrolet caprice classic\", \"Miles_per_Gallon\": 17.0, \"Cylinders\": 8, \"Displacement\": 305.0, \"Horsepower\": 130.0, \"Weight_in_lbs\": 3840, \"Acceleration\": 15.4, \"Year\": \"1979-01-01T00:00:00\", \"Origin\": \"USA\"}, {\"Name\": \"ford ltd landau\", \"Miles_per_Gallon\": 17.6, \"Cylinders\": 8, \"Displacement\": 302.0, \"Horsepower\": 129.0, \"Weight_in_lbs\": 3725, \"Acceleration\": 13.4, \"Year\": \"1979-01-01T00:00:00\", \"Origin\": \"USA\"}, {\"Name\": \"mercury grand marquis\", \"Miles_per_Gallon\": 16.5, \"Cylinders\": 8, \"Displacement\": 351.0, \"Horsepower\": 138.0, \"Weight_in_lbs\": 3955, \"Acceleration\": 13.2, \"Year\": \"1979-01-01T00:00:00\", \"Origin\": \"USA\"}, {\"Name\": \"dodge st. regis\", \"Miles_per_Gallon\": 18.2, \"Cylinders\": 8, \"Displacement\": 318.0, \"Horsepower\": 135.0, \"Weight_in_lbs\": 3830, \"Acceleration\": 15.2, \"Year\": \"1979-01-01T00:00:00\", \"Origin\": \"USA\"}, {\"Name\": \"buick estate wagon (sw)\", \"Miles_per_Gallon\": 16.9, \"Cylinders\": 8, \"Displacement\": 350.0, \"Horsepower\": 155.0, \"Weight_in_lbs\": 4360, \"Acceleration\": 14.9, \"Year\": \"1979-01-01T00:00:00\", \"Origin\": \"USA\"}, {\"Name\": \"ford country squire (sw)\", \"Miles_per_Gallon\": 15.5, \"Cylinders\": 8, \"Displacement\": 351.0, \"Horsepower\": 142.0, \"Weight_in_lbs\": 4054, \"Acceleration\": 14.3, \"Year\": \"1979-01-01T00:00:00\", \"Origin\": \"USA\"}, {\"Name\": \"chevrolet malibu classic (sw)\", \"Miles_per_Gallon\": 19.2, \"Cylinders\": 8, \"Displacement\": 267.0, \"Horsepower\": 125.0, \"Weight_in_lbs\": 3605, \"Acceleration\": 15.0, \"Year\": \"1979-01-01T00:00:00\", \"Origin\": \"USA\"}, {\"Name\": \"chrysler lebaron town @ country (sw)\", \"Miles_per_Gallon\": 18.5, \"Cylinders\": 8, \"Displacement\": 360.0, \"Horsepower\": 150.0, \"Weight_in_lbs\": 3940, \"Acceleration\": 13.0, \"Year\": \"1979-01-01T00:00:00\", \"Origin\": \"USA\"}, {\"Name\": \"vw rabbit custom\", \"Miles_per_Gallon\": 31.9, \"Cylinders\": 4, \"Displacement\": 89.0, \"Horsepower\": 71.0, \"Weight_in_lbs\": 1925, \"Acceleration\": 14.0, \"Year\": \"1979-01-01T00:00:00\", \"Origin\": \"Europe\"}, {\"Name\": \"maxda glc deluxe\", \"Miles_per_Gallon\": 34.1, \"Cylinders\": 4, \"Displacement\": 86.0, \"Horsepower\": 65.0, \"Weight_in_lbs\": 1975, \"Acceleration\": 15.2, \"Year\": \"1979-01-01T00:00:00\", \"Origin\": \"Japan\"}, {\"Name\": \"dodge colt hatchback custom\", \"Miles_per_Gallon\": 35.7, \"Cylinders\": 4, \"Displacement\": 98.0, \"Horsepower\": 80.0, \"Weight_in_lbs\": 1915, \"Acceleration\": 14.4, \"Year\": \"1979-01-01T00:00:00\", \"Origin\": \"USA\"}, {\"Name\": \"amc spirit dl\", \"Miles_per_Gallon\": 27.4, \"Cylinders\": 4, \"Displacement\": 121.0, \"Horsepower\": 80.0, \"Weight_in_lbs\": 2670, \"Acceleration\": 15.0, \"Year\": \"1979-01-01T00:00:00\", \"Origin\": \"USA\"}, {\"Name\": \"mercedes benz 300d\", \"Miles_per_Gallon\": 25.4, \"Cylinders\": 5, \"Displacement\": 183.0, \"Horsepower\": 77.0, \"Weight_in_lbs\": 3530, \"Acceleration\": 20.1, \"Year\": \"1979-01-01T00:00:00\", \"Origin\": \"Europe\"}, {\"Name\": \"cadillac eldorado\", \"Miles_per_Gallon\": 23.0, \"Cylinders\": 8, \"Displacement\": 350.0, \"Horsepower\": 125.0, \"Weight_in_lbs\": 3900, \"Acceleration\": 17.4, \"Year\": \"1979-01-01T00:00:00\", \"Origin\": \"USA\"}, {\"Name\": \"peugeot 504\", \"Miles_per_Gallon\": 27.2, \"Cylinders\": 4, \"Displacement\": 141.0, \"Horsepower\": 71.0, \"Weight_in_lbs\": 3190, \"Acceleration\": 24.8, \"Year\": \"1979-01-01T00:00:00\", \"Origin\": \"Europe\"}, {\"Name\": \"oldsmobile cutlass salon brougham\", \"Miles_per_Gallon\": 23.9, \"Cylinders\": 8, \"Displacement\": 260.0, \"Horsepower\": 90.0, \"Weight_in_lbs\": 3420, \"Acceleration\": 22.2, \"Year\": \"1979-01-01T00:00:00\", \"Origin\": \"USA\"}, {\"Name\": \"plymouth horizon\", \"Miles_per_Gallon\": 34.2, \"Cylinders\": 4, \"Displacement\": 105.0, \"Horsepower\": 70.0, \"Weight_in_lbs\": 2200, \"Acceleration\": 13.2, \"Year\": \"1979-01-01T00:00:00\", \"Origin\": \"USA\"}, {\"Name\": \"plymouth horizon tc3\", \"Miles_per_Gallon\": 34.5, \"Cylinders\": 4, \"Displacement\": 105.0, \"Horsepower\": 70.0, \"Weight_in_lbs\": 2150, \"Acceleration\": 14.9, \"Year\": \"1979-01-01T00:00:00\", \"Origin\": \"USA\"}, {\"Name\": \"datsun 210\", \"Miles_per_Gallon\": 31.8, \"Cylinders\": 4, \"Displacement\": 85.0, \"Horsepower\": 65.0, \"Weight_in_lbs\": 2020, \"Acceleration\": 19.2, \"Year\": \"1979-01-01T00:00:00\", \"Origin\": \"Japan\"}, {\"Name\": \"fiat strada custom\", \"Miles_per_Gallon\": 37.3, \"Cylinders\": 4, \"Displacement\": 91.0, \"Horsepower\": 69.0, \"Weight_in_lbs\": 2130, \"Acceleration\": 14.7, \"Year\": \"1979-01-01T00:00:00\", \"Origin\": \"Europe\"}, {\"Name\": \"buick skylark limited\", \"Miles_per_Gallon\": 28.4, \"Cylinders\": 4, \"Displacement\": 151.0, \"Horsepower\": 90.0, \"Weight_in_lbs\": 2670, \"Acceleration\": 16.0, \"Year\": \"1979-01-01T00:00:00\", \"Origin\": \"USA\"}, {\"Name\": \"chevrolet citation\", \"Miles_per_Gallon\": 28.8, \"Cylinders\": 6, \"Displacement\": 173.0, \"Horsepower\": 115.0, \"Weight_in_lbs\": 2595, \"Acceleration\": 11.3, \"Year\": \"1979-01-01T00:00:00\", \"Origin\": \"USA\"}, {\"Name\": \"oldsmobile omega brougham\", \"Miles_per_Gallon\": 26.8, \"Cylinders\": 6, \"Displacement\": 173.0, \"Horsepower\": 115.0, \"Weight_in_lbs\": 2700, \"Acceleration\": 12.9, \"Year\": \"1979-01-01T00:00:00\", \"Origin\": \"USA\"}, {\"Name\": \"pontiac phoenix\", \"Miles_per_Gallon\": 33.5, \"Cylinders\": 4, \"Displacement\": 151.0, \"Horsepower\": 90.0, \"Weight_in_lbs\": 2556, \"Acceleration\": 13.2, \"Year\": \"1979-01-01T00:00:00\", \"Origin\": \"USA\"}, {\"Name\": \"vw rabbit\", \"Miles_per_Gallon\": 41.5, \"Cylinders\": 4, \"Displacement\": 98.0, \"Horsepower\": 76.0, \"Weight_in_lbs\": 2144, \"Acceleration\": 14.7, \"Year\": \"1980-01-01T00:00:00\", \"Origin\": \"Europe\"}, {\"Name\": \"toyota corolla tercel\", \"Miles_per_Gallon\": 38.1, \"Cylinders\": 4, \"Displacement\": 89.0, \"Horsepower\": 60.0, \"Weight_in_lbs\": 1968, \"Acceleration\": 18.8, \"Year\": \"1980-01-01T00:00:00\", \"Origin\": \"Japan\"}, {\"Name\": \"chevrolet chevette\", \"Miles_per_Gallon\": 32.1, \"Cylinders\": 4, \"Displacement\": 98.0, \"Horsepower\": 70.0, \"Weight_in_lbs\": 2120, \"Acceleration\": 15.5, \"Year\": \"1980-01-01T00:00:00\", \"Origin\": \"USA\"}, {\"Name\": \"datsun 310\", \"Miles_per_Gallon\": 37.2, \"Cylinders\": 4, \"Displacement\": 86.0, \"Horsepower\": 65.0, \"Weight_in_lbs\": 2019, \"Acceleration\": 16.4, \"Year\": \"1980-01-01T00:00:00\", \"Origin\": \"Japan\"}, {\"Name\": \"chevrolet citation\", \"Miles_per_Gallon\": 28.0, \"Cylinders\": 4, \"Displacement\": 151.0, \"Horsepower\": 90.0, \"Weight_in_lbs\": 2678, \"Acceleration\": 16.5, \"Year\": \"1980-01-01T00:00:00\", \"Origin\": \"USA\"}, {\"Name\": \"ford fairmont\", \"Miles_per_Gallon\": 26.4, \"Cylinders\": 4, \"Displacement\": 140.0, \"Horsepower\": 88.0, \"Weight_in_lbs\": 2870, \"Acceleration\": 18.1, \"Year\": \"1980-01-01T00:00:00\", \"Origin\": \"USA\"}, {\"Name\": \"amc concord\", \"Miles_per_Gallon\": 24.3, \"Cylinders\": 4, \"Displacement\": 151.0, \"Horsepower\": 90.0, \"Weight_in_lbs\": 3003, \"Acceleration\": 20.1, \"Year\": \"1980-01-01T00:00:00\", \"Origin\": \"USA\"}, {\"Name\": \"dodge aspen\", \"Miles_per_Gallon\": 19.1, \"Cylinders\": 6, \"Displacement\": 225.0, \"Horsepower\": 90.0, \"Weight_in_lbs\": 3381, \"Acceleration\": 18.7, \"Year\": \"1980-01-01T00:00:00\", \"Origin\": \"USA\"}, {\"Name\": \"audi 4000\", \"Miles_per_Gallon\": 34.3, \"Cylinders\": 4, \"Displacement\": 97.0, \"Horsepower\": 78.0, \"Weight_in_lbs\": 2188, \"Acceleration\": 15.8, \"Year\": \"1980-01-01T00:00:00\", \"Origin\": \"Europe\"}, {\"Name\": \"toyota corona liftback\", \"Miles_per_Gallon\": 29.8, \"Cylinders\": 4, \"Displacement\": 134.0, \"Horsepower\": 90.0, \"Weight_in_lbs\": 2711, \"Acceleration\": 15.5, \"Year\": \"1980-01-01T00:00:00\", \"Origin\": \"Japan\"}, {\"Name\": \"mazda 626\", \"Miles_per_Gallon\": 31.3, \"Cylinders\": 4, \"Displacement\": 120.0, \"Horsepower\": 75.0, \"Weight_in_lbs\": 2542, \"Acceleration\": 17.5, \"Year\": \"1980-01-01T00:00:00\", \"Origin\": \"Japan\"}, {\"Name\": \"datsun 510 hatchback\", \"Miles_per_Gallon\": 37.0, \"Cylinders\": 4, \"Displacement\": 119.0, \"Horsepower\": 92.0, \"Weight_in_lbs\": 2434, \"Acceleration\": 15.0, \"Year\": \"1980-01-01T00:00:00\", \"Origin\": \"Japan\"}, {\"Name\": \"toyota corolla\", \"Miles_per_Gallon\": 32.2, \"Cylinders\": 4, \"Displacement\": 108.0, \"Horsepower\": 75.0, \"Weight_in_lbs\": 2265, \"Acceleration\": 15.2, \"Year\": \"1980-01-01T00:00:00\", \"Origin\": \"Japan\"}, {\"Name\": \"mazda glc\", \"Miles_per_Gallon\": 46.6, \"Cylinders\": 4, \"Displacement\": 86.0, \"Horsepower\": 65.0, \"Weight_in_lbs\": 2110, \"Acceleration\": 17.9, \"Year\": \"1980-01-01T00:00:00\", \"Origin\": \"Japan\"}, {\"Name\": \"dodge colt\", \"Miles_per_Gallon\": 27.9, \"Cylinders\": 4, \"Displacement\": 156.0, \"Horsepower\": 105.0, \"Weight_in_lbs\": 2800, \"Acceleration\": 14.4, \"Year\": \"1980-01-01T00:00:00\", \"Origin\": \"USA\"}, {\"Name\": \"datsun 210\", \"Miles_per_Gallon\": 40.8, \"Cylinders\": 4, \"Displacement\": 85.0, \"Horsepower\": 65.0, \"Weight_in_lbs\": 2110, \"Acceleration\": 19.2, \"Year\": \"1980-01-01T00:00:00\", \"Origin\": \"Japan\"}, {\"Name\": \"vw rabbit c (diesel)\", \"Miles_per_Gallon\": 44.3, \"Cylinders\": 4, \"Displacement\": 90.0, \"Horsepower\": 48.0, \"Weight_in_lbs\": 2085, \"Acceleration\": 21.7, \"Year\": \"1980-01-01T00:00:00\", \"Origin\": \"Europe\"}, {\"Name\": \"vw dasher (diesel)\", \"Miles_per_Gallon\": 43.4, \"Cylinders\": 4, \"Displacement\": 90.0, \"Horsepower\": 48.0, \"Weight_in_lbs\": 2335, \"Acceleration\": 23.7, \"Year\": \"1980-01-01T00:00:00\", \"Origin\": \"Europe\"}, {\"Name\": \"audi 5000s (diesel)\", \"Miles_per_Gallon\": 36.4, \"Cylinders\": 5, \"Displacement\": 121.0, \"Horsepower\": 67.0, \"Weight_in_lbs\": 2950, \"Acceleration\": 19.9, \"Year\": \"1980-01-01T00:00:00\", \"Origin\": \"Europe\"}, {\"Name\": \"mercedes-benz 240d\", \"Miles_per_Gallon\": 30.0, \"Cylinders\": 4, \"Displacement\": 146.0, \"Horsepower\": 67.0, \"Weight_in_lbs\": 3250, \"Acceleration\": 21.8, \"Year\": \"1980-01-01T00:00:00\", \"Origin\": \"Europe\"}, {\"Name\": \"honda civic 1500 gl\", \"Miles_per_Gallon\": 44.6, \"Cylinders\": 4, \"Displacement\": 91.0, \"Horsepower\": 67.0, \"Weight_in_lbs\": 1850, \"Acceleration\": 13.8, \"Year\": \"1980-01-01T00:00:00\", \"Origin\": \"Japan\"}, {\"Name\": \"renault lecar deluxe\", \"Miles_per_Gallon\": 40.9, \"Cylinders\": 4, \"Displacement\": 85.0, \"Horsepower\": null, \"Weight_in_lbs\": 1835, \"Acceleration\": 17.3, \"Year\": \"1980-01-01T00:00:00\", \"Origin\": \"Europe\"}, {\"Name\": \"subaru dl\", \"Miles_per_Gallon\": 33.8, \"Cylinders\": 4, \"Displacement\": 97.0, \"Horsepower\": 67.0, \"Weight_in_lbs\": 2145, \"Acceleration\": 18.0, \"Year\": \"1980-01-01T00:00:00\", \"Origin\": \"Japan\"}, {\"Name\": \"vokswagen rabbit\", \"Miles_per_Gallon\": 29.8, \"Cylinders\": 4, \"Displacement\": 89.0, \"Horsepower\": 62.0, \"Weight_in_lbs\": 1845, \"Acceleration\": 15.3, \"Year\": \"1980-01-01T00:00:00\", \"Origin\": \"Europe\"}, {\"Name\": \"datsun 280-zx\", \"Miles_per_Gallon\": 32.7, \"Cylinders\": 6, \"Displacement\": 168.0, \"Horsepower\": 132.0, \"Weight_in_lbs\": 2910, \"Acceleration\": 11.4, \"Year\": \"1980-01-01T00:00:00\", \"Origin\": \"Japan\"}, {\"Name\": \"mazda rx-7 gs\", \"Miles_per_Gallon\": 23.7, \"Cylinders\": 3, \"Displacement\": 70.0, \"Horsepower\": 100.0, \"Weight_in_lbs\": 2420, \"Acceleration\": 12.5, \"Year\": \"1980-01-01T00:00:00\", \"Origin\": \"Japan\"}, {\"Name\": \"triumph tr7 coupe\", \"Miles_per_Gallon\": 35.0, \"Cylinders\": 4, \"Displacement\": 122.0, \"Horsepower\": 88.0, \"Weight_in_lbs\": 2500, \"Acceleration\": 15.1, \"Year\": \"1980-01-01T00:00:00\", \"Origin\": \"Europe\"}, {\"Name\": \"ford mustang cobra\", \"Miles_per_Gallon\": 23.6, \"Cylinders\": 4, \"Displacement\": 140.0, \"Horsepower\": null, \"Weight_in_lbs\": 2905, \"Acceleration\": 14.3, \"Year\": \"1980-01-01T00:00:00\", \"Origin\": \"USA\"}, {\"Name\": \"honda Accelerationord\", \"Miles_per_Gallon\": 32.4, \"Cylinders\": 4, \"Displacement\": 107.0, \"Horsepower\": 72.0, \"Weight_in_lbs\": 2290, \"Acceleration\": 17.0, \"Year\": \"1980-01-01T00:00:00\", \"Origin\": \"Japan\"}, {\"Name\": \"plymouth reliant\", \"Miles_per_Gallon\": 27.2, \"Cylinders\": 4, \"Displacement\": 135.0, \"Horsepower\": 84.0, \"Weight_in_lbs\": 2490, \"Acceleration\": 15.7, \"Year\": \"1982-01-01T00:00:00\", \"Origin\": \"USA\"}, {\"Name\": \"buick skylark\", \"Miles_per_Gallon\": 26.6, \"Cylinders\": 4, \"Displacement\": 151.0, \"Horsepower\": 84.0, \"Weight_in_lbs\": 2635, \"Acceleration\": 16.4, \"Year\": \"1982-01-01T00:00:00\", \"Origin\": \"USA\"}, {\"Name\": \"dodge aries wagon (sw)\", \"Miles_per_Gallon\": 25.8, \"Cylinders\": 4, \"Displacement\": 156.0, \"Horsepower\": 92.0, \"Weight_in_lbs\": 2620, \"Acceleration\": 14.4, \"Year\": \"1982-01-01T00:00:00\", \"Origin\": \"USA\"}, {\"Name\": \"chevrolet citation\", \"Miles_per_Gallon\": 23.5, \"Cylinders\": 6, \"Displacement\": 173.0, \"Horsepower\": 110.0, \"Weight_in_lbs\": 2725, \"Acceleration\": 12.6, \"Year\": \"1982-01-01T00:00:00\", \"Origin\": \"USA\"}, {\"Name\": \"plymouth reliant\", \"Miles_per_Gallon\": 30.0, \"Cylinders\": 4, \"Displacement\": 135.0, \"Horsepower\": 84.0, \"Weight_in_lbs\": 2385, \"Acceleration\": 12.9, \"Year\": \"1982-01-01T00:00:00\", \"Origin\": \"USA\"}, {\"Name\": \"toyota starlet\", \"Miles_per_Gallon\": 39.1, \"Cylinders\": 4, \"Displacement\": 79.0, \"Horsepower\": 58.0, \"Weight_in_lbs\": 1755, \"Acceleration\": 16.9, \"Year\": \"1982-01-01T00:00:00\", \"Origin\": \"Japan\"}, {\"Name\": \"plymouth champ\", \"Miles_per_Gallon\": 39.0, \"Cylinders\": 4, \"Displacement\": 86.0, \"Horsepower\": 64.0, \"Weight_in_lbs\": 1875, \"Acceleration\": 16.4, \"Year\": \"1982-01-01T00:00:00\", \"Origin\": \"USA\"}, {\"Name\": \"honda civic 1300\", \"Miles_per_Gallon\": 35.1, \"Cylinders\": 4, \"Displacement\": 81.0, \"Horsepower\": 60.0, \"Weight_in_lbs\": 1760, \"Acceleration\": 16.1, \"Year\": \"1982-01-01T00:00:00\", \"Origin\": \"Japan\"}, {\"Name\": \"subaru\", \"Miles_per_Gallon\": 32.3, \"Cylinders\": 4, \"Displacement\": 97.0, \"Horsepower\": 67.0, \"Weight_in_lbs\": 2065, \"Acceleration\": 17.8, \"Year\": \"1982-01-01T00:00:00\", \"Origin\": \"Japan\"}, {\"Name\": \"datsun 210\", \"Miles_per_Gallon\": 37.0, \"Cylinders\": 4, \"Displacement\": 85.0, \"Horsepower\": 65.0, \"Weight_in_lbs\": 1975, \"Acceleration\": 19.4, \"Year\": \"1982-01-01T00:00:00\", \"Origin\": \"Japan\"}, {\"Name\": \"toyota tercel\", \"Miles_per_Gallon\": 37.7, \"Cylinders\": 4, \"Displacement\": 89.0, \"Horsepower\": 62.0, \"Weight_in_lbs\": 2050, \"Acceleration\": 17.3, \"Year\": \"1982-01-01T00:00:00\", \"Origin\": \"Japan\"}, {\"Name\": \"mazda glc 4\", \"Miles_per_Gallon\": 34.1, \"Cylinders\": 4, \"Displacement\": 91.0, \"Horsepower\": 68.0, \"Weight_in_lbs\": 1985, \"Acceleration\": 16.0, \"Year\": \"1982-01-01T00:00:00\", \"Origin\": \"Japan\"}, {\"Name\": \"plymouth horizon 4\", \"Miles_per_Gallon\": 34.7, \"Cylinders\": 4, \"Displacement\": 105.0, \"Horsepower\": 63.0, \"Weight_in_lbs\": 2215, \"Acceleration\": 14.9, \"Year\": \"1982-01-01T00:00:00\", \"Origin\": \"USA\"}, {\"Name\": \"ford escort 4w\", \"Miles_per_Gallon\": 34.4, \"Cylinders\": 4, \"Displacement\": 98.0, \"Horsepower\": 65.0, \"Weight_in_lbs\": 2045, \"Acceleration\": 16.2, \"Year\": \"1982-01-01T00:00:00\", \"Origin\": \"USA\"}, {\"Name\": \"ford escort 2h\", \"Miles_per_Gallon\": 29.9, \"Cylinders\": 4, \"Displacement\": 98.0, \"Horsepower\": 65.0, \"Weight_in_lbs\": 2380, \"Acceleration\": 20.7, \"Year\": \"1982-01-01T00:00:00\", \"Origin\": \"USA\"}, {\"Name\": \"volkswagen jetta\", \"Miles_per_Gallon\": 33.0, \"Cylinders\": 4, \"Displacement\": 105.0, \"Horsepower\": 74.0, \"Weight_in_lbs\": 2190, \"Acceleration\": 14.2, \"Year\": \"1982-01-01T00:00:00\", \"Origin\": \"Europe\"}, {\"Name\": \"renault 18i\", \"Miles_per_Gallon\": 34.5, \"Cylinders\": 4, \"Displacement\": 100.0, \"Horsepower\": null, \"Weight_in_lbs\": 2320, \"Acceleration\": 15.8, \"Year\": \"1982-01-01T00:00:00\", \"Origin\": \"Europe\"}, {\"Name\": \"honda prelude\", \"Miles_per_Gallon\": 33.7, \"Cylinders\": 4, \"Displacement\": 107.0, \"Horsepower\": 75.0, \"Weight_in_lbs\": 2210, \"Acceleration\": 14.4, \"Year\": \"1982-01-01T00:00:00\", \"Origin\": \"Japan\"}, {\"Name\": \"toyota corolla\", \"Miles_per_Gallon\": 32.4, \"Cylinders\": 4, \"Displacement\": 108.0, \"Horsepower\": 75.0, \"Weight_in_lbs\": 2350, \"Acceleration\": 16.8, \"Year\": \"1982-01-01T00:00:00\", \"Origin\": \"Japan\"}, {\"Name\": \"datsun 200sx\", \"Miles_per_Gallon\": 32.9, \"Cylinders\": 4, \"Displacement\": 119.0, \"Horsepower\": 100.0, \"Weight_in_lbs\": 2615, \"Acceleration\": 14.8, \"Year\": \"1982-01-01T00:00:00\", \"Origin\": \"Japan\"}, {\"Name\": \"mazda 626\", \"Miles_per_Gallon\": 31.6, \"Cylinders\": 4, \"Displacement\": 120.0, \"Horsepower\": 74.0, \"Weight_in_lbs\": 2635, \"Acceleration\": 18.3, \"Year\": \"1982-01-01T00:00:00\", \"Origin\": \"Japan\"}, {\"Name\": \"peugeot 505s turbo diesel\", \"Miles_per_Gallon\": 28.1, \"Cylinders\": 4, \"Displacement\": 141.0, \"Horsepower\": 80.0, \"Weight_in_lbs\": 3230, \"Acceleration\": 20.4, \"Year\": \"1982-01-01T00:00:00\", \"Origin\": \"Europe\"}, {\"Name\": \"saab 900s\", \"Miles_per_Gallon\": null, \"Cylinders\": 4, \"Displacement\": 121.0, \"Horsepower\": 110.0, \"Weight_in_lbs\": 2800, \"Acceleration\": 15.4, \"Year\": \"1982-01-01T00:00:00\", \"Origin\": \"Europe\"}, {\"Name\": \"volvo diesel\", \"Miles_per_Gallon\": 30.7, \"Cylinders\": 6, \"Displacement\": 145.0, \"Horsepower\": 76.0, \"Weight_in_lbs\": 3160, \"Acceleration\": 19.6, \"Year\": \"1982-01-01T00:00:00\", \"Origin\": \"Europe\"}, {\"Name\": \"toyota cressida\", \"Miles_per_Gallon\": 25.4, \"Cylinders\": 6, \"Displacement\": 168.0, \"Horsepower\": 116.0, \"Weight_in_lbs\": 2900, \"Acceleration\": 12.6, \"Year\": \"1982-01-01T00:00:00\", \"Origin\": \"Japan\"}, {\"Name\": \"datsun 810 maxima\", \"Miles_per_Gallon\": 24.2, \"Cylinders\": 6, \"Displacement\": 146.0, \"Horsepower\": 120.0, \"Weight_in_lbs\": 2930, \"Acceleration\": 13.8, \"Year\": \"1982-01-01T00:00:00\", \"Origin\": \"Japan\"}, {\"Name\": \"buick century\", \"Miles_per_Gallon\": 22.4, \"Cylinders\": 6, \"Displacement\": 231.0, \"Horsepower\": 110.0, \"Weight_in_lbs\": 3415, \"Acceleration\": 15.8, \"Year\": \"1982-01-01T00:00:00\", \"Origin\": \"USA\"}, {\"Name\": \"oldsmobile cutlass ls\", \"Miles_per_Gallon\": 26.6, \"Cylinders\": 8, \"Displacement\": 350.0, \"Horsepower\": 105.0, \"Weight_in_lbs\": 3725, \"Acceleration\": 19.0, \"Year\": \"1982-01-01T00:00:00\", \"Origin\": \"USA\"}, {\"Name\": \"ford granada gl\", \"Miles_per_Gallon\": 20.2, \"Cylinders\": 6, \"Displacement\": 200.0, \"Horsepower\": 88.0, \"Weight_in_lbs\": 3060, \"Acceleration\": 17.1, \"Year\": \"1982-01-01T00:00:00\", \"Origin\": \"USA\"}, {\"Name\": \"chrysler lebaron salon\", \"Miles_per_Gallon\": 17.6, \"Cylinders\": 6, \"Displacement\": 225.0, \"Horsepower\": 85.0, \"Weight_in_lbs\": 3465, \"Acceleration\": 16.6, \"Year\": \"1982-01-01T00:00:00\", \"Origin\": \"USA\"}, {\"Name\": \"chevrolet cavalier\", \"Miles_per_Gallon\": 28.0, \"Cylinders\": 4, \"Displacement\": 112.0, \"Horsepower\": 88.0, \"Weight_in_lbs\": 2605, \"Acceleration\": 19.6, \"Year\": \"1982-01-01T00:00:00\", \"Origin\": \"USA\"}, {\"Name\": \"chevrolet cavalier wagon\", \"Miles_per_Gallon\": 27.0, \"Cylinders\": 4, \"Displacement\": 112.0, \"Horsepower\": 88.0, \"Weight_in_lbs\": 2640, \"Acceleration\": 18.6, \"Year\": \"1982-01-01T00:00:00\", \"Origin\": \"USA\"}, {\"Name\": \"chevrolet cavalier 2-door\", \"Miles_per_Gallon\": 34.0, \"Cylinders\": 4, \"Displacement\": 112.0, \"Horsepower\": 88.0, \"Weight_in_lbs\": 2395, \"Acceleration\": 18.0, \"Year\": \"1982-01-01T00:00:00\", \"Origin\": \"USA\"}, {\"Name\": \"pontiac j2000 se hatchback\", \"Miles_per_Gallon\": 31.0, \"Cylinders\": 4, \"Displacement\": 112.0, \"Horsepower\": 85.0, \"Weight_in_lbs\": 2575, \"Acceleration\": 16.2, \"Year\": \"1982-01-01T00:00:00\", \"Origin\": \"USA\"}, {\"Name\": \"dodge aries se\", \"Miles_per_Gallon\": 29.0, \"Cylinders\": 4, \"Displacement\": 135.0, \"Horsepower\": 84.0, \"Weight_in_lbs\": 2525, \"Acceleration\": 16.0, \"Year\": \"1982-01-01T00:00:00\", \"Origin\": \"USA\"}, {\"Name\": \"pontiac phoenix\", \"Miles_per_Gallon\": 27.0, \"Cylinders\": 4, \"Displacement\": 151.0, \"Horsepower\": 90.0, \"Weight_in_lbs\": 2735, \"Acceleration\": 18.0, \"Year\": \"1982-01-01T00:00:00\", \"Origin\": \"USA\"}, {\"Name\": \"ford fairmont futura\", \"Miles_per_Gallon\": 24.0, \"Cylinders\": 4, \"Displacement\": 140.0, \"Horsepower\": 92.0, \"Weight_in_lbs\": 2865, \"Acceleration\": 16.4, \"Year\": \"1982-01-01T00:00:00\", \"Origin\": \"USA\"}, {\"Name\": \"amc concord dl\", \"Miles_per_Gallon\": 23.0, \"Cylinders\": 4, \"Displacement\": 151.0, \"Horsepower\": null, \"Weight_in_lbs\": 3035, \"Acceleration\": 20.5, \"Year\": \"1982-01-01T00:00:00\", \"Origin\": \"USA\"}, {\"Name\": \"volkswagen rabbit l\", \"Miles_per_Gallon\": 36.0, \"Cylinders\": 4, \"Displacement\": 105.0, \"Horsepower\": 74.0, \"Weight_in_lbs\": 1980, \"Acceleration\": 15.3, \"Year\": \"1982-01-01T00:00:00\", \"Origin\": \"Europe\"}, {\"Name\": \"mazda glc custom l\", \"Miles_per_Gallon\": 37.0, \"Cylinders\": 4, \"Displacement\": 91.0, \"Horsepower\": 68.0, \"Weight_in_lbs\": 2025, \"Acceleration\": 18.2, \"Year\": \"1982-01-01T00:00:00\", \"Origin\": \"Japan\"}, {\"Name\": \"mazda glc custom\", \"Miles_per_Gallon\": 31.0, \"Cylinders\": 4, \"Displacement\": 91.0, \"Horsepower\": 68.0, \"Weight_in_lbs\": 1970, \"Acceleration\": 17.6, \"Year\": \"1982-01-01T00:00:00\", \"Origin\": \"Japan\"}, {\"Name\": \"plymouth horizon miser\", \"Miles_per_Gallon\": 38.0, \"Cylinders\": 4, \"Displacement\": 105.0, \"Horsepower\": 63.0, \"Weight_in_lbs\": 2125, \"Acceleration\": 14.7, \"Year\": \"1982-01-01T00:00:00\", \"Origin\": \"USA\"}, {\"Name\": \"mercury lynx l\", \"Miles_per_Gallon\": 36.0, \"Cylinders\": 4, \"Displacement\": 98.0, \"Horsepower\": 70.0, \"Weight_in_lbs\": 2125, \"Acceleration\": 17.3, \"Year\": \"1982-01-01T00:00:00\", \"Origin\": \"USA\"}, {\"Name\": \"nissan stanza xe\", \"Miles_per_Gallon\": 36.0, \"Cylinders\": 4, \"Displacement\": 120.0, \"Horsepower\": 88.0, \"Weight_in_lbs\": 2160, \"Acceleration\": 14.5, \"Year\": \"1982-01-01T00:00:00\", \"Origin\": \"Japan\"}, {\"Name\": \"honda Accelerationord\", \"Miles_per_Gallon\": 36.0, \"Cylinders\": 4, \"Displacement\": 107.0, \"Horsepower\": 75.0, \"Weight_in_lbs\": 2205, \"Acceleration\": 14.5, \"Year\": \"1982-01-01T00:00:00\", \"Origin\": \"Japan\"}, {\"Name\": \"toyota corolla\", \"Miles_per_Gallon\": 34.0, \"Cylinders\": 4, \"Displacement\": 108.0, \"Horsepower\": 70.0, \"Weight_in_lbs\": 2245, \"Acceleration\": 16.9, \"Year\": \"1982-01-01T00:00:00\", \"Origin\": \"Japan\"}, {\"Name\": \"honda civic\", \"Miles_per_Gallon\": 38.0, \"Cylinders\": 4, \"Displacement\": 91.0, \"Horsepower\": 67.0, \"Weight_in_lbs\": 1965, \"Acceleration\": 15.0, \"Year\": \"1982-01-01T00:00:00\", \"Origin\": \"Japan\"}, {\"Name\": \"honda civic (auto)\", \"Miles_per_Gallon\": 32.0, \"Cylinders\": 4, \"Displacement\": 91.0, \"Horsepower\": 67.0, \"Weight_in_lbs\": 1965, \"Acceleration\": 15.7, \"Year\": \"1982-01-01T00:00:00\", \"Origin\": \"Japan\"}, {\"Name\": \"datsun 310 gx\", \"Miles_per_Gallon\": 38.0, \"Cylinders\": 4, \"Displacement\": 91.0, \"Horsepower\": 67.0, \"Weight_in_lbs\": 1995, \"Acceleration\": 16.2, \"Year\": \"1982-01-01T00:00:00\", \"Origin\": \"Japan\"}, {\"Name\": \"buick century limited\", \"Miles_per_Gallon\": 25.0, \"Cylinders\": 6, \"Displacement\": 181.0, \"Horsepower\": 110.0, \"Weight_in_lbs\": 2945, \"Acceleration\": 16.4, \"Year\": \"1982-01-01T00:00:00\", \"Origin\": \"USA\"}, {\"Name\": \"oldsmobile cutlass ciera (diesel)\", \"Miles_per_Gallon\": 38.0, \"Cylinders\": 6, \"Displacement\": 262.0, \"Horsepower\": 85.0, \"Weight_in_lbs\": 3015, \"Acceleration\": 17.0, \"Year\": \"1982-01-01T00:00:00\", \"Origin\": \"USA\"}, {\"Name\": \"chrysler lebaron medallion\", \"Miles_per_Gallon\": 26.0, \"Cylinders\": 4, \"Displacement\": 156.0, \"Horsepower\": 92.0, \"Weight_in_lbs\": 2585, \"Acceleration\": 14.5, \"Year\": \"1982-01-01T00:00:00\", \"Origin\": \"USA\"}, {\"Name\": \"ford granada l\", \"Miles_per_Gallon\": 22.0, \"Cylinders\": 6, \"Displacement\": 232.0, \"Horsepower\": 112.0, \"Weight_in_lbs\": 2835, \"Acceleration\": 14.7, \"Year\": \"1982-01-01T00:00:00\", \"Origin\": \"USA\"}, {\"Name\": \"toyota celica gt\", \"Miles_per_Gallon\": 32.0, \"Cylinders\": 4, \"Displacement\": 144.0, \"Horsepower\": 96.0, \"Weight_in_lbs\": 2665, \"Acceleration\": 13.9, \"Year\": \"1982-01-01T00:00:00\", \"Origin\": \"Japan\"}, {\"Name\": \"dodge charger 2.2\", \"Miles_per_Gallon\": 36.0, \"Cylinders\": 4, \"Displacement\": 135.0, \"Horsepower\": 84.0, \"Weight_in_lbs\": 2370, \"Acceleration\": 13.0, \"Year\": \"1982-01-01T00:00:00\", \"Origin\": \"USA\"}, {\"Name\": \"chevrolet camaro\", \"Miles_per_Gallon\": 27.0, \"Cylinders\": 4, \"Displacement\": 151.0, \"Horsepower\": 90.0, \"Weight_in_lbs\": 2950, \"Acceleration\": 17.3, \"Year\": \"1982-01-01T00:00:00\", \"Origin\": \"USA\"}, {\"Name\": \"ford mustang gl\", \"Miles_per_Gallon\": 27.0, \"Cylinders\": 4, \"Displacement\": 140.0, \"Horsepower\": 86.0, \"Weight_in_lbs\": 2790, \"Acceleration\": 15.6, \"Year\": \"1982-01-01T00:00:00\", \"Origin\": \"USA\"}, {\"Name\": \"vw pickup\", \"Miles_per_Gallon\": 44.0, \"Cylinders\": 4, \"Displacement\": 97.0, \"Horsepower\": 52.0, \"Weight_in_lbs\": 2130, \"Acceleration\": 24.6, \"Year\": \"1982-01-01T00:00:00\", \"Origin\": \"Europe\"}, {\"Name\": \"dodge rampage\", \"Miles_per_Gallon\": 32.0, \"Cylinders\": 4, \"Displacement\": 135.0, \"Horsepower\": 84.0, \"Weight_in_lbs\": 2295, \"Acceleration\": 11.6, \"Year\": \"1982-01-01T00:00:00\", \"Origin\": \"USA\"}, {\"Name\": \"ford ranger\", \"Miles_per_Gallon\": 28.0, \"Cylinders\": 4, \"Displacement\": 120.0, \"Horsepower\": 79.0, \"Weight_in_lbs\": 2625, \"Acceleration\": 18.6, \"Year\": \"1982-01-01T00:00:00\", \"Origin\": \"USA\"}, {\"Name\": \"chevy s-10\", \"Miles_per_Gallon\": 31.0, \"Cylinders\": 4, \"Displacement\": 119.0, \"Horsepower\": 82.0, \"Weight_in_lbs\": 2720, \"Acceleration\": 19.4, \"Year\": \"1982-01-01T00:00:00\", \"Origin\": \"USA\"}]}};\n",
              "      var embedOpt = {\"mode\": \"vega-lite\"};\n",
              "\n",
              "      function showError(el, error){\n",
              "          el.innerHTML = ('<div class=\"error\" style=\"color:red;\">'\n",
              "                          + '<p>JavaScript Error: ' + error.message + '</p>'\n",
              "                          + \"<p>This usually means there's a typo in your chart specification. \"\n",
              "                          + \"See the javascript console for the full traceback.</p>\"\n",
              "                          + '</div>');\n",
              "          throw error;\n",
              "      }\n",
              "      const el = document.getElementById('altair-viz');\n",
              "      vegaEmbed(\"#altair-viz\", spec, embedOpt)\n",
              "        .catch(error => showError(el, error));\n",
              "    })(vegaEmbed);\n",
              "\n",
              "  </script>\n",
              "</body>\n",
              "</html>"
            ]
          },
          "metadata": {
            "tags": []
          },
          "execution_count": 55
        }
      ]
    },
    {
      "cell_type": "code",
      "metadata": {
        "id": "Mz-XqXzGe-Ve",
        "colab_type": "code",
        "colab": {
          "base_uri": "https://localhost:8080/",
          "height": 164
        },
        "outputId": "90212bec-3368-427f-f58e-d736d7c0b096"
      },
      "source": [
        "print(f1_score_weighted)"
      ],
      "execution_count": 17,
      "outputs": [
        {
          "output_type": "error",
          "ename": "NameError",
          "evalue": "ignored",
          "traceback": [
            "\u001b[0;31m---------------------------------------------------------------------------\u001b[0m",
            "\u001b[0;31mNameError\u001b[0m                                 Traceback (most recent call last)",
            "\u001b[0;32m<ipython-input-17-7e832b74beea>\u001b[0m in \u001b[0;36m<module>\u001b[0;34m()\u001b[0m\n\u001b[0;32m----> 1\u001b[0;31m \u001b[0mprint\u001b[0m\u001b[0;34m(\u001b[0m\u001b[0mf1_score_weighted\u001b[0m\u001b[0;34m)\u001b[0m\u001b[0;34m\u001b[0m\u001b[0;34m\u001b[0m\u001b[0m\n\u001b[0m",
            "\u001b[0;31mNameError\u001b[0m: name 'f1_score_weighted' is not defined"
          ]
        }
      ]
    },
    {
      "cell_type": "code",
      "metadata": {
        "id": "38c80OzA9eQx",
        "colab_type": "code",
        "colab": {}
      },
      "source": [
        "# 这三块代码负责存储不同模型和方法算出的结果，以便后续画图，只需运行对应的模块即可\n",
        "train_acc_plot = train_acc\n",
        "test_acc_plot = test_acc\n",
        "loss_hist_plot = loss_hist"
      ],
      "execution_count": 0,
      "outputs": []
    },
    {
      "cell_type": "code",
      "metadata": {
        "id": "VfTJf42rkOw9",
        "colab_type": "code",
        "colab": {}
      },
      "source": [
        "train_acc_gru_plot = train_acc\n",
        "test_acc_gru_plot = test_acc\n",
        "loss_hist_gru_plot = loss_hist"
      ],
      "execution_count": 0,
      "outputs": []
    },
    {
      "cell_type": "code",
      "metadata": {
        "id": "0f6-XN3dkPCG",
        "colab_type": "code",
        "colab": {}
      },
      "source": [
        "train_acc_single_plot = train_acc\n",
        "test_acc_single_plot = test_acc\n",
        "loss_hist_single_plot = loss_hist"
      ],
      "execution_count": 0,
      "outputs": []
    },
    {
      "cell_type": "code",
      "metadata": {
        "id": "cAp3tLAX60P_",
        "colab_type": "code",
        "outputId": "faafe70d-25d8-4f10-c61d-bf4c9e6decd5",
        "colab": {
          "base_uri": "https://localhost:8080/",
          "height": 332
        }
      },
      "source": [
        "# 对结果进行画图\n",
        "x_range = [i for i in range(0,num_epochs)]\n",
        "\n",
        "plt.figure(figsize=(18,4))\n",
        "plt.subplot(1,4,1)\n",
        "plt.plot(x_range,train_acc_plot[:,0],label=['LSTM(multi)'])\n",
        "#plt.plot(x_range,train_acc_gru_plot, label='GRU(multi)')\n",
        "#plt.plot(x_range,train_acc_single_plot, label='LSTM(single)')\n",
        "plt.xlabel('Epoch')\n",
        "plt.title('Training Accuracy Score')\n",
        "plt.legend()\n",
        "\n",
        "plt.subplot(1,4,2)\n",
        "plt.plot(x_range,test_acc_plot, label=['accuracy', 'F1-score(micro)', 'F1-score(macro)', 'F1-score(weighted)'])\n",
        "#plt.plot(x_range,test_acc_gru_plot, label='GRU(multi)')\n",
        "#plt.plot(x_range,test_acc_single_plot, label='LSTM(single)')\n",
        "plt.xlabel('Epoch')\n",
        "plt.title('Testing Accuracy Score')\n",
        "plt.legend()\n",
        "\n",
        "plt.subplot(1,4,3)\n",
        "plt.plot(x_range,loss_hist_plot, label=['accuracy', 'F1-score(micro)', 'F1-score(macro)', 'F1-score(weighted)'])\n",
        "#plt.plot(x_range,loss_hist_gru_plot, label='GRU(multi)')\n",
        "#plt.plot(x_range,loss_hist_single_plot, label='LSTM(single)')\n",
        "plt.xlabel('Epoch')\n",
        "plt.title('Loss')\n",
        "plt.legend()"
      ],
      "execution_count": 0,
      "outputs": [
        {
          "output_type": "execute_result",
          "data": {
            "text/plain": [
              "<matplotlib.legend.Legend at 0x7f0367fc9e80>"
            ]
          },
          "metadata": {
            "tags": []
          },
          "execution_count": 17
        },
        {
          "output_type": "display_data",
          "data": {
            "image/png": "[encoded data removed]",
            "text/plain": [
              "<Figure size 1296x288 with 3 Axes>"
            ]
          },
          "metadata": {
            "tags": []
          }
        }
      ]
    },
    {
      "cell_type": "code",
      "metadata": {
        "id": "XfoG32PVtKuv",
        "colab_type": "code",
        "outputId": "3cb6a5a0-d631-4bac-b359-d862888d295b",
        "colab": {
          "base_uri": "https://localhost:8080/",
          "height": 332
        }
      },
      "source": [
        "# 对结果画图\n",
        "x_range = [i for i in range(0,num_epochs)]\n",
        "plot1 = []\n",
        "plot2 = []\n",
        "plot3 = []\n",
        "plot4 = []\n",
        "plot5 = []\n",
        "plot6 = []\n",
        "for i in range(num_epochs):\n",
        "  plot1.append(train_acc_plot[i][0])\n",
        "  plot2.append(train_acc_gru_plot[i][0])\n",
        "  plot3.append(test_acc_plot[i][0])\n",
        "  plot4.append(test_acc_gru_plot[i][0])\n",
        "\n",
        "\n",
        "plt.figure(figsize=(18,4))\n",
        "plt.subplot(1,3,1)\n",
        "plt.plot(x_range,plot1,label='LSTM(multi)')\n",
        "plt.plot(x_range,plot2, label='GRU(multi)')\n",
        "#plt.plot(x_range,train_acc_single_plot, label='LSTM(single)')\n",
        "plt.xlabel('Epoch')\n",
        "plt.title('Training Accuracy')\n",
        "plt.legend()\n",
        "\n",
        "plt.subplot(1,3,2)\n",
        "plt.plot(x_range,plot3, label='LSTM(multi)')\n",
        "plt.plot(x_range,plot4, label='GRU(multi)')\n",
        "#plt.plot(x_range,test_acc_single_plot, label='LSTM(single)')\n",
        "plt.xlabel('Epoch')\n",
        "plt.title('Testing Accuracy')\n",
        "plt.legend()\n",
        "\n",
        "plt.subplot(1,3,3)\n",
        "plt.plot(x_range,loss_hist_plot, label='LSTM(multi)')\n",
        "plt.plot(x_range,loss_hist_gru_plot, label='GRU(multi)')\n",
        "#plt.plot(x_range,loss_hist_single_plot, label='LSTM(single)')\n",
        "plt.xlabel('Epoch')\n",
        "plt.title('Loss')\n",
        "plt.legend()"
      ],
      "execution_count": 0,
      "outputs": [
        {
          "output_type": "execute_result",
          "data": {
            "text/plain": [
              "<matplotlib.legend.Legend at 0x7f03672acf98>"
            ]
          },
          "metadata": {
            "tags": []
          },
          "execution_count": 34
        },
        {
          "output_type": "display_data",
          "data": {
            "image/png": "[encoded data removed]",
            "text/plain": [
              "<Figure size 1296x288 with 3 Axes>"
            ]
          },
          "metadata": {
            "tags": []
          }
        }
      ]
    },
    {
      "cell_type": "code",
      "metadata": {
        "id": "bCCYFUNzvmrE",
        "colab_type": "code",
        "outputId": "693ae638-1a65-4b16-b4b3-e5abc9a872d0",
        "colab": {
          "base_uri": "https://localhost:8080/",
          "height": 85
        }
      },
      "source": [
        "# 最终的结果\n",
        "print(train_acc_plot[num_epochs-1])\n",
        "print(test_acc_plot[num_epochs-1])\n",
        "print(train_acc_gru_plot[num_epochs-1])\n",
        "print(test_acc_gru_plot[num_epochs-1])"
      ],
      "execution_count": 0,
      "outputs": [
        {
          "output_type": "stream",
          "text": [
            "[0.8089227123587314, 0.2071335901195308, 0.16237198800892594, 0.28787885702465743]\n",
            "[0.7916514764855997, 0.20291641997835716, 0.16026144643915416, 0.27680596800001944]\n",
            "[0.8020871308786001, 0.21119585909795613, 0.16815779809138034, 0.3133186822900792]\n",
            "[0.8073277433467007, 0.21327045952484416, 0.1722151654630425, 0.31291233330721757]\n"
          ],
          "name": "stdout"
        }
      ]
    },
    {
      "cell_type": "code",
      "metadata": {
        "id": "TsbOnnoOcCU2",
        "colab_type": "code",
        "outputId": "e6c30bde-bf39-42dd-acbd-bbf863782eb0",
        "colab": {
          "base_uri": "https://localhost:8080/",
          "height": 85
        }
      },
      "source": [
        "# playground\n",
        "print(outputs[1])\n",
        "print(y_batch[1])\n",
        "#print(y_batch)\n",
        "#arr = np.array([1,2,3,3])\n",
        "#print(arr[2])\n",
        "\n",
        "_, aaa = torch.sort(outputs, 1)\n"
      ],
      "execution_count": 0,
      "outputs": [
        {
          "output_type": "stream",
          "text": [
            "tensor([0.0372, 0.0413, 0.0484, 0.0524, 0.0422, 0.0398, 0.0516, 0.0430, 0.0428,\n",
            "        0.0432, 0.0628, 0.0423, 0.0401, 0.0458, 0.0501, 0.0484, 0.0496, 0.0405,\n",
            "        0.0424, 0.0401, 0.0439, 0.0520], grad_fn=<SelectBackward>)\n",
            "tensor([0, 0, 0, 1, 0, 0, 0, 0, 0, 0, 1, 0, 0, 0, 0, 0, 0, 0, 0, 1, 0, 1])\n"
          ],
          "name": "stdout"
        }
      ]
    },
    {
      "cell_type": "code",
      "metadata": {
        "id": "SJWbF7UzgcHU",
        "colab_type": "code",
        "outputId": "32105efe-6a1f-4f95-c0d8-b6aa6742ade0",
        "colab": {
          "base_uri": "https://localhost:8080/",
          "height": 68
        }
      },
      "source": [
        "# playground\n",
        "x = torch.arange(5)\n",
        "\n",
        "print(x)\n",
        "\n",
        "mask = torch.lt(x,3) # 小于\n",
        "\n",
        "print(mask)\n",
        "\n",
        "print(x[mask])"
      ],
      "execution_count": 0,
      "outputs": [
        {
          "output_type": "stream",
          "text": [
            "tensor([0, 1, 2, 3, 4])\n",
            "tensor([ True,  True,  True, False, False])\n",
            "tensor([0, 1, 2])\n"
          ],
          "name": "stdout"
        }
      ]
    },
    {
      "cell_type": "code",
      "metadata": {
        "id": "X5fqK3Dav1zH",
        "colab_type": "code",
        "outputId": "0205dd9a-1c69-4604-aff1-87c501394e54",
        "colab": {
          "base_uri": "https://localhost:8080/",
          "height": 181
        }
      },
      "source": [
        "# playground\n",
        "_, index = torch.sort(outputs, 1)\n",
        "print(y_batch[4, index[3,5]].item())"
      ],
      "execution_count": 0,
      "outputs": [
        {
          "output_type": "error",
          "ename": "NameError",
          "evalue": "ignored",
          "traceback": [
            "\u001b[0;31m---------------------------------------------------------------------------\u001b[0m",
            "\u001b[0;31mNameError\u001b[0m                                 Traceback (most recent call last)",
            "\u001b[0;32m<ipython-input-1-e210ceebe46e>\u001b[0m in \u001b[0;36m<module>\u001b[0;34m()\u001b[0m\n\u001b[0;32m----> 1\u001b[0;31m \u001b[0m_\u001b[0m\u001b[0;34m,\u001b[0m \u001b[0mindex\u001b[0m \u001b[0;34m=\u001b[0m \u001b[0mtorch\u001b[0m\u001b[0;34m.\u001b[0m\u001b[0msort\u001b[0m\u001b[0;34m(\u001b[0m\u001b[0moutputs\u001b[0m\u001b[0;34m,\u001b[0m \u001b[0;36m1\u001b[0m\u001b[0;34m)\u001b[0m\u001b[0;34m\u001b[0m\u001b[0;34m\u001b[0m\u001b[0m\n\u001b[0m\u001b[1;32m      2\u001b[0m \u001b[0mprint\u001b[0m\u001b[0;34m(\u001b[0m\u001b[0my_batch\u001b[0m\u001b[0;34m[\u001b[0m\u001b[0;36m4\u001b[0m\u001b[0;34m,\u001b[0m \u001b[0mindex\u001b[0m\u001b[0;34m[\u001b[0m\u001b[0;36m3\u001b[0m\u001b[0;34m,\u001b[0m\u001b[0;36m5\u001b[0m\u001b[0;34m]\u001b[0m\u001b[0;34m]\u001b[0m\u001b[0;34m.\u001b[0m\u001b[0mitem\u001b[0m\u001b[0;34m(\u001b[0m\u001b[0;34m)\u001b[0m\u001b[0;34m)\u001b[0m\u001b[0;34m\u001b[0m\u001b[0;34m\u001b[0m\u001b[0m\n",
            "\u001b[0;31mNameError\u001b[0m: name 'torch' is not defined"
          ]
        }
      ]
    },
    {
      "cell_type": "code",
      "metadata": {
        "id": "gcWgb0-vKGPu",
        "colab_type": "code",
        "outputId": "b0a21fb2-69b5-4364-9240-3ec540bfaf1e",
        "colab": {
          "base_uri": "https://localhost:8080/",
          "height": 767
        }
      },
      "source": [
        "x_range = [i for i in range(0,num_epochs)]\n",
        "plot1 = []\n",
        "plot2 = []\n",
        "plot3 = []\n",
        "plot4 = []\n",
        "plot5 = []\n",
        "plot6 = []\n",
        "plot7 = []\n",
        "plot8 = []\n",
        "for i in range(num_epochs):\n",
        "  plot1.append(train_acc_plot[i][0])\n",
        "  plot2.append(train_acc_plot[i][1])\n",
        "  plot3.append(train_acc_plot[i][2])\n",
        "  plot4.append(train_acc_plot[i][3])\n",
        "  plot5.append(test_acc_plot[i][0])\n",
        "  plot6.append(test_acc_plot[i][1])\n",
        "  plot7.append(test_acc_plot[i][2])\n",
        "  plot8.append(test_acc_plot[i][3])\n",
        "sns.set_style(\"darkgrid\")\n",
        "plt.figure(figsize=(18,12))\n",
        "plt.subplot(2,2,1)\n",
        "plt.plot(x_range,plot1,label='train', linewidth=3, ls='--')\n",
        "plt.plot(x_range,plot5, label='test', linewidth=3, ls='--')\n",
        "#plt.plot(x_range,train_acc_single_plot, label='LSTM(single)')\n",
        "plt.xlabel('Epoch')\n",
        "plt.title('Accuracy Score')\n",
        "plt.legend()\n",
        "\n",
        "plt.subplot(2,2,2)\n",
        "plt.plot(x_range,plot2,label='train', linewidth=3)\n",
        "plt.plot(x_range,plot6, label='test', linewidth=3)\n",
        "#plt.plot(x_range,train_acc_single_plot, label='LSTM(single)')\n",
        "plt.xlabel('Epoch')\n",
        "plt.title('F1-score(micro)')\n",
        "plt.legend()\n",
        "\n",
        "plt.subplot(2,2,3)\n",
        "plt.plot(x_range,plot3,label='train', linewidth=3)\n",
        "plt.plot(x_range,plot7, label='test', linewidth=3)\n",
        "#plt.plot(x_range,train_acc_single_plot, label='LSTM(single)')\n",
        "plt.xlabel('Epoch')\n",
        "plt.title('F1-score(macro)')\n",
        "plt.legend()\n",
        "\n",
        "plt.subplot(2,2,4)\n",
        "plt.plot(x_range,plot4,label='train', linewidth=3)\n",
        "plt.plot(x_range,plot8, label='test', linewidth=3)\n",
        "#plt.plot(x_range,train_acc_single_plot, label='LSTM(single)')\n",
        "plt.xlabel('Epoch')\n",
        "plt.title('F1-score(weighted)')\n",
        "plt.legend()"
      ],
      "execution_count": 0,
      "outputs": [
        {
          "output_type": "execute_result",
          "data": {
            "text/plain": [
              "<matplotlib.legend.Legend at 0x7f9563687f60>"
            ]
          },
          "metadata": {
            "tags": []
          },
          "execution_count": 21
        },
        {
          "output_type": "display_data",
          "data": {
            "image/png": "[encoded data removed]",
            "text/plain": [
              "<Figure size 1296x864 with 4 Axes>"
            ]
          },
          "metadata": {
            "tags": []
          }
        }
      ]
    },
    {
      "cell_type": "code",
      "metadata": {
        "id": "vxd-xGA1Km6X",
        "colab_type": "code",
        "colab": {}
      },
      "source": [
        "# 保存结果数据\n",
        "file = open(DATA_PATH + 'LSTM_scores_dropout_0.5.txt', 'w')  \n",
        "for line in train_acc_plot:\n",
        "  file.write(str(line))\n",
        "  file.write('\\n')\n",
        "for line in test_acc_plot:\n",
        "  file.write(str(line))\n",
        "  file.write('\\n')\n",
        "for line in loss_hist_plot:\n",
        "  file.write(str(line))\n",
        "  file.write('\\n')\n",
        "file.close()"
      ],
      "execution_count": 0,
      "outputs": []
    }
  ]
}