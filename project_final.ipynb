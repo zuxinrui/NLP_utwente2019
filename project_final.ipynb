{
  "nbformat": 4,
  "nbformat_minor": 0,
  "metadata": {
    "kernelspec": {
      "display_name": "Python 3",
      "language": "python",
      "name": "python3"
    },
    "language_info": {
      "codemirror_mode": {
        "name": "ipython",
        "version": 3
      },
      "file_extension": ".py",
      "mimetype": "text/x-python",
      "name": "python",
      "nbconvert_exporter": "python",
      "pygments_lexer": "ipython3",
      "version": "3.6.4"
    },
    "colab": {
      "name": "project_final.ipynb",
      "provenance": [],
      "include_colab_link": true
    }
  },
  "cells": [
    {
      "cell_type": "markdown",
      "metadata": {
        "id": "view-in-github",
        "colab_type": "text"
      },
      "source": [
        "<a href=\"https://colab.research.google.com/github/zuxinrui/NLP_utwente2019/blob/master/project_final.ipynb\" target=\"_parent\"><img src=\"https://colab.research.google.com/assets/colab-badge.svg\" alt=\"Open In Colab\"/></a>"
      ]
    },
    {
      "cell_type": "code",
      "metadata": {
        "id": "S4qmnIqL_F2P",
        "colab_type": "code",
        "colab": {}
      },
      "source": [
        "import warnings\n",
        "warnings.filterwarnings (\"ignore\")\n",
        "import pandas as pd\n",
        "from tqdm import tqdm\n",
        "import time\n",
        "import sqlite3\n",
        "import csv\n",
        "import matplotlib.pyplot as plt\n",
        "import seaborn as sns\n",
        "import numpy as np\n",
        "import pickle\n",
        "#from wordcloud import Wordcloud\n",
        "import torch.nn as nn\n",
        "import re\n",
        "import os \n",
        "from sqlalchemy import create_engine # database connection \n",
        "import datetime as dt\n",
        "from nltk.corpus import stopwords \n",
        "from nltk.tokenize import word_tokenize\n",
        "from nltk.tokenize import RegexpTokenizer\n",
        "from nltk.stem.snowball import SnowballStemmer \n",
        "from sklearn.feature_extraction.text import CountVectorizer \n",
        "from sklearn.feature_extraction.text import TfidfVectorizer \n",
        "from sklearn.multiclass import OneVsRestClassifier \n",
        "from sklearn.linear_model import SGDClassifier \n",
        "from sklearn import metrics\n",
        "from sklearn.metrics import f1_score, precision_score, recall_score \n",
        "from sklearn import svm\n",
        "from sklearn.linear_model import LogisticRegression \n",
        "from skmultilearn.adapt import mlknn \n",
        "from skmultilearn.problem_transform import ClassifierChain \n",
        "from skmultilearn.problem_transform import BinaryRelevance \n",
        "from skmultilearn.problem_transform import LabelPowerset \n",
        "from sklearn.naive_bayes import GaussianNB \n",
        "from datetime import datetime\n",
        "from ast import literal_eval\n",
        "import glob\n",
        "from collections import Counter\n",
        "from sklearn.pipeline import make_pipeline, FeatureUnion, Pipeline"
      ],
      "execution_count": 0,
      "outputs": []
    },
    {
      "cell_type": "code",
      "metadata": {
        "id": "hG16Zgyz_oXt",
        "colab_type": "code",
        "outputId": "e0dd9d9e-f639-43c9-c2c9-47e5b8e3ffb2",
        "colab": {
          "base_uri": "https://localhost:8080/",
          "height": 122
        }
      },
      "source": [
        "!pip install scikit-multilearn\n",
        "# 首先执行这句，安装模块"
      ],
      "execution_count": 3,
      "outputs": [
        {
          "output_type": "stream",
          "text": [
            "Collecting scikit-multilearn\n",
            "\u001b[?25l  Downloading https://files.pythonhosted.org/packages/bb/1f/e6ff649c72a1cdf2c7a1d31eb21705110ce1c5d3e7e26b2cc300e1637272/scikit_multilearn-0.2.0-py3-none-any.whl (89kB)\n",
            "\r\u001b[K     |███▊                            | 10kB 18.1MB/s eta 0:00:01\r\u001b[K     |███████▍                        | 20kB 2.9MB/s eta 0:00:01\r\u001b[K     |███████████                     | 30kB 4.2MB/s eta 0:00:01\r\u001b[K     |██████████████▊                 | 40kB 2.9MB/s eta 0:00:01\r\u001b[K     |██████████████████▍             | 51kB 3.5MB/s eta 0:00:01\r\u001b[K     |██████████████████████          | 61kB 4.2MB/s eta 0:00:01\r\u001b[K     |█████████████████████████▊      | 71kB 4.8MB/s eta 0:00:01\r\u001b[K     |█████████████████████████████▍  | 81kB 5.4MB/s eta 0:00:01\r\u001b[K     |████████████████████████████████| 92kB 3.4MB/s \n",
            "\u001b[?25hInstalling collected packages: scikit-multilearn\n",
            "Successfully installed scikit-multilearn-0.2.0\n"
          ],
          "name": "stdout"
        }
      ]
    },
    {
      "cell_type": "code",
      "metadata": {
        "id": "5wgJDB27_K3g",
        "colab_type": "code",
        "colab": {
          "base_uri": "https://localhost:8080/",
          "height": 122
        },
        "outputId": "9098a6b6-34cc-44a2-9a1d-e4f9a6814e20"
      },
      "source": [
        "from google.colab import drive\n",
        "drive.mount('/content/drive')"
      ],
      "execution_count": 5,
      "outputs": [
        {
          "output_type": "stream",
          "text": [
            "Go to this URL in a browser: https://accounts.google.com/o/oauth2/auth?client_id=947318989803-6bn6qk8qdgf4n4g3pfee6491hc0brc4i.apps.googleusercontent.com&redirect_uri=urn%3Aietf%3Awg%3Aoauth%3A2.0%3Aoob&scope=email%20https%3A%2F%2Fwww.googleapis.com%2Fauth%2Fdocs.test%20https%3A%2F%2Fwww.googleapis.com%2Fauth%2Fdrive%20https%3A%2F%2Fwww.googleapis.com%2Fauth%2Fdrive.photos.readonly%20https%3A%2F%2Fwww.googleapis.com%2Fauth%2Fpeopleapi.readonly&response_type=code\n",
            "\n",
            "Enter your authorization code:\n",
            "··········\n",
            "Mounted at /content/drive\n"
          ],
          "name": "stdout"
        }
      ]
    },
    {
      "cell_type": "code",
      "metadata": {
        "id": "N6ag0QT9_F2Y",
        "colab_type": "code",
        "outputId": "0201b527-755a-48b8-e2ea-79ff02c533f8",
        "colab": {
          "base_uri": "https://localhost:8080/",
          "height": 68
        }
      },
      "source": [
        "DATA_PATH = '/content/drive/My Drive/'\n",
        "data = pd.read_csv(DATA_PATH + 'mpst_full_data.csv')\n",
        "data.columns"
      ],
      "execution_count": 18,
      "outputs": [
        {
          "output_type": "execute_result",
          "data": {
            "text/plain": [
              "Index(['imdb_id', 'title', 'plot_synopsis', 'tags', 'split',\n",
              "       'synopsis_source'],\n",
              "      dtype='object')"
            ]
          },
          "metadata": {
            "tags": []
          },
          "execution_count": 18
        }
      ]
    },
    {
      "cell_type": "code",
      "metadata": {
        "id": "icl7OrEZVzrw",
        "colab_type": "code",
        "colab": {}
      },
      "source": [
        "def trans_to_array(y):\n",
        "    y_new=[]\n",
        "    for label in y:\n",
        "    #     print(i)\n",
        "        this = []\n",
        "        word =''\n",
        "        for m in label:\n",
        "            if m != ',':\n",
        "                if m !=' ':\n",
        "                    word += m\n",
        "            else:\n",
        "                this.append(word)\n",
        "                word = ''\n",
        "        this.append(word)\n",
        "        y_new.append(this)\n",
        "    return y_new\n",
        "\n",
        "tags_new = trans_to_array(data['tags'])\n",
        "print(len(tags_new))\n",
        "data['tags'] = tags_new"
      ],
      "execution_count": 0,
      "outputs": []
    },
    {
      "cell_type": "code",
      "metadata": {
        "id": "s9gmVy50V8z6",
        "colab_type": "code",
        "colab": {}
      },
      "source": [
        "CorpusData = data[['tags', 'title', 'plot_synopsis']]\n",
        "print(CorpusData)"
      ],
      "execution_count": 0,
      "outputs": []
    },
    {
      "cell_type": "code",
      "metadata": {
        "id": "8gFelbmC_F2k",
        "colab_type": "code",
        "outputId": "1b3e0df5-4832-41e4-89a8-605bdd6d25fe",
        "colab": {
          "base_uri": "https://localhost:8080/",
          "height": 935
        }
      },
      "source": [
        "vectorizer = CountVectorizer(tokenizer = lambda x: x.split(','))\n",
        "print(CorpusData['tags'][5])\n",
        "tag_dtm = vectorizer.fit_transform(m for x in CorpusData['tags'] for m in x)\n",
        "print(\"Number of data points :\",tag_dtm.shape[0])\n",
        "print(\"Number of unique tags :\",tag_dtm.shape[1])\n",
        "print(tag_dtm)"
      ],
      "execution_count": 44,
      "outputs": [
        {
          "output_type": "stream",
          "text": [
            "['romantic', 'queer', 'flashback']\n",
            "Number of data points : 44206\n",
            "Number of unique tags : 71\n",
            "  (0, 20)\t1\n",
            "  (1, 36)\t1\n",
            "  (2, 30)\t1\n",
            "  (3, 43)\t1\n",
            "  (4, 7)\t1\n",
            "  (5, 68)\t1\n",
            "  (6, 57)\t1\n",
            "  (7, 39)\t1\n",
            "  (8, 57)\t1\n",
            "  (9, 63)\t1\n",
            "  (10, 27)\t1\n",
            "  (11, 19)\t1\n",
            "  (12, 43)\t1\n",
            "  (13, 24)\t1\n",
            "  (14, 20)\t1\n",
            "  (15, 68)\t1\n",
            "  (16, 7)\t1\n",
            "  (17, 1)\t1\n",
            "  (18, 57)\t1\n",
            "  (19, 56)\t1\n",
            "  (20, 58)\t1\n",
            "  (21, 57)\t1\n",
            "  (22, 54)\t1\n",
            "  (23, 28)\t1\n",
            "  (24, 30)\t1\n",
            "  :\t:\n",
            "  (44181, 68)\t1\n",
            "  (44182, 57)\t1\n",
            "  (44183, 34)\t1\n",
            "  (44184, 1)\t1\n",
            "  (44185, 65)\t1\n",
            "  (44186, 45)\t1\n",
            "  (44187, 68)\t1\n",
            "  (44188, 67)\t1\n",
            "  (44189, 56)\t1\n",
            "  (44190, 61)\t1\n",
            "  (44191, 10)\t1\n",
            "  (44192, 57)\t1\n",
            "  (44193, 45)\t1\n",
            "  (44194, 55)\t1\n",
            "  (44195, 43)\t1\n",
            "  (44196, 68)\t1\n",
            "  (44197, 7)\t1\n",
            "  (44198, 65)\t1\n",
            "  (44199, 17)\t1\n",
            "  (44200, 43)\t1\n",
            "  (44201, 29)\t1\n",
            "  (44202, 68)\t1\n",
            "  (44203, 6)\t1\n",
            "  (44204, 43)\t1\n",
            "  (44205, 14)\t1\n"
          ],
          "name": "stdout"
        }
      ]
    },
    {
      "cell_type": "code",
      "metadata": {
        "id": "Vslz-5-u_F2u",
        "colab_type": "code",
        "outputId": "73808f20-e078-412a-ea34-8d146cdd64a0",
        "colab": {
          "base_uri": "https://localhost:8080/",
          "height": 54
        }
      },
      "source": [
        "# 查看现有的tags\n",
        "tags = vectorizer.get_feature_names()\n",
        "print(\"Some of the tags we have :\", tags[:30])"
      ],
      "execution_count": 45,
      "outputs": [
        {
          "output_type": "stream",
          "text": [
            "Some of the tags we have : ['absurd', 'action', 'adultcomedy', 'allegory', 'alternatehistory', 'alternatereality', 'antiwar', 'atmospheric', 'autobiographical', 'avantgarde', 'blaxploitation', 'bleak', 'boring', 'brainwashing', 'christianfilm', 'claustrophobic', 'clever', 'comedy', 'comic', 'cruelty', 'cult', 'cute', 'dark', 'depressing', 'dramatic', 'entertaining', 'fantasy', 'feel-good', 'flashback', 'goodversusevil']\n"
          ],
          "name": "stdout"
        }
      ]
    },
    {
      "cell_type": "code",
      "metadata": {
        "id": "Jk15breo_F2w",
        "colab_type": "code",
        "outputId": "2f16e92b-7384-4a1e-89d6-982f7204f085",
        "colab": {
          "base_uri": "https://localhost:8080/",
          "height": 54
        }
      },
      "source": [
        "#store the document term matrix in a dictionaty\n",
        "freqs = tag_dtm.sum(axis=0).A1\n",
        "result = dict(zip(tags,freqs))\n",
        "print(result)"
      ],
      "execution_count": 48,
      "outputs": [
        {
          "output_type": "stream",
          "text": [
            "{'absurd': 270, 'action': 664, 'adultcomedy': 128, 'allegory': 139, 'alternatehistory': 102, 'alternatereality': 205, 'antiwar': 118, 'atmospheric': 396, 'autobiographical': 44, 'avantgarde': 220, 'blaxploitation': 74, 'bleak': 211, 'boring': 525, 'brainwashing': 107, 'christianfilm': 42, 'claustrophobic': 84, 'clever': 87, 'comedy': 1859, 'comic': 114, 'cruelty': 442, 'cult': 2647, 'cute': 197, 'dark': 405, 'depressing': 205, 'dramatic': 412, 'entertaining': 749, 'fantasy': 564, 'feel-good': 76, 'flashback': 2937, 'goodversusevil': 875, 'gothic': 441, 'grindhousefilm': 66, 'haunting': 151, 'historical': 272, 'historicalfiction': 143, 'homemovie': 153, 'horror': 486, 'humor': 822, 'insanity': 636, 'inspiring': 118, 'intrigue': 168, 'magicalrealism': 54, 'melodrama': 457, 'murder': 5782, 'mystery': 519, 'neonoir': 745, 'nonfiction': 37, 'paranormal': 546, 'philosophical': 228, 'plottwist': 205, 'pornographic': 163, 'prank': 255, 'psychedelic': 1897, 'psychological': 289, 'queer': 98, 'realism': 204, 'revenge': 2468, 'romantic': 2906, 'sadist': 652, 'satire': 816, 'sci-fi': 309, 'sentimental': 233, 'storytelling': 364, 'stupid': 190, 'suicidal': 54, 'suspenseful': 1086, 'thought-provoking': 120, 'tragedy': 597, 'violence': 4426, 'western': 73, 'whimsical': 79}\n"
          ],
          "name": "stdout"
        }
      ]
    },
    {
      "cell_type": "code",
      "metadata": {
        "id": "ph4rCj2k_F26",
        "colab_type": "code",
        "outputId": "9571b0a1-1af1-4deb-bbe2-fa52c4efa6f9",
        "colab": {
          "base_uri": "https://localhost:8080/",
          "height": 204
        }
      },
      "source": [
        "#Saving this dictionary to csv files 注意不要重复保存\n",
        "if not os.path.isfile('tag_counts_dict_dtm.csv'):\n",
        "    with open('tag_counts_dict_dtm.csv','w') as csv_file:\n",
        "        writer = csv.writer(csv_file)\n",
        "        for key, value in result.items():\n",
        "            writer.writerow([key,value])\n",
        "tag_df = pd.read_csv(\"tag_counts_dict_dtm.csv\", names=['Tags','Counts'])\n",
        "tag_df.head()"
      ],
      "execution_count": 50,
      "outputs": [
        {
          "output_type": "execute_result",
          "data": {
            "text/html": [
              "<div>\n",
              "<style scoped>\n",
              "    .dataframe tbody tr th:only-of-type {\n",
              "        vertical-align: middle;\n",
              "    }\n",
              "\n",
              "    .dataframe tbody tr th {\n",
              "        vertical-align: top;\n",
              "    }\n",
              "\n",
              "    .dataframe thead th {\n",
              "        text-align: right;\n",
              "    }\n",
              "</style>\n",
              "<table border=\"1\" class=\"dataframe\">\n",
              "  <thead>\n",
              "    <tr style=\"text-align: right;\">\n",
              "      <th></th>\n",
              "      <th>Tags</th>\n",
              "      <th>Counts</th>\n",
              "    </tr>\n",
              "  </thead>\n",
              "  <tbody>\n",
              "    <tr>\n",
              "      <th>0</th>\n",
              "      <td>absurd</td>\n",
              "      <td>270</td>\n",
              "    </tr>\n",
              "    <tr>\n",
              "      <th>1</th>\n",
              "      <td>action</td>\n",
              "      <td>664</td>\n",
              "    </tr>\n",
              "    <tr>\n",
              "      <th>2</th>\n",
              "      <td>adultcomedy</td>\n",
              "      <td>128</td>\n",
              "    </tr>\n",
              "    <tr>\n",
              "      <th>3</th>\n",
              "      <td>allegory</td>\n",
              "      <td>139</td>\n",
              "    </tr>\n",
              "    <tr>\n",
              "      <th>4</th>\n",
              "      <td>alternatehistory</td>\n",
              "      <td>102</td>\n",
              "    </tr>\n",
              "  </tbody>\n",
              "</table>\n",
              "</div>"
            ],
            "text/plain": [
              "               Tags  Counts\n",
              "0            absurd     270\n",
              "1            action     664\n",
              "2       adultcomedy     128\n",
              "3          allegory     139\n",
              "4  alternatehistory     102"
            ]
          },
          "metadata": {
            "tags": []
          },
          "execution_count": 50
        }
      ]
    },
    {
      "cell_type": "code",
      "metadata": {
        "id": "KW1c7Ecd_F3A",
        "colab_type": "code",
        "outputId": "69a8a042-a4b1-4bc2-fa3e-337c01203abd",
        "colab": {
          "base_uri": "https://localhost:8080/",
          "height": 1000
        }
      },
      "source": [
        "# 将标签排序，显示结果\n",
        "tag_df_sorted = tag_df.sort_values(['Counts'],ascending=False)\n",
        "tag_counts = tag_df_sorted['Counts'].values\n",
        "print(tag_counts, tag_df_sorted)"
      ],
      "execution_count": 51,
      "outputs": [
        {
          "output_type": "stream",
          "text": [
            "[5782 4426 2937 2906 2647 2468 1897 1859 1086  875  822  816  749  745\n",
            "  664  652  636  597  564  546  525  519  486  457  442  441  412  405\n",
            "  396  364  309  289  272  270  255  233  228  220  211  205  205  205\n",
            "  204  197  190  168  163  153  151  143  139  128  120  118  118  114\n",
            "  107  102   98   87   84   79   76   74   73   66   54   54   44   42\n",
            "   37]                  Tags  Counts\n",
            "43             murder    5782\n",
            "68           violence    4426\n",
            "28          flashback    2937\n",
            "57           romantic    2906\n",
            "20               cult    2647\n",
            "56            revenge    2468\n",
            "52        psychedelic    1897\n",
            "17             comedy    1859\n",
            "65        suspenseful    1086\n",
            "29     goodversusevil     875\n",
            "37              humor     822\n",
            "59             satire     816\n",
            "25       entertaining     749\n",
            "45            neonoir     745\n",
            "1              action     664\n",
            "58             sadist     652\n",
            "38           insanity     636\n",
            "67            tragedy     597\n",
            "26            fantasy     564\n",
            "47         paranormal     546\n",
            "12             boring     525\n",
            "44            mystery     519\n",
            "36             horror     486\n",
            "42          melodrama     457\n",
            "19            cruelty     442\n",
            "30             gothic     441\n",
            "24           dramatic     412\n",
            "22               dark     405\n",
            "7         atmospheric     396\n",
            "62       storytelling     364\n",
            "..                ...     ...\n",
            "23         depressing     205\n",
            "55            realism     204\n",
            "21               cute     197\n",
            "63             stupid     190\n",
            "40           intrigue     168\n",
            "50       pornographic     163\n",
            "35          homemovie     153\n",
            "32           haunting     151\n",
            "34  historicalfiction     143\n",
            "3            allegory     139\n",
            "2         adultcomedy     128\n",
            "66  thought-provoking     120\n",
            "39          inspiring     118\n",
            "6             antiwar     118\n",
            "18              comic     114\n",
            "13       brainwashing     107\n",
            "4    alternatehistory     102\n",
            "54              queer      98\n",
            "16             clever      87\n",
            "15     claustrophobic      84\n",
            "70          whimsical      79\n",
            "27          feel-good      76\n",
            "10     blaxploitation      74\n",
            "69            western      73\n",
            "31     grindhousefilm      66\n",
            "41     magicalrealism      54\n",
            "64           suicidal      54\n",
            "8    autobiographical      44\n",
            "14      christianfilm      42\n",
            "46         nonfiction      37\n",
            "\n",
            "[71 rows x 2 columns]\n"
          ],
          "name": "stdout"
        }
      ]
    },
    {
      "cell_type": "code",
      "metadata": {
        "id": "ILVAwBTmJGW4",
        "colab_type": "code",
        "outputId": "50debda3-2424-4e84-865d-d97ab5784007",
        "colab": {
          "base_uri": "https://localhost:8080/",
          "height": 198
        }
      },
      "source": [
        "#tag_df_sorted = FinalData['tags'].sort_values(['Counts'],ascending=False)\n",
        "#tag_counts = tag_df_sorted['Counts'].values\n",
        "#print(tag_counts, tag_df_sorted)"
      ],
      "execution_count": 52,
      "outputs": [
        {
          "output_type": "error",
          "ename": "NameError",
          "evalue": "ignored",
          "traceback": [
            "\u001b[0;31m---------------------------------------------------------------------------\u001b[0m",
            "\u001b[0;31mNameError\u001b[0m                                 Traceback (most recent call last)",
            "\u001b[0;32m<ipython-input-52-2a3bf2d310ed>\u001b[0m in \u001b[0;36m<module>\u001b[0;34m()\u001b[0m\n\u001b[0;32m----> 1\u001b[0;31m \u001b[0mtag_df_sorted\u001b[0m \u001b[0;34m=\u001b[0m \u001b[0mFinalData\u001b[0m\u001b[0;34m[\u001b[0m\u001b[0;34m'tags'\u001b[0m\u001b[0;34m]\u001b[0m\u001b[0;34m.\u001b[0m\u001b[0msort_values\u001b[0m\u001b[0;34m(\u001b[0m\u001b[0;34m[\u001b[0m\u001b[0;34m'Counts'\u001b[0m\u001b[0;34m]\u001b[0m\u001b[0;34m,\u001b[0m\u001b[0mascending\u001b[0m\u001b[0;34m=\u001b[0m\u001b[0;32mFalse\u001b[0m\u001b[0;34m)\u001b[0m\u001b[0;34m\u001b[0m\u001b[0;34m\u001b[0m\u001b[0m\n\u001b[0m\u001b[1;32m      2\u001b[0m \u001b[0mtag_counts\u001b[0m \u001b[0;34m=\u001b[0m \u001b[0mtag_df_sorted\u001b[0m\u001b[0;34m[\u001b[0m\u001b[0;34m'Counts'\u001b[0m\u001b[0;34m]\u001b[0m\u001b[0;34m.\u001b[0m\u001b[0mvalues\u001b[0m\u001b[0;34m\u001b[0m\u001b[0;34m\u001b[0m\u001b[0m\n\u001b[1;32m      3\u001b[0m \u001b[0mprint\u001b[0m\u001b[0;34m(\u001b[0m\u001b[0mtag_counts\u001b[0m\u001b[0;34m,\u001b[0m \u001b[0mtag_df_sorted\u001b[0m\u001b[0;34m)\u001b[0m\u001b[0;34m\u001b[0m\u001b[0;34m\u001b[0m\u001b[0m\n",
            "\u001b[0;31mNameError\u001b[0m: name 'FinalData' is not defined"
          ]
        }
      ]
    },
    {
      "cell_type": "code",
      "metadata": {
        "id": "FiaEpgEpjJOr",
        "colab_type": "code",
        "outputId": "c741238b-18b2-4acd-9c2d-f4ae541f68a1",
        "colab": {
          "base_uri": "https://localhost:8080/",
          "height": 238
        }
      },
      "source": [
        "#CorpusData = data[['tags', 'title', 'plot_synopsis']]\n",
        "#print(type(CorpusData['tags'][0]))\n",
        "#i = 0\n",
        "#for tag in tqdm(CorpusData['tags']):\n",
        "#  CorpusData['tags'][i] = CorpusData['tags'][i].split(', ')\n",
        "#  i += 1\n",
        "#print(CorpusData['tags'][:10])"
      ],
      "execution_count": 0,
      "outputs": [
        {
          "output_type": "stream",
          "text": [
            "  0%|          | 1/14828 [00:00<25:22,  9.74it/s]"
          ],
          "name": "stderr"
        },
        {
          "output_type": "stream",
          "text": [
            "<class 'str'>\n"
          ],
          "name": "stdout"
        },
        {
          "output_type": "stream",
          "text": [
            "100%|██████████| 14828/14828 [26:14<00:00,  9.18it/s]"
          ],
          "name": "stderr"
        },
        {
          "output_type": "stream",
          "text": [
            "0          [cult, horror, gothic, murder, atmospheric]\n",
            "1                                           [violence]\n",
            "2                                           [romantic]\n",
            "3             [inspiring, romantic, stupid, feel-good]\n",
            "4    [cruelty, murder, dramatic, cult, violence, at...\n",
            "5                         [romantic, queer, flashback]\n",
            "6    [gothic, cruelty, violence, cult, revenge, sad...\n",
            "7    [mystery, suspenseful, action, murder, flashback]\n",
            "8                                           [violence]\n",
            "9     [revenge, neo noir, murder, violence, flashback]\n",
            "Name: tags, dtype: object\n"
          ],
          "name": "stdout"
        },
        {
          "output_type": "stream",
          "text": [
            "\n"
          ],
          "name": "stderr"
        }
      ]
    },
    {
      "cell_type": "code",
      "metadata": {
        "id": "crdiwf6gc0jP",
        "colab_type": "code",
        "outputId": "26d2c8e3-5fa6-4994-a560-9fa9422572a7",
        "colab": {
          "base_uri": "https://localhost:8080/",
          "height": 221
        }
      },
      "source": [
        "# 建立需要去除的标签列表\n",
        "genresToRemove = []\n",
        "for key, value in result.items():\n",
        "  if value < 500:\n",
        "    genresToRemove.append(key)\n",
        "print(len(genresToRemove)) # 需要去除的标签个数\n",
        "print(CorpusData['tags'][:10])\n",
        "# 在数据集中去除标签\n",
        "CorpusData['tags'] = CorpusData['tags'].apply(\n",
        "    lambda genreList: [genre for genre in genreList if genre not in genresToRemove]\n",
        ")"
      ],
      "execution_count": 53,
      "outputs": [
        {
          "output_type": "stream",
          "text": [
            "49\n",
            "0          [cult, horror, gothic, murder, atmospheric]\n",
            "1                                           [violence]\n",
            "2                                           [romantic]\n",
            "3             [inspiring, romantic, stupid, feel-good]\n",
            "4    [cruelty, murder, dramatic, cult, violence, at...\n",
            "5                         [romantic, queer, flashback]\n",
            "6    [gothic, cruelty, violence, cult, revenge, sad...\n",
            "7    [mystery, suspenseful, action, murder, flashback]\n",
            "8                                           [violence]\n",
            "9      [revenge, neonoir, murder, violence, flashback]\n",
            "Name: tags, dtype: object\n"
          ],
          "name": "stdout"
        }
      ]
    },
    {
      "cell_type": "code",
      "metadata": {
        "id": "gr5XTQyy2t5t",
        "colab_type": "code",
        "outputId": "e867f4db-e38f-4c56-bd00-c3e3bc988228",
        "colab": {
          "base_uri": "https://localhost:8080/",
          "height": 1000
        }
      },
      "source": [
        "CorpusData = CorpusData[CorpusData['tags'].map(lambda x: len(x)) > 0] # 将tag为零的数据删除\n",
        "# print(len(CorpusData))\n",
        "print(CorpusData)\n",
        "\n",
        "# 接下来是对数据集的画图部分，与本项目关系不大，可以略过"
      ],
      "execution_count": 54,
      "outputs": [
        {
          "output_type": "stream",
          "text": [
            "                                                    tags  ...                                      plot_synopsis\n",
            "0                                         [cult, murder]  ...  Note: this synopsis is for the orginal Italian...\n",
            "1                                             [violence]  ...  Two thousand years ago, Nhagruul the Foul, a s...\n",
            "2                                             [romantic]  ...  Matuschek's, a gift store in Budapest, is the ...\n",
            "3                                             [romantic]  ...  Glenn Holland, not a morning person by anyone'...\n",
            "4      [murder, cult, violence, action, romantic, rev...  ...  In May 1980, a Cuban man named Tony Montana (A...\n",
            "5                                  [romantic, flashback]  ...  George Falconer (Colin Firth) approaches a car...\n",
            "6                      [violence, cult, revenge, sadist]  ...  Baise-moi tells the story of Nadine and Manu w...\n",
            "7      [mystery, suspenseful, action, murder, flashback]  ...  Kyle Pratt (Jodie Foster) is a propulsion engi...\n",
            "8                                             [violence]  ...  Small-time Italian-American criminals Caesar E...\n",
            "9        [revenge, neonoir, murder, violence, flashback]  ...  The movie begins with a video being shot of me...\n",
            "10                                                [cult]  ...  The action takes place in the years 1958-1959 ...\n",
            "11                 [cult, psychedelic, murder, violence]  ...  At the Somafree Institute, Dr. Hal Raglan humi...\n",
            "12                                     [tragedy, murder]  ...  Brothers Terry (Colin Farrell) and Ian (Ewan M...\n",
            "13                                              [murder]  ...  Arrival.\\nA train pulls into a station in Nort...\n",
            "14                                           [flashback]  ...  The film tells the story of how the Pettigrew ...\n",
            "15                                      [goodversusevil]  ...  Hours after the end of the previous game and t...\n",
            "16                                         [suspenseful]  ...  We open with Mia (Katie Jarvis), a 15 year old...\n",
            "17            [boring, murder, cult, violence, romantic]  ...  Over a shot of trees reflected in water, a gir...\n",
            "18                                           [flashback]  ...  The film begins with a close-up of Jackie Kenn...\n",
            "19                                          [paranormal]  ...  This creepy and scary story centers around The...\n",
            "20     [suspenseful, neonoir, murder, violence, actio...  ...  On New Years Eve, Detroit's oldest police stat...\n",
            "21                                            [romantic]  ...  After World War II, Fred Derry (Dana Andrews),...\n",
            "22                                            [romantic]  ...  The film is told through the perspective of Gr...\n",
            "23          [comedy, murder, sadist, flashback, revenge]  ...  Nigel Dobson (Hugh Grant) and his wife Fiona (...\n",
            "24                                              [murder]  ...  The film opens in an Anchorage motel room in 1...\n",
            "25       [fantasy, murder, violence, flashback, revenge]  ...  South Boston teenager Jason Tripitikas is a fa...\n",
            "27           [boring, flashback, romantic, entertaining]  ...  15 years agoWe see two young kids, named Emma ...\n",
            "28                          [cult, comedy, entertaining]  ...  Mr. Bean (Rowan Atkinson) is a well-meaning, b...\n",
            "29                         [comedy, humor, entertaining]  ...  Four teenage misfits - Will, Simon, Jay and Ne...\n",
            "30                                              [murder]  ...  ** CONTAINS SPOILERSIn England, OFFICIALS drag...\n",
            "...                                                  ...  ...                                                ...\n",
            "14794                                           [murder]  ...  Retired gunslinger and former Confederate sold...\n",
            "14795                                          [revenge]  ...  Set in London in 1938, the film focuses on hig...\n",
            "14796                                [murder, flashback]  ...  Two police detectives in Lyon, both single and...\n",
            "14797                         [goodversusevil, violence]  ...  Dragon Ball Z picks up five years after the en...\n",
            "14798                        [violence, neonoir, murder]  ...  In Utah, Nancy Breyers (Kelly Lynch) is a defe...\n",
            "14799                                [revenge, violence]  ...  Fresh out of prison, Isaiah Bone moves to Los ...\n",
            "14801                                 [violence, murder]  ...  Tum is a secretary working for a bank when the...\n",
            "14802                                [satire, flashback]  ...  The film is divided up to four short stories:\\...\n",
            "14803                         [romantic, comedy, satire]  ...  During the Great Depression, Godfrey \"Smith\" P...\n",
            "14804                                           [murder]  ...  The film opens with the U.S. Army failing to c...\n",
            "14805                                          [revenge]  ...  In 1921, an archaeological expedition led by S...\n",
            "14806                             [psychedelic, fantasy]  ...  An old artisan in a Middle Eastern town finds ...\n",
            "14807                                  [revenge, murder]  ...  Sheriff Bull Harper (George Mathews) is taking...\n",
            "14808                              [suspenseful, murder]  ...  Television writer and director Elliott Nash (G...\n",
            "14809                                           [comedy]  ...  In 1940, C.W. Briggs (Woody Allen) is an insur...\n",
            "14810                        [boring, romantic, fantasy]  ...  Nine years have passed since Before Sunset. Je...\n",
            "14811                                 [romantic, murder]  ...  Captain \"Gibby\" Gibson (Richard Dix) and his c...\n",
            "14812                              [violence, flashback]  ...  Blood-C is set in an isolated rural town on th...\n",
            "14813                               [paranormal, murder]  ...  Petey Wheatstraw (Rudy Ray Moore) is born duri...\n",
            "14814             [murder, paranormal, violence, sadist]  ...  An unidentified corpse of a woman is found hal...\n",
            "14815                                          [revenge]  ...  === Summary ===\\nOn the day of his wedding to ...\n",
            "14816                   [suspenseful, murder, flashback]  ...  During the early 1970s, FBI agent Ray Levoi is...\n",
            "14817                               [violence, romantic]  ...  The film opens in the hills of California. Bob...\n",
            "14818                                           [action]  ...  On his deathbed, the king of Ruritania announc...\n",
            "14819  [suspenseful, neonoir, violence, tragedy, reve...  ...  Jane, an operative for the private intelligenc...\n",
            "14821                                         [romantic]  ...  Opera singer Mary Barrett (Grace Moore) leaves...\n",
            "14822           [neonoir, murder, violence, suspenseful]  ...  Three criminals, Ray, Pluto and Fantasia (Ray'...\n",
            "14823                                   [comedy, murder]  ...  In 1988 Russ Richards (John Travolta), the wea...\n",
            "14824                         [goodversusevil, violence]  ...  In Russia, the media covers Tony Stark's discl...\n",
            "14826                                           [murder]  ...  Steven Kenet catches his unfaithful wife in th...\n",
            "\n",
            "[13715 rows x 3 columns]\n"
          ],
          "name": "stdout"
        }
      ]
    },
    {
      "cell_type": "code",
      "metadata": {
        "id": "M2-9Sj6l_F3C",
        "colab_type": "code",
        "outputId": "c6ef6f03-a8e7-4391-8d62-29709b5b9fcd",
        "colab": {
          "base_uri": "https://localhost:8080/",
          "height": 295
        }
      },
      "source": [
        "plt.plot(tag_counts,c='y')\n",
        "plt.scatter(x = list(range(0,100,5)), y = tag_counts[0:100:5], c = 'r',label=\"quantiles with 0.05 intervals\")\n",
        "plt.scatter(x = list(range(0,100,25)), y = tag_counts[0:100:25], c = 'm',label=\"quantiles with 0.25 intervals\")\n",
        "# 对标签的分布进行整理，每隔5/25个显示一个点\n",
        "\n",
        "for x,y in zip(list(range(0,100,25)),tag_counts[0:100:25]):\n",
        "    plt.annotate(s=\"({},{})\".format(x,y),xy=(x,y),xytext=(x+0.5,y+100))\n",
        "# 画黄线\n",
        "\n",
        "plt.title(\"first 100 tags: Distribution of number of times tag appeared questions\")\n",
        "plt.grid()\n",
        "plt.xlabel(\"Tag number\")\n",
        "plt.ylabel(\"Number of times tag appeared\")\n",
        "plt.legend()\n",
        "plt.show()"
      ],
      "execution_count": 0,
      "outputs": [
        {
          "output_type": "display_data",
          "data": {
            "image/png": "[encoded data removed]",
            "text/plain": [
              "<Figure size 432x288 with 1 Axes>"
            ]
          },
          "metadata": {
            "tags": []
          }
        }
      ]
    },
    {
      "cell_type": "code",
      "metadata": {
        "id": "dKdY8h7Q_F3F",
        "colab_type": "code",
        "outputId": "d6bf6c34-277c-4571-e6b0-3a123f3330f4",
        "colab": {
          "base_uri": "https://localhost:8080/",
          "height": 51
        }
      },
      "source": [
        "tag_quest_count = tag_dtm.sum(axis=1).tolist() # 每条数据的标签数\n",
        "# print(tag_quest_count)\n",
        "tag_quest_count = [int(j) for i in tag_quest_count for j in i]\n",
        "print('We have total {} datapoints.'.format(len(tag_quest_count)))\n",
        "print(tag_quest_count[:5])"
      ],
      "execution_count": 0,
      "outputs": [
        {
          "output_type": "stream",
          "text": [
            "We have total 14828 datapoints.\n",
            "[5, 1, 1, 4, 10]\n"
          ],
          "name": "stdout"
        }
      ]
    },
    {
      "cell_type": "code",
      "metadata": {
        "id": "4W2Yn735_F3J",
        "colab_type": "code",
        "outputId": "a0dee2da-02fb-487f-ac46-5a8923dbfba8",
        "colab": {
          "base_uri": "https://localhost:8080/",
          "height": 68
        }
      },
      "source": [
        "print(\"Maximum number of tags per question: %d\"%max(tag_quest_count))\n",
        "print(\"Minimum number of tags per question: %d\"%min(tag_quest_count))\n",
        "print(\"Average number of tags per question: %f\"% ((sum(tag_quest_count)*1.0)/len(tag_quest_count)))"
      ],
      "execution_count": 0,
      "outputs": [
        {
          "output_type": "stream",
          "text": [
            "Maximum number of tags per question: 25\n",
            "Minimum number of tags per question: 1\n",
            "Average number of tags per question: 2.981252\n"
          ],
          "name": "stdout"
        }
      ]
    },
    {
      "cell_type": "code",
      "metadata": {
        "id": "RjYmBDCY_F3L",
        "colab_type": "code",
        "outputId": "67afe673-c9f5-47cd-d709-57abfecfe57b",
        "colab": {
          "base_uri": "https://localhost:8080/",
          "height": 641
        }
      },
      "source": [
        "fig = plt.figure(figsize=(20,10))\n",
        "sns.countplot(tag_quest_count,palette='gist_rainbow')\n",
        "plt.title(\"Number of tags in questions\")\n",
        "plt.xlabel(\"Number of tags\")\n",
        "plt.ylabel(\"Number of quesitons\")\n",
        "plt.show()\n",
        "# 数据标签数的分布"
      ],
      "execution_count": 0,
      "outputs": [
        {
          "output_type": "display_data",
          "data": {
            "image/png": "[encoded data removed]",
            "text/plain": [
              "<Figure size 1440x720 with 1 Axes>"
            ]
          },
          "metadata": {
            "tags": []
          }
        }
      ]
    },
    {
      "cell_type": "code",
      "metadata": {
        "id": "UjRTb14H_F3M",
        "colab_type": "code",
        "outputId": "929cd022-f845-4a28-d142-1fa18639a85d",
        "colab": {
          "base_uri": "https://localhost:8080/",
          "height": 387
        }
      },
      "source": [
        "i= np.arange(30)\n",
        "fig = plt.figure(figsize=(20,10))\n",
        "tag_df_sorted.head(30).plot(kind='bar')\n",
        "plt.title('Frequency of top 20 tags')\n",
        "plt.xlabel('Tags')\n",
        "plt.ylabel('Counts')\n",
        "plt.xticks(i,tag_df_sorted['Tags'])\n",
        "plt.show()\n",
        "# 前20个最普遍的标签"
      ],
      "execution_count": 0,
      "outputs": [
        {
          "output_type": "display_data",
          "data": {
            "text/plain": [
              "<Figure size 1440x720 with 0 Axes>"
            ]
          },
          "metadata": {
            "tags": []
          }
        },
        {
          "output_type": "display_data",
          "data": {
            "image/png": "[encoded data removed]",
            "text/plain": [
              "<Figure size 432x288 with 1 Axes>"
            ]
          },
          "metadata": {
            "tags": []
          }
        }
      ]
    },
    {
      "cell_type": "code",
      "metadata": {
        "id": "CjrhpN70_F3O",
        "colab_type": "code",
        "outputId": "b7235cbe-5377-4eee-e0f8-16bccbc3d12c",
        "colab": {
          "base_uri": "https://localhost:8080/",
          "height": 513
        }
      },
      "source": [
        "plt.figure(figsize=(10,8))\n",
        "plt.subplot()\n",
        "sns.distplot(tag_quest_count)\n",
        "plt.title(\"Number of tags in the questions\")\n",
        "plt.xlabel(\"Number of tags\")\n",
        "plt.ylabel(\"Number of questions\")\n",
        "plt.show()"
      ],
      "execution_count": 0,
      "outputs": [
        {
          "output_type": "display_data",
          "data": {
            "image/png": "[encoded data removed]",
            "text/plain": [
              "<Figure size 720x576 with 1 Axes>"
            ]
          },
          "metadata": {
            "tags": []
          }
        }
      ]
    },
    {
      "cell_type": "code",
      "metadata": {
        "id": "2kbGuw9m_F3P",
        "colab_type": "code",
        "outputId": "1ac2f2ff-6315-47f7-8594-192ee87f5eaf",
        "colab": {
          "base_uri": "https://localhost:8080/",
          "height": 1000
        }
      },
      "source": [
        "if os.path.isfile('train_no_dup.db'):\n",
        "    start = datetime.now()\n",
        "    con = sqlite3.connect('train_no_dub.db')\n",
        "    clean_data = pd.read_sql_query(\"\"\"SELECT * FROM no_dub_train\"\"\",con)\n",
        "    con.close()\n",
        "    #drop unwanted column.\n",
        "    clean_data.drop(clean_data.index[0], inplace=True)\n",
        "    clean_data.head()\n",
        "    print(\"Time taken to run this cell :\",datetime.now()-start)\n",
        "else:\n",
        "    print(\"Run the above cells to generate train_no_dup.db file\")\n",
        "data.drop(['imdb_id'],axis=1)"
      ],
      "execution_count": 0,
      "outputs": [
        {
          "output_type": "stream",
          "text": [
            "Run the above cells to generate train_no_dup.db file\n"
          ],
          "name": "stdout"
        },
        {
          "output_type": "execute_result",
          "data": {
            "text/html": [
              "<div>\n",
              "<style scoped>\n",
              "    .dataframe tbody tr th:only-of-type {\n",
              "        vertical-align: middle;\n",
              "    }\n",
              "\n",
              "    .dataframe tbody tr th {\n",
              "        vertical-align: top;\n",
              "    }\n",
              "\n",
              "    .dataframe thead th {\n",
              "        text-align: right;\n",
              "    }\n",
              "</style>\n",
              "<table border=\"1\" class=\"dataframe\">\n",
              "  <thead>\n",
              "    <tr style=\"text-align: right;\">\n",
              "      <th></th>\n",
              "      <th>title</th>\n",
              "      <th>plot_synopsis</th>\n",
              "      <th>tags</th>\n",
              "      <th>split</th>\n",
              "      <th>synopsis_source</th>\n",
              "    </tr>\n",
              "  </thead>\n",
              "  <tbody>\n",
              "    <tr>\n",
              "      <th>0</th>\n",
              "      <td>I tre volti della paura</td>\n",
              "      <td>Note: this synopsis is for the orginal Italian...</td>\n",
              "      <td>cult, horror, gothic, murder, atmospheric</td>\n",
              "      <td>train</td>\n",
              "      <td>imdb</td>\n",
              "    </tr>\n",
              "    <tr>\n",
              "      <th>1</th>\n",
              "      <td>Dungeons &amp; Dragons: The Book of Vile Darkness</td>\n",
              "      <td>Two thousand years ago, Nhagruul the Foul, a s...</td>\n",
              "      <td>violence</td>\n",
              "      <td>train</td>\n",
              "      <td>imdb</td>\n",
              "    </tr>\n",
              "    <tr>\n",
              "      <th>2</th>\n",
              "      <td>The Shop Around the Corner</td>\n",
              "      <td>Matuschek's, a gift store in Budapest, is the ...</td>\n",
              "      <td>romantic</td>\n",
              "      <td>test</td>\n",
              "      <td>imdb</td>\n",
              "    </tr>\n",
              "    <tr>\n",
              "      <th>3</th>\n",
              "      <td>Mr. Holland's Opus</td>\n",
              "      <td>Glenn Holland, not a morning person by anyone'...</td>\n",
              "      <td>inspiring, romantic, stupid, feel-good</td>\n",
              "      <td>train</td>\n",
              "      <td>imdb</td>\n",
              "    </tr>\n",
              "    <tr>\n",
              "      <th>4</th>\n",
              "      <td>Scarface</td>\n",
              "      <td>In May 1980, a Cuban man named Tony Montana (A...</td>\n",
              "      <td>cruelty, murder, dramatic, cult, violence, atm...</td>\n",
              "      <td>val</td>\n",
              "      <td>imdb</td>\n",
              "    </tr>\n",
              "    <tr>\n",
              "      <th>5</th>\n",
              "      <td>A Single Man</td>\n",
              "      <td>George Falconer (Colin Firth) approaches a car...</td>\n",
              "      <td>romantic, queer, flashback</td>\n",
              "      <td>val</td>\n",
              "      <td>imdb</td>\n",
              "    </tr>\n",
              "    <tr>\n",
              "      <th>6</th>\n",
              "      <td>Baise-moi</td>\n",
              "      <td>Baise-moi tells the story of Nadine and Manu w...</td>\n",
              "      <td>gothic, cruelty, violence, cult, revenge, sadist</td>\n",
              "      <td>train</td>\n",
              "      <td>wikipedia</td>\n",
              "    </tr>\n",
              "    <tr>\n",
              "      <th>7</th>\n",
              "      <td>Flightplan</td>\n",
              "      <td>Kyle Pratt (Jodie Foster) is a propulsion engi...</td>\n",
              "      <td>mystery, suspenseful, action, murder, flashback</td>\n",
              "      <td>train</td>\n",
              "      <td>imdb</td>\n",
              "    </tr>\n",
              "    <tr>\n",
              "      <th>8</th>\n",
              "      <td>Little Caesar</td>\n",
              "      <td>Small-time Italian-American criminals Caesar E...</td>\n",
              "      <td>violence</td>\n",
              "      <td>train</td>\n",
              "      <td>imdb</td>\n",
              "    </tr>\n",
              "    <tr>\n",
              "      <th>9</th>\n",
              "      <td>Savages</td>\n",
              "      <td>The movie begins with a video being shot of me...</td>\n",
              "      <td>revenge, neo noir, murder, violence, flashback</td>\n",
              "      <td>train</td>\n",
              "      <td>imdb</td>\n",
              "    </tr>\n",
              "    <tr>\n",
              "      <th>10</th>\n",
              "      <td>Mitt liv som hund</td>\n",
              "      <td>The action takes place in the years 1958-1959 ...</td>\n",
              "      <td>cult, prank</td>\n",
              "      <td>train</td>\n",
              "      <td>wikipedia</td>\n",
              "    </tr>\n",
              "    <tr>\n",
              "      <th>11</th>\n",
              "      <td>The Brood</td>\n",
              "      <td>At the Somafree Institute, Dr. Hal Raglan humi...</td>\n",
              "      <td>cult, psychedelic, murder, violence</td>\n",
              "      <td>train</td>\n",
              "      <td>imdb</td>\n",
              "    </tr>\n",
              "    <tr>\n",
              "      <th>12</th>\n",
              "      <td>Cassandra's Dream</td>\n",
              "      <td>Brothers Terry (Colin Farrell) and Ian (Ewan M...</td>\n",
              "      <td>tragedy, dramatic, murder</td>\n",
              "      <td>train</td>\n",
              "      <td>wikipedia</td>\n",
              "    </tr>\n",
              "    <tr>\n",
              "      <th>13</th>\n",
              "      <td>The Last Emperor</td>\n",
              "      <td>Arrival.\\nA train pulls into a station in Nort...</td>\n",
              "      <td>murder</td>\n",
              "      <td>train</td>\n",
              "      <td>imdb</td>\n",
              "    </tr>\n",
              "    <tr>\n",
              "      <th>14</th>\n",
              "      <td>My Life So Far</td>\n",
              "      <td>The film tells the story of how the Pettigrew ...</td>\n",
              "      <td>flashback, autobiographical, home movie</td>\n",
              "      <td>train</td>\n",
              "      <td>wikipedia</td>\n",
              "    </tr>\n",
              "    <tr>\n",
              "      <th>15</th>\n",
              "      <td>Call of Duty: Modern Warfare 3</td>\n",
              "      <td>Hours after the end of the previous game and t...</td>\n",
              "      <td>good versus evil</td>\n",
              "      <td>test</td>\n",
              "      <td>imdb</td>\n",
              "    </tr>\n",
              "    <tr>\n",
              "      <th>16</th>\n",
              "      <td>Fish Tank</td>\n",
              "      <td>We open with Mia (Katie Jarvis), a 15 year old...</td>\n",
              "      <td>suspenseful, depressing, realism</td>\n",
              "      <td>train</td>\n",
              "      <td>imdb</td>\n",
              "    </tr>\n",
              "    <tr>\n",
              "      <th>17</th>\n",
              "      <td>The New World</td>\n",
              "      <td>Over a shot of trees reflected in water, a gir...</td>\n",
              "      <td>boring, murder, cult, violence, atmospheric, h...</td>\n",
              "      <td>train</td>\n",
              "      <td>imdb</td>\n",
              "    </tr>\n",
              "    <tr>\n",
              "      <th>18</th>\n",
              "      <td>Jackie</td>\n",
              "      <td>The film begins with a close-up of Jackie Kenn...</td>\n",
              "      <td>flashback</td>\n",
              "      <td>val</td>\n",
              "      <td>imdb</td>\n",
              "    </tr>\n",
              "    <tr>\n",
              "      <th>19</th>\n",
              "      <td>The Haunted</td>\n",
              "      <td>This creepy and scary story centers around The...</td>\n",
              "      <td>paranormal, horror, haunting</td>\n",
              "      <td>test</td>\n",
              "      <td>imdb</td>\n",
              "    </tr>\n",
              "    <tr>\n",
              "      <th>20</th>\n",
              "      <td>Assault on Precinct 13</td>\n",
              "      <td>On New Years Eve, Detroit's oldest police stat...</td>\n",
              "      <td>suspenseful, neo noir, murder, violence, actio...</td>\n",
              "      <td>val</td>\n",
              "      <td>imdb</td>\n",
              "    </tr>\n",
              "    <tr>\n",
              "      <th>21</th>\n",
              "      <td>The Best Years of Our Lives</td>\n",
              "      <td>After World War II, Fred Derry (Dana Andrews),...</td>\n",
              "      <td>romantic, historical, storytelling</td>\n",
              "      <td>train</td>\n",
              "      <td>wikipedia</td>\n",
              "    </tr>\n",
              "    <tr>\n",
              "      <th>22</th>\n",
              "      <td>House Arrest</td>\n",
              "      <td>The film is told through the perspective of Gr...</td>\n",
              "      <td>romantic, home movie</td>\n",
              "      <td>train</td>\n",
              "      <td>wikipedia</td>\n",
              "    </tr>\n",
              "    <tr>\n",
              "      <th>23</th>\n",
              "      <td>Bitter Moon</td>\n",
              "      <td>Nigel Dobson (Hugh Grant) and his wife Fiona (...</td>\n",
              "      <td>comedy, cruelty, murder, sadist, flashback, re...</td>\n",
              "      <td>train</td>\n",
              "      <td>imdb</td>\n",
              "    </tr>\n",
              "    <tr>\n",
              "      <th>24</th>\n",
              "      <td>The Frozen Ground</td>\n",
              "      <td>The film opens in an Anchorage motel room in 1...</td>\n",
              "      <td>dramatic, murder</td>\n",
              "      <td>test</td>\n",
              "      <td>wikipedia</td>\n",
              "    </tr>\n",
              "    <tr>\n",
              "      <th>25</th>\n",
              "      <td>The Forbidden Kingdom</td>\n",
              "      <td>South Boston teenager Jason Tripitikas is a fa...</td>\n",
              "      <td>fantasy, murder, violence, flashback, philosop...</td>\n",
              "      <td>train</td>\n",
              "      <td>wikipedia</td>\n",
              "    </tr>\n",
              "    <tr>\n",
              "      <th>26</th>\n",
              "      <td>The Help</td>\n",
              "      <td>In civil-rights era Jackson, Mississippi, 23-y...</td>\n",
              "      <td>historical, feel-good</td>\n",
              "      <td>val</td>\n",
              "      <td>imdb</td>\n",
              "    </tr>\n",
              "    <tr>\n",
              "      <th>27</th>\n",
              "      <td>No Strings Attached</td>\n",
              "      <td>15 years agoWe see two young kids, named Emma ...</td>\n",
              "      <td>boring, adult comedy, cute, flashback, romanti...</td>\n",
              "      <td>test</td>\n",
              "      <td>imdb</td>\n",
              "    </tr>\n",
              "    <tr>\n",
              "      <th>28</th>\n",
              "      <td>Bean</td>\n",
              "      <td>Mr. Bean (Rowan Atkinson) is a well-meaning, b...</td>\n",
              "      <td>cult, comedy, entertaining</td>\n",
              "      <td>train</td>\n",
              "      <td>imdb</td>\n",
              "    </tr>\n",
              "    <tr>\n",
              "      <th>29</th>\n",
              "      <td>The Inbetweeners Movie</td>\n",
              "      <td>Four teenage misfits - Will, Simon, Jay and Ne...</td>\n",
              "      <td>bleak, comedy, humor, entertaining</td>\n",
              "      <td>train</td>\n",
              "      <td>imdb</td>\n",
              "    </tr>\n",
              "    <tr>\n",
              "      <th>...</th>\n",
              "      <td>...</td>\n",
              "      <td>...</td>\n",
              "      <td>...</td>\n",
              "      <td>...</td>\n",
              "      <td>...</td>\n",
              "    </tr>\n",
              "    <tr>\n",
              "      <th>14798</th>\n",
              "      <td>Desperate Hours</td>\n",
              "      <td>In Utah, Nancy Breyers (Kelly Lynch) is a defe...</td>\n",
              "      <td>violence, neo noir, murder</td>\n",
              "      <td>train</td>\n",
              "      <td>wikipedia</td>\n",
              "    </tr>\n",
              "    <tr>\n",
              "      <th>14799</th>\n",
              "      <td>Blood and Bone</td>\n",
              "      <td>Fresh out of prison, Isaiah Bone moves to Los ...</td>\n",
              "      <td>revenge, violence</td>\n",
              "      <td>train</td>\n",
              "      <td>wikipedia</td>\n",
              "    </tr>\n",
              "    <tr>\n",
              "      <th>14800</th>\n",
              "      <td>The Legend of Bhagat Singh</td>\n",
              "      <td>Bhagat Singh was born in British India in 1907...</td>\n",
              "      <td>avant garde</td>\n",
              "      <td>train</td>\n",
              "      <td>wikipedia</td>\n",
              "    </tr>\n",
              "    <tr>\n",
              "      <th>14801</th>\n",
              "      <td>Ruang talok 69</td>\n",
              "      <td>Tum is a secretary working for a bank when the...</td>\n",
              "      <td>violence, murder</td>\n",
              "      <td>test</td>\n",
              "      <td>wikipedia</td>\n",
              "    </tr>\n",
              "    <tr>\n",
              "      <th>14802</th>\n",
              "      <td>Robot Stories</td>\n",
              "      <td>The film is divided up to four short stories:\\...</td>\n",
              "      <td>satire, flashback</td>\n",
              "      <td>train</td>\n",
              "      <td>wikipedia</td>\n",
              "    </tr>\n",
              "    <tr>\n",
              "      <th>14803</th>\n",
              "      <td>My Man Godfrey</td>\n",
              "      <td>During the Great Depression, Godfrey \"Smith\" P...</td>\n",
              "      <td>romantic, comedy, satire, depressing</td>\n",
              "      <td>train</td>\n",
              "      <td>wikipedia</td>\n",
              "    </tr>\n",
              "    <tr>\n",
              "      <th>14804</th>\n",
              "      <td>The Bridge at Remagen</td>\n",
              "      <td>The film opens with the U.S. Army failing to c...</td>\n",
              "      <td>murder</td>\n",
              "      <td>train</td>\n",
              "      <td>wikipedia</td>\n",
              "    </tr>\n",
              "    <tr>\n",
              "      <th>14805</th>\n",
              "      <td>The Mummy</td>\n",
              "      <td>In 1921, an archaeological expedition led by S...</td>\n",
              "      <td>revenge</td>\n",
              "      <td>train</td>\n",
              "      <td>wikipedia</td>\n",
              "    </tr>\n",
              "    <tr>\n",
              "      <th>14806</th>\n",
              "      <td>Die Geschichte vom kleinen Muck</td>\n",
              "      <td>An old artisan in a Middle Eastern town finds ...</td>\n",
              "      <td>psychedelic, fantasy</td>\n",
              "      <td>test</td>\n",
              "      <td>wikipedia</td>\n",
              "    </tr>\n",
              "    <tr>\n",
              "      <th>14807</th>\n",
              "      <td>The Last Wagon</td>\n",
              "      <td>Sheriff Bull Harper (George Mathews) is taking...</td>\n",
              "      <td>revenge, murder</td>\n",
              "      <td>train</td>\n",
              "      <td>wikipedia</td>\n",
              "    </tr>\n",
              "    <tr>\n",
              "      <th>14808</th>\n",
              "      <td>The Gazebo</td>\n",
              "      <td>Television writer and director Elliott Nash (G...</td>\n",
              "      <td>suspenseful, murder</td>\n",
              "      <td>test</td>\n",
              "      <td>wikipedia</td>\n",
              "    </tr>\n",
              "    <tr>\n",
              "      <th>14809</th>\n",
              "      <td>The Curse of the Jade Scorpion</td>\n",
              "      <td>In 1940, C.W. Briggs (Woody Allen) is an insur...</td>\n",
              "      <td>comedy</td>\n",
              "      <td>train</td>\n",
              "      <td>wikipedia</td>\n",
              "    </tr>\n",
              "    <tr>\n",
              "      <th>14810</th>\n",
              "      <td>Before Midnight</td>\n",
              "      <td>Nine years have passed since Before Sunset. Je...</td>\n",
              "      <td>boring, romantic, fantasy, philosophical, stor...</td>\n",
              "      <td>train</td>\n",
              "      <td>wikipedia</td>\n",
              "    </tr>\n",
              "    <tr>\n",
              "      <th>14811</th>\n",
              "      <td>The Lost Squadron</td>\n",
              "      <td>Captain \"Gibby\" Gibson (Richard Dix) and his c...</td>\n",
              "      <td>romantic, murder</td>\n",
              "      <td>train</td>\n",
              "      <td>wikipedia</td>\n",
              "    </tr>\n",
              "    <tr>\n",
              "      <th>14812</th>\n",
              "      <td>Blood-C</td>\n",
              "      <td>Blood-C is set in an isolated rural town on th...</td>\n",
              "      <td>violence, alternate reality, flashback</td>\n",
              "      <td>val</td>\n",
              "      <td>wikipedia</td>\n",
              "    </tr>\n",
              "    <tr>\n",
              "      <th>14813</th>\n",
              "      <td>Petey Wheatstraw</td>\n",
              "      <td>Petey Wheatstraw (Rudy Ray Moore) is born duri...</td>\n",
              "      <td>paranormal, murder, blaxploitation</td>\n",
              "      <td>train</td>\n",
              "      <td>wikipedia</td>\n",
              "    </tr>\n",
              "    <tr>\n",
              "      <th>14814</th>\n",
              "      <td>The Autopsy of Jane Doe</td>\n",
              "      <td>An unidentified corpse of a woman is found hal...</td>\n",
              "      <td>dark, cruelty, murder, paranormal, violence, s...</td>\n",
              "      <td>test</td>\n",
              "      <td>wikipedia</td>\n",
              "    </tr>\n",
              "    <tr>\n",
              "      <th>14815</th>\n",
              "      <td>El conde de Montecristo</td>\n",
              "      <td>=== Summary ===\\nOn the day of his wedding to ...</td>\n",
              "      <td>revenge</td>\n",
              "      <td>train</td>\n",
              "      <td>wikipedia</td>\n",
              "    </tr>\n",
              "    <tr>\n",
              "      <th>14816</th>\n",
              "      <td>Thunderheart</td>\n",
              "      <td>During the early 1970s, FBI agent Ray Levoi is...</td>\n",
              "      <td>suspenseful, murder, flashback</td>\n",
              "      <td>test</td>\n",
              "      <td>wikipedia</td>\n",
              "    </tr>\n",
              "    <tr>\n",
              "      <th>14817</th>\n",
              "      <td>Yellow Dust</td>\n",
              "      <td>The film opens in the hills of California. Bob...</td>\n",
              "      <td>violence, romantic, historical fiction</td>\n",
              "      <td>train</td>\n",
              "      <td>wikipedia</td>\n",
              "    </tr>\n",
              "    <tr>\n",
              "      <th>14818</th>\n",
              "      <td>The Prisoner of Zenda</td>\n",
              "      <td>On his deathbed, the king of Ruritania announc...</td>\n",
              "      <td>action</td>\n",
              "      <td>train</td>\n",
              "      <td>wikipedia</td>\n",
              "    </tr>\n",
              "    <tr>\n",
              "      <th>14819</th>\n",
              "      <td>The East</td>\n",
              "      <td>Jane, an operative for the private intelligenc...</td>\n",
              "      <td>suspenseful, neo noir, violence, tragedy, reve...</td>\n",
              "      <td>test</td>\n",
              "      <td>wikipedia</td>\n",
              "    </tr>\n",
              "    <tr>\n",
              "      <th>14820</th>\n",
              "      <td>Hot Potato</td>\n",
              "      <td>Hot Potato begins in Chang Lan, a fictional co...</td>\n",
              "      <td>blaxploitation</td>\n",
              "      <td>train</td>\n",
              "      <td>wikipedia</td>\n",
              "    </tr>\n",
              "    <tr>\n",
              "      <th>14821</th>\n",
              "      <td>One Night of Love</td>\n",
              "      <td>Opera singer Mary Barrett (Grace Moore) leaves...</td>\n",
              "      <td>romantic</td>\n",
              "      <td>val</td>\n",
              "      <td>wikipedia</td>\n",
              "    </tr>\n",
              "    <tr>\n",
              "      <th>14822</th>\n",
              "      <td>One False Move</td>\n",
              "      <td>Three criminals, Ray, Pluto and Fantasia (Ray'...</td>\n",
              "      <td>neo noir, realism, murder, violence, atmospher...</td>\n",
              "      <td>train</td>\n",
              "      <td>wikipedia</td>\n",
              "    </tr>\n",
              "    <tr>\n",
              "      <th>14823</th>\n",
              "      <td>Lucky Numbers</td>\n",
              "      <td>In 1988 Russ Richards (John Travolta), the wea...</td>\n",
              "      <td>comedy, murder</td>\n",
              "      <td>test</td>\n",
              "      <td>wikipedia</td>\n",
              "    </tr>\n",
              "    <tr>\n",
              "      <th>14824</th>\n",
              "      <td>Iron Man 2</td>\n",
              "      <td>In Russia, the media covers Tony Stark's discl...</td>\n",
              "      <td>good versus evil, violence</td>\n",
              "      <td>train</td>\n",
              "      <td>wikipedia</td>\n",
              "    </tr>\n",
              "    <tr>\n",
              "      <th>14825</th>\n",
              "      <td>Play Dirty</td>\n",
              "      <td>During the North African Campaign in World War...</td>\n",
              "      <td>anti war</td>\n",
              "      <td>train</td>\n",
              "      <td>wikipedia</td>\n",
              "    </tr>\n",
              "    <tr>\n",
              "      <th>14826</th>\n",
              "      <td>High Wall</td>\n",
              "      <td>Steven Kenet catches his unfaithful wife in th...</td>\n",
              "      <td>murder</td>\n",
              "      <td>test</td>\n",
              "      <td>wikipedia</td>\n",
              "    </tr>\n",
              "    <tr>\n",
              "      <th>14827</th>\n",
              "      <td>Against All Hope</td>\n",
              "      <td>Sometime in the 1950s in Chicago a man, Cecil ...</td>\n",
              "      <td>christian film</td>\n",
              "      <td>test</td>\n",
              "      <td>wikipedia</td>\n",
              "    </tr>\n",
              "  </tbody>\n",
              "</table>\n",
              "<p>14828 rows × 5 columns</p>\n",
              "</div>"
            ],
            "text/plain": [
              "                                               title  ... synopsis_source\n",
              "0                            I tre volti della paura  ...            imdb\n",
              "1      Dungeons & Dragons: The Book of Vile Darkness  ...            imdb\n",
              "2                         The Shop Around the Corner  ...            imdb\n",
              "3                                 Mr. Holland's Opus  ...            imdb\n",
              "4                                           Scarface  ...            imdb\n",
              "5                                       A Single Man  ...            imdb\n",
              "6                                          Baise-moi  ...       wikipedia\n",
              "7                                         Flightplan  ...            imdb\n",
              "8                                      Little Caesar  ...            imdb\n",
              "9                                            Savages  ...            imdb\n",
              "10                                 Mitt liv som hund  ...       wikipedia\n",
              "11                                         The Brood  ...            imdb\n",
              "12                                 Cassandra's Dream  ...       wikipedia\n",
              "13                                  The Last Emperor  ...            imdb\n",
              "14                                    My Life So Far  ...       wikipedia\n",
              "15                    Call of Duty: Modern Warfare 3  ...            imdb\n",
              "16                                         Fish Tank  ...            imdb\n",
              "17                                     The New World  ...            imdb\n",
              "18                                            Jackie  ...            imdb\n",
              "19                                       The Haunted  ...            imdb\n",
              "20                            Assault on Precinct 13  ...            imdb\n",
              "21                       The Best Years of Our Lives  ...       wikipedia\n",
              "22                                      House Arrest  ...       wikipedia\n",
              "23                                       Bitter Moon  ...            imdb\n",
              "24                                 The Frozen Ground  ...       wikipedia\n",
              "25                             The Forbidden Kingdom  ...       wikipedia\n",
              "26                                          The Help  ...            imdb\n",
              "27                               No Strings Attached  ...            imdb\n",
              "28                                              Bean  ...            imdb\n",
              "29                            The Inbetweeners Movie  ...            imdb\n",
              "...                                              ...  ...             ...\n",
              "14798                                Desperate Hours  ...       wikipedia\n",
              "14799                                 Blood and Bone  ...       wikipedia\n",
              "14800                     The Legend of Bhagat Singh  ...       wikipedia\n",
              "14801                                 Ruang talok 69  ...       wikipedia\n",
              "14802                                  Robot Stories  ...       wikipedia\n",
              "14803                                 My Man Godfrey  ...       wikipedia\n",
              "14804                          The Bridge at Remagen  ...       wikipedia\n",
              "14805                                      The Mummy  ...       wikipedia\n",
              "14806                Die Geschichte vom kleinen Muck  ...       wikipedia\n",
              "14807                                 The Last Wagon  ...       wikipedia\n",
              "14808                                     The Gazebo  ...       wikipedia\n",
              "14809                 The Curse of the Jade Scorpion  ...       wikipedia\n",
              "14810                                Before Midnight  ...       wikipedia\n",
              "14811                              The Lost Squadron  ...       wikipedia\n",
              "14812                                        Blood-C  ...       wikipedia\n",
              "14813                               Petey Wheatstraw  ...       wikipedia\n",
              "14814                        The Autopsy of Jane Doe  ...       wikipedia\n",
              "14815                        El conde de Montecristo  ...       wikipedia\n",
              "14816                                   Thunderheart  ...       wikipedia\n",
              "14817                                    Yellow Dust  ...       wikipedia\n",
              "14818                          The Prisoner of Zenda  ...       wikipedia\n",
              "14819                                       The East  ...       wikipedia\n",
              "14820                                     Hot Potato  ...       wikipedia\n",
              "14821                              One Night of Love  ...       wikipedia\n",
              "14822                                 One False Move  ...       wikipedia\n",
              "14823                                  Lucky Numbers  ...       wikipedia\n",
              "14824                                     Iron Man 2  ...       wikipedia\n",
              "14825                                     Play Dirty  ...       wikipedia\n",
              "14826                                      High Wall  ...       wikipedia\n",
              "14827                               Against All Hope  ...       wikipedia\n",
              "\n",
              "[14828 rows x 5 columns]"
            ]
          },
          "metadata": {
            "tags": []
          },
          "execution_count": 17
        }
      ]
    },
    {
      "cell_type": "code",
      "metadata": {
        "id": "JD51Eddo_F3Q",
        "colab_type": "code",
        "outputId": "cfd60dd2-d2a5-40d8-8f5a-a84478215fa3",
        "colab": {
          "base_uri": "https://localhost:8080/",
          "height": 34
        }
      },
      "source": [
        "# 除去前面画图部分，本项目的数据从这里开始处理\n",
        "\n",
        "import re\n",
        "# 文本tokenize\n",
        "def decontracted(phrase):\n",
        "    # specific\n",
        "    phrase = re.sub(r\"won\\'t\", \"will not\", phrase)\n",
        "    phrase = re.sub(r\"can\\'t\", \"can not\", phrase)\n",
        "\n",
        "    # general\n",
        "    phrase = re.sub(r\"n\\'t\", \" not\", phrase)\n",
        "    phrase = re.sub(r\"\\'re\", \" are\", phrase)\n",
        "    phrase = re.sub(r\"\\'s\", \" is\", phrase)\n",
        "    phrase = re.sub(r\"\\'d\", \" would\", phrase)\n",
        "    phrase = re.sub(r\"\\'ll\", \" will\", phrase)\n",
        "    phrase = re.sub(r\"\\'t\", \" not\", phrase)\n",
        "    phrase = re.sub(r\"\\'ve\", \" have\", phrase)\n",
        "    phrase = re.sub(r\"\\'m\", \" am\", phrase)\n",
        "    return phrase\n",
        "\n",
        "stopwords= set([\"i\", \"me\", \"my\", \"myself\", \"we\", \"our\", \"ours\", \"ourselves\", \"you\", \"your\", \"yours\", \"yourself\", \"yourselves\", \"he\", \"him\", \"his\", \"himself\", \"she\", \"her\", \"hers\", \"herself\", \"it\", \"its\", \"itself\", \"they\", \"them\", \"their\", \"theirs\", \"themselves\", \"what\", \"which\", \"who\", \"whom\", \"this\", \"that\", \"these\", \"those\", \"am\", \"is\", \"are\", \"was\", \"were\", \"be\", \"been\", \"being\", \"have\", \"has\", \"had\", \"having\", \"do\", \"does\", \"did\", \"doing\", \"a\", \"an\", \"the\", \"and\", \"but\", \"if\", \"or\", \"because\", \"as\", \"until\", \"while\", \"of\", \"at\", \"by\", \"for\", \"with\", \"about\", \"against\", \"between\", \"into\", \"through\", \"during\", \"before\", \"after\", \"above\", \"below\", \"to\", \"from\", \"up\", \"down\", \"in\", \"out\", \"on\", \"off\", \"over\", \"under\", \"again\", \"further\", \"then\", \"once\", \"here\", \"there\", \"when\", \"where\", \"why\", \"how\", \"all\", \"any\", \"both\", \"each\", \"few\", \"more\", \"most\", \"other\", \"some\", \"such\", \"no\", \"nor\", \"not\", \"only\", \"own\", \"same\", \"so\", \"than\", \"too\", \"very\", \"s\", \"t\", \"can\", \"will\", \"just\", \"don\", \"should\", \"now\"])\n",
        "from bs4 import BeautifulSoup\n",
        "from tqdm import tqdm #printing the status bar\n",
        "preprocessed_reviews = []\n",
        "for sentance in tqdm(CorpusData['plot_synopsis'].values):\n",
        "    sentance = re.sub(r\"http\\S+\",\"\",sentance) # 删去http网址\n",
        "    sentance = BeautifulSoup(sentance,'lxml').get_text() # 转换格式\n",
        "    sentance = decontracted(sentance)\n",
        "    sentance = re.sub(\"\\S*\\d\\S*\",\"\",sentance).strip()\n",
        "    sentance = re.sub('[^A-Za-z]+',' ',sentance) # 正则表达式！删去非字母符号\n",
        "    sentance = ' '.join(e.lower() for e in sentance.split() if e.lower() not in stopwords)\n",
        "    preprocessed_reviews.append(sentance.strip())\n",
        "\n",
        "CorpusData['preprocess_data'] = preprocessed_reviews"
      ],
      "execution_count": 55,
      "outputs": [
        {
          "output_type": "stream",
          "text": [
            "100%|██████████| 13715/13715 [00:20<00:00, 673.54it/s]\n"
          ],
          "name": "stderr"
        }
      ]
    },
    {
      "cell_type": "code",
      "metadata": {
        "id": "zZi0eAAh_F3S",
        "colab_type": "code",
        "outputId": "f8951add-00c2-45c0-ffb8-60129cee5270",
        "colab": {
          "base_uri": "https://localhost:8080/",
          "height": 1000
        }
      },
      "source": [
        "print(type(CorpusData))\n",
        "FinalData = CorpusData.reset_index()\n",
        "FinalData = FinalData.drop('index', 1)\n",
        "print(CorpusData)\n",
        "print(FinalData)\n",
        "# 修改数据的索引，变成连续自然数"
      ],
      "execution_count": 56,
      "outputs": [
        {
          "output_type": "stream",
          "text": [
            "<class 'pandas.core.frame.DataFrame'>\n",
            "                                                    tags  ...                                    preprocess_data\n",
            "0                                         [cult, murder]  ...  note synopsis orginal italian release segments...\n",
            "1                                             [violence]  ...  two thousand years ago nhagruul foul sorcerer ...\n",
            "2                                             [romantic]  ...  matuschek gift store budapest workplace alfred...\n",
            "3                                             [romantic]  ...  glenn holland morning person anyone standards ...\n",
            "4      [murder, cult, violence, action, romantic, rev...  ...  may cuban man named tony montana al pacino cla...\n",
            "5                                  [romantic, flashback]  ...  george falconer colin firth approaches car acc...\n",
            "6                      [violence, cult, revenge, sadist]  ...  baise moi tells story nadine manu go violent s...\n",
            "7      [mystery, suspenseful, action, murder, flashback]  ...  kyle pratt jodie foster propulsion engineer ba...\n",
            "8                                             [violence]  ...  small time italian american criminals caesar e...\n",
            "9        [revenge, neonoir, murder, violence, flashback]  ...  movie begins video shot men hands tied behind ...\n",
            "10                                                [cult]  ...  action takes place years sweden troubled year ...\n",
            "11                 [cult, psychedelic, murder, violence]  ...  somafree institute dr hal raglan humiliates pa...\n",
            "12                                     [tragedy, murder]  ...  brothers terry colin farrell ian ewan mcgregor...\n",
            "13                                              [murder]  ...  arrival train pulls station north china soldie...\n",
            "14                                           [flashback]  ...  film tells story pettigrew family living famil...\n",
            "15                                      [goodversusevil]  ...  hours end previous game death traitorous gener...\n",
            "16                                         [suspenseful]  ...  open mia katie jarvis year old youngster hunch...\n",
            "17            [boring, murder, cult, violence, romantic]  ...  shot trees reflected water girl pocahontas inv...\n",
            "18                                           [flashback]  ...  film begins close jackie kennedy natalie portm...\n",
            "19                                          [paranormal]  ...  creepy scary story centers around smurl family...\n",
            "20     [suspenseful, neonoir, murder, violence, actio...  ...  new years eve detroit oldest police station pr...\n",
            "21                                            [romantic]  ...  world war ii fred derry dana andrews homer par...\n",
            "22                                            [romantic]  ...  film told perspective grover tj literary devic...\n",
            "23          [comedy, murder, sadist, flashback, revenge]  ...  nigel dobson hugh grant wife fiona kristn scot...\n",
            "24                                              [murder]  ...  film opens anchorage motel room cindy paulson ...\n",
            "25       [fantasy, murder, violence, flashback, revenge]  ...  south boston teenager jason tripitikas fan mar...\n",
            "27           [boring, flashback, romantic, entertaining]  ...  years agowe see two young kids named emma adam...\n",
            "28                          [cult, comedy, entertaining]  ...  mr bean rowan atkinson well meaning hopelessly...\n",
            "29                         [comedy, humor, entertaining]  ...  four teenage misfits simon jay neil finished l...\n",
            "30                                              [murder]  ...  contains spoilersin england officials drag lak...\n",
            "...                                                  ...  ...                                                ...\n",
            "14794                                           [murder]  ...  retired gunslinger former confederate soldier ...\n",
            "14795                                          [revenge]  ...  set london film focuses highly successful extr...\n",
            "14796                                [murder, flashback]  ...  two police detectives lyon single childless in...\n",
            "14797                         [goodversusevil, violence]  ...  dragon ball z picks five years end dragon ball...\n",
            "14798                        [violence, neonoir, murder]  ...  utah nancy breyers kelly lynch defense lawyer ...\n",
            "14799                                [revenge, violence]  ...  fresh prison isaiah bone moves los angeles und...\n",
            "14801                                 [violence, murder]  ...  tum secretary working bank company forced shed...\n",
            "14802                                [satire, flashback]  ...  film divided four short stories robot baby you...\n",
            "14803                         [romantic, comedy, satire]  ...  great depression godfrey smith parke william p...\n",
            "14804                                           [murder]  ...  film opens u army failing capture still intact...\n",
            "14805                                          [revenge]  ...  archaeological expedition led sir joseph whemp...\n",
            "14806                             [psychedelic, fantasy]  ...  old artisan middle eastern town finds brunt ab...\n",
            "14807                                  [revenge, murder]  ...  sheriff bull harper george mathews taking coma...\n",
            "14808                              [suspenseful, murder]  ...  television writer director elliott nash glenn ...\n",
            "14809                                           [comedy]  ...  c w briggs woody allen insurance investigator ...\n",
            "14810                        [boring, romantic, fantasy]  ...  nine years passed since sunset jesse c line be...\n",
            "14811                                 [romantic, murder]  ...  captain gibby gibson richard dix close friend ...\n",
            "14812                              [violence, flashback]  ...  blood c set isolated rural town shore lake suw...\n",
            "14813                               [paranormal, murder]  ...  petey wheatstraw rudy ray moore born great mia...\n",
            "14814             [murder, paranormal, violence, sadist]  ...  unidentified corpse woman found half buried ba...\n",
            "14815                                          [revenge]  ...  summary day wedding merc d edmond dant first m...\n",
            "14816                   [suspenseful, murder, flashback]  ...  early fbi agent ray levoi assigned aid investi...\n",
            "14817                               [violence, romantic]  ...  film opens hills california bob culpepper coll...\n",
            "14818                                           [action]  ...  deathbed king ruritania announces two twin son...\n",
            "14819  [suspenseful, neonoir, violence, tragedy, reve...  ...  jane operative private intelligence firm hille...\n",
            "14821                                         [romantic]  ...  opera singer mary barrett grace moore leaves s...\n",
            "14822           [neonoir, murder, violence, suspenseful]  ...  three criminals ray pluto fantasia ray girlfri...\n",
            "14823                                   [comedy, murder]  ...  russ richards john travolta weatherman harrisb...\n",
            "14824                         [goodversusevil, violence]  ...  russia media covers tony stark disclosure iden...\n",
            "14826                                           [murder]  ...  steven kenet catches unfaithful wife apartment...\n",
            "\n",
            "[13715 rows x 4 columns]\n",
            "                                                    tags  ...                                    preprocess_data\n",
            "0                                         [cult, murder]  ...  note synopsis orginal italian release segments...\n",
            "1                                             [violence]  ...  two thousand years ago nhagruul foul sorcerer ...\n",
            "2                                             [romantic]  ...  matuschek gift store budapest workplace alfred...\n",
            "3                                             [romantic]  ...  glenn holland morning person anyone standards ...\n",
            "4      [murder, cult, violence, action, romantic, rev...  ...  may cuban man named tony montana al pacino cla...\n",
            "5                                  [romantic, flashback]  ...  george falconer colin firth approaches car acc...\n",
            "6                      [violence, cult, revenge, sadist]  ...  baise moi tells story nadine manu go violent s...\n",
            "7      [mystery, suspenseful, action, murder, flashback]  ...  kyle pratt jodie foster propulsion engineer ba...\n",
            "8                                             [violence]  ...  small time italian american criminals caesar e...\n",
            "9        [revenge, neonoir, murder, violence, flashback]  ...  movie begins video shot men hands tied behind ...\n",
            "10                                                [cult]  ...  action takes place years sweden troubled year ...\n",
            "11                 [cult, psychedelic, murder, violence]  ...  somafree institute dr hal raglan humiliates pa...\n",
            "12                                     [tragedy, murder]  ...  brothers terry colin farrell ian ewan mcgregor...\n",
            "13                                              [murder]  ...  arrival train pulls station north china soldie...\n",
            "14                                           [flashback]  ...  film tells story pettigrew family living famil...\n",
            "15                                      [goodversusevil]  ...  hours end previous game death traitorous gener...\n",
            "16                                         [suspenseful]  ...  open mia katie jarvis year old youngster hunch...\n",
            "17            [boring, murder, cult, violence, romantic]  ...  shot trees reflected water girl pocahontas inv...\n",
            "18                                           [flashback]  ...  film begins close jackie kennedy natalie portm...\n",
            "19                                          [paranormal]  ...  creepy scary story centers around smurl family...\n",
            "20     [suspenseful, neonoir, murder, violence, actio...  ...  new years eve detroit oldest police station pr...\n",
            "21                                            [romantic]  ...  world war ii fred derry dana andrews homer par...\n",
            "22                                            [romantic]  ...  film told perspective grover tj literary devic...\n",
            "23          [comedy, murder, sadist, flashback, revenge]  ...  nigel dobson hugh grant wife fiona kristn scot...\n",
            "24                                              [murder]  ...  film opens anchorage motel room cindy paulson ...\n",
            "25       [fantasy, murder, violence, flashback, revenge]  ...  south boston teenager jason tripitikas fan mar...\n",
            "26           [boring, flashback, romantic, entertaining]  ...  years agowe see two young kids named emma adam...\n",
            "27                          [cult, comedy, entertaining]  ...  mr bean rowan atkinson well meaning hopelessly...\n",
            "28                         [comedy, humor, entertaining]  ...  four teenage misfits simon jay neil finished l...\n",
            "29                                              [murder]  ...  contains spoilersin england officials drag lak...\n",
            "...                                                  ...  ...                                                ...\n",
            "13685                                           [murder]  ...  retired gunslinger former confederate soldier ...\n",
            "13686                                          [revenge]  ...  set london film focuses highly successful extr...\n",
            "13687                                [murder, flashback]  ...  two police detectives lyon single childless in...\n",
            "13688                         [goodversusevil, violence]  ...  dragon ball z picks five years end dragon ball...\n",
            "13689                        [violence, neonoir, murder]  ...  utah nancy breyers kelly lynch defense lawyer ...\n",
            "13690                                [revenge, violence]  ...  fresh prison isaiah bone moves los angeles und...\n",
            "13691                                 [violence, murder]  ...  tum secretary working bank company forced shed...\n",
            "13692                                [satire, flashback]  ...  film divided four short stories robot baby you...\n",
            "13693                         [romantic, comedy, satire]  ...  great depression godfrey smith parke william p...\n",
            "13694                                           [murder]  ...  film opens u army failing capture still intact...\n",
            "13695                                          [revenge]  ...  archaeological expedition led sir joseph whemp...\n",
            "13696                             [psychedelic, fantasy]  ...  old artisan middle eastern town finds brunt ab...\n",
            "13697                                  [revenge, murder]  ...  sheriff bull harper george mathews taking coma...\n",
            "13698                              [suspenseful, murder]  ...  television writer director elliott nash glenn ...\n",
            "13699                                           [comedy]  ...  c w briggs woody allen insurance investigator ...\n",
            "13700                        [boring, romantic, fantasy]  ...  nine years passed since sunset jesse c line be...\n",
            "13701                                 [romantic, murder]  ...  captain gibby gibson richard dix close friend ...\n",
            "13702                              [violence, flashback]  ...  blood c set isolated rural town shore lake suw...\n",
            "13703                               [paranormal, murder]  ...  petey wheatstraw rudy ray moore born great mia...\n",
            "13704             [murder, paranormal, violence, sadist]  ...  unidentified corpse woman found half buried ba...\n",
            "13705                                          [revenge]  ...  summary day wedding merc d edmond dant first m...\n",
            "13706                   [suspenseful, murder, flashback]  ...  early fbi agent ray levoi assigned aid investi...\n",
            "13707                               [violence, romantic]  ...  film opens hills california bob culpepper coll...\n",
            "13708                                           [action]  ...  deathbed king ruritania announces two twin son...\n",
            "13709  [suspenseful, neonoir, violence, tragedy, reve...  ...  jane operative private intelligence firm hille...\n",
            "13710                                         [romantic]  ...  opera singer mary barrett grace moore leaves s...\n",
            "13711           [neonoir, murder, violence, suspenseful]  ...  three criminals ray pluto fantasia ray girlfri...\n",
            "13712                                   [comedy, murder]  ...  russ richards john travolta weatherman harrisb...\n",
            "13713                         [goodversusevil, violence]  ...  russia media covers tony stark disclosure iden...\n",
            "13714                                           [murder]  ...  steven kenet catches unfaithful wife apartment...\n",
            "\n",
            "[13715 rows x 4 columns]\n"
          ],
          "name": "stdout"
        }
      ]
    },
    {
      "cell_type": "code",
      "metadata": {
        "id": "RMYzjwrr_F3T",
        "colab_type": "code",
        "outputId": "382722cc-3065-4c4c-d2a2-d4e94f4ebfeb",
        "colab": {
          "base_uri": "https://localhost:8080/",
          "height": 34
        }
      },
      "source": [
        "# 最终的数据格式(X, y)\n",
        "X = FinalData['preprocess_data']\n",
        "y = FinalData['tags']\n",
        "print(X.shape,y.shape)"
      ],
      "execution_count": 57,
      "outputs": [
        {
          "output_type": "stream",
          "text": [
            "(13715,) (13715,)\n"
          ],
          "name": "stdout"
        }
      ]
    },
    {
      "cell_type": "code",
      "metadata": {
        "id": "ysCDk6Uq_F3Z",
        "colab_type": "code",
        "outputId": "5560e4ba-47bc-4955-c275-6b13b602031f",
        "colab": {
          "base_uri": "https://localhost:8080/",
          "height": 187
        }
      },
      "source": [
        "# 加载GloVe向量集，定义词到向量的转换函数\n",
        "gloveEmbed = pd.read_csv(DATA_PATH + \"glove.6B.50d.txt\", sep=\" \", index_col=0, header=None, quoting=csv.QUOTE_NONE)\n",
        "# Define a functions to return word embedding as an array from token input.\n",
        "\n",
        "def GloveVec(w):\n",
        "  return gloveEmbed.loc[w].as_matrix()\n",
        "\n",
        "# Check if it works\n",
        "GloveVec('amazing')"
      ],
      "execution_count": 58,
      "outputs": [
        {
          "output_type": "execute_result",
          "data": {
            "text/plain": [
              "array([-0.013117 ,  0.42197  , -0.26317  ,  0.34218  ,  0.99922  ,\n",
              "       -0.21694  , -0.08976  , -0.19715  ,  0.32896  ,  0.95953  ,\n",
              "       -0.4646   ,  0.10258  , -0.53764  , -0.0594   ,  0.6885   ,\n",
              "       -0.72556  ,  0.57731  ,  0.39767  , -0.98963  , -0.48204  ,\n",
              "       -0.40209  ,  0.90999  ,  0.14151  , -0.64745  ,  1.5189   ,\n",
              "       -0.06979  , -1.6931   , -0.07218  ,  0.8199   , -0.59112  ,\n",
              "        1.8197   ,  0.62039  ,  0.4555   , -0.19383  , -0.12375  ,\n",
              "        0.44672  ,  0.0091402,  0.58273  , -0.27283  , -0.65483  ,\n",
              "       -0.19586  , -0.28047  , -0.52825  , -0.22604  , -0.066117 ,\n",
              "        0.2579   ,  0.50016  , -0.12294  , -0.2093   ,  0.66911  ])"
            ]
          },
          "metadata": {
            "tags": []
          },
          "execution_count": 58
        }
      ]
    },
    {
      "cell_type": "code",
      "metadata": {
        "id": "JRmFdckz_F3a",
        "colab_type": "code",
        "outputId": "6b975be5-09aa-408f-f5ac-b811afc1df9e",
        "colab": {
          "base_uri": "https://localhost:8080/",
          "height": 34
        }
      },
      "source": [
        "# 将文本向量化处理，需要较长时间，句长55，词向量50维的情况下需要转换1小时300分钟左右\n",
        "sentence_len = 55\n",
        "CorpusData_num = 13715\n",
        "# 如果用100维或者300维向量的话，50改成相应的维度\n",
        "xVar = np.zeros((CorpusData_num, sentence_len, 50))\n",
        "dataAdded = 0\n",
        "\n",
        "# Loop through data\n",
        "for i in tqdm(range(CorpusData_num)):\n",
        "    words = X[i].split()\n",
        "    sentenceID = 0\n",
        "    for tok in words:  \n",
        "        # The mean length of the sentence prior to removing some\n",
        "        # genres was just above 20. I will set it to 20 here because\n",
        "        # I do not want to pad too many sentences.\n",
        "        if sentenceID >= sentence_len:\n",
        "            break\n",
        "        # Remove stop words and tokens with 2 characters or less (pretty much also a stop word)\n",
        "        # if len(tok) < 2 or tok in stopList:\n",
        "            # continue\n",
        "        # 这句话由于之前已经tokenize所以省略掉！！ \n",
        "        else: \n",
        "            if tok in gloveEmbed.index:         \n",
        "                xVar[dataAdded,sentenceID,:] = GloveVec(tok)\n",
        "                sentenceID += 1\n",
        "    dataAdded += 1\n",
        "    #if dataAdded % 100 == 0:\n",
        "        #print(\"Parsed {} datapoints, \\t Time: {}\".format(dataAdded, datetime.now()))"
      ],
      "execution_count": 59,
      "outputs": [
        {
          "output_type": "stream",
          "text": [
            "100%|██████████| 13715/13715 [1:29:29<00:00,  2.51it/s]\n"
          ],
          "name": "stderr"
        }
      ]
    },
    {
      "cell_type": "code",
      "metadata": {
        "id": "scYQhbO8F68x",
        "colab_type": "code",
        "colab": {}
      },
      "source": [
        "# 由于转换过程较长，向量集保存在云盘中随用随取\n",
        "# 注意保存文件的名称，按照转换的维度命名\n",
        "with open(DATA_PATH+\"xPointsEmbedded_55words_22tags.pickle\", 'wb') as handle:\n",
        "    pickle.dump(xVar, handle, protocol=pickle.HIGHEST_PROTOCOL)\n",
        "with open(DATA_PATH+\"yPointsEmbedded_22tags.pickle\", 'wb') as handle:\n",
        "    pickle.dump(y, handle, protocol=pickle.HIGHEST_PROTOCOL)"
      ],
      "execution_count": 0,
      "outputs": []
    },
    {
      "cell_type": "code",
      "metadata": {
        "id": "FqgRQXTtG3fy",
        "colab_type": "code",
        "outputId": "c12f5d5b-2591-4860-b08a-d9e495ddc993",
        "colab": {
          "base_uri": "https://localhost:8080/",
          "height": 51
        }
      },
      "source": [
        "# 之后的数据加载可从这里开始，在前面先链接谷歌云盘，然后直接跳到这一步\n",
        "DATA_PATH = '/content/drive/My Drive/'\n",
        "with open(DATA_PATH+\"xPointsEmbedded_55words_22tags.pickle\", 'rb') as handle:\n",
        "    xVar = pickle.load(handle)\n",
        "    \n",
        "with open(DATA_PATH+\"yPointsEmbedded_22tags.pickle\", 'rb') as handle:\n",
        "    y = pickle.load(handle)\n",
        "# 加载已经向量化的文本数据及其标签\n",
        "# 查看X, y的形状\n",
        "print(xVar.shape)\n",
        "print(y.shape)"
      ],
      "execution_count": 6,
      "outputs": [
        {
          "output_type": "stream",
          "text": [
            "(13715, 55, 50)\n",
            "(13715,)\n"
          ],
          "name": "stdout"
        }
      ]
    },
    {
      "cell_type": "code",
      "metadata": {
        "id": "04iX4lkW_F3b",
        "colab_type": "code",
        "outputId": "33a458a4-c9d9-4b00-9873-67ff56dd1aad",
        "colab": {
          "base_uri": "https://localhost:8080/",
          "height": 34
        }
      },
      "source": [
        "# 加载pytorch，将y从标签格式转换为向量格式，并分割数据为train和test\n",
        "import torch\n",
        "from sklearn.model_selection import train_test_split\n",
        "from sklearn.preprocessing import MultiLabelBinarizer\n",
        "import torch.nn.functional as F\n",
        "\n",
        "y_list = list(y)\n",
        "multilabel_binarizer = MultiLabelBinarizer()\n",
        "# vectorizer = CountVectorizer(tokenizer = lambda x: x.split(','), binary = 'true', max_features = 15)\n",
        "#y_train_vect = vectorizer.fit_transform(y_train)\n",
        "#y_test_vect = vectorizer.fit_transform(y_test)\n",
        "multilabel_binarizer.fit(y_list)\n",
        "y_vec = multilabel_binarizer.transform(y_list)\n",
        "X_train, X_test, y_train, y_test = train_test_split(xVar, y_vec, test_size=0.2, random_state = 42)\n",
        "#print(type(y_test_vect)) # 行优先的稀疏矩阵数据类型!!\n",
        "# 测试一下标签处理结果：\n",
        "print(y_test[19])"
      ],
      "execution_count": 7,
      "outputs": [
        {
          "output_type": "stream",
          "text": [
            "[0 0 0 0 0 0 0 0 0 0 0 0 0 0 0 0 0 1 0 0 0 1]\n"
          ],
          "name": "stdout"
        }
      ]
    },
    {
      "cell_type": "code",
      "metadata": {
        "id": "4dPF8fKn_F3e",
        "colab_type": "code",
        "colab": {}
      },
      "source": [
        "# 超参设定\n",
        "input_size = 50\n",
        "hidden_size = 128\n",
        "hidden_size_2 = 512\n",
        "hidden_size_3 = 256\n",
        "hidden_size_4 = 64\n",
        "num_classes = 22\n",
        "num_epochs = 100\n",
        "batch_size = 32\n",
        "learning_rate = 2e-4\n",
        "sentence_len = 55"
      ],
      "execution_count": 0,
      "outputs": []
    },
    {
      "cell_type": "code",
      "metadata": {
        "id": "PcfW7tXEw3Ks",
        "colab_type": "code",
        "colab": {
          "base_uri": "https://localhost:8080/",
          "height": 136
        },
        "outputId": "3981790b-fd93-4d99-b782-686436dd26f4"
      },
      "source": [
        "#aa = torch.randn(3,4)\n",
        "#print(aa)\n",
        "#aa[1, :2] = 1\n",
        "#print(aa[1, :2])\n",
        "#print(aa)"
      ],
      "execution_count": 82,
      "outputs": [
        {
          "output_type": "stream",
          "text": [
            "tensor([[ 1.2977, -0.5789, -0.3813, -1.4258],\n",
            "        [ 1.6694,  0.3926,  1.6059, -1.4089],\n",
            "        [-0.3390, -0.9777,  0.9659, -0.1867]])\n",
            "tensor([1., 1.])\n",
            "tensor([[ 1.2977, -0.5789, -0.3813, -1.4258],\n",
            "        [ 1.0000,  1.0000,  1.6059, -1.4089],\n",
            "        [-0.3390, -0.9777,  0.9659, -0.1867]])\n"
          ],
          "name": "stdout"
        }
      ]
    },
    {
      "cell_type": "code",
      "metadata": {
        "id": "5YrmpdWSM-dM",
        "colab_type": "code",
        "colab": {}
      },
      "source": [
        "# 加载数据(x,y)到特定的batch中，并且转换为pytorch类型的tensor，定义多种计算准确率的方法\n",
        "from torch.utils.data import DataLoader\n",
        "from torch.utils.data import Dataset\n",
        "from sklearn.metrics import f1_score\n",
        "\n",
        "\n",
        "device = torch.device('cuda' if torch.cuda.is_available() else 'cpu')\n",
        "\n",
        "class CustomDataset(Dataset):\n",
        "    def __init__(self, x_tensor, y_tensor):\n",
        "        self.x = x_tensor\n",
        "        self.y = y_tensor\n",
        "\n",
        "    def __getitem__(self, index):\n",
        "        return (self.x[index], self.y[index])\n",
        "\n",
        "    def __len__(self):\n",
        "        return len(self.x)\n",
        "\n",
        "def low_accuracy(model, datasetLoader, batch_size=32):\n",
        "  \n",
        "    total = 0\n",
        "    correct = 0\n",
        "    \n",
        "    for x_batch, y_batch in datasetLoader:\n",
        "        \n",
        "        x_batch = x_batch.to(device)\n",
        "        y_batch = y_batch.to(device)\n",
        "        \n",
        "        nBatch, _, _ = x_batch.shape\n",
        "        \n",
        "        # Update the total count\n",
        "        total += nBatch\n",
        "        \n",
        "        # Calculate how many were correct\n",
        "        outputs = model(x_batch) # 这是输出的预测结果\n",
        "        # print(outputs)\n",
        "        # print(outputs.shape)\n",
        "        #.  outputs_tensor = torch.zeros(batch_size, num_classes)\n",
        "        # print(outputs[22,:])\n",
        "        #outputs_list = outputs.tolist()\n",
        "        # 因为最后剩一个batch是22个元素，所以会报错！！\n",
        "        try:\n",
        "            \n",
        "            _, index = torch.sort(outputs, 1)\n",
        "            for i in range(batch_size):\n",
        "              if y_batch[i, index[i, -2]].item() == 1:\n",
        "                correct += 0.5\n",
        "              if y_batch[i, index[i, -1]].item() == 1:\n",
        "                correct += 0.5\n",
        "\n",
        "                #for j in range(num_classes):\n",
        "                    #if outputs[i, j] >= -2:\n",
        "                        #outputs_tensor[i, j] = 1\n",
        "        #outputs_list = torch.from_numpy(np.array(outputs_list))\n",
        "        \n",
        "                    \n",
        "        # _, predictions = torch.max(outputs, 1) torch.max函数，第二个输入是维度，这里是一维，然后输出最大值和其索引\n",
        "        # print(predictions)\n",
        "        # print(y_batch)\n",
        "        # correct += (outputs_tensor == y_batch).sum() # 这个计算正确的函数有大问题，维度没匹配\n",
        "                        #if y_batch[i, j] == 1:\n",
        "                            #correct += 1 # 这里是导致准确率大于1的原因！\n",
        "        except:\n",
        "            continue\n",
        "        \n",
        "    return float(correct) / total\n",
        "\n",
        "\n",
        "def exact_accuracy(model, datasetLoader, batch_size=32):\n",
        "    total = 0\n",
        "    correct = 0\n",
        "    for x_batch, y_batch in datasetLoader:    \n",
        "        x_batch = x_batch.to(device)\n",
        "        y_batch = y_batch.to(device)\n",
        "        nBatch, _, _ = x_batch.shape\n",
        "        # Update the total count\n",
        "        total += nBatch\n",
        "        # Calculate how many were correct\n",
        "        outputs = model(x_batch) # 这是输出的预测结果\n",
        "        try:\n",
        "            _, index = torch.sort(outputs, 1)\n",
        "            for i in range(batch_size):\n",
        "              if y_batch[i, index[i, -1]].item() == 1 & y_batch[i, index[i, -2]].item() == 1:\n",
        "                correct += 1\n",
        "        except:\n",
        "            continue\n",
        "        \n",
        "    return float(correct) / total\n",
        "\n",
        "\n",
        "def probability_accuracy(model, datasetLoader, batch_size=32):\n",
        "    total = 0\n",
        "    correct = 0\n",
        "    sum = 0\n",
        "    f1_score_micro = []\n",
        "    f1_score_macro = []\n",
        "    f1_score_weighted = []\n",
        "    for x_batch, y_batch in datasetLoader:    \n",
        "        x_batch = x_batch.to(device)\n",
        "        y_batch = y_batch.to(device)\n",
        "        nBatch, _, _ = x_batch.shape\n",
        "        # Update the total count\n",
        "        total += nBatch\n",
        "        # Calculate how many were correct\n",
        "        outputs = model(x_batch) # 这是输出的预测结果\n",
        "        prediction = torch.zeros(batch_size, num_classes)\n",
        "        try:\n",
        "            _, index = torch.sort(outputs, 1, descending=True)\n",
        "            for i in range(batch_size):\n",
        "              for j in range(num_classes):\n",
        "                sum += outputs[i, index[i, j]].item()\n",
        "                if sum >= 0.8:\n",
        "                  prediction[i, index[i, :j+1]] = 1\n",
        "                  sum = 0\n",
        "              for k in range(num_classes):\n",
        "                if prediction[i, k].item() == 1 & y_batch[i, k].item() == 1:\n",
        "                  correct += 0.5\n",
        "            f1_score_micro.append(f1_score(y_batch, prediction, average='micro'))\n",
        "            f1_score_macro.append(f1_score(y_batch, prediction, average='macro'))\n",
        "            f1_score_weighted.append(f1_score(y_batch, prediction, average='weighted'))\n",
        "            \n",
        "        except:\n",
        "            continue\n",
        "        \n",
        "    return [float(correct) / total, float(np.sum(f1_score_micro)) / len(f1_score_micro), float(np.sum(f1_score_macro)) / len(f1_score_macro), float(np.sum(f1_score_weighted)) / len(f1_score_weighted)]\n",
        "\n",
        "\n",
        "def single_accuracy(model, datasetLoader, batch_size=32):\n",
        "    total = 0\n",
        "    correct = 0\n",
        "    for x_batch, y_batch in datasetLoader:    \n",
        "        x_batch = x_batch.to(device)\n",
        "        y_batch = y_batch.to(device)\n",
        "        nBatch, _, _ = x_batch.shape\n",
        "        # Update the total count\n",
        "        total += nBatch\n",
        "        # Calculate how many were correct\n",
        "        outputs = model(x_batch) # 这是输出的预测结果\n",
        "        # 单分类直接输出每行的最大值\n",
        "        try:\n",
        "            count = 0\n",
        "            for i in outputs:\n",
        "              _, index = i.max(dim=0)\n",
        "              if y_batch[count][index] == 1:\n",
        "                correct += 1\n",
        "              count += 1\n",
        "        except:\n",
        "            continue\n",
        "        \n",
        "    return float(correct) / total\n",
        "\n",
        "def f1_accuracy(model, datasetLoader, batch_size=32):\n",
        "    total = 0\n",
        "    correct = 0\n",
        "    batch_num = 0\n",
        "    #del f1_score_micro\n",
        "    #del f1_score_macro\n",
        "    #del f1_score_weighted\n",
        "    f1_score_micro = []\n",
        "    f1_score_macro = []\n",
        "    f1_score_weighted = []\n",
        "    for x_batch, y_batch in datasetLoader:    \n",
        "        x_batch = x_batch.to(device)\n",
        "        y_batch = y_batch.to(device)\n",
        "        nBatch, _, _ = x_batch.shape\n",
        "        # Update the total count\n",
        "        total += nBatch\n",
        "        # Calculate how many were correct\n",
        "        outputs = model(x_batch) # 这是输出的预测结果\n",
        "        # 建立预测的01向量\n",
        "        prediction = torch.zeros(batch_size, num_classes)\n",
        "        try:\n",
        "          _, index = torch.sort(outputs, 1)\n",
        "          for i in range(batch_size):\n",
        "            prediction[i, index[i, -1]] = 1\n",
        "            prediction[i, index[i, -2]] = 1\n",
        "          f1_score_micro.append(f1_score(y_batch, prediction, average='micro'))\n",
        "          f1_score_macro.append(f1_score(y_batch, prediction, average='macro'))\n",
        "          f1_score_weighted.append(f1_score(y_batch, prediction, average='weighted'))\n",
        "\n",
        "        except:\n",
        "          continue\n",
        "    return [float(np.sum(f1_score_micro)) / len(f1_score_micro), float(np.sum(f1_score_macro)) / len(f1_score_macro), float(np.sum(f1_score_weighted)) / len(f1_score_weighted)]\n",
        "    \n",
        "def f1_accuracy_single(model, datasetLoader, batch_size=32):\n",
        "    total = 0\n",
        "    correct = 0\n",
        "    batch_num = 0\n",
        "    #del f1_score_micro\n",
        "    #del f1_score_macro\n",
        "    #del f1_score_weighted\n",
        "    f1_score_micro = []\n",
        "    f1_score_macro = []\n",
        "    f1_score_weighted = []\n",
        "    for x_batch, y_batch in datasetLoader:    \n",
        "        x_batch = x_batch.to(device)\n",
        "        y_batch = y_batch.to(device)\n",
        "        nBatch, _, _ = x_batch.shape\n",
        "        # Update the total count\n",
        "        total += nBatch\n",
        "        # Calculate how many were correct\n",
        "        outputs = model(x_batch) # 这是输出的预测结果\n",
        "        # 建立预测的01向量\n",
        "        prediction = torch.zeros(batch_size, num_classes)\n",
        "        try:\n",
        "          _, index = torch.sort(outputs, 1)\n",
        "          for i in range(batch_size):\n",
        "            prediction[i, index[i, -1]] = 1\n",
        "          \n",
        "          f1_score_micro.append(f1_score(y_batch, prediction, average='micro'))\n",
        "          f1_score_macro.append(f1_score(y_batch, prediction, average='macro'))\n",
        "          f1_score_weighted.append(f1_score(y_batch, prediction, average='weighted'))\n",
        "          # 1、注意循环的问题！不要套在最里面！\n",
        "          # 2、注意index是二维的！在第一层循环上要标注[i]\n",
        "\n",
        "        except:\n",
        "          continue\n",
        "    return [float(np.sum(f1_score_micro)) / len(f1_score_micro), float(np.sum(f1_score_macro)) / len(f1_score_macro), float(np.sum(f1_score_weighted)) / len(f1_score_weighted)]\n",
        "\n",
        "  \n",
        "def loadData(X_train, y_train, X_test, y_test):\n",
        "  \n",
        "    x_train_tensor = torch.from_numpy(X_train).float()\n",
        "    y_train_tensor = torch.from_numpy(y_train).long()\n",
        "\n",
        "    x_test_tensor = torch.from_numpy(X_test).float()\n",
        "    y_test_tensor = torch.from_numpy(y_test).long()\n",
        "\n",
        "    train_dataset = CustomDataset(x_train_tensor, y_train_tensor)\n",
        "    test_dataset = CustomDataset(x_test_tensor, y_test_tensor)\n",
        "\n",
        "    train_loader = DataLoader(dataset=train_dataset, batch_size=batch_size)\n",
        "    test_loader = DataLoader(dataset=test_dataset, batch_size=batch_size)\n",
        "    \n",
        "    return train_loader, test_loader"
      ],
      "execution_count": 0,
      "outputs": []
    },
    {
      "cell_type": "code",
      "metadata": {
        "id": "f-EBxfDjNHe2",
        "colab_type": "code",
        "colab": {}
      },
      "source": [
        "# 几种不同的RNN模型，此处可进行多步优化，注意超参在前面修改\n",
        "# Fully connected neural network with one hidden layer\n",
        "class LSTM(nn.Module):\n",
        "    def __init__(self, input_size, hidden_size, num_classes):\n",
        "        super(LSTM, self).__init__()\n",
        "        \n",
        "        self.lstm = nn.LSTM(input_size, hidden_size)\n",
        "        self.fc1 = nn.Linear(hidden_size, num_classes)\n",
        "        self.relu = nn.ReLU()\n",
        "    \n",
        "    def forward(self, x):\n",
        "\n",
        "        batch_size = x.size(0)\n",
        "      \n",
        "        x = x.view(sentence_len, batch_size, -1) # [Timesteps, batch_size, features]重新组织了一下输入的形状\n",
        "\n",
        "        out, _ = self.lstm(x)        \n",
        "        out = out[-1].view(batch_size, -1) # Only take last input\n",
        "  \n",
        "        out = self.relu(out)\n",
        "        out = self.fc1(out)\n",
        "        out = F.softmax(out)\n",
        "        return out\n",
        "\n",
        "\n",
        "class LSTM_2(nn.Module):\n",
        "    def __init__(self, input_size, hidden_size, num_classes):\n",
        "        super(LSTM_2, self).__init__()\n",
        "        \n",
        "        self.lstm1 = nn.LSTM(input_size, hidden_size_3)\n",
        "        self.lstm2 = nn.LSTM(hidden_size_3, hidden_size)\n",
        "        self.fc1 = nn.Linear(hidden_size, num_classes)\n",
        "        self.relu = nn.ReLU()\n",
        "    \n",
        "    def forward(self, x):\n",
        "\n",
        "        batch_size = x.size(0)\n",
        "      \n",
        "        x = x.view(sentence_len, batch_size, -1) # [Timesteps, batch_size, features]重新组织了一下输入的形状\n",
        "\n",
        "        out, _ = self.lstm1(x)\n",
        "        out, _ = self.lstm2(out)        \n",
        "        out = out[-1].view(batch_size, -1) # Only take last input\n",
        "  \n",
        "        out = self.relu(out)\n",
        "        out = self.fc1(out)\n",
        "        out = F.softmax(out)\n",
        "        return out\n",
        "\n",
        "\n",
        "class GRU(nn.Module):\n",
        "    def __init__(self, input_size, hidden_size, num_classes):\n",
        "        super(GRU, self).__init__()\n",
        "        \n",
        "        self.gru = nn.GRU(input_size, hidden_size)\n",
        "        self.fc1 = nn.Linear(hidden_size, num_classes)\n",
        "        self.relu = nn.ReLU()\n",
        "    \n",
        "    def forward(self, x):\n",
        "\n",
        "        batch_size = x.size(0)\n",
        "      \n",
        "        x = x.view(sentence_len, batch_size, -1) # [Timesteps, batch_size, features]重新组织了一下输入的形状\n",
        "\n",
        "        out, _ = self.gru(x)        \n",
        "        out = out[-1].view(batch_size, -1) # Only take last input\n",
        "  \n",
        "        out = self.relu(out)\n",
        "        out = self.fc1(out)\n",
        "        out = F.softmax(out)\n",
        "        return out\n",
        "# 模型的结构需要谨慎对待，lstm的输出不止一个，看其他例子"
      ],
      "execution_count": 0,
      "outputs": []
    },
    {
      "cell_type": "code",
      "metadata": {
        "id": "H2aHMNlINsLF",
        "colab_type": "code",
        "outputId": "b598425c-a24e-47ed-f6dd-b24da0fcbe0d",
        "colab": {
          "base_uri": "https://localhost:8080/",
          "height": 1000
        }
      },
      "source": [
        "# 迭代训练，迭代步数在超参处可以设置，每迭代一步同时计算在训练集和测试集上的准确率和其他评估标准\n",
        "# 可以简易更换所用的训练模型，也可以简易更换分类器和评估方法\n",
        "train_loader, test_loader = loadData(X_train, y_train, X_test, y_test)\n",
        "print('Number of Batches:', len(train_loader))\n",
        "# Training Loop:\n",
        "total_step = len(train_loader)\n",
        "\n",
        "train_acc = []\n",
        "test_acc = []\n",
        "loss_hist = []\n",
        "\n",
        "# Initialise the model\n",
        "# 在这里更换模型\n",
        "model = LSTM(input_size, hidden_size, num_classes).to(device)\n",
        "\n",
        "# Loss and optimizer\n",
        "# 在这里更换损失函数和优化方法\n",
        "criterion = nn.MultiLabelSoftMarginLoss() # 损失函数是针对于单类别的，需要修改，查看torch有无对应的集成方法\n",
        "optimizer = torch.optim.SGD(model.parameters(), lr=0.001, momentum=0.9)\n",
        "# 迭代过程\n",
        "for epoch in range(num_epochs):\n",
        "    for i, (x_batch, y_batch) in enumerate(train_loader):\n",
        "        \n",
        "        x_batch = x_batch.to(device)\n",
        "        y_batch = y_batch.to(device)\n",
        "    \n",
        "        # Forward pass\n",
        "        outputs = model(x_batch)\n",
        "        loss = criterion(outputs, y_batch)\n",
        "        \n",
        "        # Backward and optimize 优化的步骤就是后向传递，优化的方法是随机梯度下降\n",
        "        optimizer.zero_grad()\n",
        "        loss.backward()\n",
        "        optimizer.step()\n",
        "    # 在这里更换分类器和评估方法\n",
        "    print ('Epoch [{}/{}], Loss: {:.3f}, Train Acc: {}, Test Acc: {}' \n",
        "       .format(epoch+1, num_epochs, loss.item(), \n",
        "               probability_accuracy(model, train_loader, batch_size), probability_accuracy(model, test_loader, batch_size)))\n",
        "        \n",
        "    train_acc.append(probability_accuracy(model, train_loader, batch_size))\n",
        "    test_acc.append(probability_accuracy(model, test_loader, batch_size))\n",
        "    loss_hist.append(loss.item())"
      ],
      "execution_count": 0,
      "outputs": [
        {
          "output_type": "stream",
          "text": [
            "343\n",
            "Epoch [1/100], Loss: 0.711, Train Acc: [0.6092325920524972, 0.1563044293050217, 0.13922010036195, 0.20792948305712983], Test Acc: [0.6288734961720743, 0.15987634795098093, 0.14541804322929663, 0.21441323499960904]\n",
            "Epoch [2/100], Loss: 0.711, Train Acc: [0.6142453518045935, 0.1576032406461016, 0.14041162325654052, 0.2114796004855226], Test Acc: [0.6332482683193583, 0.16101058444245164, 0.14618010373774315, 0.21690113138310407]\n",
            "Epoch [3/100], Loss: 0.711, Train Acc: [0.6198505286183011, 0.1590486333914492, 0.14154487396470872, 0.21567362726442993], Test Acc: [0.6376230404666423, 0.1621384085394184, 0.14682175067293274, 0.22019334173154595]\n",
            "Epoch [4/100], Loss: 0.711, Train Acc: [0.6259114108640175, 0.16061011680323087, 0.14288814719452297, 0.22024908264021908], Test Acc: [0.6434560699963544, 0.16362862295100838, 0.1480094330138487, 0.22449877483021882]\n",
            "Epoch [5/100], Loss: 0.711, Train Acc: [0.6306507473569085, 0.16184209192322171, 0.14373051934180386, 0.22373263412410987], Test Acc: [0.6494713816988699, 0.16516378681257465, 0.1493656949926384, 0.22778509242860578]\n",
            "Epoch [6/100], Loss: 0.711, Train Acc: [0.6365293474298214, 0.16335537958058466, 0.14496675784617385, 0.2278704521584777], Test Acc: [0.6567626686110098, 0.1670331825604229, 0.15090163447362256, 0.2328620568919812]\n",
            "Epoch [7/100], Loss: 0.711, Train Acc: [0.6438662048851622, 0.16525455108570328, 0.14648630256658696, 0.23357635100436736], Test Acc: [0.6635071090047393, 0.16876776349126857, 0.1517180780307208, 0.2362727194792405]\n",
            "Epoch [8/100], Loss: 0.711, Train Acc: [0.6514764855997084, 0.1672107991777384, 0.1478615789707842, 0.23825405262094726], Test Acc: [0.6693401385344513, 0.17021470681816228, 0.1524272452013297, 0.23988062849932712]\n",
            "Epoch [9/100], Loss: 0.711, Train Acc: [0.6586766314254466, 0.16905759454097907, 0.1491117935410802, 0.24271390923875194], Test Acc: [0.6759022967553773, 0.17185240184945041, 0.15342133520184262, 0.2438314378744742]\n",
            "Epoch [10/100], Loss: 0.711, Train Acc: [0.6671071819176084, 0.1712217202319642, 0.15054197680660658, 0.24770736943696797], Test Acc: [0.6828290193219103, 0.17362700610161913, 0.15456168487946972, 0.2473414226658518]\n",
            "Epoch [11/100], Loss: 0.711, Train Acc: [0.6759022967553773, 0.17347961144664018, 0.152098797738136, 0.25341040463511005], Test Acc: [0.6919431279620853, 0.17596608385843301, 0.1562370424386044, 0.2533416575159894]\n",
            "Epoch [12/100], Loss: 0.711, Train Acc: [0.6846974115931462, 0.17573319305285534, 0.1534357610437257, 0.2581201967667313], Test Acc: [0.7012395187750639, 0.17830467839527786, 0.15770918840278847, 0.2576743615967877]\n",
            "Epoch [13/100], Loss: 0.711, Train Acc: [0.6927633977397011, 0.17781310225534885, 0.15442710478685226, 0.26159204157505656], Test Acc: [0.7079839591687933, 0.18007091710793938, 0.15850070440010292, 0.26203793090932914]\n",
            "Epoch [14/100], Loss: 0.711, Train Acc: [0.7034269048487058, 0.18053468370559447, 0.1558573623357878, 0.2671329619864723], Test Acc: [0.7207437112650383, 0.18333975260840218, 0.1606109375898982, 0.2686232334867756]\n",
            "Epoch [15/100], Loss: 0.711, Train Acc: [0.7160499453153482, 0.18377843878866093, 0.15769803299817028, 0.2734041493777009], Test Acc: [0.7296755377324098, 0.18563769604140812, 0.16177728861790486, 0.272669791718055]\n",
            "Epoch [16/100], Loss: 0.711, Train Acc: [0.7273058694859643, 0.18670473340329713, 0.15910844117161374, 0.2778405519979268], Test Acc: [0.7395187750637987, 0.1880805786224089, 0.1629263378464946, 0.2764594076093217]\n",
            "Epoch [17/100], Loss: 0.711, Train Acc: [0.7377870944221655, 0.18941331845751108, 0.16031743872218523, 0.2820167441828689], Test Acc: [0.7500911410864017, 0.1907094168334936, 0.16369962536502788, 0.2801447985138458]\n",
            "Epoch [18/100], Loss: 0.711, Train Acc: [0.7491797302223843, 0.1923346401542765, 0.1615554220530084, 0.2863085901762247], Test Acc: [0.7584761210353628, 0.19286604911601202, 0.16406773311578243, 0.28221087019926455]\n",
            "Epoch [19/100], Loss: 0.711, Train Acc: [0.7606179365658039, 0.19528344742925483, 0.16271046835393435, 0.29053036950536254], Test Acc: [0.7716004374772147, 0.19621809979066349, 0.16582809062158343, 0.2878544660130724]\n",
            "Epoch [20/100], Loss: 0.711, Train Acc: [0.7725118483412322, 0.19834901435624988, 0.1639981701445433, 0.29464073639950816], Test Acc: [0.7823550856726212, 0.19898486886937164, 0.16643257733215674, 0.29103965122809333]\n",
            "Epoch [21/100], Loss: 0.711, Train Acc: [0.7840411957710536, 0.2013251040079372, 0.16493593258777095, 0.2981402743573951], Test Acc: [0.7945679912504557, 0.20208895116471723, 0.1676103050686781, 0.29464151877800415]\n",
            "Epoch [22/100], Loss: 0.711, Train Acc: [0.7962541013488881, 0.20447469910804653, 0.16600767278682296, 0.30209386829315665], Test Acc: [0.8058694859642727, 0.20497024165570804, 0.1681767729470667, 0.2975289638034099]\n",
            "Epoch [23/100], Loss: 0.711, Train Acc: [0.8071454611738972, 0.20727813524262992, 0.16695968767688238, 0.305060897595844], Test Acc: [0.8164418519868757, 0.2076501976098035, 0.16874874460096084, 0.3004090185367128]\n",
            "Epoch [24/100], Loss: 0.711, Train Acc: [0.8190393729493256, 0.21034402383623862, 0.1678183182116676, 0.30824699499066643], Test Acc: [0.8255559606270507, 0.2119162296956659, 0.16992630164407532, 0.3042933323205392]\n",
            "Epoch [25/100], Loss: 0.711, Train Acc: [0.8298395916879329, 0.21313389454083112, 0.16863489870438506, 0.310897178246384], Test Acc: [0.8363106088224571, 0.21461038556230705, 0.17077668364822582, 0.30662993097715796]\n",
            "Epoch [26/100], Loss: 0.711, Train Acc: [0.8412777980313525, 0.21607390072351923, 0.1695593039077628, 0.31390634773941234], Test Acc: [0.8468829748450601, 0.2172968818479149, 0.1716423821094849, 0.30924730545000856]\n",
            "Epoch [27/100], Loss: 0.711, Train Acc: [0.8518501640539555, 0.2187849235847693, 0.17024099919496105, 0.3163267802268893], Test Acc: [0.8550856726212176, 0.21936729151256487, 0.1720992742940661, 0.3108785000650379]\n",
            "Epoch [28/100], Loss: 0.711, Train Acc: [0.8616934013853446, 0.22131948160297354, 0.170980350950262, 0.3184780775084007], Test Acc: [0.8674808603718557, 0.22259550181612, 0.1732291994596856, 0.3148588432233511]\n",
            "Epoch [29/100], Loss: 0.711, Train Acc: [0.87135435654393, 0.22380751240341715, 0.1715743371760081, 0.3204941894094312], Test Acc: [0.8780532263944586, 0.22570473782802927, 0.173835365186862, 0.31704804972922107]\n",
            "Epoch [30/100], Loss: 0.711, Train Acc: [0.8805140357273059, 0.2261506700085964, 0.17207327177526263, 0.32229830514873103], Test Acc: [0.8875318993802406, 0.2281620574391169, 0.17469560581726679, 0.3194055258788742]\n",
            "Epoch [31/100], Loss: 0.711, Train Acc: [0.8894914327378782, 0.22851899188368235, 0.17276165188547454, 0.3242179495109899], Test Acc: [0.8960991615020051, 0.23037994594028896, 0.1755282532444991, 0.32122040751274306]\n",
            "Epoch [32/100], Loss: 0.711, Train Acc: [0.8968282901932191, 0.2304682631428973, 0.1729512842229194, 0.3251492306255037], Test Acc: [0.9017499088589136, 0.2318496091394012, 0.17596377357971188, 0.32209441783926823]\n",
            "Epoch [33/100], Loss: 0.711, Train Acc: [0.9039828654757565, 0.23232327705688235, 0.17341412791900837, 0.3262554953869869], Test Acc: [0.9081297849070361, 0.2335108494386006, 0.17638382163392685, 0.3231714707531584]\n",
            "Epoch [34/100], Loss: 0.711, Train Acc: [0.9107728764126869, 0.23407417471211392, 0.17393163284440397, 0.3274379446110853], Test Acc: [0.9166970470288006, 0.23573100243589015, 0.1774292440327319, 0.32489448446844343]\n",
            "Epoch [35/100], Loss: 0.711, Train Acc: [0.9173806051768137, 0.23575889583842938, 0.17419949615289018, 0.3287172448799223], Test Acc: [0.9214363835216915, 0.23707986400321224, 0.1776411464566665, 0.325531106232185]\n",
            "Epoch [36/100], Loss: 0.711, Train Acc: [0.9225300765585126, 0.23708594048684972, 0.17434481899406262, 0.32929959447940504], Test Acc: [0.9265402843601895, 0.23839965635834007, 0.1774775795415111, 0.32602489045486366]\n",
            "Epoch [37/100], Loss: 0.711, Train Acc: [0.9280896828290193, 0.2385256612946263, 0.17470531745959658, 0.3303860534664519], Test Acc: [0.9341961356179366, 0.24038116107490035, 0.17831584233917572, 0.3278063970277965]\n",
            "Epoch [38/100], Loss: 0.711, Train Acc: [0.9349708348523514, 0.24027252080750175, 0.174777493719806, 0.3316917372353349], Test Acc: [0.9398468829748451, 0.24184573701875067, 0.17882448608857787, 0.32904085850231674]\n",
            "Epoch [39/100], Loss: 0.711, Train Acc: [0.939892453518046, 0.24154045697118695, 0.17518253517430743, 0.3327228209223011], Test Acc: [0.9440393729493256, 0.24292432450657261, 0.17930121052296427, 0.3295724735959647]\n",
            "Epoch [40/100], Loss: 0.710, Train Acc: [0.9386620488516223, 0.2411359388096423, 0.1741384808335142, 0.3325564084975556], Test Acc: [0.9502369668246445, 0.24455523075938124, 0.1799176000436782, 0.33011718191530026]\n",
            "Epoch [41/100], Loss: 0.710, Train Acc: [0.9427178271965002, 0.2422737087156251, 0.17481541720961122, 0.3331216039851342], Test Acc: [0.9557054320087496, 0.24598020495535886, 0.18061466793480227, 0.33124294941918847]\n",
            "Epoch [42/100], Loss: 0.710, Train Acc: [0.9469558877141816, 0.24337613935619917, 0.1752313664365042, 0.3339854182689978], Test Acc: [0.958075100255195, 0.2465938665524917, 0.18045243883175097, 0.331348881320685]\n",
            "Epoch [43/100], Loss: 0.710, Train Acc: [0.9519686474662779, 0.24467582007486227, 0.17607373762242626, 0.3352006940694374], Test Acc: [0.9515129420342691, 0.2450429137731923, 0.17970441489954495, 0.32943990884311886]\n",
            "Epoch [44/100], Loss: 0.710, Train Acc: [0.9587586584032082, 0.24648517505245535, 0.1774531781643522, 0.33738561756440516], Test Acc: [0.9549763033175356, 0.24594050850752705, 0.18004442357578332, 0.3300875681507361]\n",
            "Epoch [45/100], Loss: 0.710, Train Acc: [0.955158585490339, 0.24550037985250536, 0.17523359589845713, 0.33545664950990395], Test Acc: [0.9571636893911776, 0.24669575673294244, 0.17986883515553762, 0.3307191854771868]\n",
            "Epoch [46/100], Loss: 0.710, Train Acc: [0.959533357637623, 0.24681970693600153, 0.1772358323616726, 0.3369533066592375], Test Acc: [0.9622675902296756, 0.247719634724855, 0.1792798945346317, 0.33128418406898624]\n",
            "Epoch [47/100], Loss: 0.710, Train Acc: [0.960672621217645, 0.24703659248996432, 0.17670010575245557, 0.33677817206405386], Test Acc: [0.963908129784907, 0.24865620994286694, 0.18010838605751373, 0.3319725197128751]\n",
            "Epoch [48/100], Loss: 0.710, Train Acc: [0.9632701421800948, 0.24794801637570235, 0.17685220915122618, 0.3373637042052526], Test Acc: [0.9642726941305141, 0.24872344056085482, 0.17968894445446565, 0.3319423498179817]\n",
            "Epoch [49/100], Loss: 0.710, Train Acc: [0.965776522056143, 0.24872650858041565, 0.17767941208937824, 0.33760884194442037], Test Acc: [0.968282901932191, 0.24986175900415766, 0.18199489040339706, 0.33382865232535053]\n",
            "Epoch [50/100], Loss: 0.710, Train Acc: [0.9666879329201604, 0.24901260845570733, 0.17738632951181188, 0.3381456153181466], Test Acc: [0.9677360554137805, 0.25000158132282596, 0.18198954196519784, 0.33340133468850053]\n",
            "Epoch [51/100], Loss: 0.710, Train Acc: [0.9620853080568721, 0.24825628667359478, 0.1762906534453607, 0.33663982658894537], Test Acc: [0.9677360554137805, 0.25006203953398204, 0.18217806736597453, 0.3334087634641386]\n",
            "Epoch [52/100], Loss: 0.710, Train Acc: [0.9662777980313525, 0.24932650679131288, 0.17712775386414956, 0.33777542559445123], Test Acc: [0.9737513671162961, 0.251600412619682, 0.18153346740587722, 0.335034563237825]\n",
            "Epoch [53/100], Loss: 0.710, Train Acc: [0.965366387167335, 0.2494598820936184, 0.17698355774888294, 0.3373849602046547], Test Acc: [0.9662777980313525, 0.2500260967261778, 0.17953766407608931, 0.3331447306975212]\n",
            "Epoch [54/100], Loss: 0.710, Train Acc: [0.9701968647466278, 0.2508522212759261, 0.17763916585022294, 0.3383714800152002], Test Acc: [0.974115931461903, 0.25238323709652566, 0.18363986704621033, 0.33525144455701666]\n",
            "Epoch [55/100], Loss: 0.710, Train Acc: [0.9664600802041561, 0.25005420243817905, 0.17717650256821185, 0.33766618647665025], Test Acc: [0.9666423623769596, 0.2506653648822506, 0.18092981615405673, 0.3337170165970101]\n",
            "Epoch [56/100], Loss: 0.710, Train Acc: [0.9717006926722567, 0.2515308155052698, 0.1779153123219045, 0.3387741578160559], Test Acc: [0.9732045205978855, 0.25285887483682984, 0.18269364489689047, 0.33604604813609573]\n",
            "Epoch [57/100], Loss: 0.710, Train Acc: [0.9770780167699599, 0.2528985277678219, 0.17959676576333122, 0.3401266449513623], Test Acc: [0.9699234414874225, 0.25207914688426847, 0.18159874570027115, 0.33477125405845165]\n",
            "Epoch [58/100], Loss: 0.710, Train Acc: [0.9728399562522785, 0.2519684819189124, 0.17801095410438797, 0.3390647640804626], Test Acc: [0.9728399562522785, 0.2524821116426876, 0.18158167399016975, 0.3346882773435214]\n",
            "Epoch [59/100], Loss: 0.710, Train Acc: [0.9713816988698505, 0.252086932158011, 0.17843011670103567, 0.3386983235676421], Test Acc: [0.978855267954794, 0.25444445624132356, 0.18324467191729732, 0.33716747353100635]\n",
            "Epoch [60/100], Loss: 0.710, Train Acc: [0.9802223842508203, 0.2541887930008455, 0.18007623786806476, 0.3413378579901839], Test Acc: [0.9779438570907765, 0.25384767958034676, 0.1811518709754517, 0.33505420610323533]\n",
            "Epoch [61/100], Loss: 0.710, Train Acc: [0.978855267954794, 0.2537548600936537, 0.17986625080557783, 0.34045716042426766], Test Acc: [0.9841414509660955, 0.2554974830158063, 0.1847411858687681, 0.33757215889959363]\n",
            "Epoch [62/100], Loss: 0.710, Train Acc: [0.9763488880787459, 0.25300821197153156, 0.17898814617045983, 0.33986534157439297], Test Acc: [0.980678089682829, 0.2546563770947997, 0.182747960302808, 0.3368260819548629]\n",
            "Epoch [63/100], Loss: 0.710, Train Acc: [0.9759843237331389, 0.25278797521920887, 0.17878595403454622, 0.33924657825257143], Test Acc: [0.9804958075100255, 0.25441884797720865, 0.18206357093358297, 0.335405257949664]\n"
          ],
          "name": "stdout"
        }
      ]
    },
    {
      "cell_type": "code",
      "metadata": {
        "id": "38c80OzA9eQx",
        "colab_type": "code",
        "colab": {}
      },
      "source": [
        "# 这三块代码负责存储不同模型和方法算出的结果，以便后续画图，只需运行对应的模块即可\n",
        "train_acc_plot = train_acc\n",
        "test_acc_plot = test_acc\n",
        "loss_hist_plot = loss_hist"
      ],
      "execution_count": 0,
      "outputs": []
    },
    {
      "cell_type": "code",
      "metadata": {
        "id": "VfTJf42rkOw9",
        "colab_type": "code",
        "colab": {}
      },
      "source": [
        "train_acc_gru_plot = train_acc\n",
        "test_acc_gru_plot = test_acc\n",
        "loss_hist_gru_plot = loss_hist"
      ],
      "execution_count": 0,
      "outputs": []
    },
    {
      "cell_type": "code",
      "metadata": {
        "id": "0f6-XN3dkPCG",
        "colab_type": "code",
        "colab": {}
      },
      "source": [
        "train_acc_single_plot = train_acc\n",
        "test_acc_single_plot = test_acc\n",
        "loss_hist_single_plot = loss_hist"
      ],
      "execution_count": 0,
      "outputs": []
    },
    {
      "cell_type": "code",
      "metadata": {
        "id": "cAp3tLAX60P_",
        "colab_type": "code",
        "outputId": "faafe70d-25d8-4f10-c61d-bf4c9e6decd5",
        "colab": {
          "base_uri": "https://localhost:8080/",
          "height": 332
        }
      },
      "source": [
        "# 对结果进行画图\n",
        "x_range = [i for i in range(0,num_epochs)]\n",
        "\n",
        "plt.figure(figsize=(18,4))\n",
        "plt.subplot(1,4,1)\n",
        "plt.plot(x_range,train_acc_plot[:,0],label=['LSTM(multi)'])\n",
        "#plt.plot(x_range,train_acc_gru_plot, label='GRU(multi)')\n",
        "#plt.plot(x_range,train_acc_single_plot, label='LSTM(single)')\n",
        "plt.xlabel('Epoch')\n",
        "plt.title('Training Accuracy')\n",
        "plt.legend()\n",
        "\n",
        "plt.subplot(1,4,2)\n",
        "plt.plot(x_range,test_acc_plot, label=['accuracy', 'F1-score(micro)', 'F1-score(macro)', 'F1-score(weighted)'])\n",
        "#plt.plot(x_range,test_acc_gru_plot, label='GRU(multi)')\n",
        "#plt.plot(x_range,test_acc_single_plot, label='LSTM(single)')\n",
        "plt.xlabel('Epoch')\n",
        "plt.title('Testing Accuracy')\n",
        "plt.legend()\n",
        "\n",
        "plt.subplot(1,4,3)\n",
        "plt.plot(x_range,loss_hist_plot, label=['accuracy', 'F1-score(micro)', 'F1-score(macro)', 'F1-score(weighted)'])\n",
        "#plt.plot(x_range,loss_hist_gru_plot, label='GRU(multi)')\n",
        "#plt.plot(x_range,loss_hist_single_plot, label='LSTM(single)')\n",
        "plt.xlabel('Epoch')\n",
        "plt.title('Loss')\n",
        "plt.legend()"
      ],
      "execution_count": 17,
      "outputs": [
        {
          "output_type": "execute_result",
          "data": {
            "text/plain": [
              "<matplotlib.legend.Legend at 0x7f0367fc9e80>"
            ]
          },
          "metadata": {
            "tags": []
          },
          "execution_count": 17
        },
        {
          "output_type": "display_data",
          "data": {
            "image/png": "[encoded data removed]",
            "text/plain": [
              "<Figure size 1296x288 with 3 Axes>"
            ]
          },
          "metadata": {
            "tags": []
          }
        }
      ]
    },
    {
      "cell_type": "code",
      "metadata": {
        "id": "XfoG32PVtKuv",
        "colab_type": "code",
        "colab": {
          "base_uri": "https://localhost:8080/",
          "height": 332
        },
        "outputId": "3cb6a5a0-d631-4bac-b359-d862888d295b"
      },
      "source": [
        "# 对结果画图\n",
        "x_range = [i for i in range(0,num_epochs)]\n",
        "plot1 = []\n",
        "plot2 = []\n",
        "plot3 = []\n",
        "plot4 = []\n",
        "plot5 = []\n",
        "plot6 = []\n",
        "for i in range(num_epochs):\n",
        "  plot1.append(train_acc_plot[i][0])\n",
        "  plot2.append(train_acc_gru_plot[i][0])\n",
        "  plot3.append(test_acc_plot[i][0])\n",
        "  plot4.append(test_acc_gru_plot[i][0])\n",
        "\n",
        "\n",
        "plt.figure(figsize=(18,4))\n",
        "plt.subplot(1,3,1)\n",
        "plt.plot(x_range,plot1,label='LSTM(multi)')\n",
        "plt.plot(x_range,plot2, label='GRU(multi)')\n",
        "#plt.plot(x_range,train_acc_single_plot, label='LSTM(single)')\n",
        "plt.xlabel('Epoch')\n",
        "plt.title('Training Accuracy')\n",
        "plt.legend()\n",
        "\n",
        "plt.subplot(1,3,2)\n",
        "plt.plot(x_range,plot3, label='LSTM(multi)')\n",
        "plt.plot(x_range,plot4, label='GRU(multi)')\n",
        "#plt.plot(x_range,test_acc_single_plot, label='LSTM(single)')\n",
        "plt.xlabel('Epoch')\n",
        "plt.title('Testing Accuracy')\n",
        "plt.legend()\n",
        "\n",
        "plt.subplot(1,3,3)\n",
        "plt.plot(x_range,loss_hist_plot, label='LSTM(multi)')\n",
        "plt.plot(x_range,loss_hist_gru_plot, label='GRU(multi)')\n",
        "#plt.plot(x_range,loss_hist_single_plot, label='LSTM(single)')\n",
        "plt.xlabel('Epoch')\n",
        "plt.title('Loss')\n",
        "plt.legend()"
      ],
      "execution_count": 34,
      "outputs": [
        {
          "output_type": "execute_result",
          "data": {
            "text/plain": [
              "<matplotlib.legend.Legend at 0x7f03672acf98>"
            ]
          },
          "metadata": {
            "tags": []
          },
          "execution_count": 34
        },
        {
          "output_type": "display_data",
          "data": {
            "image/png": "[encoded data removed]",
            "text/plain": [
              "<Figure size 1296x288 with 3 Axes>"
            ]
          },
          "metadata": {
            "tags": []
          }
        }
      ]
    },
    {
      "cell_type": "code",
      "metadata": {
        "id": "bCCYFUNzvmrE",
        "colab_type": "code",
        "colab": {
          "base_uri": "https://localhost:8080/",
          "height": 85
        },
        "outputId": "693ae638-1a65-4b16-b4b3-e5abc9a872d0"
      },
      "source": [
        "# 最终的结果\n",
        "print(train_acc_plot[num_epochs-1])\n",
        "print(test_acc_plot[num_epochs-1])\n",
        "print(train_acc_gru_plot[num_epochs-1])\n",
        "print(test_acc_gru_plot[num_epochs-1])"
      ],
      "execution_count": 33,
      "outputs": [
        {
          "output_type": "stream",
          "text": [
            "[0.8089227123587314, 0.2071335901195308, 0.16237198800892594, 0.28787885702465743]\n",
            "[0.7916514764855997, 0.20291641997835716, 0.16026144643915416, 0.27680596800001944]\n",
            "[0.8020871308786001, 0.21119585909795613, 0.16815779809138034, 0.3133186822900792]\n",
            "[0.8073277433467007, 0.21327045952484416, 0.1722151654630425, 0.31291233330721757]\n"
          ],
          "name": "stdout"
        }
      ]
    },
    {
      "cell_type": "code",
      "metadata": {
        "id": "TsbOnnoOcCU2",
        "colab_type": "code",
        "outputId": "b1443574-4b6f-47b7-d324-1ceb3a7eb862",
        "colab": {
          "base_uri": "https://localhost:8080/",
          "height": 476
        }
      },
      "source": [
        "# playground\n",
        "print(outputs)\n",
        "print(outputs[4,5])\n",
        "#print(y_batch)\n",
        "#arr = np.array([1,2,3,3])\n",
        "#print(arr[2])\n",
        "qwe = 0\n",
        "_, aaa = torch.sort(outputs, 1)\n",
        "mask = torch.gt(aaa,4)\n",
        "for i in range(10):\n",
        "  for j in range(7):\n",
        "    if aaa[i,j].item() >= 5 & y_batch[i,j].item() == 1:\n",
        "      qwe += 1\n",
        "print(qwe)"
      ],
      "execution_count": 0,
      "outputs": [
        {
          "output_type": "stream",
          "text": [
            "tensor([[-1.0837, -0.8171, -0.0435, -1.0357, -0.8626, -0.8256, -0.3714],\n",
            "        [-1.1018, -0.8121, -0.0587, -1.0361, -0.8734, -0.8283, -0.3652],\n",
            "        [-1.0570, -0.7938, -0.0569, -1.0029, -0.8416, -0.7954, -0.3349],\n",
            "        [-0.8676, -0.6308, -0.0892, -0.7866, -0.6673, -0.6335, -0.2398],\n",
            "        [-0.9744, -0.7464, -0.0660, -0.8878, -0.8009, -0.6758, -0.3340],\n",
            "        [-0.8054, -0.6225, -0.0828, -0.7529, -0.6983, -0.5715, -0.2469],\n",
            "        [-0.9960, -0.7440, -0.0338, -0.8642, -0.7909, -0.6866, -0.2771],\n",
            "        [-0.8977, -0.7404, -0.0510, -0.8522, -0.7460, -0.6314, -0.2879],\n",
            "        [-1.1319, -0.8277, -0.0762, -1.0350, -0.8728, -0.8046, -0.3639],\n",
            "        [-1.0280, -0.7823, -0.0718, -0.9718, -0.7774, -0.7503, -0.3393],\n",
            "        [-1.0897, -0.8243, -0.0481, -1.0413, -0.8822, -0.8225, -0.3714],\n",
            "        [-0.8635, -0.6400, -0.0741, -0.7889, -0.7141, -0.6048, -0.2844],\n",
            "        [-0.8572, -0.6742, -0.0471, -0.8273, -0.7372, -0.6411, -0.3325],\n",
            "        [-0.9815, -0.7188, -0.0267, -0.8671, -0.8355, -0.7483, -0.2976],\n",
            "        [-0.8341, -0.6266, -0.0293, -0.7719, -0.6704, -0.5850, -0.3214],\n",
            "        [-1.0747, -0.8305, -0.0490, -1.0148, -0.8680, -0.8279, -0.3880],\n",
            "        [-1.0321, -0.7769, -0.0390, -0.9792, -0.8254, -0.7781, -0.3356],\n",
            "        [-0.8758, -0.6472, -0.0598, -0.7953, -0.6759, -0.6153, -0.2563],\n",
            "        [-1.0659, -0.8360, -0.0356, -0.9842, -0.8716, -0.7890, -0.3641],\n",
            "        [-1.0372, -0.7947, -0.0560, -0.9617, -0.8309, -0.7632, -0.3383],\n",
            "        [-0.8840, -0.6958, -0.0446, -0.7940, -0.7352, -0.6025, -0.2744],\n",
            "        [-0.9442, -0.7201, -0.0572, -0.8877, -0.7534, -0.6765, -0.3014],\n",
            "        [-0.7647, -0.5461, -0.0612, -0.6813, -0.5935, -0.5254, -0.2098],\n",
            "        [-1.0677, -0.8083, -0.0698, -1.0036, -0.8748, -0.8023, -0.3212]],\n",
            "       grad_fn=<AddmmBackward>)\n",
            "tensor(-0.6758, grad_fn=<SelectBackward>)\n",
            "17\n"
          ],
          "name": "stdout"
        }
      ]
    },
    {
      "cell_type": "code",
      "metadata": {
        "id": "SJWbF7UzgcHU",
        "colab_type": "code",
        "outputId": "32105efe-6a1f-4f95-c0d8-b6aa6742ade0",
        "colab": {
          "base_uri": "https://localhost:8080/",
          "height": 68
        }
      },
      "source": [
        "# playground\n",
        "x = torch.arange(5)\n",
        "\n",
        "print(x)\n",
        "\n",
        "mask = torch.lt(x,3) # 小于\n",
        "\n",
        "print(mask)\n",
        "\n",
        "print(x[mask])"
      ],
      "execution_count": 0,
      "outputs": [
        {
          "output_type": "stream",
          "text": [
            "tensor([0, 1, 2, 3, 4])\n",
            "tensor([ True,  True,  True, False, False])\n",
            "tensor([0, 1, 2])\n"
          ],
          "name": "stdout"
        }
      ]
    },
    {
      "cell_type": "code",
      "metadata": {
        "id": "X5fqK3Dav1zH",
        "colab_type": "code",
        "outputId": "0205dd9a-1c69-4604-aff1-87c501394e54",
        "colab": {
          "base_uri": "https://localhost:8080/",
          "height": 181
        }
      },
      "source": [
        "# playground\n",
        "_, index = torch.sort(outputs, 1)\n",
        "print(y_batch[4, index[3,5]].item())"
      ],
      "execution_count": 1,
      "outputs": [
        {
          "output_type": "error",
          "ename": "NameError",
          "evalue": "ignored",
          "traceback": [
            "\u001b[0;31m---------------------------------------------------------------------------\u001b[0m",
            "\u001b[0;31mNameError\u001b[0m                                 Traceback (most recent call last)",
            "\u001b[0;32m<ipython-input-1-e210ceebe46e>\u001b[0m in \u001b[0;36m<module>\u001b[0;34m()\u001b[0m\n\u001b[0;32m----> 1\u001b[0;31m \u001b[0m_\u001b[0m\u001b[0;34m,\u001b[0m \u001b[0mindex\u001b[0m \u001b[0;34m=\u001b[0m \u001b[0mtorch\u001b[0m\u001b[0;34m.\u001b[0m\u001b[0msort\u001b[0m\u001b[0;34m(\u001b[0m\u001b[0moutputs\u001b[0m\u001b[0;34m,\u001b[0m \u001b[0;36m1\u001b[0m\u001b[0;34m)\u001b[0m\u001b[0;34m\u001b[0m\u001b[0;34m\u001b[0m\u001b[0m\n\u001b[0m\u001b[1;32m      2\u001b[0m \u001b[0mprint\u001b[0m\u001b[0;34m(\u001b[0m\u001b[0my_batch\u001b[0m\u001b[0;34m[\u001b[0m\u001b[0;36m4\u001b[0m\u001b[0;34m,\u001b[0m \u001b[0mindex\u001b[0m\u001b[0;34m[\u001b[0m\u001b[0;36m3\u001b[0m\u001b[0;34m,\u001b[0m\u001b[0;36m5\u001b[0m\u001b[0;34m]\u001b[0m\u001b[0;34m]\u001b[0m\u001b[0;34m.\u001b[0m\u001b[0mitem\u001b[0m\u001b[0;34m(\u001b[0m\u001b[0;34m)\u001b[0m\u001b[0;34m)\u001b[0m\u001b[0;34m\u001b[0m\u001b[0;34m\u001b[0m\u001b[0m\n",
            "\u001b[0;31mNameError\u001b[0m: name 'torch' is not defined"
          ]
        }
      ]
    }
  ]
}